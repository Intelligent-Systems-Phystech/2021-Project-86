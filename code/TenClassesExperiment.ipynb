{
  "nbformat": 4,
  "nbformat_minor": 0,
  "metadata": {
    "kernelspec": {
      "display_name": "Python 3",
      "language": "python",
      "name": "python3"
    },
    "language_info": {
      "codemirror_mode": {
        "name": "ipython",
        "version": 3
      },
      "file_extension": ".py",
      "mimetype": "text/x-python",
      "name": "python",
      "nbconvert_exporter": "python",
      "pygments_lexer": "ipython3",
      "version": "3.6.13"
    },
    "colab": {
      "name": "TenClassesExperiment.ipynb",
      "provenance": [],
      "collapsed_sections": []
    },
    "widgets": {
      "application/vnd.jupyter.widget-state+json": {
        "c74846e7c7ae4b009de314bc940882a6": {
          "model_module": "@jupyter-widgets/controls",
          "model_name": "HBoxModel",
          "state": {
            "_view_name": "HBoxView",
            "_dom_classes": [],
            "_model_name": "HBoxModel",
            "_view_module": "@jupyter-widgets/controls",
            "_model_module_version": "1.5.0",
            "_view_count": null,
            "_view_module_version": "1.5.0",
            "box_style": "",
            "layout": "IPY_MODEL_1f47e610c0654761afe764e8cffc4a1c",
            "_model_module": "@jupyter-widgets/controls",
            "children": [
              "IPY_MODEL_772e4144200e4a4a91af4232a5db6b81",
              "IPY_MODEL_0c4dc982b8fd4880af8ea413c54dfc53"
            ]
          }
        },
        "1f47e610c0654761afe764e8cffc4a1c": {
          "model_module": "@jupyter-widgets/base",
          "model_name": "LayoutModel",
          "state": {
            "_view_name": "LayoutView",
            "grid_template_rows": null,
            "right": null,
            "justify_content": null,
            "_view_module": "@jupyter-widgets/base",
            "overflow": null,
            "_model_module_version": "1.2.0",
            "_view_count": null,
            "flex_flow": null,
            "width": null,
            "min_width": null,
            "border": null,
            "align_items": null,
            "bottom": null,
            "_model_module": "@jupyter-widgets/base",
            "top": null,
            "grid_column": null,
            "overflow_y": null,
            "overflow_x": null,
            "grid_auto_flow": null,
            "grid_area": null,
            "grid_template_columns": null,
            "flex": null,
            "_model_name": "LayoutModel",
            "justify_items": null,
            "grid_row": null,
            "max_height": null,
            "align_content": null,
            "visibility": null,
            "align_self": null,
            "height": null,
            "min_height": null,
            "padding": null,
            "grid_auto_rows": null,
            "grid_gap": null,
            "max_width": null,
            "order": null,
            "_view_module_version": "1.2.0",
            "grid_template_areas": null,
            "object_position": null,
            "object_fit": null,
            "grid_auto_columns": null,
            "margin": null,
            "display": null,
            "left": null
          }
        },
        "772e4144200e4a4a91af4232a5db6b81": {
          "model_module": "@jupyter-widgets/controls",
          "model_name": "FloatProgressModel",
          "state": {
            "_view_name": "ProgressView",
            "style": "IPY_MODEL_4c6469941b8f4732b96e293759b73e5c",
            "_dom_classes": [],
            "description": "Downloading: 100%",
            "_model_name": "FloatProgressModel",
            "bar_style": "success",
            "max": 238187,
            "_view_module": "@jupyter-widgets/controls",
            "_model_module_version": "1.5.0",
            "value": 238187,
            "_view_count": null,
            "_view_module_version": "1.5.0",
            "orientation": "horizontal",
            "min": 0,
            "description_tooltip": null,
            "_model_module": "@jupyter-widgets/controls",
            "layout": "IPY_MODEL_ab125735983f49808fbaa1c52aef64a2"
          }
        },
        "0c4dc982b8fd4880af8ea413c54dfc53": {
          "model_module": "@jupyter-widgets/controls",
          "model_name": "HTMLModel",
          "state": {
            "_view_name": "HTMLView",
            "style": "IPY_MODEL_5e14df03e20a4bd2950088b009974c11",
            "_dom_classes": [],
            "description": "",
            "_model_name": "HTMLModel",
            "placeholder": "​",
            "_view_module": "@jupyter-widgets/controls",
            "_model_module_version": "1.5.0",
            "value": " 238k/238k [00:43&lt;00:00, 5.47kB/s]",
            "_view_count": null,
            "_view_module_version": "1.5.0",
            "description_tooltip": null,
            "_model_module": "@jupyter-widgets/controls",
            "layout": "IPY_MODEL_ea18563840ed49d18351cf373b5bf5f6"
          }
        },
        "4c6469941b8f4732b96e293759b73e5c": {
          "model_module": "@jupyter-widgets/controls",
          "model_name": "ProgressStyleModel",
          "state": {
            "_view_name": "StyleView",
            "_model_name": "ProgressStyleModel",
            "description_width": "initial",
            "_view_module": "@jupyter-widgets/base",
            "_model_module_version": "1.5.0",
            "_view_count": null,
            "_view_module_version": "1.2.0",
            "bar_color": null,
            "_model_module": "@jupyter-widgets/controls"
          }
        },
        "ab125735983f49808fbaa1c52aef64a2": {
          "model_module": "@jupyter-widgets/base",
          "model_name": "LayoutModel",
          "state": {
            "_view_name": "LayoutView",
            "grid_template_rows": null,
            "right": null,
            "justify_content": null,
            "_view_module": "@jupyter-widgets/base",
            "overflow": null,
            "_model_module_version": "1.2.0",
            "_view_count": null,
            "flex_flow": null,
            "width": null,
            "min_width": null,
            "border": null,
            "align_items": null,
            "bottom": null,
            "_model_module": "@jupyter-widgets/base",
            "top": null,
            "grid_column": null,
            "overflow_y": null,
            "overflow_x": null,
            "grid_auto_flow": null,
            "grid_area": null,
            "grid_template_columns": null,
            "flex": null,
            "_model_name": "LayoutModel",
            "justify_items": null,
            "grid_row": null,
            "max_height": null,
            "align_content": null,
            "visibility": null,
            "align_self": null,
            "height": null,
            "min_height": null,
            "padding": null,
            "grid_auto_rows": null,
            "grid_gap": null,
            "max_width": null,
            "order": null,
            "_view_module_version": "1.2.0",
            "grid_template_areas": null,
            "object_position": null,
            "object_fit": null,
            "grid_auto_columns": null,
            "margin": null,
            "display": null,
            "left": null
          }
        },
        "5e14df03e20a4bd2950088b009974c11": {
          "model_module": "@jupyter-widgets/controls",
          "model_name": "DescriptionStyleModel",
          "state": {
            "_view_name": "StyleView",
            "_model_name": "DescriptionStyleModel",
            "description_width": "",
            "_view_module": "@jupyter-widgets/base",
            "_model_module_version": "1.5.0",
            "_view_count": null,
            "_view_module_version": "1.2.0",
            "_model_module": "@jupyter-widgets/controls"
          }
        },
        "ea18563840ed49d18351cf373b5bf5f6": {
          "model_module": "@jupyter-widgets/base",
          "model_name": "LayoutModel",
          "state": {
            "_view_name": "LayoutView",
            "grid_template_rows": null,
            "right": null,
            "justify_content": null,
            "_view_module": "@jupyter-widgets/base",
            "overflow": null,
            "_model_module_version": "1.2.0",
            "_view_count": null,
            "flex_flow": null,
            "width": null,
            "min_width": null,
            "border": null,
            "align_items": null,
            "bottom": null,
            "_model_module": "@jupyter-widgets/base",
            "top": null,
            "grid_column": null,
            "overflow_y": null,
            "overflow_x": null,
            "grid_auto_flow": null,
            "grid_area": null,
            "grid_template_columns": null,
            "flex": null,
            "_model_name": "LayoutModel",
            "justify_items": null,
            "grid_row": null,
            "max_height": null,
            "align_content": null,
            "visibility": null,
            "align_self": null,
            "height": null,
            "min_height": null,
            "padding": null,
            "grid_auto_rows": null,
            "grid_gap": null,
            "max_width": null,
            "order": null,
            "_view_module_version": "1.2.0",
            "grid_template_areas": null,
            "object_position": null,
            "object_fit": null,
            "grid_auto_columns": null,
            "margin": null,
            "display": null,
            "left": null
          }
        },
        "f6cb4aa0cf6143f9847bba0caaa59f85": {
          "model_module": "@jupyter-widgets/controls",
          "model_name": "HBoxModel",
          "state": {
            "_view_name": "HBoxView",
            "_dom_classes": [],
            "_model_name": "HBoxModel",
            "_view_module": "@jupyter-widgets/controls",
            "_model_module_version": "1.5.0",
            "_view_count": null,
            "_view_module_version": "1.5.0",
            "box_style": "",
            "layout": "IPY_MODEL_5924f479e8404c959d8fccc9cca55ae3",
            "_model_module": "@jupyter-widgets/controls",
            "children": [
              "IPY_MODEL_9e3ac23835c34800bae11b63aad970b7",
              "IPY_MODEL_e701e7cde8e04a448d375a552c885ef7"
            ]
          }
        },
        "5924f479e8404c959d8fccc9cca55ae3": {
          "model_module": "@jupyter-widgets/base",
          "model_name": "LayoutModel",
          "state": {
            "_view_name": "LayoutView",
            "grid_template_rows": null,
            "right": null,
            "justify_content": null,
            "_view_module": "@jupyter-widgets/base",
            "overflow": null,
            "_model_module_version": "1.2.0",
            "_view_count": null,
            "flex_flow": null,
            "width": null,
            "min_width": null,
            "border": null,
            "align_items": null,
            "bottom": null,
            "_model_module": "@jupyter-widgets/base",
            "top": null,
            "grid_column": null,
            "overflow_y": null,
            "overflow_x": null,
            "grid_auto_flow": null,
            "grid_area": null,
            "grid_template_columns": null,
            "flex": null,
            "_model_name": "LayoutModel",
            "justify_items": null,
            "grid_row": null,
            "max_height": null,
            "align_content": null,
            "visibility": null,
            "align_self": null,
            "height": null,
            "min_height": null,
            "padding": null,
            "grid_auto_rows": null,
            "grid_gap": null,
            "max_width": null,
            "order": null,
            "_view_module_version": "1.2.0",
            "grid_template_areas": null,
            "object_position": null,
            "object_fit": null,
            "grid_auto_columns": null,
            "margin": null,
            "display": null,
            "left": null
          }
        },
        "9e3ac23835c34800bae11b63aad970b7": {
          "model_module": "@jupyter-widgets/controls",
          "model_name": "FloatProgressModel",
          "state": {
            "_view_name": "ProgressView",
            "style": "IPY_MODEL_81598bf4e2d142028ef0990cbdd0799d",
            "_dom_classes": [],
            "description": "Downloading: 100%",
            "_model_name": "FloatProgressModel",
            "bar_style": "success",
            "max": 505,
            "_view_module": "@jupyter-widgets/controls",
            "_model_module_version": "1.5.0",
            "value": 505,
            "_view_count": null,
            "_view_module_version": "1.5.0",
            "orientation": "horizontal",
            "min": 0,
            "description_tooltip": null,
            "_model_module": "@jupyter-widgets/controls",
            "layout": "IPY_MODEL_8da6178960f84a59abb729ba2c3f5de4"
          }
        },
        "e701e7cde8e04a448d375a552c885ef7": {
          "model_module": "@jupyter-widgets/controls",
          "model_name": "HTMLModel",
          "state": {
            "_view_name": "HTMLView",
            "style": "IPY_MODEL_5af74bfa4dc345c49dd0914b3b98e171",
            "_dom_classes": [],
            "description": "",
            "_model_name": "HTMLModel",
            "placeholder": "​",
            "_view_module": "@jupyter-widgets/controls",
            "_model_module_version": "1.5.0",
            "value": " 505/505 [00:00&lt;00:00, 4.98kB/s]",
            "_view_count": null,
            "_view_module_version": "1.5.0",
            "description_tooltip": null,
            "_model_module": "@jupyter-widgets/controls",
            "layout": "IPY_MODEL_28fe362ff32a4296a311a91442d962ba"
          }
        },
        "81598bf4e2d142028ef0990cbdd0799d": {
          "model_module": "@jupyter-widgets/controls",
          "model_name": "ProgressStyleModel",
          "state": {
            "_view_name": "StyleView",
            "_model_name": "ProgressStyleModel",
            "description_width": "initial",
            "_view_module": "@jupyter-widgets/base",
            "_model_module_version": "1.5.0",
            "_view_count": null,
            "_view_module_version": "1.2.0",
            "bar_color": null,
            "_model_module": "@jupyter-widgets/controls"
          }
        },
        "8da6178960f84a59abb729ba2c3f5de4": {
          "model_module": "@jupyter-widgets/base",
          "model_name": "LayoutModel",
          "state": {
            "_view_name": "LayoutView",
            "grid_template_rows": null,
            "right": null,
            "justify_content": null,
            "_view_module": "@jupyter-widgets/base",
            "overflow": null,
            "_model_module_version": "1.2.0",
            "_view_count": null,
            "flex_flow": null,
            "width": null,
            "min_width": null,
            "border": null,
            "align_items": null,
            "bottom": null,
            "_model_module": "@jupyter-widgets/base",
            "top": null,
            "grid_column": null,
            "overflow_y": null,
            "overflow_x": null,
            "grid_auto_flow": null,
            "grid_area": null,
            "grid_template_columns": null,
            "flex": null,
            "_model_name": "LayoutModel",
            "justify_items": null,
            "grid_row": null,
            "max_height": null,
            "align_content": null,
            "visibility": null,
            "align_self": null,
            "height": null,
            "min_height": null,
            "padding": null,
            "grid_auto_rows": null,
            "grid_gap": null,
            "max_width": null,
            "order": null,
            "_view_module_version": "1.2.0",
            "grid_template_areas": null,
            "object_position": null,
            "object_fit": null,
            "grid_auto_columns": null,
            "margin": null,
            "display": null,
            "left": null
          }
        },
        "5af74bfa4dc345c49dd0914b3b98e171": {
          "model_module": "@jupyter-widgets/controls",
          "model_name": "DescriptionStyleModel",
          "state": {
            "_view_name": "StyleView",
            "_model_name": "DescriptionStyleModel",
            "description_width": "",
            "_view_module": "@jupyter-widgets/base",
            "_model_module_version": "1.5.0",
            "_view_count": null,
            "_view_module_version": "1.2.0",
            "_model_module": "@jupyter-widgets/controls"
          }
        },
        "28fe362ff32a4296a311a91442d962ba": {
          "model_module": "@jupyter-widgets/base",
          "model_name": "LayoutModel",
          "state": {
            "_view_name": "LayoutView",
            "grid_template_rows": null,
            "right": null,
            "justify_content": null,
            "_view_module": "@jupyter-widgets/base",
            "overflow": null,
            "_model_module_version": "1.2.0",
            "_view_count": null,
            "flex_flow": null,
            "width": null,
            "min_width": null,
            "border": null,
            "align_items": null,
            "bottom": null,
            "_model_module": "@jupyter-widgets/base",
            "top": null,
            "grid_column": null,
            "overflow_y": null,
            "overflow_x": null,
            "grid_auto_flow": null,
            "grid_area": null,
            "grid_template_columns": null,
            "flex": null,
            "_model_name": "LayoutModel",
            "justify_items": null,
            "grid_row": null,
            "max_height": null,
            "align_content": null,
            "visibility": null,
            "align_self": null,
            "height": null,
            "min_height": null,
            "padding": null,
            "grid_auto_rows": null,
            "grid_gap": null,
            "max_width": null,
            "order": null,
            "_view_module_version": "1.2.0",
            "grid_template_areas": null,
            "object_position": null,
            "object_fit": null,
            "grid_auto_columns": null,
            "margin": null,
            "display": null,
            "left": null
          }
        },
        "12f94eb08cb045608cb171dd276fd462": {
          "model_module": "@jupyter-widgets/controls",
          "model_name": "HBoxModel",
          "state": {
            "_view_name": "HBoxView",
            "_dom_classes": [],
            "_model_name": "HBoxModel",
            "_view_module": "@jupyter-widgets/controls",
            "_model_module_version": "1.5.0",
            "_view_count": null,
            "_view_module_version": "1.5.0",
            "box_style": "",
            "layout": "IPY_MODEL_4b96c5a159e64f1694db5b4ee83e5cc5",
            "_model_module": "@jupyter-widgets/controls",
            "children": [
              "IPY_MODEL_a90658c76fb04b1094b46ad08ed78ad4",
              "IPY_MODEL_ebb97191cfea4b9db32a83f2b4531de7"
            ]
          }
        },
        "4b96c5a159e64f1694db5b4ee83e5cc5": {
          "model_module": "@jupyter-widgets/base",
          "model_name": "LayoutModel",
          "state": {
            "_view_name": "LayoutView",
            "grid_template_rows": null,
            "right": null,
            "justify_content": null,
            "_view_module": "@jupyter-widgets/base",
            "overflow": null,
            "_model_module_version": "1.2.0",
            "_view_count": null,
            "flex_flow": null,
            "width": null,
            "min_width": null,
            "border": null,
            "align_items": null,
            "bottom": null,
            "_model_module": "@jupyter-widgets/base",
            "top": null,
            "grid_column": null,
            "overflow_y": null,
            "overflow_x": null,
            "grid_auto_flow": null,
            "grid_area": null,
            "grid_template_columns": null,
            "flex": null,
            "_model_name": "LayoutModel",
            "justify_items": null,
            "grid_row": null,
            "max_height": null,
            "align_content": null,
            "visibility": null,
            "align_self": null,
            "height": null,
            "min_height": null,
            "padding": null,
            "grid_auto_rows": null,
            "grid_gap": null,
            "max_width": null,
            "order": null,
            "_view_module_version": "1.2.0",
            "grid_template_areas": null,
            "object_position": null,
            "object_fit": null,
            "grid_auto_columns": null,
            "margin": null,
            "display": null,
            "left": null
          }
        },
        "a90658c76fb04b1094b46ad08ed78ad4": {
          "model_module": "@jupyter-widgets/controls",
          "model_name": "FloatProgressModel",
          "state": {
            "_view_name": "ProgressView",
            "style": "IPY_MODEL_127ac30d05ef4162a9fe926f76e02d4e",
            "_dom_classes": [],
            "description": "Downloading: 100%",
            "_model_name": "FloatProgressModel",
            "bar_style": "success",
            "max": 897396780,
            "_view_module": "@jupyter-widgets/controls",
            "_model_module_version": "1.5.0",
            "value": 897396780,
            "_view_count": null,
            "_view_module_version": "1.5.0",
            "orientation": "horizontal",
            "min": 0,
            "description_tooltip": null,
            "_model_module": "@jupyter-widgets/controls",
            "layout": "IPY_MODEL_3a5532fd11ba4ed1a774cd679e1047fc"
          }
        },
        "ebb97191cfea4b9db32a83f2b4531de7": {
          "model_module": "@jupyter-widgets/controls",
          "model_name": "HTMLModel",
          "state": {
            "_view_name": "HTMLView",
            "style": "IPY_MODEL_75891ecb56e64a1fac047a2e2955d659",
            "_dom_classes": [],
            "description": "",
            "_model_name": "HTMLModel",
            "placeholder": "​",
            "_view_module": "@jupyter-widgets/controls",
            "_model_module_version": "1.5.0",
            "value": " 897M/897M [00:20&lt;00:00, 43.9MB/s]",
            "_view_count": null,
            "_view_module_version": "1.5.0",
            "description_tooltip": null,
            "_model_module": "@jupyter-widgets/controls",
            "layout": "IPY_MODEL_c99d08af58ab4351939f72b02752f768"
          }
        },
        "127ac30d05ef4162a9fe926f76e02d4e": {
          "model_module": "@jupyter-widgets/controls",
          "model_name": "ProgressStyleModel",
          "state": {
            "_view_name": "StyleView",
            "_model_name": "ProgressStyleModel",
            "description_width": "initial",
            "_view_module": "@jupyter-widgets/base",
            "_model_module_version": "1.5.0",
            "_view_count": null,
            "_view_module_version": "1.2.0",
            "bar_color": null,
            "_model_module": "@jupyter-widgets/controls"
          }
        },
        "3a5532fd11ba4ed1a774cd679e1047fc": {
          "model_module": "@jupyter-widgets/base",
          "model_name": "LayoutModel",
          "state": {
            "_view_name": "LayoutView",
            "grid_template_rows": null,
            "right": null,
            "justify_content": null,
            "_view_module": "@jupyter-widgets/base",
            "overflow": null,
            "_model_module_version": "1.2.0",
            "_view_count": null,
            "flex_flow": null,
            "width": null,
            "min_width": null,
            "border": null,
            "align_items": null,
            "bottom": null,
            "_model_module": "@jupyter-widgets/base",
            "top": null,
            "grid_column": null,
            "overflow_y": null,
            "overflow_x": null,
            "grid_auto_flow": null,
            "grid_area": null,
            "grid_template_columns": null,
            "flex": null,
            "_model_name": "LayoutModel",
            "justify_items": null,
            "grid_row": null,
            "max_height": null,
            "align_content": null,
            "visibility": null,
            "align_self": null,
            "height": null,
            "min_height": null,
            "padding": null,
            "grid_auto_rows": null,
            "grid_gap": null,
            "max_width": null,
            "order": null,
            "_view_module_version": "1.2.0",
            "grid_template_areas": null,
            "object_position": null,
            "object_fit": null,
            "grid_auto_columns": null,
            "margin": null,
            "display": null,
            "left": null
          }
        },
        "75891ecb56e64a1fac047a2e2955d659": {
          "model_module": "@jupyter-widgets/controls",
          "model_name": "DescriptionStyleModel",
          "state": {
            "_view_name": "StyleView",
            "_model_name": "DescriptionStyleModel",
            "description_width": "",
            "_view_module": "@jupyter-widgets/base",
            "_model_module_version": "1.5.0",
            "_view_count": null,
            "_view_module_version": "1.2.0",
            "_model_module": "@jupyter-widgets/controls"
          }
        },
        "c99d08af58ab4351939f72b02752f768": {
          "model_module": "@jupyter-widgets/base",
          "model_name": "LayoutModel",
          "state": {
            "_view_name": "LayoutView",
            "grid_template_rows": null,
            "right": null,
            "justify_content": null,
            "_view_module": "@jupyter-widgets/base",
            "overflow": null,
            "_model_module_version": "1.2.0",
            "_view_count": null,
            "flex_flow": null,
            "width": null,
            "min_width": null,
            "border": null,
            "align_items": null,
            "bottom": null,
            "_model_module": "@jupyter-widgets/base",
            "top": null,
            "grid_column": null,
            "overflow_y": null,
            "overflow_x": null,
            "grid_auto_flow": null,
            "grid_area": null,
            "grid_template_columns": null,
            "flex": null,
            "_model_name": "LayoutModel",
            "justify_items": null,
            "grid_row": null,
            "max_height": null,
            "align_content": null,
            "visibility": null,
            "align_self": null,
            "height": null,
            "min_height": null,
            "padding": null,
            "grid_auto_rows": null,
            "grid_gap": null,
            "max_width": null,
            "order": null,
            "_view_module_version": "1.2.0",
            "grid_template_areas": null,
            "object_position": null,
            "object_fit": null,
            "grid_auto_columns": null,
            "margin": null,
            "display": null,
            "left": null
          }
        },
        "f8d6d8cff94c46fcbb70f24caee50077": {
          "model_module": "@jupyter-widgets/controls",
          "model_name": "HBoxModel",
          "state": {
            "_view_name": "HBoxView",
            "_dom_classes": [],
            "_model_name": "HBoxModel",
            "_view_module": "@jupyter-widgets/controls",
            "_model_module_version": "1.5.0",
            "_view_count": null,
            "_view_module_version": "1.5.0",
            "box_style": "",
            "layout": "IPY_MODEL_3ee2b00046c84ed99b66abbd62882efa",
            "_model_module": "@jupyter-widgets/controls",
            "children": [
              "IPY_MODEL_28b89754afa440f8b5bcb7fee976d3ee",
              "IPY_MODEL_38f19d6c618846aa83802aa7e07d9a45"
            ]
          }
        },
        "3ee2b00046c84ed99b66abbd62882efa": {
          "model_module": "@jupyter-widgets/base",
          "model_name": "LayoutModel",
          "state": {
            "_view_name": "LayoutView",
            "grid_template_rows": null,
            "right": null,
            "justify_content": null,
            "_view_module": "@jupyter-widgets/base",
            "overflow": null,
            "_model_module_version": "1.2.0",
            "_view_count": null,
            "flex_flow": null,
            "width": null,
            "min_width": null,
            "border": null,
            "align_items": null,
            "bottom": null,
            "_model_module": "@jupyter-widgets/base",
            "top": null,
            "grid_column": null,
            "overflow_y": null,
            "overflow_x": null,
            "grid_auto_flow": null,
            "grid_area": null,
            "grid_template_columns": null,
            "flex": null,
            "_model_name": "LayoutModel",
            "justify_items": null,
            "grid_row": null,
            "max_height": null,
            "align_content": null,
            "visibility": null,
            "align_self": null,
            "height": null,
            "min_height": null,
            "padding": null,
            "grid_auto_rows": null,
            "grid_gap": null,
            "max_width": null,
            "order": null,
            "_view_module_version": "1.2.0",
            "grid_template_areas": null,
            "object_position": null,
            "object_fit": null,
            "grid_auto_columns": null,
            "margin": null,
            "display": null,
            "left": null
          }
        },
        "28b89754afa440f8b5bcb7fee976d3ee": {
          "model_module": "@jupyter-widgets/controls",
          "model_name": "FloatProgressModel",
          "state": {
            "_view_name": "ProgressView",
            "style": "IPY_MODEL_067c790f25e7421285a0f2ecaafdf5de",
            "_dom_classes": [],
            "description": "100%",
            "_model_name": "FloatProgressModel",
            "bar_style": "success",
            "max": 914,
            "_view_module": "@jupyter-widgets/controls",
            "_model_module_version": "1.5.0",
            "value": 914,
            "_view_count": null,
            "_view_module_version": "1.5.0",
            "orientation": "horizontal",
            "min": 0,
            "description_tooltip": null,
            "_model_module": "@jupyter-widgets/controls",
            "layout": "IPY_MODEL_b534dd7e09444e3a8e63602499f05c6b"
          }
        },
        "38f19d6c618846aa83802aa7e07d9a45": {
          "model_module": "@jupyter-widgets/controls",
          "model_name": "HTMLModel",
          "state": {
            "_view_name": "HTMLView",
            "style": "IPY_MODEL_50caa34b58de479984375469a165a94e",
            "_dom_classes": [],
            "description": "",
            "_model_name": "HTMLModel",
            "placeholder": "​",
            "_view_module": "@jupyter-widgets/controls",
            "_model_module_version": "1.5.0",
            "value": " 914/914 [08:59&lt;00:00,  1.69it/s]",
            "_view_count": null,
            "_view_module_version": "1.5.0",
            "description_tooltip": null,
            "_model_module": "@jupyter-widgets/controls",
            "layout": "IPY_MODEL_50f137cf995f48d585b5bcec0ea71851"
          }
        },
        "067c790f25e7421285a0f2ecaafdf5de": {
          "model_module": "@jupyter-widgets/controls",
          "model_name": "ProgressStyleModel",
          "state": {
            "_view_name": "StyleView",
            "_model_name": "ProgressStyleModel",
            "description_width": "initial",
            "_view_module": "@jupyter-widgets/base",
            "_model_module_version": "1.5.0",
            "_view_count": null,
            "_view_module_version": "1.2.0",
            "bar_color": null,
            "_model_module": "@jupyter-widgets/controls"
          }
        },
        "b534dd7e09444e3a8e63602499f05c6b": {
          "model_module": "@jupyter-widgets/base",
          "model_name": "LayoutModel",
          "state": {
            "_view_name": "LayoutView",
            "grid_template_rows": null,
            "right": null,
            "justify_content": null,
            "_view_module": "@jupyter-widgets/base",
            "overflow": null,
            "_model_module_version": "1.2.0",
            "_view_count": null,
            "flex_flow": null,
            "width": null,
            "min_width": null,
            "border": null,
            "align_items": null,
            "bottom": null,
            "_model_module": "@jupyter-widgets/base",
            "top": null,
            "grid_column": null,
            "overflow_y": null,
            "overflow_x": null,
            "grid_auto_flow": null,
            "grid_area": null,
            "grid_template_columns": null,
            "flex": null,
            "_model_name": "LayoutModel",
            "justify_items": null,
            "grid_row": null,
            "max_height": null,
            "align_content": null,
            "visibility": null,
            "align_self": null,
            "height": null,
            "min_height": null,
            "padding": null,
            "grid_auto_rows": null,
            "grid_gap": null,
            "max_width": null,
            "order": null,
            "_view_module_version": "1.2.0",
            "grid_template_areas": null,
            "object_position": null,
            "object_fit": null,
            "grid_auto_columns": null,
            "margin": null,
            "display": null,
            "left": null
          }
        },
        "50caa34b58de479984375469a165a94e": {
          "model_module": "@jupyter-widgets/controls",
          "model_name": "DescriptionStyleModel",
          "state": {
            "_view_name": "StyleView",
            "_model_name": "DescriptionStyleModel",
            "description_width": "",
            "_view_module": "@jupyter-widgets/base",
            "_model_module_version": "1.5.0",
            "_view_count": null,
            "_view_module_version": "1.2.0",
            "_model_module": "@jupyter-widgets/controls"
          }
        },
        "50f137cf995f48d585b5bcec0ea71851": {
          "model_module": "@jupyter-widgets/base",
          "model_name": "LayoutModel",
          "state": {
            "_view_name": "LayoutView",
            "grid_template_rows": null,
            "right": null,
            "justify_content": null,
            "_view_module": "@jupyter-widgets/base",
            "overflow": null,
            "_model_module_version": "1.2.0",
            "_view_count": null,
            "flex_flow": null,
            "width": null,
            "min_width": null,
            "border": null,
            "align_items": null,
            "bottom": null,
            "_model_module": "@jupyter-widgets/base",
            "top": null,
            "grid_column": null,
            "overflow_y": null,
            "overflow_x": null,
            "grid_auto_flow": null,
            "grid_area": null,
            "grid_template_columns": null,
            "flex": null,
            "_model_name": "LayoutModel",
            "justify_items": null,
            "grid_row": null,
            "max_height": null,
            "align_content": null,
            "visibility": null,
            "align_self": null,
            "height": null,
            "min_height": null,
            "padding": null,
            "grid_auto_rows": null,
            "grid_gap": null,
            "max_width": null,
            "order": null,
            "_view_module_version": "1.2.0",
            "grid_template_areas": null,
            "object_position": null,
            "object_fit": null,
            "grid_auto_columns": null,
            "margin": null,
            "display": null,
            "left": null
          }
        }
      }
    },
    "accelerator": "GPU"
  },
  "cells": [
    {
      "cell_type": "markdown",
      "metadata": {
        "id": "KwsmQ-yHSCiE"
      },
      "source": [
        "# Basic experiment section\n",
        "\n",
        "Here we expand successful classification of 2 classes to ten classes. "
      ]
    },
    {
      "cell_type": "markdown",
      "metadata": {
        "id": "y7PQmzo5SCiO"
      },
      "source": [
        "## Data preparation\n",
        "\n",
        "Here we just use data preparation module to get sample and target and extract 10 desired classes from them. "
      ]
    },
    {
      "cell_type": "code",
      "metadata": {
        "ExecuteTime": {
          "end_time": "2021-03-18T08:04:02.023211Z",
          "start_time": "2021-03-18T08:03:58.232132Z"
        },
        "id": "keWV7Dk0SCiP",
        "colab": {
          "base_uri": "https://localhost:8080/"
        },
        "outputId": "5e019add-dbce-4b05-bb73-ff85f83aaa10"
      },
      "source": [
        "import numpy as np\n",
        "import pandas as pd\n",
        "import matplotlib.pyplot as plt\n",
        "from torch import nn\n",
        "! pip3 install torchinfo\n",
        "from torchinfo import summary\n",
        "import torchvision\n",
        "import torch \n",
        "from IPython.display import clear_output\n",
        "from torch.utils.data import Dataset, random_split\n",
        "import torch.nn.functional as F\n",
        "from sklearn.model_selection import train_test_split\n",
        "\n",
        "from collections import defaultdict\n",
        "import time\n"
      ],
      "execution_count": null,
      "outputs": [
        {
          "output_type": "stream",
          "text": [
            "Collecting torchinfo\n",
            "  Downloading https://files.pythonhosted.org/packages/58/de/c2bb79cd6bb57e63feed501943cf55a197f25ae25f883ec19901843e466b/torchinfo-0.0.9-py3-none-any.whl\n",
            "Installing collected packages: torchinfo\n",
            "Successfully installed torchinfo-0.0.9\n"
          ],
          "name": "stdout"
        }
      ]
    },
    {
      "cell_type": "code",
      "metadata": {
        "id": "oj8kSSRX2Xlg"
      },
      "source": [
        "import os\n",
        "import shutil\n",
        "\n",
        "import glob\n",
        "import requests"
      ],
      "execution_count": null,
      "outputs": []
    },
    {
      "cell_type": "code",
      "metadata": {
        "colab": {
          "base_uri": "https://localhost:8080/"
        },
        "id": "IlwgfJO42zsA",
        "outputId": "fc9f89d0-1aca-4993-9795-a3b35a43af57"
      },
      "source": [
        "from google.colab import drive\n",
        "drive.mount('/content/drive')"
      ],
      "execution_count": null,
      "outputs": [
        {
          "output_type": "stream",
          "text": [
            "Mounted at /content/drive\n"
          ],
          "name": "stdout"
        }
      ]
    },
    {
      "cell_type": "code",
      "metadata": {
        "id": "RlScrDaUSOzH",
        "colab": {
          "base_uri": "https://localhost:8080/"
        },
        "outputId": "d4841fc4-1fbe-4c1b-fb20-1c39f83bea5e"
      },
      "source": [
        "!pip install transformers"
      ],
      "execution_count": null,
      "outputs": [
        {
          "output_type": "stream",
          "text": [
            "Collecting transformers\n",
            "\u001b[?25l  Downloading https://files.pythonhosted.org/packages/d8/b2/57495b5309f09fa501866e225c84532d1fd89536ea62406b2181933fb418/transformers-4.5.1-py3-none-any.whl (2.1MB)\n",
            "\r\u001b[K     |▏                               | 10kB 21.4MB/s eta 0:00:01\r\u001b[K     |▎                               | 20kB 29.3MB/s eta 0:00:01\r\u001b[K     |▌                               | 30kB 23.3MB/s eta 0:00:01\r\u001b[K     |▋                               | 40kB 26.8MB/s eta 0:00:01\r\u001b[K     |▉                               | 51kB 23.6MB/s eta 0:00:01\r\u001b[K     |█                               | 61kB 26.2MB/s eta 0:00:01\r\u001b[K     |█▏                              | 71kB 19.2MB/s eta 0:00:01\r\u001b[K     |█▎                              | 81kB 19.3MB/s eta 0:00:01\r\u001b[K     |█▍                              | 92kB 18.0MB/s eta 0:00:01\r\u001b[K     |█▋                              | 102kB 18.6MB/s eta 0:00:01\r\u001b[K     |█▊                              | 112kB 18.6MB/s eta 0:00:01\r\u001b[K     |██                              | 122kB 18.6MB/s eta 0:00:01\r\u001b[K     |██                              | 133kB 18.6MB/s eta 0:00:01\r\u001b[K     |██▎                             | 143kB 18.6MB/s eta 0:00:01\r\u001b[K     |██▍                             | 153kB 18.6MB/s eta 0:00:01\r\u001b[K     |██▌                             | 163kB 18.6MB/s eta 0:00:01\r\u001b[K     |██▊                             | 174kB 18.6MB/s eta 0:00:01\r\u001b[K     |██▉                             | 184kB 18.6MB/s eta 0:00:01\r\u001b[K     |███                             | 194kB 18.6MB/s eta 0:00:01\r\u001b[K     |███▏                            | 204kB 18.6MB/s eta 0:00:01\r\u001b[K     |███▍                            | 215kB 18.6MB/s eta 0:00:01\r\u001b[K     |███▌                            | 225kB 18.6MB/s eta 0:00:01\r\u001b[K     |███▋                            | 235kB 18.6MB/s eta 0:00:01\r\u001b[K     |███▉                            | 245kB 18.6MB/s eta 0:00:01\r\u001b[K     |████                            | 256kB 18.6MB/s eta 0:00:01\r\u001b[K     |████▏                           | 266kB 18.6MB/s eta 0:00:01\r\u001b[K     |████▎                           | 276kB 18.6MB/s eta 0:00:01\r\u001b[K     |████▌                           | 286kB 18.6MB/s eta 0:00:01\r\u001b[K     |████▋                           | 296kB 18.6MB/s eta 0:00:01\r\u001b[K     |████▊                           | 307kB 18.6MB/s eta 0:00:01\r\u001b[K     |█████                           | 317kB 18.6MB/s eta 0:00:01\r\u001b[K     |█████                           | 327kB 18.6MB/s eta 0:00:01\r\u001b[K     |█████▎                          | 337kB 18.6MB/s eta 0:00:01\r\u001b[K     |█████▍                          | 348kB 18.6MB/s eta 0:00:01\r\u001b[K     |█████▋                          | 358kB 18.6MB/s eta 0:00:01\r\u001b[K     |█████▊                          | 368kB 18.6MB/s eta 0:00:01\r\u001b[K     |█████▉                          | 378kB 18.6MB/s eta 0:00:01\r\u001b[K     |██████                          | 389kB 18.6MB/s eta 0:00:01\r\u001b[K     |██████▏                         | 399kB 18.6MB/s eta 0:00:01\r\u001b[K     |██████▍                         | 409kB 18.6MB/s eta 0:00:01\r\u001b[K     |██████▌                         | 419kB 18.6MB/s eta 0:00:01\r\u001b[K     |██████▊                         | 430kB 18.6MB/s eta 0:00:01\r\u001b[K     |██████▉                         | 440kB 18.6MB/s eta 0:00:01\r\u001b[K     |███████                         | 450kB 18.6MB/s eta 0:00:01\r\u001b[K     |███████▏                        | 460kB 18.6MB/s eta 0:00:01\r\u001b[K     |███████▎                        | 471kB 18.6MB/s eta 0:00:01\r\u001b[K     |███████▌                        | 481kB 18.6MB/s eta 0:00:01\r\u001b[K     |███████▋                        | 491kB 18.6MB/s eta 0:00:01\r\u001b[K     |███████▉                        | 501kB 18.6MB/s eta 0:00:01\r\u001b[K     |████████                        | 512kB 18.6MB/s eta 0:00:01\r\u001b[K     |████████                        | 522kB 18.6MB/s eta 0:00:01\r\u001b[K     |████████▎                       | 532kB 18.6MB/s eta 0:00:01\r\u001b[K     |████████▍                       | 542kB 18.6MB/s eta 0:00:01\r\u001b[K     |████████▋                       | 552kB 18.6MB/s eta 0:00:01\r\u001b[K     |████████▊                       | 563kB 18.6MB/s eta 0:00:01\r\u001b[K     |█████████                       | 573kB 18.6MB/s eta 0:00:01\r\u001b[K     |█████████                       | 583kB 18.6MB/s eta 0:00:01\r\u001b[K     |█████████▎                      | 593kB 18.6MB/s eta 0:00:01\r\u001b[K     |█████████▍                      | 604kB 18.6MB/s eta 0:00:01\r\u001b[K     |█████████▌                      | 614kB 18.6MB/s eta 0:00:01\r\u001b[K     |█████████▊                      | 624kB 18.6MB/s eta 0:00:01\r\u001b[K     |█████████▉                      | 634kB 18.6MB/s eta 0:00:01\r\u001b[K     |██████████                      | 645kB 18.6MB/s eta 0:00:01\r\u001b[K     |██████████▏                     | 655kB 18.6MB/s eta 0:00:01\r\u001b[K     |██████████▍                     | 665kB 18.6MB/s eta 0:00:01\r\u001b[K     |██████████▌                     | 675kB 18.6MB/s eta 0:00:01\r\u001b[K     |██████████▋                     | 686kB 18.6MB/s eta 0:00:01\r\u001b[K     |██████████▉                     | 696kB 18.6MB/s eta 0:00:01\r\u001b[K     |███████████                     | 706kB 18.6MB/s eta 0:00:01\r\u001b[K     |███████████▏                    | 716kB 18.6MB/s eta 0:00:01\r\u001b[K     |███████████▎                    | 727kB 18.6MB/s eta 0:00:01\r\u001b[K     |███████████▌                    | 737kB 18.6MB/s eta 0:00:01\r\u001b[K     |███████████▋                    | 747kB 18.6MB/s eta 0:00:01\r\u001b[K     |███████████▊                    | 757kB 18.6MB/s eta 0:00:01\r\u001b[K     |████████████                    | 768kB 18.6MB/s eta 0:00:01\r\u001b[K     |████████████                    | 778kB 18.6MB/s eta 0:00:01\r\u001b[K     |████████████▎                   | 788kB 18.6MB/s eta 0:00:01\r\u001b[K     |████████████▍                   | 798kB 18.6MB/s eta 0:00:01\r\u001b[K     |████████████▋                   | 808kB 18.6MB/s eta 0:00:01\r\u001b[K     |████████████▊                   | 819kB 18.6MB/s eta 0:00:01\r\u001b[K     |████████████▉                   | 829kB 18.6MB/s eta 0:00:01\r\u001b[K     |█████████████                   | 839kB 18.6MB/s eta 0:00:01\r\u001b[K     |█████████████▏                  | 849kB 18.6MB/s eta 0:00:01\r\u001b[K     |█████████████▍                  | 860kB 18.6MB/s eta 0:00:01\r\u001b[K     |█████████████▌                  | 870kB 18.6MB/s eta 0:00:01\r\u001b[K     |█████████████▊                  | 880kB 18.6MB/s eta 0:00:01\r\u001b[K     |█████████████▉                  | 890kB 18.6MB/s eta 0:00:01\r\u001b[K     |██████████████                  | 901kB 18.6MB/s eta 0:00:01\r\u001b[K     |██████████████▏                 | 911kB 18.6MB/s eta 0:00:01\r\u001b[K     |██████████████▎                 | 921kB 18.6MB/s eta 0:00:01\r\u001b[K     |██████████████▌                 | 931kB 18.6MB/s eta 0:00:01\r\u001b[K     |██████████████▋                 | 942kB 18.6MB/s eta 0:00:01\r\u001b[K     |██████████████▉                 | 952kB 18.6MB/s eta 0:00:01\r\u001b[K     |███████████████                 | 962kB 18.6MB/s eta 0:00:01\r\u001b[K     |███████████████                 | 972kB 18.6MB/s eta 0:00:01\r\u001b[K     |███████████████▎                | 983kB 18.6MB/s eta 0:00:01\r\u001b[K     |███████████████▍                | 993kB 18.6MB/s eta 0:00:01\r\u001b[K     |███████████████▋                | 1.0MB 18.6MB/s eta 0:00:01\r\u001b[K     |███████████████▊                | 1.0MB 18.6MB/s eta 0:00:01\r\u001b[K     |████████████████                | 1.0MB 18.6MB/s eta 0:00:01\r\u001b[K     |████████████████                | 1.0MB 18.6MB/s eta 0:00:01\r\u001b[K     |████████████████▏               | 1.0MB 18.6MB/s eta 0:00:01\r\u001b[K     |████████████████▍               | 1.1MB 18.6MB/s eta 0:00:01\r\u001b[K     |████████████████▌               | 1.1MB 18.6MB/s eta 0:00:01\r\u001b[K     |████████████████▊               | 1.1MB 18.6MB/s eta 0:00:01\r\u001b[K     |████████████████▉               | 1.1MB 18.6MB/s eta 0:00:01\r\u001b[K     |█████████████████               | 1.1MB 18.6MB/s eta 0:00:01\r\u001b[K     |█████████████████▏              | 1.1MB 18.6MB/s eta 0:00:01\r\u001b[K     |█████████████████▍              | 1.1MB 18.6MB/s eta 0:00:01\r\u001b[K     |█████████████████▌              | 1.1MB 18.6MB/s eta 0:00:01\r\u001b[K     |█████████████████▋              | 1.1MB 18.6MB/s eta 0:00:01\r\u001b[K     |█████████████████▉              | 1.1MB 18.6MB/s eta 0:00:01\r\u001b[K     |██████████████████              | 1.2MB 18.6MB/s eta 0:00:01\r\u001b[K     |██████████████████▏             | 1.2MB 18.6MB/s eta 0:00:01\r\u001b[K     |██████████████████▎             | 1.2MB 18.6MB/s eta 0:00:01\r\u001b[K     |██████████████████▌             | 1.2MB 18.6MB/s eta 0:00:01\r\u001b[K     |██████████████████▋             | 1.2MB 18.6MB/s eta 0:00:01\r\u001b[K     |██████████████████▊             | 1.2MB 18.6MB/s eta 0:00:01\r\u001b[K     |███████████████████             | 1.2MB 18.6MB/s eta 0:00:01\r\u001b[K     |███████████████████             | 1.2MB 18.6MB/s eta 0:00:01\r\u001b[K     |███████████████████▎            | 1.2MB 18.6MB/s eta 0:00:01\r\u001b[K     |███████████████████▍            | 1.2MB 18.6MB/s eta 0:00:01\r\u001b[K     |███████████████████▋            | 1.3MB 18.6MB/s eta 0:00:01\r\u001b[K     |███████████████████▊            | 1.3MB 18.6MB/s eta 0:00:01\r\u001b[K     |███████████████████▉            | 1.3MB 18.6MB/s eta 0:00:01\r\u001b[K     |████████████████████            | 1.3MB 18.6MB/s eta 0:00:01\r\u001b[K     |████████████████████▏           | 1.3MB 18.6MB/s eta 0:00:01\r\u001b[K     |████████████████████▍           | 1.3MB 18.6MB/s eta 0:00:01\r\u001b[K     |████████████████████▌           | 1.3MB 18.6MB/s eta 0:00:01\r\u001b[K     |████████████████████▊           | 1.3MB 18.6MB/s eta 0:00:01\r\u001b[K     |████████████████████▉           | 1.3MB 18.6MB/s eta 0:00:01\r\u001b[K     |█████████████████████           | 1.4MB 18.6MB/s eta 0:00:01\r\u001b[K     |█████████████████████▏          | 1.4MB 18.6MB/s eta 0:00:01\r\u001b[K     |█████████████████████▎          | 1.4MB 18.6MB/s eta 0:00:01\r\u001b[K     |█████████████████████▌          | 1.4MB 18.6MB/s eta 0:00:01\r\u001b[K     |█████████████████████▋          | 1.4MB 18.6MB/s eta 0:00:01\r\u001b[K     |█████████████████████▉          | 1.4MB 18.6MB/s eta 0:00:01\r\u001b[K     |██████████████████████          | 1.4MB 18.6MB/s eta 0:00:01\r\u001b[K     |██████████████████████          | 1.4MB 18.6MB/s eta 0:00:01\r\u001b[K     |██████████████████████▎         | 1.4MB 18.6MB/s eta 0:00:01\r\u001b[K     |██████████████████████▍         | 1.4MB 18.6MB/s eta 0:00:01\r\u001b[K     |██████████████████████▋         | 1.5MB 18.6MB/s eta 0:00:01\r\u001b[K     |██████████████████████▊         | 1.5MB 18.6MB/s eta 0:00:01\r\u001b[K     |███████████████████████         | 1.5MB 18.6MB/s eta 0:00:01\r\u001b[K     |███████████████████████         | 1.5MB 18.6MB/s eta 0:00:01\r\u001b[K     |███████████████████████▏        | 1.5MB 18.6MB/s eta 0:00:01\r\u001b[K     |███████████████████████▍        | 1.5MB 18.6MB/s eta 0:00:01\r\u001b[K     |███████████████████████▌        | 1.5MB 18.6MB/s eta 0:00:01\r\u001b[K     |███████████████████████▊        | 1.5MB 18.6MB/s eta 0:00:01\r\u001b[K     |███████████████████████▉        | 1.5MB 18.6MB/s eta 0:00:01\r\u001b[K     |████████████████████████        | 1.5MB 18.6MB/s eta 0:00:01\r\u001b[K     |████████████████████████▏       | 1.6MB 18.6MB/s eta 0:00:01\r\u001b[K     |████████████████████████▎       | 1.6MB 18.6MB/s eta 0:00:01\r\u001b[K     |████████████████████████▌       | 1.6MB 18.6MB/s eta 0:00:01\r\u001b[K     |████████████████████████▋       | 1.6MB 18.6MB/s eta 0:00:01\r\u001b[K     |████████████████████████▉       | 1.6MB 18.6MB/s eta 0:00:01\r\u001b[K     |█████████████████████████       | 1.6MB 18.6MB/s eta 0:00:01\r\u001b[K     |█████████████████████████▏      | 1.6MB 18.6MB/s eta 0:00:01\r\u001b[K     |█████████████████████████▎      | 1.6MB 18.6MB/s eta 0:00:01\r\u001b[K     |█████████████████████████▍      | 1.6MB 18.6MB/s eta 0:00:01\r\u001b[K     |█████████████████████████▋      | 1.6MB 18.6MB/s eta 0:00:01\r\u001b[K     |█████████████████████████▊      | 1.7MB 18.6MB/s eta 0:00:01\r\u001b[K     |██████████████████████████      | 1.7MB 18.6MB/s eta 0:00:01\r\u001b[K     |██████████████████████████      | 1.7MB 18.6MB/s eta 0:00:01\r\u001b[K     |██████████████████████████▎     | 1.7MB 18.6MB/s eta 0:00:01\r\u001b[K     |██████████████████████████▍     | 1.7MB 18.6MB/s eta 0:00:01\r\u001b[K     |██████████████████████████▋     | 1.7MB 18.6MB/s eta 0:00:01\r\u001b[K     |██████████████████████████▊     | 1.7MB 18.6MB/s eta 0:00:01\r\u001b[K     |██████████████████████████▉     | 1.7MB 18.6MB/s eta 0:00:01\r\u001b[K     |███████████████████████████     | 1.7MB 18.6MB/s eta 0:00:01\r\u001b[K     |███████████████████████████▏    | 1.8MB 18.6MB/s eta 0:00:01\r\u001b[K     |███████████████████████████▍    | 1.8MB 18.6MB/s eta 0:00:01\r\u001b[K     |███████████████████████████▌    | 1.8MB 18.6MB/s eta 0:00:01\r\u001b[K     |███████████████████████████▊    | 1.8MB 18.6MB/s eta 0:00:01\r\u001b[K     |███████████████████████████▉    | 1.8MB 18.6MB/s eta 0:00:01\r\u001b[K     |████████████████████████████    | 1.8MB 18.6MB/s eta 0:00:01\r\u001b[K     |████████████████████████████▏   | 1.8MB 18.6MB/s eta 0:00:01\r\u001b[K     |████████████████████████████▎   | 1.8MB 18.6MB/s eta 0:00:01\r\u001b[K     |████████████████████████████▌   | 1.8MB 18.6MB/s eta 0:00:01\r\u001b[K     |████████████████████████████▋   | 1.8MB 18.6MB/s eta 0:00:01\r\u001b[K     |████████████████████████████▉   | 1.9MB 18.6MB/s eta 0:00:01\r\u001b[K     |█████████████████████████████   | 1.9MB 18.6MB/s eta 0:00:01\r\u001b[K     |█████████████████████████████   | 1.9MB 18.6MB/s eta 0:00:01\r\u001b[K     |█████████████████████████████▎  | 1.9MB 18.6MB/s eta 0:00:01\r\u001b[K     |█████████████████████████████▍  | 1.9MB 18.6MB/s eta 0:00:01\r\u001b[K     |█████████████████████████████▋  | 1.9MB 18.6MB/s eta 0:00:01\r\u001b[K     |█████████████████████████████▊  | 1.9MB 18.6MB/s eta 0:00:01\r\u001b[K     |██████████████████████████████  | 1.9MB 18.6MB/s eta 0:00:01\r\u001b[K     |██████████████████████████████  | 1.9MB 18.6MB/s eta 0:00:01\r\u001b[K     |██████████████████████████████▏ | 1.9MB 18.6MB/s eta 0:00:01\r\u001b[K     |██████████████████████████████▍ | 2.0MB 18.6MB/s eta 0:00:01\r\u001b[K     |██████████████████████████████▌ | 2.0MB 18.6MB/s eta 0:00:01\r\u001b[K     |██████████████████████████████▊ | 2.0MB 18.6MB/s eta 0:00:01\r\u001b[K     |██████████████████████████████▉ | 2.0MB 18.6MB/s eta 0:00:01\r\u001b[K     |███████████████████████████████ | 2.0MB 18.6MB/s eta 0:00:01\r\u001b[K     |███████████████████████████████▏| 2.0MB 18.6MB/s eta 0:00:01\r\u001b[K     |███████████████████████████████▎| 2.0MB 18.6MB/s eta 0:00:01\r\u001b[K     |███████████████████████████████▌| 2.0MB 18.6MB/s eta 0:00:01\r\u001b[K     |███████████████████████████████▋| 2.0MB 18.6MB/s eta 0:00:01\r\u001b[K     |███████████████████████████████▉| 2.0MB 18.6MB/s eta 0:00:01\r\u001b[K     |████████████████████████████████| 2.1MB 18.6MB/s eta 0:00:01\r\u001b[K     |████████████████████████████████| 2.1MB 18.6MB/s \n",
            "\u001b[?25hRequirement already satisfied: filelock in /usr/local/lib/python3.7/dist-packages (from transformers) (3.0.12)\n",
            "Requirement already satisfied: regex!=2019.12.17 in /usr/local/lib/python3.7/dist-packages (from transformers) (2019.12.20)\n",
            "Requirement already satisfied: numpy>=1.17 in /usr/local/lib/python3.7/dist-packages (from transformers) (1.19.5)\n",
            "Requirement already satisfied: packaging in /usr/local/lib/python3.7/dist-packages (from transformers) (20.9)\n",
            "Requirement already satisfied: importlib-metadata; python_version < \"3.8\" in /usr/local/lib/python3.7/dist-packages (from transformers) (3.10.0)\n",
            "Collecting tokenizers<0.11,>=0.10.1\n",
            "\u001b[?25l  Downloading https://files.pythonhosted.org/packages/ae/04/5b870f26a858552025a62f1649c20d29d2672c02ff3c3fb4c688ca46467a/tokenizers-0.10.2-cp37-cp37m-manylinux2010_x86_64.whl (3.3MB)\n",
            "\u001b[K     |████████████████████████████████| 3.3MB 48.9MB/s \n",
            "\u001b[?25hRequirement already satisfied: requests in /usr/local/lib/python3.7/dist-packages (from transformers) (2.23.0)\n",
            "Requirement already satisfied: tqdm>=4.27 in /usr/local/lib/python3.7/dist-packages (from transformers) (4.41.1)\n",
            "Collecting sacremoses\n",
            "\u001b[?25l  Downloading https://files.pythonhosted.org/packages/08/cd/342e584ee544d044fb573ae697404ce22ede086c9e87ce5960772084cad0/sacremoses-0.0.44.tar.gz (862kB)\n",
            "\u001b[K     |████████████████████████████████| 870kB 50.1MB/s \n",
            "\u001b[?25hRequirement already satisfied: pyparsing>=2.0.2 in /usr/local/lib/python3.7/dist-packages (from packaging->transformers) (2.4.7)\n",
            "Requirement already satisfied: typing-extensions>=3.6.4; python_version < \"3.8\" in /usr/local/lib/python3.7/dist-packages (from importlib-metadata; python_version < \"3.8\"->transformers) (3.7.4.3)\n",
            "Requirement already satisfied: zipp>=0.5 in /usr/local/lib/python3.7/dist-packages (from importlib-metadata; python_version < \"3.8\"->transformers) (3.4.1)\n",
            "Requirement already satisfied: urllib3!=1.25.0,!=1.25.1,<1.26,>=1.21.1 in /usr/local/lib/python3.7/dist-packages (from requests->transformers) (1.24.3)\n",
            "Requirement already satisfied: idna<3,>=2.5 in /usr/local/lib/python3.7/dist-packages (from requests->transformers) (2.10)\n",
            "Requirement already satisfied: chardet<4,>=3.0.2 in /usr/local/lib/python3.7/dist-packages (from requests->transformers) (3.0.4)\n",
            "Requirement already satisfied: certifi>=2017.4.17 in /usr/local/lib/python3.7/dist-packages (from requests->transformers) (2020.12.5)\n",
            "Requirement already satisfied: six in /usr/local/lib/python3.7/dist-packages (from sacremoses->transformers) (1.15.0)\n",
            "Requirement already satisfied: click in /usr/local/lib/python3.7/dist-packages (from sacremoses->transformers) (7.1.2)\n",
            "Requirement already satisfied: joblib in /usr/local/lib/python3.7/dist-packages (from sacremoses->transformers) (1.0.1)\n",
            "Building wheels for collected packages: sacremoses\n",
            "  Building wheel for sacremoses (setup.py) ... \u001b[?25l\u001b[?25hdone\n",
            "  Created wheel for sacremoses: filename=sacremoses-0.0.44-cp37-none-any.whl size=886084 sha256=f27142d2ddb3b97fa6ffe9c865e7fb7a5c67b233718a42a92f2771dfc58f5bfc\n",
            "  Stored in directory: /root/.cache/pip/wheels/3e/fb/c0/13ab4d63d537658f448366744654323077c4d90069b6512f3c\n",
            "Successfully built sacremoses\n",
            "Installing collected packages: tokenizers, sacremoses, transformers\n",
            "Successfully installed sacremoses-0.0.44 tokenizers-0.10.2 transformers-4.5.1\n"
          ],
          "name": "stdout"
        }
      ]
    },
    {
      "cell_type": "code",
      "metadata": {
        "colab": {
          "base_uri": "https://localhost:8080/"
        },
        "id": "LehW2AUtSdIE",
        "outputId": "0087e224-d500-4d65-ca17-d45975a874e7"
      },
      "source": [
        "!pip install sentencepiece"
      ],
      "execution_count": null,
      "outputs": [
        {
          "output_type": "stream",
          "text": [
            "Collecting sentencepiece\n",
            "\u001b[?25l  Downloading https://files.pythonhosted.org/packages/f5/99/e0808cb947ba10f575839c43e8fafc9cc44e4a7a2c8f79c60db48220a577/sentencepiece-0.1.95-cp37-cp37m-manylinux2014_x86_64.whl (1.2MB)\n",
            "\r\u001b[K     |▎                               | 10kB 24.2MB/s eta 0:00:01\r\u001b[K     |▌                               | 20kB 32.0MB/s eta 0:00:01\r\u001b[K     |▉                               | 30kB 21.4MB/s eta 0:00:01\r\u001b[K     |█                               | 40kB 23.8MB/s eta 0:00:01\r\u001b[K     |█▍                              | 51kB 25.2MB/s eta 0:00:01\r\u001b[K     |█▋                              | 61kB 27.1MB/s eta 0:00:01\r\u001b[K     |██                              | 71kB 19.5MB/s eta 0:00:01\r\u001b[K     |██▏                             | 81kB 20.7MB/s eta 0:00:01\r\u001b[K     |██▌                             | 92kB 19.0MB/s eta 0:00:01\r\u001b[K     |██▊                             | 102kB 19.3MB/s eta 0:00:01\r\u001b[K     |███                             | 112kB 19.3MB/s eta 0:00:01\r\u001b[K     |███▎                            | 122kB 19.3MB/s eta 0:00:01\r\u001b[K     |███▌                            | 133kB 19.3MB/s eta 0:00:01\r\u001b[K     |███▉                            | 143kB 19.3MB/s eta 0:00:01\r\u001b[K     |████                            | 153kB 19.3MB/s eta 0:00:01\r\u001b[K     |████▍                           | 163kB 19.3MB/s eta 0:00:01\r\u001b[K     |████▋                           | 174kB 19.3MB/s eta 0:00:01\r\u001b[K     |█████                           | 184kB 19.3MB/s eta 0:00:01\r\u001b[K     |█████▏                          | 194kB 19.3MB/s eta 0:00:01\r\u001b[K     |█████▌                          | 204kB 19.3MB/s eta 0:00:01\r\u001b[K     |█████▊                          | 215kB 19.3MB/s eta 0:00:01\r\u001b[K     |██████                          | 225kB 19.3MB/s eta 0:00:01\r\u001b[K     |██████▎                         | 235kB 19.3MB/s eta 0:00:01\r\u001b[K     |██████▌                         | 245kB 19.3MB/s eta 0:00:01\r\u001b[K     |██████▉                         | 256kB 19.3MB/s eta 0:00:01\r\u001b[K     |███████                         | 266kB 19.3MB/s eta 0:00:01\r\u001b[K     |███████▍                        | 276kB 19.3MB/s eta 0:00:01\r\u001b[K     |███████▋                        | 286kB 19.3MB/s eta 0:00:01\r\u001b[K     |████████                        | 296kB 19.3MB/s eta 0:00:01\r\u001b[K     |████████▏                       | 307kB 19.3MB/s eta 0:00:01\r\u001b[K     |████████▍                       | 317kB 19.3MB/s eta 0:00:01\r\u001b[K     |████████▊                       | 327kB 19.3MB/s eta 0:00:01\r\u001b[K     |█████████                       | 337kB 19.3MB/s eta 0:00:01\r\u001b[K     |█████████▎                      | 348kB 19.3MB/s eta 0:00:01\r\u001b[K     |█████████▌                      | 358kB 19.3MB/s eta 0:00:01\r\u001b[K     |█████████▉                      | 368kB 19.3MB/s eta 0:00:01\r\u001b[K     |██████████                      | 378kB 19.3MB/s eta 0:00:01\r\u001b[K     |██████████▍                     | 389kB 19.3MB/s eta 0:00:01\r\u001b[K     |██████████▋                     | 399kB 19.3MB/s eta 0:00:01\r\u001b[K     |███████████                     | 409kB 19.3MB/s eta 0:00:01\r\u001b[K     |███████████▏                    | 419kB 19.3MB/s eta 0:00:01\r\u001b[K     |███████████▍                    | 430kB 19.3MB/s eta 0:00:01\r\u001b[K     |███████████▊                    | 440kB 19.3MB/s eta 0:00:01\r\u001b[K     |████████████                    | 450kB 19.3MB/s eta 0:00:01\r\u001b[K     |████████████▎                   | 460kB 19.3MB/s eta 0:00:01\r\u001b[K     |████████████▌                   | 471kB 19.3MB/s eta 0:00:01\r\u001b[K     |████████████▉                   | 481kB 19.3MB/s eta 0:00:01\r\u001b[K     |█████████████                   | 491kB 19.3MB/s eta 0:00:01\r\u001b[K     |█████████████▍                  | 501kB 19.3MB/s eta 0:00:01\r\u001b[K     |█████████████▋                  | 512kB 19.3MB/s eta 0:00:01\r\u001b[K     |█████████████▉                  | 522kB 19.3MB/s eta 0:00:01\r\u001b[K     |██████████████▏                 | 532kB 19.3MB/s eta 0:00:01\r\u001b[K     |██████████████▍                 | 542kB 19.3MB/s eta 0:00:01\r\u001b[K     |██████████████▊                 | 552kB 19.3MB/s eta 0:00:01\r\u001b[K     |███████████████                 | 563kB 19.3MB/s eta 0:00:01\r\u001b[K     |███████████████▎                | 573kB 19.3MB/s eta 0:00:01\r\u001b[K     |███████████████▌                | 583kB 19.3MB/s eta 0:00:01\r\u001b[K     |███████████████▉                | 593kB 19.3MB/s eta 0:00:01\r\u001b[K     |████████████████                | 604kB 19.3MB/s eta 0:00:01\r\u001b[K     |████████████████▍               | 614kB 19.3MB/s eta 0:00:01\r\u001b[K     |████████████████▋               | 624kB 19.3MB/s eta 0:00:01\r\u001b[K     |████████████████▉               | 634kB 19.3MB/s eta 0:00:01\r\u001b[K     |█████████████████▏              | 645kB 19.3MB/s eta 0:00:01\r\u001b[K     |█████████████████▍              | 655kB 19.3MB/s eta 0:00:01\r\u001b[K     |█████████████████▊              | 665kB 19.3MB/s eta 0:00:01\r\u001b[K     |██████████████████              | 675kB 19.3MB/s eta 0:00:01\r\u001b[K     |██████████████████▎             | 686kB 19.3MB/s eta 0:00:01\r\u001b[K     |██████████████████▌             | 696kB 19.3MB/s eta 0:00:01\r\u001b[K     |██████████████████▉             | 706kB 19.3MB/s eta 0:00:01\r\u001b[K     |███████████████████             | 716kB 19.3MB/s eta 0:00:01\r\u001b[K     |███████████████████▎            | 727kB 19.3MB/s eta 0:00:01\r\u001b[K     |███████████████████▋            | 737kB 19.3MB/s eta 0:00:01\r\u001b[K     |███████████████████▉            | 747kB 19.3MB/s eta 0:00:01\r\u001b[K     |████████████████████▏           | 757kB 19.3MB/s eta 0:00:01\r\u001b[K     |████████████████████▍           | 768kB 19.3MB/s eta 0:00:01\r\u001b[K     |████████████████████▊           | 778kB 19.3MB/s eta 0:00:01\r\u001b[K     |█████████████████████           | 788kB 19.3MB/s eta 0:00:01\r\u001b[K     |█████████████████████▎          | 798kB 19.3MB/s eta 0:00:01\r\u001b[K     |█████████████████████▌          | 808kB 19.3MB/s eta 0:00:01\r\u001b[K     |█████████████████████▉          | 819kB 19.3MB/s eta 0:00:01\r\u001b[K     |██████████████████████          | 829kB 19.3MB/s eta 0:00:01\r\u001b[K     |██████████████████████▎         | 839kB 19.3MB/s eta 0:00:01\r\u001b[K     |██████████████████████▋         | 849kB 19.3MB/s eta 0:00:01\r\u001b[K     |██████████████████████▉         | 860kB 19.3MB/s eta 0:00:01\r\u001b[K     |███████████████████████▏        | 870kB 19.3MB/s eta 0:00:01\r\u001b[K     |███████████████████████▍        | 880kB 19.3MB/s eta 0:00:01\r\u001b[K     |███████████████████████▊        | 890kB 19.3MB/s eta 0:00:01\r\u001b[K     |████████████████████████        | 901kB 19.3MB/s eta 0:00:01\r\u001b[K     |████████████████████████▎       | 911kB 19.3MB/s eta 0:00:01\r\u001b[K     |████████████████████████▌       | 921kB 19.3MB/s eta 0:00:01\r\u001b[K     |████████████████████████▊       | 931kB 19.3MB/s eta 0:00:01\r\u001b[K     |█████████████████████████       | 942kB 19.3MB/s eta 0:00:01\r\u001b[K     |█████████████████████████▎      | 952kB 19.3MB/s eta 0:00:01\r\u001b[K     |█████████████████████████▋      | 962kB 19.3MB/s eta 0:00:01\r\u001b[K     |█████████████████████████▉      | 972kB 19.3MB/s eta 0:00:01\r\u001b[K     |██████████████████████████▏     | 983kB 19.3MB/s eta 0:00:01\r\u001b[K     |██████████████████████████▍     | 993kB 19.3MB/s eta 0:00:01\r\u001b[K     |██████████████████████████▊     | 1.0MB 19.3MB/s eta 0:00:01\r\u001b[K     |███████████████████████████     | 1.0MB 19.3MB/s eta 0:00:01\r\u001b[K     |███████████████████████████▎    | 1.0MB 19.3MB/s eta 0:00:01\r\u001b[K     |███████████████████████████▌    | 1.0MB 19.3MB/s eta 0:00:01\r\u001b[K     |███████████████████████████▊    | 1.0MB 19.3MB/s eta 0:00:01\r\u001b[K     |████████████████████████████    | 1.1MB 19.3MB/s eta 0:00:01\r\u001b[K     |████████████████████████████▎   | 1.1MB 19.3MB/s eta 0:00:01\r\u001b[K     |████████████████████████████▋   | 1.1MB 19.3MB/s eta 0:00:01\r\u001b[K     |████████████████████████████▉   | 1.1MB 19.3MB/s eta 0:00:01\r\u001b[K     |█████████████████████████████▏  | 1.1MB 19.3MB/s eta 0:00:01\r\u001b[K     |█████████████████████████████▍  | 1.1MB 19.3MB/s eta 0:00:01\r\u001b[K     |█████████████████████████████▊  | 1.1MB 19.3MB/s eta 0:00:01\r\u001b[K     |██████████████████████████████  | 1.1MB 19.3MB/s eta 0:00:01\r\u001b[K     |██████████████████████████████▏ | 1.1MB 19.3MB/s eta 0:00:01\r\u001b[K     |██████████████████████████████▌ | 1.1MB 19.3MB/s eta 0:00:01\r\u001b[K     |██████████████████████████████▊ | 1.2MB 19.3MB/s eta 0:00:01\r\u001b[K     |███████████████████████████████ | 1.2MB 19.3MB/s eta 0:00:01\r\u001b[K     |███████████████████████████████▎| 1.2MB 19.3MB/s eta 0:00:01\r\u001b[K     |███████████████████████████████▋| 1.2MB 19.3MB/s eta 0:00:01\r\u001b[K     |███████████████████████████████▉| 1.2MB 19.3MB/s eta 0:00:01\r\u001b[K     |████████████████████████████████| 1.2MB 19.3MB/s \n",
            "\u001b[?25hInstalling collected packages: sentencepiece\n",
            "Successfully installed sentencepiece-0.1.95\n"
          ],
          "name": "stdout"
        }
      ]
    },
    {
      "cell_type": "code",
      "metadata": {
        "ExecuteTime": {
          "end_time": "2021-03-18T08:04:12.801139Z",
          "start_time": "2021-03-18T08:04:07.031324Z"
        },
        "id": "mHOn9NqVSCiS"
      },
      "source": [
        "from transformers import AlbertTokenizer, XLNetTokenizer, AutoModel, pipeline\n",
        "import re\n",
        "import os\n",
        "import requests\n",
        "from tqdm.auto import tqdm"
      ],
      "execution_count": null,
      "outputs": []
    },
    {
      "cell_type": "code",
      "metadata": {
        "ExecuteTime": {
          "end_time": "2021-03-18T08:08:29.656566Z",
          "start_time": "2021-03-18T08:08:24.881311Z"
        },
        "id": "uGTgObqDSCiV",
        "colab": {
          "base_uri": "https://localhost:8080/",
          "height": 68,
          "referenced_widgets": [
            "c74846e7c7ae4b009de314bc940882a6",
            "1f47e610c0654761afe764e8cffc4a1c",
            "772e4144200e4a4a91af4232a5db6b81",
            "0c4dc982b8fd4880af8ea413c54dfc53",
            "4c6469941b8f4732b96e293759b73e5c",
            "ab125735983f49808fbaa1c52aef64a2",
            "5e14df03e20a4bd2950088b009974c11",
            "ea18563840ed49d18351cf373b5bf5f6"
          ]
        },
        "outputId": "4c1bda3d-cba3-46ed-f803-e9c3c8c581c0"
      },
      "source": [
        "tokenizer = AlbertTokenizer.from_pretrained(\"Rostlab/prot_albert\", do_lower_case=False )\n",
        "#tokenizer = XLNetTokenizer.from_pretrained(\"Rostlab/prot_xlnet\", do_lower_case=False)\n",
        "\n"
      ],
      "execution_count": null,
      "outputs": [
        {
          "output_type": "display_data",
          "data": {
            "application/vnd.jupyter.widget-view+json": {
              "model_id": "c74846e7c7ae4b009de314bc940882a6",
              "version_minor": 0,
              "version_major": 2
            },
            "text/plain": [
              "HBox(children=(FloatProgress(value=0.0, description='Downloading', max=238187.0, style=ProgressStyle(descripti…"
            ]
          },
          "metadata": {
            "tags": []
          }
        },
        {
          "output_type": "stream",
          "text": [
            "\n"
          ],
          "name": "stdout"
        }
      ]
    },
    {
      "cell_type": "code",
      "metadata": {
        "ExecuteTime": {
          "end_time": "2021-03-18T08:08:38.853307Z",
          "start_time": "2021-03-18T08:08:29.658397Z"
        },
        "id": "imutu--HSCiV",
        "colab": {
          "base_uri": "https://localhost:8080/",
          "height": 118,
          "referenced_widgets": [
            "f6cb4aa0cf6143f9847bba0caaa59f85",
            "5924f479e8404c959d8fccc9cca55ae3",
            "9e3ac23835c34800bae11b63aad970b7",
            "e701e7cde8e04a448d375a552c885ef7",
            "81598bf4e2d142028ef0990cbdd0799d",
            "8da6178960f84a59abb729ba2c3f5de4",
            "5af74bfa4dc345c49dd0914b3b98e171",
            "28fe362ff32a4296a311a91442d962ba",
            "12f94eb08cb045608cb171dd276fd462",
            "4b96c5a159e64f1694db5b4ee83e5cc5",
            "a90658c76fb04b1094b46ad08ed78ad4",
            "ebb97191cfea4b9db32a83f2b4531de7",
            "127ac30d05ef4162a9fe926f76e02d4e",
            "3a5532fd11ba4ed1a774cd679e1047fc",
            "75891ecb56e64a1fac047a2e2955d659",
            "c99d08af58ab4351939f72b02752f768"
          ]
        },
        "outputId": "6b85c705-38c2-436e-ae39-f18d9d61a01c"
      },
      "source": [
        "model = AutoModel.from_pretrained(\"Rostlab/prot_albert\")\n",
        "#model = AutoModel.from_pretrained(\"Rostlab/prot_xlnet\")"
      ],
      "execution_count": null,
      "outputs": [
        {
          "output_type": "display_data",
          "data": {
            "application/vnd.jupyter.widget-view+json": {
              "model_id": "f6cb4aa0cf6143f9847bba0caaa59f85",
              "version_minor": 0,
              "version_major": 2
            },
            "text/plain": [
              "HBox(children=(FloatProgress(value=0.0, description='Downloading', max=505.0, style=ProgressStyle(description_…"
            ]
          },
          "metadata": {
            "tags": []
          }
        },
        {
          "output_type": "stream",
          "text": [
            "\n"
          ],
          "name": "stdout"
        },
        {
          "output_type": "display_data",
          "data": {
            "application/vnd.jupyter.widget-view+json": {
              "model_id": "12f94eb08cb045608cb171dd276fd462",
              "version_minor": 0,
              "version_major": 2
            },
            "text/plain": [
              "HBox(children=(FloatProgress(value=0.0, description='Downloading', max=897396780.0, style=ProgressStyle(descri…"
            ]
          },
          "metadata": {
            "tags": []
          }
        },
        {
          "output_type": "stream",
          "text": [
            "\n"
          ],
          "name": "stdout"
        }
      ]
    },
    {
      "cell_type": "code",
      "metadata": {
        "ExecuteTime": {
          "end_time": "2021-03-18T08:08:48.340349Z",
          "start_time": "2021-03-18T08:08:48.326321Z"
        },
        "id": "RdN7QGIbSCiW"
      },
      "source": [
        "fe = pipeline('feature-extraction', model=model, tokenizer=tokenizer,device=0)"
      ],
      "execution_count": null,
      "outputs": []
    },
    {
      "cell_type": "code",
      "metadata": {
        "colab": {
          "base_uri": "https://localhost:8080/",
          "height": 206
        },
        "id": "pwGoTyYvKqIg",
        "outputId": "ed545381-d59d-4eaf-d876-8184dc86977e"
      },
      "source": [
        "seq_data = pd.read_csv(\"/content/drive/MyDrive/m1p/seq_to_fold.csv\")\n",
        "seq_data = seq_data[[\"FOLD\", \"sequence\"]]\n",
        "seq_data.head()"
      ],
      "execution_count": null,
      "outputs": [
        {
          "output_type": "execute_result",
          "data": {
            "text/html": [
              "<div>\n",
              "<style scoped>\n",
              "    .dataframe tbody tr th:only-of-type {\n",
              "        vertical-align: middle;\n",
              "    }\n",
              "\n",
              "    .dataframe tbody tr th {\n",
              "        vertical-align: top;\n",
              "    }\n",
              "\n",
              "    .dataframe thead th {\n",
              "        text-align: right;\n",
              "    }\n",
              "</style>\n",
              "<table border=\"1\" class=\"dataframe\">\n",
              "  <thead>\n",
              "    <tr style=\"text-align: right;\">\n",
              "      <th></th>\n",
              "      <th>FOLD</th>\n",
              "      <th>sequence</th>\n",
              "    </tr>\n",
              "  </thead>\n",
              "  <tbody>\n",
              "    <tr>\n",
              "      <th>0</th>\n",
              "      <td>1400</td>\n",
              "      <td>DMKRQQRFFRIPFIRPADQYKDPQNKKKGWWYAHFDGPWIARQMEL...</td>\n",
              "    </tr>\n",
              "    <tr>\n",
              "      <th>1</th>\n",
              "      <td>1400</td>\n",
              "      <td>RQREIEMNRQQRFFRIPFIRPADQYKDPQSKKKGWWYAHFDGPWIA...</td>\n",
              "    </tr>\n",
              "    <tr>\n",
              "      <th>2</th>\n",
              "      <td>11</td>\n",
              "      <td>MKIKVALLDKDKEYLDRLTGVFNTKYADKLEVYSFTDEKNAIESVK...</td>\n",
              "    </tr>\n",
              "    <tr>\n",
              "      <th>3</th>\n",
              "      <td>11</td>\n",
              "      <td>QTPHILIVEDELVTRNTLKSIFEAEGYDVFEATDGAEMHQILSEYD...</td>\n",
              "    </tr>\n",
              "    <tr>\n",
              "      <th>4</th>\n",
              "      <td>11</td>\n",
              "      <td>SFERVFGKRVIILGGGALVSQVAIGAISEADRHNLRGERISVDTMP...</td>\n",
              "    </tr>\n",
              "  </tbody>\n",
              "</table>\n",
              "</div>"
            ],
            "text/plain": [
              "   FOLD                                           sequence\n",
              "0  1400  DMKRQQRFFRIPFIRPADQYKDPQNKKKGWWYAHFDGPWIARQMEL...\n",
              "1  1400  RQREIEMNRQQRFFRIPFIRPADQYKDPQSKKKGWWYAHFDGPWIA...\n",
              "2    11  MKIKVALLDKDKEYLDRLTGVFNTKYADKLEVYSFTDEKNAIESVK...\n",
              "3    11  QTPHILIVEDELVTRNTLKSIFEAEGYDVFEATDGAEMHQILSEYD...\n",
              "4    11  SFERVFGKRVIILGGGALVSQVAIGAISEADRHNLRGERISVDTMP..."
            ]
          },
          "metadata": {
            "tags": []
          },
          "execution_count": 10
        }
      ]
    },
    {
      "cell_type": "code",
      "metadata": {
        "id": "xOBTJip6YTjv"
      },
      "source": [
        ""
      ],
      "execution_count": null,
      "outputs": []
    },
    {
      "cell_type": "markdown",
      "metadata": {
        "id": "lAIpf5FW8TdA"
      },
      "source": [
        "## Choosing ten relatively balanced classes.\n",
        "\n",
        "This section is devoted to narrowing the dataset to ten classes."
      ]
    },
    {
      "cell_type": "code",
      "metadata": {
        "id": "Tz_flZRK8czZ"
      },
      "source": [
        "def print_fold_info(fold_id, data):\n",
        "  \"\"\"\n",
        "  Plots distribution of sequence lengths in fold as well as number of sequences.\n",
        "  \"\"\"\n",
        "  fold_data = data[data['FOLD'] == fold_id]\n",
        "  sequences = fold_data.loc[:, \"sequence\"]\n",
        "  lengths = sequences.apply(lambda x:  len(x))\n",
        "  plt.figure(figsize = (9, 6))\n",
        "  plt.hist(lengths, bins = 15, density=False, facecolor='purple', alpha=0.55)\n",
        "  plt.xlabel('Length')\n",
        "  plt.ylabel('Number of elements')\n",
        "  plt.title(f'Histogram of sequence lengths for fold {fold_id}')\n",
        "  plt.grid(True)\n",
        "  plt.show()\n",
        "  print(f\"Number of elements in fold = {len(sequences)}\")\n",
        "\n",
        "def compare_folds(fold_id, fold_other, data):\n",
        "  \"\"\"\n",
        "  Plots distribution of sequence lengths in fold as well as number of sequences\n",
        "  for two given folds.\n",
        "  \"\"\"\n",
        "  fold_data1 = data[data['FOLD'] == fold_id]\n",
        "  sequences1 = fold_data1.loc[:, \"sequence\"]\n",
        "  lengths1 = sequences1.apply(lambda x:  len(x))\n",
        "  fold_data2 = data[data['FOLD'] == fold_other]\n",
        "  sequences2 = fold_data2.loc[:, \"sequence\"]\n",
        "  lengths2 = sequences2.apply(lambda x:  len(x))\n",
        "  plt.figure(figsize = (9, 6))\n",
        "  plt.hist(lengths1, bins = 15, density=True, facecolor='purple', alpha=0.5, \n",
        "           label = f\"fold_id = {fold_id}\")\n",
        "  plt.hist(lengths2, bins = 15, density=True, facecolor='green', alpha=0.5, \n",
        "           label = f\"fold_id = {fold_other}\")\n",
        "  plt.xlabel('Length')\n",
        "  plt.ylabel('Density')\n",
        "  plt.title(f'Comparison of two given folds')\n",
        "  plt.grid(True)\n",
        "  plt.legend()\n",
        "  plt.show()\n",
        "  print(f\"Number of elements in fold {fold_id} = {len(sequences1)}, in\" \n",
        "  f\" fold {fold_other} = {len(sequences2)}\")\n"
      ],
      "execution_count": null,
      "outputs": []
    },
    {
      "cell_type": "markdown",
      "metadata": {
        "id": "Yo2--jbj-pui"
      },
      "source": [
        "We will examine classes with the number of proteins from 80 to 120 and choose 10 relatively balanced ones among them. "
      ]
    },
    {
      "cell_type": "code",
      "metadata": {
        "colab": {
          "base_uri": "https://localhost:8080/",
          "height": 1000
        },
        "id": "7zLDjKr3YOkN",
        "outputId": "9c611ac3-e51e-4d64-eeef-160ab7f8db7a"
      },
      "source": [
        "folds = (6, 51, 52, 61, 130, 262, 274, 304, 386)\n",
        "for fold in folds:\n",
        "  length = (seq_data['FOLD'] == fold).sum()\n",
        "  if 80 <= length and length <= 120:\n",
        "    print_fold_info(fold, seq_data)"
      ],
      "execution_count": null,
      "outputs": [
        {
          "output_type": "display_data",
          "data": {
            "image/png": "[encoded data removed]",
            "text/plain": [
              "<Figure size 648x432 with 1 Axes>"
            ]
          },
          "metadata": {
            "tags": [],
            "needs_background": "light"
          }
        },
        {
          "output_type": "stream",
          "text": [
            "Number of elements in fold = 101\n"
          ],
          "name": "stdout"
        },
        {
          "output_type": "display_data",
          "data": {
            "image/png": "[encoded data removed]",
            "text/plain": [
              "<Figure size 648x432 with 1 Axes>"
            ]
          },
          "metadata": {
            "tags": [],
            "needs_background": "light"
          }
        },
        {
          "output_type": "stream",
          "text": [
            "Number of elements in fold = 80\n"
          ],
          "name": "stdout"
        },
        {
          "output_type": "display_data",
          "data": {
            "image/png": "[encoded data removed]",
            "text/plain": [
              "<Figure size 648x432 with 1 Axes>"
            ]
          },
          "metadata": {
            "tags": [],
            "needs_background": "light"
          }
        },
        {
          "output_type": "stream",
          "text": [
            "Number of elements in fold = 97\n"
          ],
          "name": "stdout"
        },
        {
          "output_type": "display_data",
          "data": {
            "image/png": "[encoded data removed]",
            "text/plain": [
              "<Figure size 648x432 with 1 Axes>"
            ]
          },
          "metadata": {
            "tags": [],
            "needs_background": "light"
          }
        },
        {
          "output_type": "stream",
          "text": [
            "Number of elements in fold = 110\n"
          ],
          "name": "stdout"
        },
        {
          "output_type": "display_data",
          "data": {
            "image/png": "[encoded data removed]",
            "text/plain": [
              "<Figure size 648x432 with 1 Axes>"
            ]
          },
          "metadata": {
            "tags": [],
            "needs_background": "light"
          }
        },
        {
          "output_type": "stream",
          "text": [
            "Number of elements in fold = 103\n"
          ],
          "name": "stdout"
        },
        {
          "output_type": "display_data",
          "data": {
            "image/png": "[encoded data removed]",
            "text/plain": [
              "<Figure size 648x432 with 1 Axes>"
            ]
          },
          "metadata": {
            "tags": [],
            "needs_background": "light"
          }
        },
        {
          "output_type": "stream",
          "text": [
            "Number of elements in fold = 111\n"
          ],
          "name": "stdout"
        },
        {
          "output_type": "display_data",
          "data": {
            "image/png": "[encoded data removed]",
            "text/plain": [
              "<Figure size 648x432 with 1 Axes>"
            ]
          },
          "metadata": {
            "tags": [],
            "needs_background": "light"
          }
        },
        {
          "output_type": "stream",
          "text": [
            "Number of elements in fold = 85\n"
          ],
          "name": "stdout"
        },
        {
          "output_type": "display_data",
          "data": {
            "image/png": "[encoded data removed]",
            "text/plain": [
              "<Figure size 648x432 with 1 Axes>"
            ]
          },
          "metadata": {
            "tags": [],
            "needs_background": "light"
          }
        },
        {
          "output_type": "stream",
          "text": [
            "Number of elements in fold = 116\n"
          ],
          "name": "stdout"
        },
        {
          "output_type": "display_data",
          "data": {
            "image/png": "[encoded data removed]",
            "text/plain": [
              "<Figure size 648x432 with 1 Axes>"
            ]
          },
          "metadata": {
            "tags": [],
            "needs_background": "light"
          }
        },
        {
          "output_type": "stream",
          "text": [
            "Number of elements in fold = 111\n"
          ],
          "name": "stdout"
        }
      ]
    },
    {
      "cell_type": "code",
      "metadata": {
        "id": "0Wy2ef2rJc_4"
      },
      "source": [
        "def scop_seq_to_bert_seq(scop_seq):\n",
        "    \"\"\"\n",
        "    Converts sequences from scop format to prot bert format\n",
        "    \"\"\"\n",
        "    def expand(sequence):\n",
        "        \"\"\"\n",
        "        Expands one sequnce\n",
        "        \"\"\"\n",
        "        return \" \".join(sequence.rstrip())\n",
        "    \n",
        "    return scop_seq.apply(expand)"
      ],
      "execution_count": null,
      "outputs": []
    },
    {
      "cell_type": "code",
      "metadata": {
        "id": "WUss6VsvaAFQ"
      },
      "source": [
        ""
      ],
      "execution_count": null,
      "outputs": []
    },
    {
      "cell_type": "code",
      "metadata": {
        "id": "RLkQLtABDVa4"
      },
      "source": [
        "folds = (6, 51, 52, 61, 130, 262, 274, 304, 386)\n",
        "seq_data = pd.read_csv(\"/content/drive/MyDrive/m1p/seq_to_fold.csv\")\n",
        "seq_data = seq_data[[\"FOLD\", \"sequence\"]]\n",
        "seq_data.head()\n",
        "preprocessed_data = seq_data[seq_data['FOLD'].isin(folds)]"
      ],
      "execution_count": null,
      "outputs": []
    },
    {
      "cell_type": "markdown",
      "metadata": {
        "id": "q-w3vayPMZwp"
      },
      "source": [
        "## Applying BERT to the preprocessed dataset."
      ]
    },
    {
      "cell_type": "code",
      "metadata": {
        "id": "9uhsMWoAXrSh"
      },
      "source": [
        "from sklearn.preprocessing import LabelEncoder"
      ],
      "execution_count": null,
      "outputs": []
    },
    {
      "cell_type": "code",
      "metadata": {
        "ExecuteTime": {
          "end_time": "2021-03-18T08:21:59.728721Z",
          "start_time": "2021-03-18T08:21:59.516047Z"
        },
        "id": "s_5xOvR1SCiZ"
      },
      "source": [
        "sequences = preprocessed_data['sequence']\n",
        "sequences = scop_seq_to_bert_seq(sequences).to_numpy()\n",
        "target = preprocessed_data['FOLD'].to_numpy()\n",
        "le = LabelEncoder()\n",
        "target = le.fit_transform(target) "
      ],
      "execution_count": null,
      "outputs": []
    },
    {
      "cell_type": "code",
      "metadata": {
        "ExecuteTime": {
          "end_time": "2021-03-18T08:24:48.164669Z",
          "start_time": "2021-03-18T08:24:48.150196Z"
        },
        "colab": {
          "base_uri": "https://localhost:8080/"
        },
        "id": "QFfxL4UuSCia",
        "outputId": "f83ad2c6-91a1-49c6-b64d-72b474c266a9"
      },
      "source": [
        "sequences[:5]"
      ],
      "execution_count": null,
      "outputs": [
        {
          "output_type": "execute_result",
          "data": {
            "text/plain": [
              "array(['K P K E E I K I V E P N G A E K T K L N L N F G V G K L N I S G N E E K L M K G K F I Y S E N E W K P E I K Y E V K D K D G E L E I S Q P G L K S G N V S L N N K R N E W N I N L N E K I P T E I K L S L G T G E F K A D L S K I N L K E L N V G M G V G K V D L D I S G N Y K N N V K V N I E G G V G E A T V Y L P K S I G V K I K A E K G V G A V N A N G F I V E G E N I Y K N S Q Y G K S K N S I E V N I E A G V G A I N I K Q K',\n",
              "       'D H V K G D G K L T S K K I S V A D Y N E I K V D G V I D F N Y E Q S D D P S T V E V T V D Q N L H P Y V N I E V K D R V L T I A F K G A K V D H F T K F I V K T N S K W L A A A K V S G N A N F M V N S P L T G D E T V I K A N A N S L V Q L K E T V T V G K L D L N V S G S A N M V V N H L E A D K I E C D I D G S G S I T I K K G N A K E G D Y S I V S S G D I H A F G L A V P Q L S C K V T G N G L A E V H A T D N L K A N V V G K G N I R Y K G P T A V Q Q R I I G K G T V E E V',\n",
              "       'G D G N I T T E N I P V S E Y D C L E L E G G G M V V N Y T Q S D A P E G L E I K T D R N I F E K Y E F N V E N H K L K I R P K K E F R K H T N F R P T E F M V T A N S R N L K K L A A A G S T H V N I N S P L Q A E E F E A G L A G S G I I Q F H D T A S F T N L K I E I A G S G D F V G H K V Y C E E L N G D M A G S N T I V L G G T V G I A E F S I A G S G T V R A F D C T M D E L E C K I A G S G D I E A F V V N K I K A E I A G S G S V K Y K G D P Q D I Q K K V M G S G K I E K V E',\n",
              "       'A D H V K G N G K L S T K K I T I D D F N A I K F D G V I D F N Y E Q S E S T P H I E I T V D E N L H P Y V N I D I Q D R V L T V G F K G A K V D H F T K F I V K T N S K W L K E V K A S G N A N F I A N S P L K G D E L K I N A N S N C L V Q L K Q K V E V G K L D L N V S G S A N M V V N E L K T D K L E C S I N G S G T I N L K A G N A E E A D Y S I T T D G E I M A F G V A V P E V N C K I T G K G S A Q I H P T D N L K A T I V G K G N I R Y K G P T A V Q Q K V I G K G T V E E V K',\n",
              "       'D K R I D G N G N P E T R E I K I S D Y D E I T F V G S A D F E Y E Q S D K A P Y L S V T I D E N L F D Y L V T E V E G G T L K I Y P K S I K K G F N N N S Y D L R P T V Y K I K S N S K E L K E L N T V G S G S F I I S K P T K V N R M E I N M A G S G N V E L R G P V K G Y K L E C N M A G S G N I I A K D I Q L D N L S C S L A S S G E I E V I G T V D R A S F N V A G S G E I K A F D C Q A R K A E C N I A S S G E I S V Y A T Q I L D A N I V G S G E I H Y K G D P E I S K S I M G S G S I N K V K'],\n",
              "      dtype=object)"
            ]
          },
          "metadata": {
            "tags": []
          },
          "execution_count": 28
        }
      ]
    },
    {
      "cell_type": "code",
      "metadata": {
        "id": "5lPCwe-zMm0g"
      },
      "source": [
        "!mkdir /content/drive/MyDrive/m1p/ten_classes_albert/"
      ],
      "execution_count": null,
      "outputs": []
    },
    {
      "cell_type": "code",
      "metadata": {
        "colab": {
          "base_uri": "https://localhost:8080/",
          "height": 68,
          "referenced_widgets": [
            "f8d6d8cff94c46fcbb70f24caee50077",
            "3ee2b00046c84ed99b66abbd62882efa",
            "28b89754afa440f8b5bcb7fee976d3ee",
            "38f19d6c618846aa83802aa7e07d9a45",
            "067c790f25e7421285a0f2ecaafdf5de",
            "b534dd7e09444e3a8e63602499f05c6b",
            "50caa34b58de479984375469a165a94e",
            "50f137cf995f48d585b5bcec0ea71851"
          ]
        },
        "id": "S4efYXZMP1AH",
        "outputId": "cb9e2701-d299-445d-c13c-cf2e030a7615"
      },
      "source": [
        "for i in tqdm(range(len(sequences))):\n",
        "  torch.save(torch.tensor(fe(sequences[i])), \"/content/drive/MyDrive/m1p/ten_classes_albert/\" + str(i) + \".torch\")\n"
      ],
      "execution_count": null,
      "outputs": [
        {
          "output_type": "display_data",
          "data": {
            "application/vnd.jupyter.widget-view+json": {
              "model_id": "f8d6d8cff94c46fcbb70f24caee50077",
              "version_minor": 0,
              "version_major": 2
            },
            "text/plain": [
              "HBox(children=(FloatProgress(value=0.0, max=914.0), HTML(value='')))"
            ]
          },
          "metadata": {
            "tags": []
          }
        },
        {
          "output_type": "stream",
          "text": [
            "\n"
          ],
          "name": "stdout"
        }
      ]
    },
    {
      "cell_type": "markdown",
      "metadata": {
        "id": "twhOjXzekHgi"
      },
      "source": [
        "**Using CNN**:"
      ]
    },
    {
      "cell_type": "markdown",
      "metadata": {
        "id": "brXldWnARaqa"
      },
      "source": [
        "This section is devoted to applying CNN to the ten-class data."
      ]
    },
    {
      "cell_type": "code",
      "metadata": {
        "id": "xv_aUH5ckK2M"
      },
      "source": [
        "class K_max_pooling_1d(nn.Module):\n",
        "    def __init__(self, k):\n",
        "        super(K_max_pooling_1d, self).__init__()\n",
        "        self.k = k\n",
        "\n",
        "    def forward(self, x):\n",
        "        #if x.shape[2] < self.k:\n",
        "        #  return F.pad(input=x, pad=(0, self.k - x.shape[2], 0, 0), \n",
        "        #                 mode='constant', value=0)\n",
        "        top = torch.topk(x, k = self.k)\n",
        "        return top.values"
      ],
      "execution_count": null,
      "outputs": []
    },
    {
      "cell_type": "code",
      "metadata": {
        "id": "g90bWF2RFWUh"
      },
      "source": [
        " def plot_learning_curves(history):\n",
        "    '''\n",
        "\n",
        "    :param history: (dict)\n",
        "        accuracy and loss for traning and validation\n",
        "    '''\n",
        "    # sns.set_style(style='whitegrid')\n",
        "    fig = plt.figure(figsize=(20, 7))\n",
        "\n",
        "    plt.subplot(1,2,1)\n",
        "    plt.title('Loss', fontsize=15)\n",
        "    plt.plot(history['loss']['train'], label='train')\n",
        "    plt.plot(history['loss']['val'], label='val')\n",
        "    plt.ylabel('lostt', fontsize=15)\n",
        "    plt.xlabel('epoch', fontsize=15)\n",
        "    plt.legend()\n",
        "\n",
        "    plt.subplot(1,2,2)\n",
        "    plt.title('Accuracy', fontsize=15)\n",
        "    plt.plot(history['acc']['train'], label='train')\n",
        "    plt.plot(history['acc']['val'], label='val')\n",
        "    plt.ylabel('loss', fontsize=15)\n",
        "    plt.xlabel('epoch', fontsize=15)\n",
        "    plt.legend()\n",
        "    plt.show()"
      ],
      "execution_count": null,
      "outputs": []
    },
    {
      "cell_type": "code",
      "metadata": {
        "id": "HGTV8J4gFW_V"
      },
      "source": [
        "def train(\n",
        "    model, \n",
        "    criterion,\n",
        "    optimizer, \n",
        "    train_batch_gen,\n",
        "    val_batch_gen,\n",
        "    label,\n",
        "    num_epochs=50\n",
        "):\n",
        "\n",
        "    history = defaultdict(lambda: defaultdict(list))\n",
        "\n",
        "    for epoch in range(num_epochs):\n",
        "        train_loss = 0\n",
        "        train_acc = 0\n",
        "        val_loss = 0\n",
        "        val_acc = 0\n",
        "        \n",
        "        start_time = time.time()\n",
        "\n",
        "        # Устанавливаем поведение dropout / batch_norm  в обучение\n",
        "        model.train(True) \n",
        "\n",
        "        # На каждой \"эпохе\" делаем полный проход по данным\n",
        "        for X_batch, y_batch in train_batch_gen:\n",
        "            # Обучаемся на батче (одна \"итерация\" обучения нейросети)\n",
        "            \n",
        "            #X_batch = torch.transpose(torch.tensor(fe(train_X[i])), 1, 2).to(device)\n",
        "            #y_batch = torch.tensor(train_Y[i]).unsqueeze(0).to(device)\n",
        "                        \n",
        "            X_batch = torch.transpose(X_batch.squeeze(0), 1, 2).to(device)\n",
        "            y_batch = y_batch.to(device)\n",
        "\n",
        "            # Логиты на выходе модели\n",
        "            logits = model(X_batch)\n",
        "\n",
        "            # Подсчитываем лосс\n",
        "            loss = criterion(logits, y_batch.long().to(device))\n",
        "\n",
        "            # Обратный проход\n",
        "            loss.backward()\n",
        "            # Шаг градиента\n",
        "            optimizer.step()\n",
        "            # Зануляем градиенты\n",
        "            optimizer.zero_grad()\n",
        "            \n",
        "            # Сохраяняем лоссы и точность на трейне\n",
        "            train_loss += loss.detach().cpu().numpy()\n",
        "            y_pred = logits.max(1)[1].detach().cpu().numpy()\n",
        "            train_acc += np.mean(y_batch.cpu().numpy() == y_pred)\n",
        "\n",
        "        # Подсчитываем лоссы и сохраням в \"историю\"\n",
        "        train_loss /= len(train_batch_gen)\n",
        "        train_acc /= len(train_batch_gen) \n",
        "        history['loss']['train'].append(train_loss)\n",
        "        history['acc']['train'].append(train_acc)\n",
        "    \n",
        "        # Устанавливаем поведение dropout / batch_norm в режим тестирования\n",
        "        model.train(False) \n",
        "\n",
        "        # Полный проход по валидации    \n",
        "        for X_batch, y_batch in val_batch_gen:\n",
        "            X_batch = torch.transpose(X_batch.squeeze(0), 1, 2).to(device)\n",
        "            y_batch = y_batch.to(device)\n",
        "            \n",
        "            #X_batch = torch.transpose(torch.tensor(fe(val_X[i])), 1, 2).to(device)\n",
        "            #y_batch = torch.tensor(val_Y[i]).unsqueeze(0).to(device)\n",
        "            \n",
        "            # Логиты, полученные моделью\n",
        "            logits = model(X_batch)\n",
        "            # Лосс на валидации\n",
        "            loss = criterion(logits, y_batch.long().to(device))\n",
        "\n",
        "            # Сохраяняем лоссы и точность на валидации\n",
        "            val_loss += loss.detach().cpu().numpy()\n",
        "            y_pred = logits.max(1)[1].detach().cpu().numpy()\n",
        "            val_acc += np.mean(y_batch.cpu().numpy() == y_pred)\n",
        "\n",
        "        # Подсчитываем лоссы и сохраням в \"историю\"\n",
        "        val_loss /= len(val_batch_gen)\n",
        "        val_acc /= len(val_batch_gen) \n",
        "        history['loss']['val'].append(val_loss)\n",
        "        history['acc']['val'].append(val_acc)\n",
        "        \n",
        "        clear_output()\n",
        "\n",
        "        # Печатаем результаты после каждой эпохи\n",
        "        print(\"Epoch {} of {} took {:.3f}s\".format(\n",
        "            epoch + 1, num_epochs, time.time() - start_time))\n",
        "        print(\"  training loss (in-iteration): \\t{:.6f}\".format(train_loss))\n",
        "        print(\"  validation loss (in-iteration): \\t{:.6f}\".format(val_loss))\n",
        "        print(\"  training accuracy: \\t\\t\\t{:.2f} %\".format(train_acc * 100))\n",
        "        print(\"  validation accuracy: \\t\\t\\t{:.2f} %\".format(val_acc * 100))\n",
        "        \n",
        "        plot_learning_curves(history)\n",
        "        if epoch % 5 == 1:\n",
        "            torch.save(model.state_dict(), \n",
        "                   \"/content/drive/MyDrive/m1p/two_classes_albert/states/model_state_\" + label + \"_\" + str(epoch))\n",
        "    return model, history"
      ],
      "execution_count": null,
      "outputs": []
    },
    {
      "cell_type": "code",
      "metadata": {
        "id": "UPzCPiFkU1v5"
      },
      "source": [
        "# !mkdir /content/drive/MyDrive/m1p/two_classes_albert/states/"
      ],
      "execution_count": null,
      "outputs": []
    },
    {
      "cell_type": "code",
      "metadata": {
        "id": "a4wQSeOX2ED-",
        "colab": {
          "base_uri": "https://localhost:8080/",
          "height": 36
        },
        "outputId": "295a154e-4ae8-4799-e4cf-102fb98717a2"
      },
      "source": [
        "device = \"cuda\" if torch.cuda.is_available() else \"cpu\"\n",
        "device"
      ],
      "execution_count": null,
      "outputs": [
        {
          "output_type": "execute_result",
          "data": {
            "application/vnd.google.colaboratory.intrinsic+json": {
              "type": "string"
            },
            "text/plain": [
              "'cuda'"
            ]
          },
          "metadata": {
            "tags": []
          },
          "execution_count": 34
        }
      ]
    },
    {
      "cell_type": "code",
      "metadata": {
        "id": "-uzUSaxiHoKa"
      },
      "source": [
        "class FoldDataset(Dataset):\n",
        "  'Characterizes a dataset for PyTorch'\n",
        "  def __init__(self, length, labels):\n",
        "        'Initialization'\n",
        "        super(Dataset, self).__init__()\n",
        "        self.length = length\n",
        "        self.labels = labels\n",
        "  def __len__(self):\n",
        "        'Denotes the total number of samples'\n",
        "        return self.length\n",
        "\n",
        "  def __getitem__(self, index):\n",
        "        'Generates one sample of data'\n",
        "        # Select sample\n",
        "\n",
        "        # Load data and get label\n",
        "        data = torch.load(\"/content/drive/MyDrive/m1p/ten_classes_albert/\" + str(index) + \".torch\")\n",
        "        \n",
        "        return data, self.labels[index]"
      ],
      "execution_count": null,
      "outputs": []
    },
    {
      "cell_type": "code",
      "metadata": {
        "id": "HHfKYs0nQtIJ"
      },
      "source": [
        "def collate_fn(batch):\n",
        "  \"\"\"\n",
        "  batch: list of individual elements\n",
        "  \"\"\"\n",
        "  max_sz = 0\n",
        "  for elem in batch:\n",
        "    max_sz = max(max_sz, elem[0].shape[1])\n",
        "  target = torch.tensor([elem[1] for elem in batch])\n",
        "  return torch.cat([F.pad(input=elem[0], pad=(0, 0, 0, max_sz - elem[0].shape[1]), \n",
        "                          mode='constant', value=0) for elem in batch]), target"
      ],
      "execution_count": null,
      "outputs": []
    },
    {
      "cell_type": "code",
      "metadata": {
        "id": "pdpZfo_mWG2I"
      },
      "source": [
        ""
      ],
      "execution_count": null,
      "outputs": []
    },
    {
      "cell_type": "code",
      "metadata": {
        "colab": {
          "base_uri": "https://localhost:8080/"
        },
        "id": "q2zIZGVfWNiu",
        "outputId": "ac758776-7ce1-4ee7-c6c8-eff042b520da"
      },
      "source": [
        "len(target)"
      ],
      "execution_count": null,
      "outputs": [
        {
          "output_type": "execute_result",
          "data": {
            "text/plain": [
              "914"
            ]
          },
          "metadata": {
            "tags": []
          },
          "execution_count": 46
        }
      ]
    },
    {
      "cell_type": "code",
      "metadata": {
        "id": "malCVEnj63wO"
      },
      "source": [
        "dataset = FoldDataset(len(target), target)\n",
        "#first_generator = torch.Generator().manual_seed(17)\n",
        "#dataset, other = random_split(\n",
        "#    dataset, lengths=(500, 34592 - 500), generator=first_generator)"
      ],
      "execution_count": null,
      "outputs": []
    },
    {
      "cell_type": "code",
      "metadata": {
        "colab": {
          "base_uri": "https://localhost:8080/"
        },
        "id": "b2COzn0P8oMu",
        "outputId": "378987eb-32c1-40b1-e3b3-02887f326d7a"
      },
      "source": [
        "val_ratio = 0.2\n",
        "test_ratio = 0.101\n",
        "data_len = len(dataset)\n",
        "test_len = int(data_len * test_ratio)\n",
        "val_len = int(data_len * val_ratio)\n",
        "train_len = data_len - val_len - test_len\n",
        "generator = torch.Generator().manual_seed(42)\n",
        "train_dataset, val_dataset, test_dataset = random_split(\n",
        "    dataset, lengths=(train_len, val_len, test_len), generator=generator)\n",
        "len(train_dataset), len(val_dataset), len(test_dataset)"
      ],
      "execution_count": null,
      "outputs": [
        {
          "output_type": "execute_result",
          "data": {
            "text/plain": [
              "(640, 182, 92)"
            ]
          },
          "metadata": {
            "tags": []
          },
          "execution_count": 47
        }
      ]
    },
    {
      "cell_type": "code",
      "metadata": {
        "id": "VXvLEUjd_kUQ"
      },
      "source": [
        "batch_size = 32\n",
        "\n",
        "train_batch_gen = torch.utils.data.DataLoader(train_dataset, batch_size=batch_size, shuffle=True,collate_fn=collate_fn)\n",
        "val_batch_gen = torch.utils.data.DataLoader(val_dataset, batch_size=batch_size, shuffle=True,collate_fn=collate_fn)\n",
        "test_batch_gen = torch.utils.data.DataLoader(test_dataset, batch_size=batch_size, shuffle=False, collate_fn=collate_fn)"
      ],
      "execution_count": null,
      "outputs": []
    },
    {
      "cell_type": "markdown",
      "metadata": {
        "id": "fiwP0wR_OvmY"
      },
      "source": [
        "### Model 5\n"
      ]
    },
    {
      "cell_type": "markdown",
      "metadata": {
        "id": "yA6kc2Mydmie"
      },
      "source": [
        "This is the simpliest model we used for binary classification, the only difference is that the output size of the linear layer is equal to 10."
      ]
    },
    {
      "cell_type": "code",
      "metadata": {
        "id": "-VEBm9KDW4aM",
        "colab": {
          "base_uri": "https://localhost:8080/"
        },
        "outputId": "885e53d4-bb52-4256-f940-c8c381ed6fa4"
      },
      "source": [
        "model = nn.Sequential()\n",
        "model.add_module('K_max_pooling', K_max_pooling_1d(30))\n",
        "# model.add_module('conv1', nn.Conv1d(in_channels=4096, out_channels=256, \n",
        "#                                     kernel_size=7, stride=1, padding=3))\n",
        "model.add_module('relu1', nn.ReLU())\n",
        "model.add_module('flatteing', nn.Flatten())\n",
        "model.add_module('FC-layer', nn.Linear(122880, 10))\n",
        "\n",
        "\n",
        "summary(model, (32, 4096, 300))"
      ],
      "execution_count": null,
      "outputs": [
        {
          "output_type": "execute_result",
          "data": {
            "text/plain": [
              "==========================================================================================\n",
              "Layer (type:depth-idx)                   Output Shape              Param #\n",
              "==========================================================================================\n",
              "├─K_max_pooling_1d: 1-1                  [32, 4096, 30]            --\n",
              "├─ReLU: 1-2                              [32, 4096, 30]            --\n",
              "├─Flatten: 1-3                           [32, 122880]              --\n",
              "├─Linear: 1-4                            [32, 10]                  1,228,810\n",
              "==========================================================================================\n",
              "Total params: 1,228,810\n",
              "Trainable params: 1,228,810\n",
              "Non-trainable params: 0\n",
              "Total mult-adds (M): 39.32\n",
              "==========================================================================================\n",
              "Input size (MB): 157.29\n",
              "Forward/backward pass size (MB): 0.00\n",
              "Params size (MB): 4.92\n",
              "Estimated Total Size (MB): 162.20\n",
              "=========================================================================================="
            ]
          },
          "metadata": {
            "tags": []
          },
          "execution_count": 49
        }
      ]
    },
    {
      "cell_type": "code",
      "metadata": {
        "colab": {
          "base_uri": "https://localhost:8080/",
          "height": 558
        },
        "id": "vpujAIl9O007",
        "outputId": "8c7bec1b-1a4e-4a88-ec2a-46fa3098dca9"
      },
      "source": [
        "device = \"cuda\" if torch.cuda.is_available() else \"cpu\"\n",
        "model = model.to(device)\n",
        "criterion = nn.CrossEntropyLoss()\n",
        "optimizer = torch.optim.Adam(model.parameters(), lr=0.01)\n",
        "\n",
        "model, history = train(\n",
        "    model, criterion, optimizer, train_batch_gen, val_batch_gen,\n",
        "    \"second_exp\", num_epochs=50)"
      ],
      "execution_count": null,
      "outputs": [
        {
          "output_type": "stream",
          "text": [
            "Epoch 50 of 50 took 9.012s\n",
            "  training loss (in-iteration): \t0.718633\n",
            "  validation loss (in-iteration): \t2.309856\n",
            "  training accuracy: \t\t\t97.34 %\n",
            "  validation accuracy: \t\t\t87.26 %\n"
          ],
          "name": "stdout"
        },
        {
          "output_type": "display_data",
          "data": {
            "image/png": "[encoded data removed]",
            "text/plain": [
              "<Figure size 1440x504 with 2 Axes>"
            ]
          },
          "metadata": {
            "tags": [],
            "needs_background": "light"
          }
        }
      ]
    },
    {
      "cell_type": "code",
      "metadata": {
        "id": "M1Q27IcZPa9H",
        "colab": {
          "base_uri": "https://localhost:8080/"
        },
        "outputId": "16d6ece1-0758-4f14-994f-f15e7179c8f5"
      },
      "source": [
        "test_loss = 0\n",
        "test_acc = 0\n",
        "for X_batch, y_batch in test_batch_gen:\n",
        "    X_batch = torch.transpose(X_batch.squeeze(0), 1, 2).to(device)\n",
        "    y_batch = y_batch.to(device)\n",
        "    \n",
        "    # Логиты, полученные моделью\n",
        "    logits = model(X_batch)\n",
        "    # Лосс на валидации\n",
        "    loss = criterion(logits, y_batch.long().to(device))\n",
        "\n",
        "    # Сохраяняем лоссы и точность на валидации\n",
        "    test_loss += loss.detach().cpu().numpy()\n",
        "    y_pred = logits.max(1)[1].detach().cpu().numpy()\n",
        "    test_acc += np.mean(y_batch.cpu().numpy() == y_pred)\n",
        "\n",
        "  # Подсчитываем лоссы и сохраням в \"историю\"\n",
        "test_loss /= len(test_batch_gen)\n",
        "test_acc /= len(test_batch_gen) \n",
        "print(\"TEST ACC =\", test_acc * 100)"
      ],
      "execution_count": 53,
      "outputs": [
        {
          "output_type": "stream",
          "text": [
            "TEST ACC = 89.28571428571429\n"
          ],
          "name": "stdout"
        }
      ]
    },
    {
      "cell_type": "markdown",
      "metadata": {
        "id": "UdQB3J_6hJOJ"
      },
      "source": [
        "**Conclusion:** 89% accuracy score with 10 balanced classes is not a bad result. It shows that we're on a right track. That there is indeed sense in using BERT here. "
      ]
    },
    {
      "cell_type": "markdown",
      "metadata": {
        "id": "axR9YoaijcxE"
      },
      "source": [
        "### Model 6"
      ]
    },
    {
      "cell_type": "markdown",
      "metadata": {
        "id": "cdAUpHOulmRe"
      },
      "source": [
        "What if we increase k in k-max-pooling from 30 to, say, 120? \n"
      ]
    },
    {
      "cell_type": "code",
      "metadata": {
        "id": "JmfRheFdgfe7",
        "colab": {
          "base_uri": "https://localhost:8080/"
        },
        "outputId": "4dde65fb-2682-45b2-a724-4950e31858b0"
      },
      "source": [
        "model = nn.Sequential()\n",
        "model.add_module('K_max_pooling', K_max_pooling_1d(120))\n",
        "\n",
        "model.add_module('relu2', nn.ReLU())\n",
        "model.add_module('flatteing', nn.Flatten())\n",
        "model.add_module('FC-layer', nn.Linear(491520, 10))\n",
        "\n",
        "\n",
        "summary(model, (32, 4096, 300))"
      ],
      "execution_count": 61,
      "outputs": [
        {
          "output_type": "execute_result",
          "data": {
            "text/plain": [
              "==========================================================================================\n",
              "Layer (type:depth-idx)                   Output Shape              Param #\n",
              "==========================================================================================\n",
              "├─K_max_pooling_1d: 1-1                  [32, 4096, 120]           --\n",
              "├─ReLU: 1-2                              [32, 4096, 120]           --\n",
              "├─Flatten: 1-3                           [32, 491520]              --\n",
              "├─Linear: 1-4                            [32, 10]                  4,915,210\n",
              "==========================================================================================\n",
              "Total params: 4,915,210\n",
              "Trainable params: 4,915,210\n",
              "Non-trainable params: 0\n",
              "Total mult-adds (M): 157.29\n",
              "==========================================================================================\n",
              "Input size (MB): 157.29\n",
              "Forward/backward pass size (MB): 0.00\n",
              "Params size (MB): 19.66\n",
              "Estimated Total Size (MB): 176.95\n",
              "=========================================================================================="
            ]
          },
          "metadata": {
            "tags": []
          },
          "execution_count": 61
        }
      ]
    },
    {
      "cell_type": "code",
      "metadata": {
        "colab": {
          "base_uri": "https://localhost:8080/",
          "height": 559
        },
        "id": "-4Xnk8wojmhR",
        "outputId": "5c9af6f9-1686-4dc2-ee79-6ec78085ee99"
      },
      "source": [
        "device = \"cuda\" if torch.cuda.is_available() else \"cpu\"\n",
        "model = model.to(device)\n",
        "criterion = nn.CrossEntropyLoss()\n",
        "optimizer = torch.optim.Adam(model.parameters(), lr=0.01)\n",
        "\n",
        "model, history = train(\n",
        "    model, criterion, optimizer, train_batch_gen, val_batch_gen,\n",
        "    \"second_exp\", num_epochs=50)"
      ],
      "execution_count": 62,
      "outputs": [
        {
          "output_type": "stream",
          "text": [
            "Epoch 50 of 50 took 9.446s\n",
            "  training loss (in-iteration): \t0.000000\n",
            "  validation loss (in-iteration): \t3.750059\n",
            "  training accuracy: \t\t\t100.00 %\n",
            "  validation accuracy: \t\t\t95.12 %\n"
          ],
          "name": "stdout"
        },
        {
          "output_type": "display_data",
          "data": {
            "image/png": "[encoded data removed]",
            "text/plain": [
              "<Figure size 1440x504 with 2 Axes>"
            ]
          },
          "metadata": {
            "tags": [],
            "needs_background": "light"
          }
        }
      ]
    },
    {
      "cell_type": "code",
      "metadata": {
        "colab": {
          "base_uri": "https://localhost:8080/"
        },
        "id": "RR9JjEJyj7wd",
        "outputId": "3caba529-1a96-4ad9-9fe0-dfddd48d0f48"
      },
      "source": [
        "test_loss = 0\n",
        "test_acc = 0\n",
        "for X_batch, y_batch in test_batch_gen:\n",
        "    X_batch = torch.transpose(X_batch.squeeze(0), 1, 2).to(device)\n",
        "    y_batch = y_batch.to(device)\n",
        "    \n",
        "    # Логиты, полученные моделью\n",
        "    logits = model(X_batch)\n",
        "    # Лосс на валидации\n",
        "    loss = criterion(logits, y_batch.long().to(device))\n",
        "\n",
        "    # Сохраяняем лоссы и точность на валидации\n",
        "    test_loss += loss.detach().cpu().numpy()\n",
        "    y_pred = logits.max(1)[1].detach().cpu().numpy()\n",
        "    test_acc += np.mean(y_batch.cpu().numpy() == y_pred)\n",
        "\n",
        "  # Подсчитываем лоссы и сохраням в \"историю\"\n",
        "test_loss /= len(test_batch_gen)\n",
        "test_acc /= len(test_batch_gen) \n",
        "print(\"TEST ACC =\", test_acc * 100)"
      ],
      "execution_count": 63,
      "outputs": [
        {
          "output_type": "stream",
          "text": [
            "TEST ACC = 93.45238095238096\n"
          ],
          "name": "stdout"
        }
      ]
    },
    {
      "cell_type": "markdown",
      "metadata": {
        "id": "I6njQu3-mBkv"
      },
      "source": [
        "### Model 7\n",
        "\n",
        "How about k = 60?"
      ]
    },
    {
      "cell_type": "code",
      "metadata": {
        "colab": {
          "base_uri": "https://localhost:8080/"
        },
        "id": "qoQ8TRK8l7RE",
        "outputId": "16aee141-ad79-44f0-a876-4ee4f1a80ffa"
      },
      "source": [
        "model = nn.Sequential()\n",
        "model.add_module('K_max_pooling', K_max_pooling_1d(60))\n",
        "\n",
        "model.add_module('relu2', nn.ReLU())\n",
        "model.add_module('flatteing', nn.Flatten())\n",
        "model.add_module('FC-layer', nn.Linear(245760, 10))\n",
        "\n",
        "\n",
        "summary(model, (32, 4096, 300))"
      ],
      "execution_count": 67,
      "outputs": [
        {
          "output_type": "execute_result",
          "data": {
            "text/plain": [
              "==========================================================================================\n",
              "Layer (type:depth-idx)                   Output Shape              Param #\n",
              "==========================================================================================\n",
              "├─K_max_pooling_1d: 1-1                  [32, 4096, 60]            --\n",
              "├─ReLU: 1-2                              [32, 4096, 60]            --\n",
              "├─Flatten: 1-3                           [32, 245760]              --\n",
              "├─Linear: 1-4                            [32, 10]                  2,457,610\n",
              "==========================================================================================\n",
              "Total params: 2,457,610\n",
              "Trainable params: 2,457,610\n",
              "Non-trainable params: 0\n",
              "Total mult-adds (M): 78.64\n",
              "==========================================================================================\n",
              "Input size (MB): 157.29\n",
              "Forward/backward pass size (MB): 0.00\n",
              "Params size (MB): 9.83\n",
              "Estimated Total Size (MB): 167.12\n",
              "=========================================================================================="
            ]
          },
          "metadata": {
            "tags": []
          },
          "execution_count": 67
        }
      ]
    },
    {
      "cell_type": "code",
      "metadata": {
        "colab": {
          "base_uri": "https://localhost:8080/",
          "height": 559
        },
        "id": "Js-KKxBymGMi",
        "outputId": "bf27252d-47b3-4951-8138-c88a4ba64a92"
      },
      "source": [
        "device = \"cuda\" if torch.cuda.is_available() else \"cpu\"\n",
        "model = model.to(device)\n",
        "criterion = nn.CrossEntropyLoss()\n",
        "optimizer = torch.optim.Adam(model.parameters(), lr=0.01)\n",
        "\n",
        "model, history = train(\n",
        "    model, criterion, optimizer, train_batch_gen, val_batch_gen,\n",
        "    \"third_exp\", num_epochs=50)"
      ],
      "execution_count": 68,
      "outputs": [
        {
          "output_type": "stream",
          "text": [
            "Epoch 50 of 50 took 9.420s\n",
            "  training loss (in-iteration): \t0.000003\n",
            "  validation loss (in-iteration): \t2.344956\n",
            "  training accuracy: \t\t\t100.00 %\n",
            "  validation accuracy: \t\t\t97.40 %\n"
          ],
          "name": "stdout"
        },
        {
          "output_type": "display_data",
          "data": {
            "image/png": "[encoded data removed]",
            "text/plain": [
              "<Figure size 1440x504 with 2 Axes>"
            ]
          },
          "metadata": {
            "tags": [],
            "needs_background": "light"
          }
        }
      ]
    },
    {
      "cell_type": "code",
      "metadata": {
        "colab": {
          "base_uri": "https://localhost:8080/"
        },
        "id": "Q_eSKUZ6mOed",
        "outputId": "7943fdc1-c961-4e4b-8e5a-d419bd61a8ee"
      },
      "source": [
        "test_loss = 0\n",
        "test_acc = 0\n",
        "for X_batch, y_batch in test_batch_gen:\n",
        "    X_batch = torch.transpose(X_batch.squeeze(0), 1, 2).to(device)\n",
        "    y_batch = y_batch.to(device)\n",
        "    \n",
        "    # Логиты, полученные моделью\n",
        "    logits = model(X_batch)\n",
        "    # Лосс на валидации\n",
        "    loss = criterion(logits, y_batch.long().to(device))\n",
        "\n",
        "    # Сохраяняем лоссы и точность на валидации\n",
        "    test_loss += loss.detach().cpu().numpy()\n",
        "    y_pred = logits.max(1)[1].detach().cpu().numpy()\n",
        "    test_acc += np.mean(y_batch.cpu().numpy() == y_pred)\n",
        "\n",
        "  # Подсчитываем лоссы и сохраням в \"историю\"\n",
        "test_loss /= len(test_batch_gen)\n",
        "test_acc /= len(test_batch_gen) \n",
        "print(\"TEST ACC =\", test_acc * 100)"
      ],
      "execution_count": 70,
      "outputs": [
        {
          "output_type": "stream",
          "text": [
            "TEST ACC = 93.45238095238096\n"
          ],
          "name": "stdout"
        }
      ]
    },
    {
      "cell_type": "markdown",
      "metadata": {
        "id": "bkp1MLUzrbG8"
      },
      "source": [
        "### Model 8 \n",
        "\n",
        "k = 45"
      ]
    },
    {
      "cell_type": "code",
      "metadata": {
        "colab": {
          "base_uri": "https://localhost:8080/"
        },
        "id": "HigGbKIUqzaD",
        "outputId": "50492460-21ef-46f3-a1d6-60d27adab6fd"
      },
      "source": [
        "model = nn.Sequential()\n",
        "model.add_module('K_max_pooling', K_max_pooling_1d(45))\n",
        "\n",
        "model.add_module('relu2', nn.ReLU())\n",
        "model.add_module('flatteing', nn.Flatten())\n",
        "model.add_module('FC-layer', nn.Linear(184320, 10))\n",
        "\n",
        "\n",
        "summary(model, (32, 4096, 300))"
      ],
      "execution_count": 73,
      "outputs": [
        {
          "output_type": "execute_result",
          "data": {
            "text/plain": [
              "==========================================================================================\n",
              "Layer (type:depth-idx)                   Output Shape              Param #\n",
              "==========================================================================================\n",
              "├─K_max_pooling_1d: 1-1                  [32, 4096, 45]            --\n",
              "├─ReLU: 1-2                              [32, 4096, 45]            --\n",
              "├─Flatten: 1-3                           [32, 184320]              --\n",
              "├─Linear: 1-4                            [32, 10]                  1,843,210\n",
              "==========================================================================================\n",
              "Total params: 1,843,210\n",
              "Trainable params: 1,843,210\n",
              "Non-trainable params: 0\n",
              "Total mult-adds (M): 58.98\n",
              "==========================================================================================\n",
              "Input size (MB): 157.29\n",
              "Forward/backward pass size (MB): 0.00\n",
              "Params size (MB): 7.37\n",
              "Estimated Total Size (MB): 164.66\n",
              "=========================================================================================="
            ]
          },
          "metadata": {
            "tags": []
          },
          "execution_count": 73
        }
      ]
    },
    {
      "cell_type": "code",
      "metadata": {
        "colab": {
          "base_uri": "https://localhost:8080/",
          "height": 559
        },
        "id": "NKJVUYq2resl",
        "outputId": "be41f42a-1542-4cd8-f2f2-7abddbef69a2"
      },
      "source": [
        "device = \"cuda\" if torch.cuda.is_available() else \"cpu\"\n",
        "model = model.to(device)\n",
        "criterion = nn.CrossEntropyLoss()\n",
        "optimizer = torch.optim.Adam(model.parameters(), lr=0.01)\n",
        "\n",
        "model, history = train(\n",
        "    model, criterion, optimizer, train_batch_gen, val_batch_gen,\n",
        "    \"third_exp\", num_epochs=50)"
      ],
      "execution_count": 74,
      "outputs": [
        {
          "output_type": "stream",
          "text": [
            "Epoch 50 of 50 took 9.336s\n",
            "  training loss (in-iteration): \t0.961309\n",
            "  validation loss (in-iteration): \t2.833259\n",
            "  training accuracy: \t\t\t98.44 %\n",
            "  validation accuracy: \t\t\t95.08 %\n"
          ],
          "name": "stdout"
        },
        {
          "output_type": "display_data",
          "data": {
            "image/png": "[encoded data removed]",
            "text/plain": [
              "<Figure size 1440x504 with 2 Axes>"
            ]
          },
          "metadata": {
            "tags": [],
            "needs_background": "light"
          }
        }
      ]
    },
    {
      "cell_type": "code",
      "metadata": {
        "colab": {
          "base_uri": "https://localhost:8080/"
        },
        "id": "LebH1fOjrj7R",
        "outputId": "36699488-e8bc-45f7-89ef-1cda18e35f9e"
      },
      "source": [
        "test_loss = 0\n",
        "test_acc = 0\n",
        "for X_batch, y_batch in test_batch_gen:\n",
        "    X_batch = torch.transpose(X_batch.squeeze(0), 1, 2).to(device)\n",
        "    y_batch = y_batch.to(device)\n",
        "    \n",
        "    # Логиты, полученные моделью\n",
        "    logits = model(X_batch)\n",
        "    # Лосс на валидации\n",
        "    loss = criterion(logits, y_batch.long().to(device))\n",
        "\n",
        "    # Сохраяняем лоссы и точность на валидации\n",
        "    test_loss += loss.detach().cpu().numpy()\n",
        "    y_pred = logits.max(1)[1].detach().cpu().numpy()\n",
        "    test_acc += np.mean(y_batch.cpu().numpy() == y_pred)\n",
        "\n",
        "  # Подсчитываем лоссы и сохраням в \"историю\"\n",
        "test_loss /= len(test_batch_gen)\n",
        "test_acc /= len(test_batch_gen) \n",
        "print(\"TEST ACC =\", test_acc * 100)"
      ],
      "execution_count": 75,
      "outputs": [
        {
          "output_type": "stream",
          "text": [
            "TEST ACC = 91.36904761904762\n"
          ],
          "name": "stdout"
        }
      ]
    },
    {
      "cell_type": "code",
      "metadata": {
        "id": "3W6zW7b5tpHC"
      },
      "source": [
        ""
      ],
      "execution_count": null,
      "outputs": []
    }
  ]
}