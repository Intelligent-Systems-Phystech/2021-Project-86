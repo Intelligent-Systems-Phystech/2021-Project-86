{
 "cells": [
  {
   "cell_type": "markdown",
   "metadata": {},
   "source": [
    "# Basic experiment section\n",
    "\n",
    "This section focuses on performing basic experiment with BERT. Here we use BERT on SCOP2 dataset to generate features and give it to some trivial NN.  \n",
    "\n",
    "Experiment performed here is supposed to proof that there is at least some sense in using BERT (there shall be)."
   ]
  },
  {
   "cell_type": "markdown",
   "metadata": {},
   "source": [
    "## Data preparation\n",
    "\n",
    "Here we just use data preparation module to get sample and target."
   ]
  },
  {
   "cell_type": "code",
   "execution_count": 1,
   "metadata": {
    "ExecuteTime": {
     "end_time": "2021-03-24T12:47:58.330149Z",
     "start_time": "2021-03-24T12:47:54.890121Z"
    }
   },
   "outputs": [],
   "source": [
    "import numpy as np\n",
    "import pandas as pd\n",
    "import matplotlib.pyplot as plt"
   ]
  },
  {
   "cell_type": "code",
   "execution_count": 2,
   "metadata": {
    "ExecuteTime": {
     "end_time": "2021-03-24T12:48:02.759806Z",
     "start_time": "2021-03-24T12:47:58.909907Z"
    }
   },
   "outputs": [],
   "source": [
    "%run \"Data preparation module.ipynb\""
   ]
  },
  {
   "cell_type": "code",
   "execution_count": 3,
   "metadata": {
    "ExecuteTime": {
     "end_time": "2021-03-18T08:04:12.801139Z",
     "start_time": "2021-03-18T08:04:07.031324Z"
    }
   },
   "outputs": [],
   "source": [
    "import torch\n",
    "from transformers import AlbertTokenizer, AutoModel, pipeline\n",
    "import re\n",
    "import os\n",
    "import requests\n",
    "from tqdm.auto import tqdm"
   ]
  },
  {
   "cell_type": "code",
   "execution_count": 7,
   "metadata": {
    "ExecuteTime": {
     "end_time": "2021-03-18T08:08:21.288296Z",
     "start_time": "2021-03-18T08:08:21.280318Z"
    }
   },
   "outputs": [
    {
     "data": {
      "text/plain": [
       "device(type='cpu')"
      ]
     },
     "execution_count": 7,
     "metadata": {},
     "output_type": "execute_result"
    }
   ],
   "source": [
    "torch.device('cpu')"
   ]
  },
  {
   "cell_type": "code",
   "execution_count": 8,
   "metadata": {
    "ExecuteTime": {
     "end_time": "2021-03-18T08:08:29.656566Z",
     "start_time": "2021-03-18T08:08:24.881311Z"
    }
   },
   "outputs": [],
   "source": [
    "tokenizer = AlbertTokenizer.from_pretrained(\"Rostlab/prot_albert\", do_lower_case=False )"
   ]
  },
  {
   "cell_type": "code",
   "execution_count": 9,
   "metadata": {
    "ExecuteTime": {
     "end_time": "2021-03-18T08:08:38.853307Z",
     "start_time": "2021-03-18T08:08:29.658397Z"
    }
   },
   "outputs": [],
   "source": [
    "model = AutoModel.from_pretrained(\"Rostlab/prot_albert\")"
   ]
  },
  {
   "cell_type": "code",
   "execution_count": 11,
   "metadata": {
    "ExecuteTime": {
     "end_time": "2021-03-18T08:08:48.340349Z",
     "start_time": "2021-03-18T08:08:48.326321Z"
    }
   },
   "outputs": [],
   "source": [
    "fe = pipeline('feature-extraction', model=model, tokenizer=tokenizer,device=-1)"
   ]
  },
  {
   "cell_type": "code",
   "execution_count": 3,
   "metadata": {
    "ExecuteTime": {
     "end_time": "2021-03-24T12:48:12.147305Z",
     "start_time": "2021-03-24T12:48:12.129717Z"
    }
   },
   "outputs": [],
   "source": [
    "def scop_seq_to_bert_seq(scop_seq):\n",
    "    \"\"\"\n",
    "    Converts sequences from scop format to prot bert format\n",
    "    \"\"\"\n",
    "    def expand(sequence):\n",
    "        \"\"\"\n",
    "        Expands one sequnce\n",
    "        \"\"\"\n",
    "        return \" \".join(sequence.rstrip())\n",
    "    \n",
    "    return scop_seq.apply(expand)"
   ]
  },
  {
   "cell_type": "code",
   "execution_count": 7,
   "metadata": {
    "ExecuteTime": {
     "end_time": "2021-03-24T12:48:45.973824Z",
     "start_time": "2021-03-24T12:48:45.529989Z"
    }
   },
   "outputs": [],
   "source": [
    "data = prepare_scop_data()"
   ]
  },
  {
   "cell_type": "code",
   "execution_count": 45,
   "metadata": {
    "ExecuteTime": {
     "end_time": "2021-03-18T08:21:59.728721Z",
     "start_time": "2021-03-18T08:21:59.516047Z"
    }
   },
   "outputs": [],
   "source": [
    "sequences = data['sequence']\n",
    "sequences = scop_seq_to_bert_seq(sequences).to_numpy()"
   ]
  },
  {
   "cell_type": "code",
   "execution_count": 49,
   "metadata": {
    "ExecuteTime": {
     "end_time": "2021-03-18T08:24:43.520280Z",
     "start_time": "2021-03-18T08:24:43.496334Z"
    }
   },
   "outputs": [
    {
     "data": {
      "text/html": [
       "<div>\n",
       "<style scoped>\n",
       "    .dataframe tbody tr th:only-of-type {\n",
       "        vertical-align: middle;\n",
       "    }\n",
       "\n",
       "    .dataframe tbody tr th {\n",
       "        vertical-align: top;\n",
       "    }\n",
       "\n",
       "    .dataframe thead th {\n",
       "        text-align: right;\n",
       "    }\n",
       "</style>\n",
       "<table border=\"1\" class=\"dataframe\">\n",
       "  <thead>\n",
       "    <tr style=\"text-align: right;\">\n",
       "      <th></th>\n",
       "      <th>FOLD</th>\n",
       "      <th>sequence</th>\n",
       "    </tr>\n",
       "  </thead>\n",
       "  <tbody>\n",
       "    <tr>\n",
       "      <th>0</th>\n",
       "      <td>1400</td>\n",
       "      <td>DMKRQQRFFRIPFIRPADQYKDPQNKKKGWWYAHFDGPWIARQMEL...</td>\n",
       "    </tr>\n",
       "    <tr>\n",
       "      <th>1</th>\n",
       "      <td>1400</td>\n",
       "      <td>RQREIEMNRQQRFFRIPFIRPADQYKDPQSKKKGWWYAHFDGPWIA...</td>\n",
       "    </tr>\n",
       "    <tr>\n",
       "      <th>2</th>\n",
       "      <td>11</td>\n",
       "      <td>MKIKVALLDKDKEYLDRLTGVFNTKYADKLEVYSFTDEKNAIESVK...</td>\n",
       "    </tr>\n",
       "    <tr>\n",
       "      <th>3</th>\n",
       "      <td>11</td>\n",
       "      <td>QTPHILIVEDELVTRNTLKSIFEAEGYDVFEATDGAEMHQILSEYD...</td>\n",
       "    </tr>\n",
       "    <tr>\n",
       "      <th>4</th>\n",
       "      <td>11</td>\n",
       "      <td>SFERVFGKRVIILGGGALVSQVAIGAISEADRHNLRGERISVDTMP...</td>\n",
       "    </tr>\n",
       "  </tbody>\n",
       "</table>\n",
       "</div>"
      ],
      "text/plain": [
       "   FOLD                                           sequence\n",
       "0  1400  DMKRQQRFFRIPFIRPADQYKDPQNKKKGWWYAHFDGPWIARQMEL...\n",
       "1  1400  RQREIEMNRQQRFFRIPFIRPADQYKDPQSKKKGWWYAHFDGPWIA...\n",
       "2    11  MKIKVALLDKDKEYLDRLTGVFNTKYADKLEVYSFTDEKNAIESVK...\n",
       "3    11  QTPHILIVEDELVTRNTLKSIFEAEGYDVFEATDGAEMHQILSEYD...\n",
       "4    11  SFERVFGKRVIILGGGALVSQVAIGAISEADRHNLRGERISVDTMP..."
      ]
     },
     "execution_count": 49,
     "metadata": {},
     "output_type": "execute_result"
    }
   ],
   "source": [
    "data.head()"
   ]
  },
  {
   "cell_type": "code",
   "execution_count": 50,
   "metadata": {
    "ExecuteTime": {
     "end_time": "2021-03-18T08:24:48.164669Z",
     "start_time": "2021-03-18T08:24:48.150196Z"
    }
   },
   "outputs": [
    {
     "data": {
      "text/plain": [
       "array(['D M K R Q Q R F F R I P F I R P A D Q Y K D P Q N K K K G W W Y A H F D G P W I A R Q M E L H P D K P P I L L V A G K D D M E M C E L N L E E T G L T R K R G A E I L P R Q F E E I W E R C G G I Q Y L Q S A I E S R Q A R P T Y A T A M L Q N L L',\n",
       "       'R Q R E I E M N R Q Q R F F R I P F I R P A D Q Y K D P Q S K K K G W W Y A H F D G P W I A R Q M E L H P D K P P I L L V A G K D D M E M C E L N L E E T G L T R K R G A E I L P R Q F E E I W E R C G G I Q Y L Q N A I E S R Q A R P T Y A T A M L Q S',\n",
       "       'M K I K V A L L D K D K E Y L D R L T G V F N T K Y A D K L E V Y S F T D E K N A I E S V K E Y R I D V L I A E E D F N I D K S E F K R N C G L A Y F T G T P G I E L I K D E I A I C K Y Q R V D V I F K Q I L G V Y S D M A A N V A T',\n",
       "       'Q T P H I L I V E D E L V T R N T L K S I F E A E G Y D V F E A T D G A E M H Q I L S E Y D I N L V I M D I N L P G K N G L L L A R E L R E Q A N V A L M F L T G R D N E V D K I L G L E I G A D D Y I T K P F N P R E L T I R A R N L L S R T M',\n",
       "       'S F E R V F G K R V I I L G G G A L V S Q V A I G A I S E A D R H N L R G E R I S V D T M P V V G E E E I A E A V K A V S R L H R A E V L V L A G G I M G G K I T E E V K K L R K S G I R V I S L S M F G S V P D V A D V V I S D P V M A G T L A V M H I S E K A K F D L D R V K'],\n",
       "      dtype=object)"
      ]
     },
     "execution_count": 50,
     "metadata": {},
     "output_type": "execute_result"
    }
   ],
   "source": [
    "sequences[:5]"
   ]
  },
  {
   "cell_type": "code",
   "execution_count": 53,
   "metadata": {
    "ExecuteTime": {
     "end_time": "2021-03-18T08:28:54.674820Z",
     "start_time": "2021-03-18T08:26:16.587486Z"
    }
   },
   "outputs": [],
   "source": [
    "embedding = fe(list(sequences[:30]))"
   ]
  },
  {
   "cell_type": "markdown",
   "metadata": {
    "ExecuteTime": {
     "end_time": "2021-03-18T08:14:21.556737Z",
     "start_time": "2021-03-18T08:14:21.436106Z"
    }
   },
   "source": [
    "**Probably must use collab... 3mins for 30 sequences while we have 30000 here... nah...**"
   ]
  },
  {
   "cell_type": "code",
   "execution_count": null,
   "metadata": {},
   "outputs": [],
   "source": []
  }
 ],
 "metadata": {
  "kernelspec": {
   "display_name": "Python 3",
   "language": "python",
   "name": "python3"
  },
  "language_info": {
   "codemirror_mode": {
    "name": "ipython",
    "version": 3
   },
   "file_extension": ".py",
   "mimetype": "text/x-python",
   "name": "python",
   "nbconvert_exporter": "python",
   "pygments_lexer": "ipython3",
   "version": "3.7.2"
  }
 },
 "nbformat": 4,
 "nbformat_minor": 2
}
