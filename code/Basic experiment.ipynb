{
 "cells": [
  {
   "cell_type": "markdown",
   "metadata": {},
   "source": [
    "# Basic experiment section\n",
    "\n",
    "This section focuses on performing basic experiment with BERT. Here we use BERT on SCOP2 dataset to generate features and give it to some trivial NN.  \n",
    "\n",
    "Experiment performed here is supposed to proof that there is at least some sense in using BERT (there shall be)."
   ]
  },
  {
   "cell_type": "markdown",
   "metadata": {},
   "source": [
    "## Data preparation\n",
    "\n",
    "Here we just use data preparation module to get sample and target."
   ]
  },
  {
   "cell_type": "code",
   "execution_count": 1,
   "metadata": {
    "ExecuteTime": {
     "end_time": "2021-03-17T17:52:16.948435Z",
     "start_time": "2021-03-17T17:52:15.916505Z"
    }
   },
   "outputs": [],
   "source": [
    "import numpy as np\n",
    "import pandas as pd\n",
    "import matplotlib.pyplot as plt"
   ]
  },
  {
   "cell_type": "code",
   "execution_count": 6,
   "metadata": {
    "ExecuteTime": {
     "end_time": "2021-03-17T11:50:34.810249Z",
     "start_time": "2021-03-17T11:50:30.603124Z"
    }
   },
   "outputs": [],
   "source": [
    "%run \"Data preparation module.ipynb\""
   ]
  },
  {
   "cell_type": "code",
   "execution_count": 1,
   "metadata": {
    "ExecuteTime": {
     "end_time": "2021-03-17T17:37:57.550764Z",
     "start_time": "2021-03-17T17:37:57.522840Z"
    }
   },
   "outputs": [
    {
     "data": {
      "text/plain": [
       "4"
      ]
     },
     "execution_count": 1,
     "metadata": {},
     "output_type": "execute_result"
    }
   ],
   "source": [
    "!conda install pytorch torchvision torchaudio cpuonly -c pytorch"
   ]
  },
  {
   "cell_type": "code",
   "execution_count": 1,
   "metadata": {
    "ExecuteTime": {
     "end_time": "2021-03-17T19:06:24.748560Z",
     "start_time": "2021-03-17T19:06:24.648190Z"
    }
   },
   "outputs": [
    {
     "ename": "ModuleNotFoundError",
     "evalue": "No module named 'torch'",
     "output_type": "error",
     "traceback": [
      "\u001b[1;31m---------------------------------------------------------------------------\u001b[0m",
      "\u001b[1;31mModuleNotFoundError\u001b[0m                       Traceback (most recent call last)",
      "\u001b[1;32m<ipython-input-1-eb42ca6e4af3>\u001b[0m in \u001b[0;36m<module>\u001b[1;34m\u001b[0m\n\u001b[1;32m----> 1\u001b[1;33m \u001b[1;32mimport\u001b[0m \u001b[0mtorch\u001b[0m\u001b[1;33m\u001b[0m\u001b[1;33m\u001b[0m\u001b[0m\n\u001b[0m",
      "\u001b[1;31mModuleNotFoundError\u001b[0m: No module named 'torch'"
     ]
    }
   ],
   "source": [
    "import torch"
   ]
  },
  {
   "cell_type": "code",
   "execution_count": 2,
   "metadata": {
    "ExecuteTime": {
     "end_time": "2021-03-17T18:22:15.454713Z",
     "start_time": "2021-03-17T18:22:15.436773Z"
    }
   },
   "outputs": [
    {
     "name": "stdout",
     "output_type": "stream",
     "text": [
      "D:\\Programms\\miniconda3\\envs\\m1p\n"
     ]
    }
   ],
   "source": [
    "import os\n",
    "print (os.environ['CONDA_PREFIX'])"
   ]
  },
  {
   "cell_type": "code",
   "execution_count": 5,
   "metadata": {
    "ExecuteTime": {
     "end_time": "2021-03-17T18:28:34.086735Z",
     "start_time": "2021-03-17T18:28:32.735781Z"
    }
   },
   "outputs": [
    {
     "name": "stdout",
     "output_type": "stream",
     "text": [
      "# packages in environment at D:\\Programms\\miniconda3\\envs\\m1p:\n",
      "#\n",
      "# Name                    Version                   Build  Channel\n",
      "blas                      1.0                         mkl  \n",
      "certifi                   2020.12.5        py36haa95532_0  \n",
      "cpuonly                   1.0                           0    pytorch\n",
      "dataclasses               0.8                pyh4f3eec9_6  \n",
      "freetype                  2.10.4               hd328e21_0  \n",
      "intel-openmp              2020.2                      254  \n",
      "jpeg                      9b                   hb83a4c4_2  \n",
      "libpng                    1.6.37               h2a8f88b_0  \n",
      "libtiff                   4.2.0                he0120a3_0  \n",
      "libuv                     1.40.0               he774522_0  \n",
      "lz4-c                     1.9.3                h2bbff1b_0  \n",
      "mkl                       2020.2                      256  \n",
      "mkl-service               2.3.0            py36h196d8e1_0  \n",
      "mkl_fft                   1.3.0            py36h46781fe_0  \n",
      "mkl_random                1.1.1            py36h47e9c7a_0  \n",
      "ninja                     1.10.2           py36h6d14046_0  \n",
      "numpy                     1.19.2           py36hadc3359_0  \n",
      "numpy-base                1.19.2           py36ha3acd2a_0  \n",
      "olefile                   0.46                     py36_0  \n",
      "pillow                    8.1.2            py36h4fa10fc_0  \n",
      "pip                       21.0.1           py36haa95532_0  \n",
      "python                    3.6.13               h3758d61_0  \n",
      "pytorch                   1.8.0               py3.6_cpu_0  [cpuonly]  pytorch\n",
      "setuptools                52.0.0           py36haa95532_0  \n",
      "six                       1.15.0           py36haa95532_0  \n",
      "sqlite                    3.35.1               h2bbff1b_0  \n",
      "tk                        8.6.10               he774522_0  \n",
      "torchaudio                0.8.0                      py36    pytorch\n",
      "torchvision               0.9.0                  py36_cpu  [cpuonly]  pytorch\n",
      "typing_extensions         3.7.4.3            pyha847dfd_0  \n",
      "vc                        14.2                 h21ff451_1  \n",
      "vs2015_runtime            14.27.29016          h5e58377_2  \n",
      "wheel                     0.36.2             pyhd3eb1b0_0  \n",
      "wincertstore              0.2              py36h7fe50ca_0  \n",
      "xz                        5.2.5                h62dcd97_0  \n",
      "zlib                      1.2.11               h62dcd97_4  \n",
      "zstd                      1.4.5                h04227a9_0  \n"
     ]
    }
   ],
   "source": [
    "!conda list"
   ]
  },
  {
   "cell_type": "code",
   "execution_count": null,
   "metadata": {},
   "outputs": [],
   "source": []
  }
 ],
 "metadata": {
  "kernelspec": {
   "display_name": "Python 3",
   "language": "python",
   "name": "python3"
  },
  "language_info": {
   "codemirror_mode": {
    "name": "ipython",
    "version": 3
   },
   "file_extension": ".py",
   "mimetype": "text/x-python",
   "name": "python",
   "nbconvert_exporter": "python",
   "pygments_lexer": "ipython3",
   "version": "3.7.2"
  }
 },
 "nbformat": 4,
 "nbformat_minor": 2
}
