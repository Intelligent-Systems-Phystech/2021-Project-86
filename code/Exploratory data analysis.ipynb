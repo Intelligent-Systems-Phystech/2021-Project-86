{
 "cells": [
  {
   "cell_type": "markdown",
   "metadata": {},
   "source": [
    "## Downloading data"
   ]
  },
  {
   "cell_type": "markdown",
   "metadata": {},
   "source": [
    "Source: https://scop2.mrc-lmb.cam.ac.uk/download \n",
    "\n",
    "The following code downloads data and saves it to repositroty data folder."
   ]
  },
  {
   "cell_type": "code",
   "execution_count": 2,
   "metadata": {
    "ExecuteTime": {
     "end_time": "2021-03-13T15:12:11.802808Z",
     "start_time": "2021-03-13T15:12:11.479174Z"
    }
   },
   "outputs": [],
   "source": [
    "import requests"
   ]
  },
  {
   "cell_type": "code",
   "execution_count": 10,
   "metadata": {
    "ExecuteTime": {
     "end_time": "2021-03-17T18:49:58.147951Z",
     "start_time": "2021-03-17T18:49:58.141967Z"
    }
   },
   "outputs": [],
   "source": [
    "urls = ['https://scop2.mrc-lmb.cam.ac.uk/files/scop-cla-latest.txt',\n",
    "       'https://scop2.mrc-lmb.cam.ac.uk/files/scop-des-latest.txt',\n",
    "       'https://scop2.mrc-lmb.cam.ac.uk/files/scop_fa_represeq_lib20210227.fa',\n",
    "       'https://scop2.mrc-lmb.cam.ac.uk/files/scop_sf_represeq_lib20210227.fa']\n",
    "filenames = ['scop-classes-raw.txt', 'scop-des-latest.txt', \n",
    "            'scop_fa_represeq.fa', 'scop_sf_represeq']"
   ]
  },
  {
   "cell_type": "code",
   "execution_count": 17,
   "metadata": {
    "ExecuteTime": {
     "end_time": "2021-03-13T16:03:42.542698Z",
     "start_time": "2021-03-13T16:03:21.863024Z"
    }
   },
   "outputs": [],
   "source": [
    "for i in range(4):\n",
    "    r = requests.get(urls[i], allow_redirects=True)\n",
    "    file= open('./../data/' + filenames[i], 'wb')\n",
    "    file.write(r.content)\n",
    "    file.close()"
   ]
  },
  {
   "cell_type": "markdown",
   "metadata": {},
   "source": [
    "File scop-cla-latest.txt contains unnecessary header that must be deleted."
   ]
  },
  {
   "cell_type": "code",
   "execution_count": 23,
   "metadata": {
    "ExecuteTime": {
     "end_time": "2021-03-13T16:05:55.391293Z",
     "start_time": "2021-03-13T16:05:55.260035Z"
    }
   },
   "outputs": [],
   "source": [
    "scop_classes_raw = open('./../data/' + filenames[0], 'r')\n",
    "lines = scop_classes_raw.readlines()\n",
    "scop_classes_raw.close()\n",
    "scop_classes_transformed = open('./../data/scop-classes.txt', 'w')\n",
    "scop_classes_transformed.write(lines[5][2:])\n",
    "for i in range(6, len(lines)):\n",
    "    scop_classes_transformed.write(lines[i])\n",
    "scop_classes_transformed.close()"
   ]
  },
  {
   "cell_type": "markdown",
   "metadata": {
    "ExecuteTime": {
     "end_time": "2021-03-13T15:10:53.967250Z",
     "start_time": "2021-03-13T15:10:53.949222Z"
    }
   },
   "source": [
    "## Data preprocessing"
   ]
  },
  {
   "cell_type": "code",
   "execution_count": 15,
   "metadata": {
    "ExecuteTime": {
     "end_time": "2021-03-17T18:50:11.622326Z",
     "start_time": "2021-03-17T18:50:11.607616Z"
    }
   },
   "outputs": [],
   "source": [
    "import numpy as np\n",
    "import pandas as pd\n",
    "import matplotlib.pyplot as plt\n",
    "\n",
    "from sklearn import preprocessing"
   ]
  },
  {
   "cell_type": "code",
   "execution_count": 16,
   "metadata": {
    "ExecuteTime": {
     "end_time": "2021-03-17T18:50:12.106169Z",
     "start_time": "2021-03-17T18:50:11.972097Z"
    }
   },
   "outputs": [],
   "source": [
    "classes_df = pd.read_csv('./../data/scop-classes.txt', delimiter = \" \")"
   ]
  },
  {
   "cell_type": "code",
   "execution_count": 17,
   "metadata": {
    "ExecuteTime": {
     "end_time": "2021-03-17T18:50:12.216771Z",
     "start_time": "2021-03-17T18:50:12.186460Z"
    }
   },
   "outputs": [
    {
     "data": {
      "text/html": [
       "<div>\n",
       "<style scoped>\n",
       "    .dataframe tbody tr th:only-of-type {\n",
       "        vertical-align: middle;\n",
       "    }\n",
       "\n",
       "    .dataframe tbody tr th {\n",
       "        vertical-align: top;\n",
       "    }\n",
       "\n",
       "    .dataframe thead th {\n",
       "        text-align: right;\n",
       "    }\n",
       "</style>\n",
       "<table border=\"1\" class=\"dataframe\">\n",
       "  <thead>\n",
       "    <tr style=\"text-align: right;\">\n",
       "      <th></th>\n",
       "      <th>FA-DOMID</th>\n",
       "      <th>FA-PDBID</th>\n",
       "      <th>FA-PDBREG</th>\n",
       "      <th>FA-UNIID</th>\n",
       "      <th>FA-UNIREG</th>\n",
       "      <th>SF-DOMID</th>\n",
       "      <th>SF-PDBID</th>\n",
       "      <th>SF-PDBREG</th>\n",
       "      <th>SF-UNIID</th>\n",
       "      <th>SF-UNIREG</th>\n",
       "      <th>SCOPCLA</th>\n",
       "    </tr>\n",
       "  </thead>\n",
       "  <tbody>\n",
       "    <tr>\n",
       "      <th>0</th>\n",
       "      <td>8045703</td>\n",
       "      <td>3H8D</td>\n",
       "      <td>C:1143-1264</td>\n",
       "      <td>Q64331</td>\n",
       "      <td>1143-1264</td>\n",
       "      <td>8091604</td>\n",
       "      <td>3H8D</td>\n",
       "      <td>C:1143-1264</td>\n",
       "      <td>Q64331</td>\n",
       "      <td>1143-1264</td>\n",
       "      <td>TP=1,CL=1000003,CF=2001470,SF=3002524,FA=4004627</td>\n",
       "    </tr>\n",
       "    <tr>\n",
       "      <th>1</th>\n",
       "      <td>8094330</td>\n",
       "      <td>6J56</td>\n",
       "      <td>A:1158-1282</td>\n",
       "      <td>Q9UM54</td>\n",
       "      <td>1167-1291</td>\n",
       "      <td>8094331</td>\n",
       "      <td>6J56</td>\n",
       "      <td>A:1158-1282</td>\n",
       "      <td>Q9UM54</td>\n",
       "      <td>1167-1291</td>\n",
       "      <td>TP=1,CL=1000003,CF=2001470,SF=3002524,FA=4004627</td>\n",
       "    </tr>\n",
       "    <tr>\n",
       "      <th>2</th>\n",
       "      <td>8017835</td>\n",
       "      <td>3FKQ</td>\n",
       "      <td>A:1-116</td>\n",
       "      <td>D0VX10</td>\n",
       "      <td>1-116</td>\n",
       "      <td>8017836</td>\n",
       "      <td>3FKQ</td>\n",
       "      <td>A:1-116</td>\n",
       "      <td>D0VX10</td>\n",
       "      <td>1-116</td>\n",
       "      <td>TP=1,CL=1000002,CF=2000016,SF=3001156,FA=4003986</td>\n",
       "    </tr>\n",
       "    <tr>\n",
       "      <th>3</th>\n",
       "      <td>8021315</td>\n",
       "      <td>1XHF</td>\n",
       "      <td>A:2-122</td>\n",
       "      <td>P0A9Q1</td>\n",
       "      <td>2-122</td>\n",
       "      <td>8033695</td>\n",
       "      <td>1XHF</td>\n",
       "      <td>A:2-122</td>\n",
       "      <td>P0A9Q1</td>\n",
       "      <td>2-122</td>\n",
       "      <td>TP=1,CL=1000002,CF=2000016,SF=3001156,FA=4003632</td>\n",
       "    </tr>\n",
       "    <tr>\n",
       "      <th>4</th>\n",
       "      <td>8021787</td>\n",
       "      <td>1Y7P</td>\n",
       "      <td>B:79-215</td>\n",
       "      <td>O28869</td>\n",
       "      <td>79-215</td>\n",
       "      <td>8034167</td>\n",
       "      <td>1Y7P</td>\n",
       "      <td>B:79-215</td>\n",
       "      <td>O28869</td>\n",
       "      <td>79-215</td>\n",
       "      <td>TP=1,CL=1000002,CF=2000016,SF=3001156,FA=4002481</td>\n",
       "    </tr>\n",
       "  </tbody>\n",
       "</table>\n",
       "</div>"
      ],
      "text/plain": [
       "   FA-DOMID FA-PDBID    FA-PDBREG FA-UNIID  FA-UNIREG  SF-DOMID SF-PDBID  \\\n",
       "0   8045703     3H8D  C:1143-1264   Q64331  1143-1264   8091604     3H8D   \n",
       "1   8094330     6J56  A:1158-1282   Q9UM54  1167-1291   8094331     6J56   \n",
       "2   8017835     3FKQ      A:1-116   D0VX10      1-116   8017836     3FKQ   \n",
       "3   8021315     1XHF      A:2-122   P0A9Q1      2-122   8033695     1XHF   \n",
       "4   8021787     1Y7P     B:79-215   O28869     79-215   8034167     1Y7P   \n",
       "\n",
       "     SF-PDBREG SF-UNIID  SF-UNIREG  \\\n",
       "0  C:1143-1264   Q64331  1143-1264   \n",
       "1  A:1158-1282   Q9UM54  1167-1291   \n",
       "2      A:1-116   D0VX10      1-116   \n",
       "3      A:2-122   P0A9Q1      2-122   \n",
       "4     B:79-215   O28869     79-215   \n",
       "\n",
       "                                            SCOPCLA  \n",
       "0  TP=1,CL=1000003,CF=2001470,SF=3002524,FA=4004627  \n",
       "1  TP=1,CL=1000003,CF=2001470,SF=3002524,FA=4004627  \n",
       "2  TP=1,CL=1000002,CF=2000016,SF=3001156,FA=4003986  \n",
       "3  TP=1,CL=1000002,CF=2000016,SF=3001156,FA=4003632  \n",
       "4  TP=1,CL=1000002,CF=2000016,SF=3001156,FA=4002481  "
      ]
     },
     "execution_count": 17,
     "metadata": {},
     "output_type": "execute_result"
    }
   ],
   "source": [
    "classes_df.head()"
   ]
  },
  {
   "cell_type": "markdown",
   "metadata": {},
   "source": [
    "Classification file contains a lot of irrelevant information. For this research we need only FA-DOMID and SCOPCLA.CF fields. "
   ]
  },
  {
   "cell_type": "code",
   "execution_count": 18,
   "metadata": {
    "ExecuteTime": {
     "end_time": "2021-03-17T18:50:14.348976Z",
     "start_time": "2021-03-17T18:50:14.239242Z"
    }
   },
   "outputs": [
    {
     "data": {
      "text/html": [
       "<div>\n",
       "<style scoped>\n",
       "    .dataframe tbody tr th:only-of-type {\n",
       "        vertical-align: middle;\n",
       "    }\n",
       "\n",
       "    .dataframe tbody tr th {\n",
       "        vertical-align: top;\n",
       "    }\n",
       "\n",
       "    .dataframe thead th {\n",
       "        text-align: right;\n",
       "    }\n",
       "</style>\n",
       "<table border=\"1\" class=\"dataframe\">\n",
       "  <thead>\n",
       "    <tr style=\"text-align: right;\">\n",
       "      <th></th>\n",
       "      <th>FA-DOMID</th>\n",
       "      <th>FOLD-RAW</th>\n",
       "    </tr>\n",
       "  </thead>\n",
       "  <tbody>\n",
       "    <tr>\n",
       "      <th>0</th>\n",
       "      <td>8045703</td>\n",
       "      <td>2001470</td>\n",
       "    </tr>\n",
       "    <tr>\n",
       "      <th>1</th>\n",
       "      <td>8094330</td>\n",
       "      <td>2001470</td>\n",
       "    </tr>\n",
       "    <tr>\n",
       "      <th>2</th>\n",
       "      <td>8017835</td>\n",
       "      <td>2000016</td>\n",
       "    </tr>\n",
       "    <tr>\n",
       "      <th>3</th>\n",
       "      <td>8021315</td>\n",
       "      <td>2000016</td>\n",
       "    </tr>\n",
       "    <tr>\n",
       "      <th>4</th>\n",
       "      <td>8021787</td>\n",
       "      <td>2000016</td>\n",
       "    </tr>\n",
       "  </tbody>\n",
       "</table>\n",
       "</div>"
      ],
      "text/plain": [
       "   FA-DOMID FOLD-RAW\n",
       "0   8045703  2001470\n",
       "1   8094330  2001470\n",
       "2   8017835  2000016\n",
       "3   8021315  2000016\n",
       "4   8021787  2000016"
      ]
     },
     "execution_count": 18,
     "metadata": {},
     "output_type": "execute_result"
    }
   ],
   "source": [
    "classes_df = classes_df.loc[:, [\"FA-DOMID\", \"SCOPCLA\"]]\n",
    "classes_df['FOLD-RAW']=classes_df['SCOPCLA'].str.extract(r'.*CF=(\\d+).*')\n",
    "classes_df = classes_df.drop(\"SCOPCLA\", axis = 1)\n",
    "classes_df.head()"
   ]
  },
  {
   "cell_type": "code",
   "execution_count": 19,
   "metadata": {
    "ExecuteTime": {
     "end_time": "2021-03-17T18:50:15.439884Z",
     "start_time": "2021-03-17T18:50:15.412948Z"
    }
   },
   "outputs": [
    {
     "data": {
      "text/html": [
       "<div>\n",
       "<style scoped>\n",
       "    .dataframe tbody tr th:only-of-type {\n",
       "        vertical-align: middle;\n",
       "    }\n",
       "\n",
       "    .dataframe tbody tr th {\n",
       "        vertical-align: top;\n",
       "    }\n",
       "\n",
       "    .dataframe thead th {\n",
       "        text-align: right;\n",
       "    }\n",
       "</style>\n",
       "<table border=\"1\" class=\"dataframe\">\n",
       "  <thead>\n",
       "    <tr style=\"text-align: right;\">\n",
       "      <th></th>\n",
       "      <th>FA-DOMID</th>\n",
       "      <th>FOLD</th>\n",
       "    </tr>\n",
       "  </thead>\n",
       "  <tbody>\n",
       "    <tr>\n",
       "      <th>0</th>\n",
       "      <td>8045703</td>\n",
       "      <td>1400</td>\n",
       "    </tr>\n",
       "    <tr>\n",
       "      <th>1</th>\n",
       "      <td>8094330</td>\n",
       "      <td>1400</td>\n",
       "    </tr>\n",
       "    <tr>\n",
       "      <th>2</th>\n",
       "      <td>8017835</td>\n",
       "      <td>11</td>\n",
       "    </tr>\n",
       "    <tr>\n",
       "      <th>3</th>\n",
       "      <td>8021315</td>\n",
       "      <td>11</td>\n",
       "    </tr>\n",
       "    <tr>\n",
       "      <th>4</th>\n",
       "      <td>8021787</td>\n",
       "      <td>11</td>\n",
       "    </tr>\n",
       "  </tbody>\n",
       "</table>\n",
       "</div>"
      ],
      "text/plain": [
       "   FA-DOMID  FOLD\n",
       "0   8045703  1400\n",
       "1   8094330  1400\n",
       "2   8017835    11\n",
       "3   8021315    11\n",
       "4   8021787    11"
      ]
     },
     "execution_count": 19,
     "metadata": {},
     "output_type": "execute_result"
    }
   ],
   "source": [
    "le = preprocessing.LabelEncoder()\n",
    "folds = le.fit_transform(classes_df[\"FOLD-RAW\"])\n",
    "classes_df[\"FOLD\"] = folds\n",
    "del classes_df[\"FOLD-RAW\"]\n",
    "classes_df.head()"
   ]
  },
  {
   "cell_type": "code",
   "execution_count": 20,
   "metadata": {
    "ExecuteTime": {
     "end_time": "2021-03-17T18:50:16.266187Z",
     "start_time": "2021-03-17T18:50:16.258208Z"
    }
   },
   "outputs": [
    {
     "name": "stdout",
     "output_type": "stream",
     "text": [
      "There are 1517 known folds\n"
     ]
    }
   ],
   "source": [
    "print(\"There are {} known folds\".format(np.unique(folds).size))"
   ]
  },
  {
   "cell_type": "code",
   "execution_count": 21,
   "metadata": {
    "ExecuteTime": {
     "end_time": "2021-03-17T18:50:17.336623Z",
     "start_time": "2021-03-17T18:50:16.900021Z"
    }
   },
   "outputs": [],
   "source": [
    "scop_fa_rep_raw = open('./../data/' + filenames[2], 'r')\n",
    "fa_lines = scop_fa_rep_raw.readlines()\n",
    "scop_fa_rep_raw.close()"
   ]
  },
  {
   "cell_type": "code",
   "execution_count": 22,
   "metadata": {
    "ExecuteTime": {
     "end_time": "2021-03-17T18:50:17.990082Z",
     "start_time": "2021-03-17T18:50:17.979957Z"
    }
   },
   "outputs": [],
   "source": [
    "def parse_representation_file(filename):\n",
    "    '''\n",
    "    Returns data extracted from .fa representation file.\n",
    "\n",
    "            Parameters:\n",
    "                    filename (str): Name of the file\n",
    "\n",
    "            Returns:\n",
    "                    df (pd.DataFrame): Extracted data\n",
    "    '''\n",
    "    scop_fa_rep_raw = open(filename, 'r')\n",
    "    fa_lines = scop_fa_rep_raw.readlines()\n",
    "    scop_fa_rep_raw.close()\n",
    "    assert(len(fa_lines) % 2 == 0), \"WRONG FILE REPRESENTATION\"\n",
    "    info = fa_lines[::2]\n",
    "    sequences = fa_lines[1::2]\n",
    "\n",
    "    data = {'info': info,\n",
    "            'sequence': sequences\n",
    "            }\n",
    "    df = pd.DataFrame(data, columns = ['info', 'sequence'])\n",
    "    df['id']=df['info'].str.extract(r'>(\\d+).*')\n",
    "    return df.drop(\"info\", axis = 1)\n"
   ]
  },
  {
   "cell_type": "code",
   "execution_count": 23,
   "metadata": {
    "ExecuteTime": {
     "end_time": "2021-03-17T18:50:18.784025Z",
     "start_time": "2021-03-17T18:50:18.637687Z"
    }
   },
   "outputs": [
    {
     "data": {
      "text/html": [
       "<div>\n",
       "<style scoped>\n",
       "    .dataframe tbody tr th:only-of-type {\n",
       "        vertical-align: middle;\n",
       "    }\n",
       "\n",
       "    .dataframe tbody tr th {\n",
       "        vertical-align: top;\n",
       "    }\n",
       "\n",
       "    .dataframe thead th {\n",
       "        text-align: right;\n",
       "    }\n",
       "</style>\n",
       "<table border=\"1\" class=\"dataframe\">\n",
       "  <thead>\n",
       "    <tr style=\"text-align: right;\">\n",
       "      <th></th>\n",
       "      <th>sequence</th>\n",
       "      <th>id</th>\n",
       "    </tr>\n",
       "  </thead>\n",
       "  <tbody>\n",
       "    <tr>\n",
       "      <th>0</th>\n",
       "      <td>NERILLVDDDYSLLNTLKRNLSFDFEVTTCESGPEALACIKKSDPF...</td>\n",
       "      <td>8072807</td>\n",
       "    </tr>\n",
       "    <tr>\n",
       "      <th>1</th>\n",
       "      <td>SKPRGINYDTGIPFNVLIVDDSVFTVKQLTQIFTSEGFNIIDTAAD...</td>\n",
       "      <td>8072797</td>\n",
       "    </tr>\n",
       "    <tr>\n",
       "      <th>2</th>\n",
       "      <td>TDETAFLNSLFMDFTSENELELFLKSLDEVWSEDLYSRLSAAGLIR...</td>\n",
       "      <td>8022848</td>\n",
       "    </tr>\n",
       "    <tr>\n",
       "      <th>3</th>\n",
       "      <td>PTNPLTLIVATTPIPTREKTLLGIGLNGTLPWPRIKADMSFFARVT...</td>\n",
       "      <td>8097333</td>\n",
       "    </tr>\n",
       "    <tr>\n",
       "      <th>4</th>\n",
       "      <td>DWGTLQTILGGVNKHSTSIGKIWLTVLFIFRIMILVVAAKEVWGDE...</td>\n",
       "      <td>8047374</td>\n",
       "    </tr>\n",
       "  </tbody>\n",
       "</table>\n",
       "</div>"
      ],
      "text/plain": [
       "                                            sequence       id\n",
       "0  NERILLVDDDYSLLNTLKRNLSFDFEVTTCESGPEALACIKKSDPF...  8072807\n",
       "1  SKPRGINYDTGIPFNVLIVDDSVFTVKQLTQIFTSEGFNIIDTAAD...  8072797\n",
       "2  TDETAFLNSLFMDFTSENELELFLKSLDEVWSEDLYSRLSAAGLIR...  8022848\n",
       "3  PTNPLTLIVATTPIPTREKTLLGIGLNGTLPWPRIKADMSFFARVT...  8097333\n",
       "4  DWGTLQTILGGVNKHSTSIGKIWLTVLFIFRIMILVVAAKEVWGDE...  8047374"
      ]
     },
     "execution_count": 23,
     "metadata": {},
     "output_type": "execute_result"
    }
   ],
   "source": [
    "sequences_df = parse_representation_file('./../data/' + filenames[2])\n",
    "sequences_df.head()"
   ]
  },
  {
   "cell_type": "markdown",
   "metadata": {},
   "source": [
    "## Data visualization"
   ]
  },
  {
   "cell_type": "markdown",
   "metadata": {},
   "source": [
    "There are more than 1.5k known folds. Here we visualize the distribution of number of proteins contained in each fold"
   ]
  },
  {
   "cell_type": "code",
   "execution_count": 24,
   "metadata": {
    "ExecuteTime": {
     "end_time": "2021-03-17T18:50:22.298684Z",
     "start_time": "2021-03-17T18:50:22.270945Z"
    }
   },
   "outputs": [
    {
     "name": "stdout",
     "output_type": "stream",
     "text": [
      "[407  38 302 ...   2   1   1]\n",
      "      FA-DOMID\n",
      "FOLD          \n",
      "0          407\n",
      "1           38\n",
      "2          302\n",
      "3           66\n",
      "4           29\n"
     ]
    }
   ],
   "source": [
    "counts = classes_df.groupby(by = \"FOLD\").count()\n",
    "counts_arr = counts.to_numpy().reshape(-1)\n",
    "print(counts_arr)\n",
    "print(counts.head())"
   ]
  },
  {
   "cell_type": "code",
   "execution_count": 25,
   "metadata": {
    "ExecuteTime": {
     "end_time": "2021-03-17T18:50:22.956926Z",
     "start_time": "2021-03-17T18:50:22.669388Z"
    }
   },
   "outputs": [
    {
     "data": {
      "image/png": "[encoded data removed]",
      "text/plain": [
       "<Figure size 864x576 with 1 Axes>"
      ]
     },
     "metadata": {
      "needs_background": "light"
     },
     "output_type": "display_data"
    }
   ],
   "source": [
    "plt.figure(figsize = (12, 8))\n",
    "plt.scatter(np.arange(1, 1518), counts, facecolor = 'aquamarine', alpha = 0.55)\n",
    "plt.xlabel('Fold id')\n",
    "plt.ylabel('Elements in fold')\n",
    "plt.title('Plot of elements per fold')\n",
    "plt.grid(True)\n",
    "plt.ylim([0, 300])\n",
    "plt.show()"
   ]
  },
  {
   "cell_type": "code",
   "execution_count": 26,
   "metadata": {
    "ExecuteTime": {
     "end_time": "2021-03-17T18:50:24.063277Z",
     "start_time": "2021-03-17T18:50:23.752508Z"
    }
   },
   "outputs": [
    {
     "data": {
      "image/png": "[encoded data removed]",
      "text/plain": [
       "<Figure size 864x576 with 1 Axes>"
      ]
     },
     "metadata": {
      "needs_background": "light"
     },
     "output_type": "display_data"
    }
   ],
   "source": [
    "plt.figure(figsize = (12, 8))\n",
    "plt.hist(counts_arr, bins = 40, density=False, facecolor='teal', alpha=0.41)\n",
    "\n",
    "plt.xlabel('Proteins in the fold')\n",
    "plt.ylabel('Number of folds')\n",
    "plt.title('Histogram of protein count distribution')\n",
    "plt.grid(True)\n",
    "plt.show()"
   ]
  },
  {
   "cell_type": "code",
   "execution_count": 27,
   "metadata": {
    "ExecuteTime": {
     "end_time": "2021-03-17T18:50:26.532840Z",
     "start_time": "2021-03-17T18:50:26.125550Z"
    }
   },
   "outputs": [
    {
     "data": {
      "image/png": "[encoded data removed]",
      "text/plain": [
       "<Figure size 864x576 with 1 Axes>"
      ]
     },
     "metadata": {
      "needs_background": "light"
     },
     "output_type": "display_data"
    }
   ],
   "source": [
    "plt.figure(figsize = (12, 8))\n",
    "plt.hist(counts_arr, bins = 100, density=False, facecolor='teal', alpha=0.41)\n",
    "\n",
    "plt.xlabel('Proteins in the fold')\n",
    "plt.ylabel('Number of folds')\n",
    "plt.title('Zoomed histogram of protein count distribution')\n",
    "plt.grid(True)\n",
    "plt.ylim([0, 200])\n",
    "plt.xlim([0, 200])\n",
    "plt.show()"
   ]
  },
  {
   "cell_type": "markdown",
   "metadata": {},
   "source": [
    "*Conclusion:* most of the folds have less than 25 elements in them, and in  rare cases the number of elements exceeds 200. "
   ]
  },
  {
   "cell_type": "markdown",
   "metadata": {},
   "source": [
    "It's interesting to analyze sequences' length. "
   ]
  },
  {
   "cell_type": "code",
   "execution_count": 28,
   "metadata": {
    "ExecuteTime": {
     "end_time": "2021-03-17T18:50:33.631533Z",
     "start_time": "2021-03-17T18:50:33.606545Z"
    }
   },
   "outputs": [],
   "source": [
    "sequences = sequences_df.loc[:, \"sequence\"]\n",
    "lengths = sequences.apply(lambda x:  len(x))"
   ]
  },
  {
   "cell_type": "code",
   "execution_count": 47,
   "metadata": {
    "ExecuteTime": {
     "end_time": "2021-03-17T08:09:38.404862Z",
     "start_time": "2021-03-17T08:09:38.113695Z"
    }
   },
   "outputs": [
    {
     "data": {
      "image/png": "[encoded data removed]",
      "text/plain": [
       "<Figure size 864x576 with 1 Axes>"
      ]
     },
     "metadata": {
      "needs_background": "light"
     },
     "output_type": "display_data"
    }
   ],
   "source": [
    "plt.figure(figsize = (12, 8))\n",
    "plt.hist(lengths, bins = 60, density=False, facecolor='purple', alpha=0.55)\n",
    "\n",
    "plt.xlabel('Length')\n",
    "plt.ylabel('Number of elements')\n",
    "plt.title('Histogram of sequence lengths')\n",
    "plt.grid(True)\n",
    "plt.show()"
   ]
  },
  {
   "cell_type": "markdown",
   "metadata": {},
   "source": [
    "*Conclusion:* length of most sequences lies between 50 and 400. It looks like $\\sim$Poisson distributed data, but it is irrelevant for our purposes."
   ]
  },
  {
   "cell_type": "code",
   "execution_count": null,
   "metadata": {},
   "outputs": [],
   "source": []
  }
 ],
 "metadata": {
  "kernelspec": {
   "display_name": "Python 3",
   "language": "python",
   "name": "python3"
  },
  "language_info": {
   "codemirror_mode": {
    "name": "ipython",
    "version": 3
   },
   "file_extension": ".py",
   "mimetype": "text/x-python",
   "name": "python",
   "nbconvert_exporter": "python",
   "pygments_lexer": "ipython3",
   "version": "3.8.7"
  }
 },
 "nbformat": 4,
 "nbformat_minor": 2
}
