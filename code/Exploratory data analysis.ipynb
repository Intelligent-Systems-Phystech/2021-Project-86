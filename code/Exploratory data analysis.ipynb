{
 "cells": [
  {
   "cell_type": "markdown",
   "metadata": {},
   "source": [
    "## Downloading data"
   ]
  },
  {
   "cell_type": "markdown",
   "metadata": {},
   "source": [
    "Source: https://scop2.mrc-lmb.cam.ac.uk/download \n",
    "\n",
    "The following code downloads data and saves it to repositroty data folder."
   ]
  },
  {
   "cell_type": "code",
   "execution_count": 2,
   "metadata": {
    "ExecuteTime": {
     "end_time": "2021-03-13T15:12:11.802808Z",
     "start_time": "2021-03-13T15:12:11.479174Z"
    }
   },
   "outputs": [],
   "source": [
    "import requests"
   ]
  },
  {
   "cell_type": "code",
   "execution_count": 17,
   "metadata": {
    "ExecuteTime": {
     "end_time": "2021-03-13T16:03:42.542698Z",
     "start_time": "2021-03-13T16:03:21.863024Z"
    }
   },
   "outputs": [],
   "source": [
    "urls = ['https://scop2.mrc-lmb.cam.ac.uk/files/scop-cla-latest.txt',\n",
    "       'https://scop2.mrc-lmb.cam.ac.uk/files/scop-des-latest.txt',\n",
    "       'https://scop2.mrc-lmb.cam.ac.uk/files/scop_fa_represeq_lib20210227.fa',\n",
    "       'https://scop2.mrc-lmb.cam.ac.uk/files/scop_sf_represeq_lib20210227.fa']\n",
    "filenames = ['scop-classes-raw.txt', 'scop-des-latest.txt', \n",
    "            'scop_fa_represeq.fa', 'scop_sf_represeq']\n",
    "for i in range(4):\n",
    "    r = requests.get(urls[i], allow_redirects=True)\n",
    "    file= open('./../data/' + filenames[i], 'wb')\n",
    "    file.write(r.content)\n",
    "    file.close()"
   ]
  },
  {
   "cell_type": "markdown",
   "metadata": {},
   "source": [
    "File scop-cla-latest.txt contains unnecessary header that must be deleted."
   ]
  },
  {
   "cell_type": "code",
   "execution_count": 23,
   "metadata": {
    "ExecuteTime": {
     "end_time": "2021-03-13T16:05:55.391293Z",
     "start_time": "2021-03-13T16:05:55.260035Z"
    }
   },
   "outputs": [],
   "source": [
    "scop_classes_raw = open('./../data/' + filenames[0], 'r')\n",
    "lines = scop_classes_raw.readlines()\n",
    "scop_classes_raw.close()\n",
    "scop_classes_transformed = open('./../data/scop-classes.txt', 'w')\n",
    "scop_classes_transformed.write(lines[5][2:])\n",
    "for i in range(6, len(lines)):\n",
    "    scop_classes_transformed.write(lines[i])\n",
    "scop_classes_transformed.close()"
   ]
  },
  {
   "cell_type": "markdown",
   "metadata": {
    "ExecuteTime": {
     "end_time": "2021-03-13T15:10:53.967250Z",
     "start_time": "2021-03-13T15:10:53.949222Z"
    }
   },
   "source": [
    "## Data preprocessing"
   ]
  },
  {
   "cell_type": "code",
   "execution_count": 52,
   "metadata": {
    "ExecuteTime": {
     "end_time": "2021-03-13T16:59:21.868253Z",
     "start_time": "2021-03-13T16:59:18.196498Z"
    }
   },
   "outputs": [],
   "source": [
    "import numpy as np\n",
    "import pandas as pd\n",
    "import matplotlib.pyplot as plt\n",
    "\n",
    "from sklearn import preprocessing"
   ]
  },
  {
   "cell_type": "code",
   "execution_count": 53,
   "metadata": {
    "ExecuteTime": {
     "end_time": "2021-03-13T17:00:01.959679Z",
     "start_time": "2021-03-13T17:00:01.681005Z"
    }
   },
   "outputs": [],
   "source": [
    "classes_df = pd.read_csv('./../data/scop-classes.txt', delimiter = \" \")"
   ]
  },
  {
   "cell_type": "code",
   "execution_count": 54,
   "metadata": {
    "ExecuteTime": {
     "end_time": "2021-03-13T17:00:02.354823Z",
     "start_time": "2021-03-13T17:00:02.314233Z"
    }
   },
   "outputs": [
    {
     "data": {
      "text/html": [
       "<div>\n",
       "<style scoped>\n",
       "    .dataframe tbody tr th:only-of-type {\n",
       "        vertical-align: middle;\n",
       "    }\n",
       "\n",
       "    .dataframe tbody tr th {\n",
       "        vertical-align: top;\n",
       "    }\n",
       "\n",
       "    .dataframe thead th {\n",
       "        text-align: right;\n",
       "    }\n",
       "</style>\n",
       "<table border=\"1\" class=\"dataframe\">\n",
       "  <thead>\n",
       "    <tr style=\"text-align: right;\">\n",
       "      <th></th>\n",
       "      <th>FA-DOMID</th>\n",
       "      <th>FA-PDBID</th>\n",
       "      <th>FA-PDBREG</th>\n",
       "      <th>FA-UNIID</th>\n",
       "      <th>FA-UNIREG</th>\n",
       "      <th>SF-DOMID</th>\n",
       "      <th>SF-PDBID</th>\n",
       "      <th>SF-PDBREG</th>\n",
       "      <th>SF-UNIID</th>\n",
       "      <th>SF-UNIREG</th>\n",
       "      <th>SCOPCLA</th>\n",
       "    </tr>\n",
       "  </thead>\n",
       "  <tbody>\n",
       "    <tr>\n",
       "      <th>0</th>\n",
       "      <td>8045703</td>\n",
       "      <td>3H8D</td>\n",
       "      <td>C:1143-1264</td>\n",
       "      <td>Q64331</td>\n",
       "      <td>1143-1264</td>\n",
       "      <td>8091604</td>\n",
       "      <td>3H8D</td>\n",
       "      <td>C:1143-1264</td>\n",
       "      <td>Q64331</td>\n",
       "      <td>1143-1264</td>\n",
       "      <td>TP=1,CL=1000003,CF=2001470,SF=3002524,FA=4004627</td>\n",
       "    </tr>\n",
       "    <tr>\n",
       "      <th>1</th>\n",
       "      <td>8094330</td>\n",
       "      <td>6J56</td>\n",
       "      <td>A:1158-1282</td>\n",
       "      <td>Q9UM54</td>\n",
       "      <td>1167-1291</td>\n",
       "      <td>8094331</td>\n",
       "      <td>6J56</td>\n",
       "      <td>A:1158-1282</td>\n",
       "      <td>Q9UM54</td>\n",
       "      <td>1167-1291</td>\n",
       "      <td>TP=1,CL=1000003,CF=2001470,SF=3002524,FA=4004627</td>\n",
       "    </tr>\n",
       "    <tr>\n",
       "      <th>2</th>\n",
       "      <td>8017835</td>\n",
       "      <td>3FKQ</td>\n",
       "      <td>A:1-116</td>\n",
       "      <td>D0VX10</td>\n",
       "      <td>1-116</td>\n",
       "      <td>8017836</td>\n",
       "      <td>3FKQ</td>\n",
       "      <td>A:1-116</td>\n",
       "      <td>D0VX10</td>\n",
       "      <td>1-116</td>\n",
       "      <td>TP=1,CL=1000002,CF=2000016,SF=3001156,FA=4003986</td>\n",
       "    </tr>\n",
       "    <tr>\n",
       "      <th>3</th>\n",
       "      <td>8021315</td>\n",
       "      <td>1XHF</td>\n",
       "      <td>A:2-122</td>\n",
       "      <td>P0A9Q1</td>\n",
       "      <td>2-122</td>\n",
       "      <td>8033695</td>\n",
       "      <td>1XHF</td>\n",
       "      <td>A:2-122</td>\n",
       "      <td>P0A9Q1</td>\n",
       "      <td>2-122</td>\n",
       "      <td>TP=1,CL=1000002,CF=2000016,SF=3001156,FA=4003632</td>\n",
       "    </tr>\n",
       "    <tr>\n",
       "      <th>4</th>\n",
       "      <td>8021787</td>\n",
       "      <td>1Y7P</td>\n",
       "      <td>B:79-215</td>\n",
       "      <td>O28869</td>\n",
       "      <td>79-215</td>\n",
       "      <td>8034167</td>\n",
       "      <td>1Y7P</td>\n",
       "      <td>B:79-215</td>\n",
       "      <td>O28869</td>\n",
       "      <td>79-215</td>\n",
       "      <td>TP=1,CL=1000002,CF=2000016,SF=3001156,FA=4002481</td>\n",
       "    </tr>\n",
       "  </tbody>\n",
       "</table>\n",
       "</div>"
      ],
      "text/plain": [
       "   FA-DOMID FA-PDBID    FA-PDBREG FA-UNIID  FA-UNIREG  SF-DOMID SF-PDBID  \\\n",
       "0   8045703     3H8D  C:1143-1264   Q64331  1143-1264   8091604     3H8D   \n",
       "1   8094330     6J56  A:1158-1282   Q9UM54  1167-1291   8094331     6J56   \n",
       "2   8017835     3FKQ      A:1-116   D0VX10      1-116   8017836     3FKQ   \n",
       "3   8021315     1XHF      A:2-122   P0A9Q1      2-122   8033695     1XHF   \n",
       "4   8021787     1Y7P     B:79-215   O28869     79-215   8034167     1Y7P   \n",
       "\n",
       "     SF-PDBREG SF-UNIID  SF-UNIREG  \\\n",
       "0  C:1143-1264   Q64331  1143-1264   \n",
       "1  A:1158-1282   Q9UM54  1167-1291   \n",
       "2      A:1-116   D0VX10      1-116   \n",
       "3      A:2-122   P0A9Q1      2-122   \n",
       "4     B:79-215   O28869     79-215   \n",
       "\n",
       "                                            SCOPCLA  \n",
       "0  TP=1,CL=1000003,CF=2001470,SF=3002524,FA=4004627  \n",
       "1  TP=1,CL=1000003,CF=2001470,SF=3002524,FA=4004627  \n",
       "2  TP=1,CL=1000002,CF=2000016,SF=3001156,FA=4003986  \n",
       "3  TP=1,CL=1000002,CF=2000016,SF=3001156,FA=4003632  \n",
       "4  TP=1,CL=1000002,CF=2000016,SF=3001156,FA=4002481  "
      ]
     },
     "execution_count": 54,
     "metadata": {},
     "output_type": "execute_result"
    }
   ],
   "source": [
    "classes_df.head()"
   ]
  },
  {
   "cell_type": "markdown",
   "metadata": {},
   "source": [
    "Classification file contains a lot of irrelevant information. For this research we need only FA-DOMID and SCOPCLA.CF fields. "
   ]
  },
  {
   "cell_type": "code",
   "execution_count": 55,
   "metadata": {
    "ExecuteTime": {
     "end_time": "2021-03-13T17:00:17.527270Z",
     "start_time": "2021-03-13T17:00:17.442871Z"
    }
   },
   "outputs": [
    {
     "data": {
      "text/html": [
       "<div>\n",
       "<style scoped>\n",
       "    .dataframe tbody tr th:only-of-type {\n",
       "        vertical-align: middle;\n",
       "    }\n",
       "\n",
       "    .dataframe tbody tr th {\n",
       "        vertical-align: top;\n",
       "    }\n",
       "\n",
       "    .dataframe thead th {\n",
       "        text-align: right;\n",
       "    }\n",
       "</style>\n",
       "<table border=\"1\" class=\"dataframe\">\n",
       "  <thead>\n",
       "    <tr style=\"text-align: right;\">\n",
       "      <th></th>\n",
       "      <th>FA-DOMID</th>\n",
       "      <th>FOLD-RAW</th>\n",
       "    </tr>\n",
       "  </thead>\n",
       "  <tbody>\n",
       "    <tr>\n",
       "      <th>0</th>\n",
       "      <td>8045703</td>\n",
       "      <td>2001470</td>\n",
       "    </tr>\n",
       "    <tr>\n",
       "      <th>1</th>\n",
       "      <td>8094330</td>\n",
       "      <td>2001470</td>\n",
       "    </tr>\n",
       "    <tr>\n",
       "      <th>2</th>\n",
       "      <td>8017835</td>\n",
       "      <td>2000016</td>\n",
       "    </tr>\n",
       "    <tr>\n",
       "      <th>3</th>\n",
       "      <td>8021315</td>\n",
       "      <td>2000016</td>\n",
       "    </tr>\n",
       "    <tr>\n",
       "      <th>4</th>\n",
       "      <td>8021787</td>\n",
       "      <td>2000016</td>\n",
       "    </tr>\n",
       "  </tbody>\n",
       "</table>\n",
       "</div>"
      ],
      "text/plain": [
       "   FA-DOMID FOLD-RAW\n",
       "0   8045703  2001470\n",
       "1   8094330  2001470\n",
       "2   8017835  2000016\n",
       "3   8021315  2000016\n",
       "4   8021787  2000016"
      ]
     },
     "execution_count": 55,
     "metadata": {},
     "output_type": "execute_result"
    }
   ],
   "source": [
    "classes_df = classes_df.loc[:, [\"FA-DOMID\", \"SCOPCLA\"]]\n",
    "classes_df['FOLD-RAW']=classes_df['SCOPCLA'].str.extract(r'.*CF=(\\d+).*')\n",
    "classes_df = classes_df.drop(\"SCOPCLA\", axis = 1)\n",
    "classes_df.head()"
   ]
  },
  {
   "cell_type": "code",
   "execution_count": 60,
   "metadata": {
    "ExecuteTime": {
     "end_time": "2021-03-13T17:01:42.330280Z",
     "start_time": "2021-03-13T17:01:42.289215Z"
    }
   },
   "outputs": [
    {
     "data": {
      "text/html": [
       "<div>\n",
       "<style scoped>\n",
       "    .dataframe tbody tr th:only-of-type {\n",
       "        vertical-align: middle;\n",
       "    }\n",
       "\n",
       "    .dataframe tbody tr th {\n",
       "        vertical-align: top;\n",
       "    }\n",
       "\n",
       "    .dataframe thead th {\n",
       "        text-align: right;\n",
       "    }\n",
       "</style>\n",
       "<table border=\"1\" class=\"dataframe\">\n",
       "  <thead>\n",
       "    <tr style=\"text-align: right;\">\n",
       "      <th></th>\n",
       "      <th>FA-DOMID</th>\n",
       "      <th>FOLD-RAW</th>\n",
       "      <th>FOLD</th>\n",
       "    </tr>\n",
       "  </thead>\n",
       "  <tbody>\n",
       "    <tr>\n",
       "      <th>0</th>\n",
       "      <td>8045703</td>\n",
       "      <td>2001470</td>\n",
       "      <td>1400</td>\n",
       "    </tr>\n",
       "    <tr>\n",
       "      <th>1</th>\n",
       "      <td>8094330</td>\n",
       "      <td>2001470</td>\n",
       "      <td>1400</td>\n",
       "    </tr>\n",
       "    <tr>\n",
       "      <th>2</th>\n",
       "      <td>8017835</td>\n",
       "      <td>2000016</td>\n",
       "      <td>11</td>\n",
       "    </tr>\n",
       "    <tr>\n",
       "      <th>3</th>\n",
       "      <td>8021315</td>\n",
       "      <td>2000016</td>\n",
       "      <td>11</td>\n",
       "    </tr>\n",
       "    <tr>\n",
       "      <th>4</th>\n",
       "      <td>8021787</td>\n",
       "      <td>2000016</td>\n",
       "      <td>11</td>\n",
       "    </tr>\n",
       "  </tbody>\n",
       "</table>\n",
       "</div>"
      ],
      "text/plain": [
       "   FA-DOMID FOLD-RAW  FOLD\n",
       "0   8045703  2001470  1400\n",
       "1   8094330  2001470  1400\n",
       "2   8017835  2000016    11\n",
       "3   8021315  2000016    11\n",
       "4   8021787  2000016    11"
      ]
     },
     "execution_count": 60,
     "metadata": {},
     "output_type": "execute_result"
    }
   ],
   "source": [
    "le = preprocessing.LabelEncoder()\n",
    "folds = le.fit_transform(classes_df[\"FOLD-RAW\"])\n",
    "classes_df[\"FOLD\"] = folds\n",
    "classes_df.head()"
   ]
  },
  {
   "cell_type": "code",
   "execution_count": 61,
   "metadata": {
    "ExecuteTime": {
     "end_time": "2021-03-13T17:01:54.675929Z",
     "start_time": "2021-03-13T17:01:54.642461Z"
    }
   },
   "outputs": [
    {
     "name": "stdout",
     "output_type": "stream",
     "text": [
      "There are 1517 known folds\n"
     ]
    }
   ],
   "source": [
    "print(\"There are {} known folds\".format(np.unique(folds).size))"
   ]
  },
  {
   "cell_type": "code",
   "execution_count": 73,
   "metadata": {
    "ExecuteTime": {
     "end_time": "2021-03-13T17:25:47.646376Z",
     "start_time": "2021-03-13T17:25:47.593023Z"
    }
   },
   "outputs": [],
   "source": [
    "scop_fa_rep_raw = open('./../data/' + filenames[2], 'r')\n",
    "fa_lines = scop_fa_rep_raw.readlines()\n",
    "scop_fa_rep_raw.close()"
   ]
  },
  {
   "cell_type": "code",
   "execution_count": 91,
   "metadata": {
    "ExecuteTime": {
     "end_time": "2021-03-13T17:43:17.750417Z",
     "start_time": "2021-03-13T17:43:17.734626Z"
    }
   },
   "outputs": [],
   "source": [
    "def parse_representation_file(filename):\n",
    "    '''\n",
    "    Returns data extracted from .fa representation file.\n",
    "\n",
    "            Parameters:\n",
    "                    filename (str): Name of the file\n",
    "\n",
    "            Returns:\n",
    "                    df (pd.DataFrame): Extracted data\n",
    "    '''\n",
    "    scop_fa_rep_raw = open(filename, 'r')\n",
    "    fa_lines = scop_fa_rep_raw.readlines()\n",
    "    scop_fa_rep_raw.close()\n",
    "    assert(len(fa_lines) % 2 == 0), \"WRONG FILE REPRESENTATION\"\n",
    "    info = fa_lines[::2]\n",
    "    sequences = fa_lines[1::2]\n",
    "\n",
    "    data = {'info': info,\n",
    "            'sequence': sequences\n",
    "            }\n",
    "    df = pd.DataFrame(data, columns = ['info', 'sequence'])\n",
    "    df['id']=df['info'].str.extract(r'>(\\d+).*')\n",
    "    return df.drop(\"info\", axis = 1)\n"
   ]
  },
  {
   "cell_type": "code",
   "execution_count": 94,
   "metadata": {
    "ExecuteTime": {
     "end_time": "2021-03-13T18:06:45.136412Z",
     "start_time": "2021-03-13T18:06:44.582103Z"
    }
   },
   "outputs": [
    {
     "data": {
      "text/html": [
       "<div>\n",
       "<style scoped>\n",
       "    .dataframe tbody tr th:only-of-type {\n",
       "        vertical-align: middle;\n",
       "    }\n",
       "\n",
       "    .dataframe tbody tr th {\n",
       "        vertical-align: top;\n",
       "    }\n",
       "\n",
       "    .dataframe thead th {\n",
       "        text-align: right;\n",
       "    }\n",
       "</style>\n",
       "<table border=\"1\" class=\"dataframe\">\n",
       "  <thead>\n",
       "    <tr style=\"text-align: right;\">\n",
       "      <th></th>\n",
       "      <th>sequence</th>\n",
       "      <th>id</th>\n",
       "    </tr>\n",
       "  </thead>\n",
       "  <tbody>\n",
       "    <tr>\n",
       "      <th>0</th>\n",
       "      <td>NERILLVDDDYSLLNTLKRNLSFDFEVTTCESGPEALACIKKSDPF...</td>\n",
       "      <td>8072807</td>\n",
       "    </tr>\n",
       "    <tr>\n",
       "      <th>1</th>\n",
       "      <td>SKPRGINYDTGIPFNVLIVDDSVFTVKQLTQIFTSEGFNIIDTAAD...</td>\n",
       "      <td>8072797</td>\n",
       "    </tr>\n",
       "    <tr>\n",
       "      <th>2</th>\n",
       "      <td>TDETAFLNSLFMDFTSENELELFLKSLDEVWSEDLYSRLSAAGLIR...</td>\n",
       "      <td>8022848</td>\n",
       "    </tr>\n",
       "    <tr>\n",
       "      <th>3</th>\n",
       "      <td>PTNPLTLIVATTPIPTREKTLLGIGLNGTLPWPRIKADMSFFARVT...</td>\n",
       "      <td>8097333</td>\n",
       "    </tr>\n",
       "    <tr>\n",
       "      <th>4</th>\n",
       "      <td>DWGTLQTILGGVNKHSTSIGKIWLTVLFIFRIMILVVAAKEVWGDE...</td>\n",
       "      <td>8047374</td>\n",
       "    </tr>\n",
       "  </tbody>\n",
       "</table>\n",
       "</div>"
      ],
      "text/plain": [
       "                                            sequence       id\n",
       "0  NERILLVDDDYSLLNTLKRNLSFDFEVTTCESGPEALACIKKSDPF...  8072807\n",
       "1  SKPRGINYDTGIPFNVLIVDDSVFTVKQLTQIFTSEGFNIIDTAAD...  8072797\n",
       "2  TDETAFLNSLFMDFTSENELELFLKSLDEVWSEDLYSRLSAAGLIR...  8022848\n",
       "3  PTNPLTLIVATTPIPTREKTLLGIGLNGTLPWPRIKADMSFFARVT...  8097333\n",
       "4  DWGTLQTILGGVNKHSTSIGKIWLTVLFIFRIMILVVAAKEVWGDE...  8047374"
      ]
     },
     "execution_count": 94,
     "metadata": {},
     "output_type": "execute_result"
    }
   ],
   "source": [
    "sequences_df = parse_representation_file('./../data/' + filenames[2])\n",
    "sequences_df.head()"
   ]
  },
  {
   "cell_type": "markdown",
   "metadata": {},
   "source": [
    "## Data visualization"
   ]
  },
  {
   "cell_type": "markdown",
   "metadata": {},
   "source": [
    "There are more than 1.5k known folds. Here we visualize their distribution."
   ]
  },
  {
   "cell_type": "code",
   "execution_count": 72,
   "metadata": {
    "ExecuteTime": {
     "end_time": "2021-03-13T17:04:37.553127Z",
     "start_time": "2021-03-13T17:04:34.994336Z"
    }
   },
   "outputs": [
    {
     "data": {
      "image/png": "[encoded data removed]",
      "text/plain": [
       "<Figure size 864x576 with 1 Axes>"
      ]
     },
     "metadata": {
      "needs_background": "light"
     },
     "output_type": "display_data"
    }
   ],
   "source": [
    "plt.figure(figsize = (12, 8))\n",
    "plt.hist(folds, bins = 1517, density=False, facecolor='green', alpha=0.55)\n",
    "\n",
    "plt.xlabel('Fold')\n",
    "plt.ylabel('Elements in fold')\n",
    "plt.title('Folds histogram')\n",
    "plt.grid(True)\n",
    "plt.ylim([0, 300])\n",
    "plt.show()"
   ]
  },
  {
   "cell_type": "markdown",
   "metadata": {},
   "source": [
    "*Conclusion:* most of the folds have less than 25 elements in them, and in  rare cases the number of elements exceeds 150. "
   ]
  },
  {
   "cell_type": "markdown",
   "metadata": {},
   "source": [
    "It's interesting to analyze sequences' length. "
   ]
  },
  {
   "cell_type": "code",
   "execution_count": 98,
   "metadata": {
    "ExecuteTime": {
     "end_time": "2021-03-13T18:08:00.778136Z",
     "start_time": "2021-03-13T18:08:00.746703Z"
    }
   },
   "outputs": [],
   "source": [
    "sequences = sequences_df.loc[:, \"sequence\"]\n",
    "lengths = sequences.apply(lambda x:  len(x))"
   ]
  },
  {
   "cell_type": "code",
   "execution_count": 100,
   "metadata": {
    "ExecuteTime": {
     "end_time": "2021-03-13T18:08:50.523575Z",
     "start_time": "2021-03-13T18:08:50.139508Z"
    }
   },
   "outputs": [
    {
     "data": {
      "image/png": "[encoded data removed]",
      "text/plain": [
       "<Figure size 864x576 with 1 Axes>"
      ]
     },
     "metadata": {
      "needs_background": "light"
     },
     "output_type": "display_data"
    }
   ],
   "source": [
    "plt.figure(figsize = (12, 8))\n",
    "plt.hist(lengths, bins = 80, density=False, facecolor='purple', alpha=0.55)\n",
    "\n",
    "plt.xlabel('Length')\n",
    "plt.ylabel('Number of elements')\n",
    "plt.title('Histogram of sequnce lengths')\n",
    "plt.grid(True)\n",
    "plt.show()"
   ]
  },
  {
   "cell_type": "markdown",
   "metadata": {},
   "source": [
    "*Conclusion:* length of most sequences lies between 50 and 400. It looks like some exponentially distributed data, but it is irrelevant "
   ]
  }
 ],
 "metadata": {
  "kernelspec": {
   "display_name": "Python 3",
   "language": "python",
   "name": "python3"
  },
  "language_info": {
   "codemirror_mode": {
    "name": "ipython",
    "version": 3
   },
   "file_extension": ".py",
   "mimetype": "text/x-python",
   "name": "python",
   "nbconvert_exporter": "python",
   "pygments_lexer": "ipython3",
   "version": "3.7.2"
  }
 },
 "nbformat": 4,
 "nbformat_minor": 2
}
