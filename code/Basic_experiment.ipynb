{
  "nbformat": 4,
  "nbformat_minor": 0,
  "metadata": {
    "kernelspec": {
      "display_name": "Python 3",
      "language": "python",
      "name": "python3"
    },
    "language_info": {
      "codemirror_mode": {
        "name": "ipython",
        "version": 3
      },
      "file_extension": ".py",
      "mimetype": "text/x-python",
      "name": "python",
      "nbconvert_exporter": "python",
      "pygments_lexer": "ipython3",
      "version": "3.6.13"
    },
    "colab": {
      "name": "Basic_experiment.ipynb",
      "provenance": [],
      "collapsed_sections": []
    },
    "widgets": {
      "application/vnd.jupyter.widget-state+json": {
        "4a83b29de56f42699dc329bc9716877e": {
          "model_module": "@jupyter-widgets/controls",
          "model_name": "HBoxModel",
          "state": {
            "_view_name": "HBoxView",
            "_dom_classes": [],
            "_model_name": "HBoxModel",
            "_view_module": "@jupyter-widgets/controls",
            "_model_module_version": "1.5.0",
            "_view_count": null,
            "_view_module_version": "1.5.0",
            "box_style": "",
            "layout": "IPY_MODEL_41e09e8e789a4507811ce38a6a756d32",
            "_model_module": "@jupyter-widgets/controls",
            "children": [
              "IPY_MODEL_0675708383574487bdfc9104b1a9fd3a",
              "IPY_MODEL_82ae04d2e23e41ddb60e894602e9bc25"
            ]
          }
        },
        "41e09e8e789a4507811ce38a6a756d32": {
          "model_module": "@jupyter-widgets/base",
          "model_name": "LayoutModel",
          "state": {
            "_view_name": "LayoutView",
            "grid_template_rows": null,
            "right": null,
            "justify_content": null,
            "_view_module": "@jupyter-widgets/base",
            "overflow": null,
            "_model_module_version": "1.2.0",
            "_view_count": null,
            "flex_flow": null,
            "width": null,
            "min_width": null,
            "border": null,
            "align_items": null,
            "bottom": null,
            "_model_module": "@jupyter-widgets/base",
            "top": null,
            "grid_column": null,
            "overflow_y": null,
            "overflow_x": null,
            "grid_auto_flow": null,
            "grid_area": null,
            "grid_template_columns": null,
            "flex": null,
            "_model_name": "LayoutModel",
            "justify_items": null,
            "grid_row": null,
            "max_height": null,
            "align_content": null,
            "visibility": null,
            "align_self": null,
            "height": null,
            "min_height": null,
            "padding": null,
            "grid_auto_rows": null,
            "grid_gap": null,
            "max_width": null,
            "order": null,
            "_view_module_version": "1.2.0",
            "grid_template_areas": null,
            "object_position": null,
            "object_fit": null,
            "grid_auto_columns": null,
            "margin": null,
            "display": null,
            "left": null
          }
        },
        "0675708383574487bdfc9104b1a9fd3a": {
          "model_module": "@jupyter-widgets/controls",
          "model_name": "FloatProgressModel",
          "state": {
            "_view_name": "ProgressView",
            "style": "IPY_MODEL_a4797c6cff384a7da982be71f7d356e4",
            "_dom_classes": [],
            "description": "Downloading: 100%",
            "_model_name": "FloatProgressModel",
            "bar_style": "success",
            "max": 238187,
            "_view_module": "@jupyter-widgets/controls",
            "_model_module_version": "1.5.0",
            "value": 238187,
            "_view_count": null,
            "_view_module_version": "1.5.0",
            "orientation": "horizontal",
            "min": 0,
            "description_tooltip": null,
            "_model_module": "@jupyter-widgets/controls",
            "layout": "IPY_MODEL_cdaaa2b77c494849b09543a084c2ce07"
          }
        },
        "82ae04d2e23e41ddb60e894602e9bc25": {
          "model_module": "@jupyter-widgets/controls",
          "model_name": "HTMLModel",
          "state": {
            "_view_name": "HTMLView",
            "style": "IPY_MODEL_5b7e766cf34b48fca4801e83c7e81b64",
            "_dom_classes": [],
            "description": "",
            "_model_name": "HTMLModel",
            "placeholder": "​",
            "_view_module": "@jupyter-widgets/controls",
            "_model_module_version": "1.5.0",
            "value": " 238k/238k [04:14&lt;00:00, 935B/s]",
            "_view_count": null,
            "_view_module_version": "1.5.0",
            "description_tooltip": null,
            "_model_module": "@jupyter-widgets/controls",
            "layout": "IPY_MODEL_c1c3e89370e44cb2bbafe0fc0ea4d9a7"
          }
        },
        "a4797c6cff384a7da982be71f7d356e4": {
          "model_module": "@jupyter-widgets/controls",
          "model_name": "ProgressStyleModel",
          "state": {
            "_view_name": "StyleView",
            "_model_name": "ProgressStyleModel",
            "description_width": "initial",
            "_view_module": "@jupyter-widgets/base",
            "_model_module_version": "1.5.0",
            "_view_count": null,
            "_view_module_version": "1.2.0",
            "bar_color": null,
            "_model_module": "@jupyter-widgets/controls"
          }
        },
        "cdaaa2b77c494849b09543a084c2ce07": {
          "model_module": "@jupyter-widgets/base",
          "model_name": "LayoutModel",
          "state": {
            "_view_name": "LayoutView",
            "grid_template_rows": null,
            "right": null,
            "justify_content": null,
            "_view_module": "@jupyter-widgets/base",
            "overflow": null,
            "_model_module_version": "1.2.0",
            "_view_count": null,
            "flex_flow": null,
            "width": null,
            "min_width": null,
            "border": null,
            "align_items": null,
            "bottom": null,
            "_model_module": "@jupyter-widgets/base",
            "top": null,
            "grid_column": null,
            "overflow_y": null,
            "overflow_x": null,
            "grid_auto_flow": null,
            "grid_area": null,
            "grid_template_columns": null,
            "flex": null,
            "_model_name": "LayoutModel",
            "justify_items": null,
            "grid_row": null,
            "max_height": null,
            "align_content": null,
            "visibility": null,
            "align_self": null,
            "height": null,
            "min_height": null,
            "padding": null,
            "grid_auto_rows": null,
            "grid_gap": null,
            "max_width": null,
            "order": null,
            "_view_module_version": "1.2.0",
            "grid_template_areas": null,
            "object_position": null,
            "object_fit": null,
            "grid_auto_columns": null,
            "margin": null,
            "display": null,
            "left": null
          }
        },
        "5b7e766cf34b48fca4801e83c7e81b64": {
          "model_module": "@jupyter-widgets/controls",
          "model_name": "DescriptionStyleModel",
          "state": {
            "_view_name": "StyleView",
            "_model_name": "DescriptionStyleModel",
            "description_width": "",
            "_view_module": "@jupyter-widgets/base",
            "_model_module_version": "1.5.0",
            "_view_count": null,
            "_view_module_version": "1.2.0",
            "_model_module": "@jupyter-widgets/controls"
          }
        },
        "c1c3e89370e44cb2bbafe0fc0ea4d9a7": {
          "model_module": "@jupyter-widgets/base",
          "model_name": "LayoutModel",
          "state": {
            "_view_name": "LayoutView",
            "grid_template_rows": null,
            "right": null,
            "justify_content": null,
            "_view_module": "@jupyter-widgets/base",
            "overflow": null,
            "_model_module_version": "1.2.0",
            "_view_count": null,
            "flex_flow": null,
            "width": null,
            "min_width": null,
            "border": null,
            "align_items": null,
            "bottom": null,
            "_model_module": "@jupyter-widgets/base",
            "top": null,
            "grid_column": null,
            "overflow_y": null,
            "overflow_x": null,
            "grid_auto_flow": null,
            "grid_area": null,
            "grid_template_columns": null,
            "flex": null,
            "_model_name": "LayoutModel",
            "justify_items": null,
            "grid_row": null,
            "max_height": null,
            "align_content": null,
            "visibility": null,
            "align_self": null,
            "height": null,
            "min_height": null,
            "padding": null,
            "grid_auto_rows": null,
            "grid_gap": null,
            "max_width": null,
            "order": null,
            "_view_module_version": "1.2.0",
            "grid_template_areas": null,
            "object_position": null,
            "object_fit": null,
            "grid_auto_columns": null,
            "margin": null,
            "display": null,
            "left": null
          }
        },
        "9123aa4d22e04da2b8bf3752f70a1f47": {
          "model_module": "@jupyter-widgets/controls",
          "model_name": "HBoxModel",
          "state": {
            "_view_name": "HBoxView",
            "_dom_classes": [],
            "_model_name": "HBoxModel",
            "_view_module": "@jupyter-widgets/controls",
            "_model_module_version": "1.5.0",
            "_view_count": null,
            "_view_module_version": "1.5.0",
            "box_style": "",
            "layout": "IPY_MODEL_cdb4e55aecd842dab9d7a90dbee2939a",
            "_model_module": "@jupyter-widgets/controls",
            "children": [
              "IPY_MODEL_7b27bbee64d249b5896d40eeb9f90120",
              "IPY_MODEL_752cc49443564af0adf4233bee05b670"
            ]
          }
        },
        "cdb4e55aecd842dab9d7a90dbee2939a": {
          "model_module": "@jupyter-widgets/base",
          "model_name": "LayoutModel",
          "state": {
            "_view_name": "LayoutView",
            "grid_template_rows": null,
            "right": null,
            "justify_content": null,
            "_view_module": "@jupyter-widgets/base",
            "overflow": null,
            "_model_module_version": "1.2.0",
            "_view_count": null,
            "flex_flow": null,
            "width": null,
            "min_width": null,
            "border": null,
            "align_items": null,
            "bottom": null,
            "_model_module": "@jupyter-widgets/base",
            "top": null,
            "grid_column": null,
            "overflow_y": null,
            "overflow_x": null,
            "grid_auto_flow": null,
            "grid_area": null,
            "grid_template_columns": null,
            "flex": null,
            "_model_name": "LayoutModel",
            "justify_items": null,
            "grid_row": null,
            "max_height": null,
            "align_content": null,
            "visibility": null,
            "align_self": null,
            "height": null,
            "min_height": null,
            "padding": null,
            "grid_auto_rows": null,
            "grid_gap": null,
            "max_width": null,
            "order": null,
            "_view_module_version": "1.2.0",
            "grid_template_areas": null,
            "object_position": null,
            "object_fit": null,
            "grid_auto_columns": null,
            "margin": null,
            "display": null,
            "left": null
          }
        },
        "7b27bbee64d249b5896d40eeb9f90120": {
          "model_module": "@jupyter-widgets/controls",
          "model_name": "FloatProgressModel",
          "state": {
            "_view_name": "ProgressView",
            "style": "IPY_MODEL_08bf9ef969ef43b1a1287d44e004bd4a",
            "_dom_classes": [],
            "description": "Downloading: 100%",
            "_model_name": "FloatProgressModel",
            "bar_style": "success",
            "max": 505,
            "_view_module": "@jupyter-widgets/controls",
            "_model_module_version": "1.5.0",
            "value": 505,
            "_view_count": null,
            "_view_module_version": "1.5.0",
            "orientation": "horizontal",
            "min": 0,
            "description_tooltip": null,
            "_model_module": "@jupyter-widgets/controls",
            "layout": "IPY_MODEL_6d6e222555dc4db8a1c2351bc98feb1d"
          }
        },
        "752cc49443564af0adf4233bee05b670": {
          "model_module": "@jupyter-widgets/controls",
          "model_name": "HTMLModel",
          "state": {
            "_view_name": "HTMLView",
            "style": "IPY_MODEL_88b6c689103a4f67be3328ac63e5f09d",
            "_dom_classes": [],
            "description": "",
            "_model_name": "HTMLModel",
            "placeholder": "​",
            "_view_module": "@jupyter-widgets/controls",
            "_model_module_version": "1.5.0",
            "value": " 505/505 [04:12&lt;00:00, 2.00B/s]",
            "_view_count": null,
            "_view_module_version": "1.5.0",
            "description_tooltip": null,
            "_model_module": "@jupyter-widgets/controls",
            "layout": "IPY_MODEL_6b434ba2fe974883ac7a9efbdbc4774e"
          }
        },
        "08bf9ef969ef43b1a1287d44e004bd4a": {
          "model_module": "@jupyter-widgets/controls",
          "model_name": "ProgressStyleModel",
          "state": {
            "_view_name": "StyleView",
            "_model_name": "ProgressStyleModel",
            "description_width": "initial",
            "_view_module": "@jupyter-widgets/base",
            "_model_module_version": "1.5.0",
            "_view_count": null,
            "_view_module_version": "1.2.0",
            "bar_color": null,
            "_model_module": "@jupyter-widgets/controls"
          }
        },
        "6d6e222555dc4db8a1c2351bc98feb1d": {
          "model_module": "@jupyter-widgets/base",
          "model_name": "LayoutModel",
          "state": {
            "_view_name": "LayoutView",
            "grid_template_rows": null,
            "right": null,
            "justify_content": null,
            "_view_module": "@jupyter-widgets/base",
            "overflow": null,
            "_model_module_version": "1.2.0",
            "_view_count": null,
            "flex_flow": null,
            "width": null,
            "min_width": null,
            "border": null,
            "align_items": null,
            "bottom": null,
            "_model_module": "@jupyter-widgets/base",
            "top": null,
            "grid_column": null,
            "overflow_y": null,
            "overflow_x": null,
            "grid_auto_flow": null,
            "grid_area": null,
            "grid_template_columns": null,
            "flex": null,
            "_model_name": "LayoutModel",
            "justify_items": null,
            "grid_row": null,
            "max_height": null,
            "align_content": null,
            "visibility": null,
            "align_self": null,
            "height": null,
            "min_height": null,
            "padding": null,
            "grid_auto_rows": null,
            "grid_gap": null,
            "max_width": null,
            "order": null,
            "_view_module_version": "1.2.0",
            "grid_template_areas": null,
            "object_position": null,
            "object_fit": null,
            "grid_auto_columns": null,
            "margin": null,
            "display": null,
            "left": null
          }
        },
        "88b6c689103a4f67be3328ac63e5f09d": {
          "model_module": "@jupyter-widgets/controls",
          "model_name": "DescriptionStyleModel",
          "state": {
            "_view_name": "StyleView",
            "_model_name": "DescriptionStyleModel",
            "description_width": "",
            "_view_module": "@jupyter-widgets/base",
            "_model_module_version": "1.5.0",
            "_view_count": null,
            "_view_module_version": "1.2.0",
            "_model_module": "@jupyter-widgets/controls"
          }
        },
        "6b434ba2fe974883ac7a9efbdbc4774e": {
          "model_module": "@jupyter-widgets/base",
          "model_name": "LayoutModel",
          "state": {
            "_view_name": "LayoutView",
            "grid_template_rows": null,
            "right": null,
            "justify_content": null,
            "_view_module": "@jupyter-widgets/base",
            "overflow": null,
            "_model_module_version": "1.2.0",
            "_view_count": null,
            "flex_flow": null,
            "width": null,
            "min_width": null,
            "border": null,
            "align_items": null,
            "bottom": null,
            "_model_module": "@jupyter-widgets/base",
            "top": null,
            "grid_column": null,
            "overflow_y": null,
            "overflow_x": null,
            "grid_auto_flow": null,
            "grid_area": null,
            "grid_template_columns": null,
            "flex": null,
            "_model_name": "LayoutModel",
            "justify_items": null,
            "grid_row": null,
            "max_height": null,
            "align_content": null,
            "visibility": null,
            "align_self": null,
            "height": null,
            "min_height": null,
            "padding": null,
            "grid_auto_rows": null,
            "grid_gap": null,
            "max_width": null,
            "order": null,
            "_view_module_version": "1.2.0",
            "grid_template_areas": null,
            "object_position": null,
            "object_fit": null,
            "grid_auto_columns": null,
            "margin": null,
            "display": null,
            "left": null
          }
        },
        "ebe00c8c9a374e2a81b96793e523b58d": {
          "model_module": "@jupyter-widgets/controls",
          "model_name": "HBoxModel",
          "state": {
            "_view_name": "HBoxView",
            "_dom_classes": [],
            "_model_name": "HBoxModel",
            "_view_module": "@jupyter-widgets/controls",
            "_model_module_version": "1.5.0",
            "_view_count": null,
            "_view_module_version": "1.5.0",
            "box_style": "",
            "layout": "IPY_MODEL_301123d2799844d6adb64cec719b7ee6",
            "_model_module": "@jupyter-widgets/controls",
            "children": [
              "IPY_MODEL_6baf65435baf4e39b09a48b8c2188c00",
              "IPY_MODEL_c267ce440ddb4493b4dcfa8013f31b42"
            ]
          }
        },
        "301123d2799844d6adb64cec719b7ee6": {
          "model_module": "@jupyter-widgets/base",
          "model_name": "LayoutModel",
          "state": {
            "_view_name": "LayoutView",
            "grid_template_rows": null,
            "right": null,
            "justify_content": null,
            "_view_module": "@jupyter-widgets/base",
            "overflow": null,
            "_model_module_version": "1.2.0",
            "_view_count": null,
            "flex_flow": null,
            "width": null,
            "min_width": null,
            "border": null,
            "align_items": null,
            "bottom": null,
            "_model_module": "@jupyter-widgets/base",
            "top": null,
            "grid_column": null,
            "overflow_y": null,
            "overflow_x": null,
            "grid_auto_flow": null,
            "grid_area": null,
            "grid_template_columns": null,
            "flex": null,
            "_model_name": "LayoutModel",
            "justify_items": null,
            "grid_row": null,
            "max_height": null,
            "align_content": null,
            "visibility": null,
            "align_self": null,
            "height": null,
            "min_height": null,
            "padding": null,
            "grid_auto_rows": null,
            "grid_gap": null,
            "max_width": null,
            "order": null,
            "_view_module_version": "1.2.0",
            "grid_template_areas": null,
            "object_position": null,
            "object_fit": null,
            "grid_auto_columns": null,
            "margin": null,
            "display": null,
            "left": null
          }
        },
        "6baf65435baf4e39b09a48b8c2188c00": {
          "model_module": "@jupyter-widgets/controls",
          "model_name": "FloatProgressModel",
          "state": {
            "_view_name": "ProgressView",
            "style": "IPY_MODEL_933e4deab6d84bbb8ac85ae3ba6f5bfe",
            "_dom_classes": [],
            "description": "Downloading: 100%",
            "_model_name": "FloatProgressModel",
            "bar_style": "success",
            "max": 897396780,
            "_view_module": "@jupyter-widgets/controls",
            "_model_module_version": "1.5.0",
            "value": 897396780,
            "_view_count": null,
            "_view_module_version": "1.5.0",
            "orientation": "horizontal",
            "min": 0,
            "description_tooltip": null,
            "_model_module": "@jupyter-widgets/controls",
            "layout": "IPY_MODEL_917e8c1ec5174d6d8341b8c193c84a10"
          }
        },
        "c267ce440ddb4493b4dcfa8013f31b42": {
          "model_module": "@jupyter-widgets/controls",
          "model_name": "HTMLModel",
          "state": {
            "_view_name": "HTMLView",
            "style": "IPY_MODEL_df78e4dc6a034f2c96812f10b07727a6",
            "_dom_classes": [],
            "description": "",
            "_model_name": "HTMLModel",
            "placeholder": "​",
            "_view_module": "@jupyter-widgets/controls",
            "_model_module_version": "1.5.0",
            "value": " 897M/897M [00:16&lt;00:00, 53.7MB/s]",
            "_view_count": null,
            "_view_module_version": "1.5.0",
            "description_tooltip": null,
            "_model_module": "@jupyter-widgets/controls",
            "layout": "IPY_MODEL_af95d923e66d4445be793dee98074102"
          }
        },
        "933e4deab6d84bbb8ac85ae3ba6f5bfe": {
          "model_module": "@jupyter-widgets/controls",
          "model_name": "ProgressStyleModel",
          "state": {
            "_view_name": "StyleView",
            "_model_name": "ProgressStyleModel",
            "description_width": "initial",
            "_view_module": "@jupyter-widgets/base",
            "_model_module_version": "1.5.0",
            "_view_count": null,
            "_view_module_version": "1.2.0",
            "bar_color": null,
            "_model_module": "@jupyter-widgets/controls"
          }
        },
        "917e8c1ec5174d6d8341b8c193c84a10": {
          "model_module": "@jupyter-widgets/base",
          "model_name": "LayoutModel",
          "state": {
            "_view_name": "LayoutView",
            "grid_template_rows": null,
            "right": null,
            "justify_content": null,
            "_view_module": "@jupyter-widgets/base",
            "overflow": null,
            "_model_module_version": "1.2.0",
            "_view_count": null,
            "flex_flow": null,
            "width": null,
            "min_width": null,
            "border": null,
            "align_items": null,
            "bottom": null,
            "_model_module": "@jupyter-widgets/base",
            "top": null,
            "grid_column": null,
            "overflow_y": null,
            "overflow_x": null,
            "grid_auto_flow": null,
            "grid_area": null,
            "grid_template_columns": null,
            "flex": null,
            "_model_name": "LayoutModel",
            "justify_items": null,
            "grid_row": null,
            "max_height": null,
            "align_content": null,
            "visibility": null,
            "align_self": null,
            "height": null,
            "min_height": null,
            "padding": null,
            "grid_auto_rows": null,
            "grid_gap": null,
            "max_width": null,
            "order": null,
            "_view_module_version": "1.2.0",
            "grid_template_areas": null,
            "object_position": null,
            "object_fit": null,
            "grid_auto_columns": null,
            "margin": null,
            "display": null,
            "left": null
          }
        },
        "df78e4dc6a034f2c96812f10b07727a6": {
          "model_module": "@jupyter-widgets/controls",
          "model_name": "DescriptionStyleModel",
          "state": {
            "_view_name": "StyleView",
            "_model_name": "DescriptionStyleModel",
            "description_width": "",
            "_view_module": "@jupyter-widgets/base",
            "_model_module_version": "1.5.0",
            "_view_count": null,
            "_view_module_version": "1.2.0",
            "_model_module": "@jupyter-widgets/controls"
          }
        },
        "af95d923e66d4445be793dee98074102": {
          "model_module": "@jupyter-widgets/base",
          "model_name": "LayoutModel",
          "state": {
            "_view_name": "LayoutView",
            "grid_template_rows": null,
            "right": null,
            "justify_content": null,
            "_view_module": "@jupyter-widgets/base",
            "overflow": null,
            "_model_module_version": "1.2.0",
            "_view_count": null,
            "flex_flow": null,
            "width": null,
            "min_width": null,
            "border": null,
            "align_items": null,
            "bottom": null,
            "_model_module": "@jupyter-widgets/base",
            "top": null,
            "grid_column": null,
            "overflow_y": null,
            "overflow_x": null,
            "grid_auto_flow": null,
            "grid_area": null,
            "grid_template_columns": null,
            "flex": null,
            "_model_name": "LayoutModel",
            "justify_items": null,
            "grid_row": null,
            "max_height": null,
            "align_content": null,
            "visibility": null,
            "align_self": null,
            "height": null,
            "min_height": null,
            "padding": null,
            "grid_auto_rows": null,
            "grid_gap": null,
            "max_width": null,
            "order": null,
            "_view_module_version": "1.2.0",
            "grid_template_areas": null,
            "object_position": null,
            "object_fit": null,
            "grid_auto_columns": null,
            "margin": null,
            "display": null,
            "left": null
          }
        },
        "cb244a1e68ac4def857ce152bf9e47f3": {
          "model_module": "@jupyter-widgets/controls",
          "model_name": "HBoxModel",
          "state": {
            "_view_name": "HBoxView",
            "_dom_classes": [],
            "_model_name": "HBoxModel",
            "_view_module": "@jupyter-widgets/controls",
            "_model_module_version": "1.5.0",
            "_view_count": null,
            "_view_module_version": "1.5.0",
            "box_style": "",
            "layout": "IPY_MODEL_c65ff749abaf4dac81e15525adc2c752",
            "_model_module": "@jupyter-widgets/controls",
            "children": [
              "IPY_MODEL_d9c6eb4985cf40cbb8196ea9fe5b54a9",
              "IPY_MODEL_ec74f9949b1a41699707dd6ca89e2ce8"
            ]
          }
        },
        "c65ff749abaf4dac81e15525adc2c752": {
          "model_module": "@jupyter-widgets/base",
          "model_name": "LayoutModel",
          "state": {
            "_view_name": "LayoutView",
            "grid_template_rows": null,
            "right": null,
            "justify_content": null,
            "_view_module": "@jupyter-widgets/base",
            "overflow": null,
            "_model_module_version": "1.2.0",
            "_view_count": null,
            "flex_flow": null,
            "width": null,
            "min_width": null,
            "border": null,
            "align_items": null,
            "bottom": null,
            "_model_module": "@jupyter-widgets/base",
            "top": null,
            "grid_column": null,
            "overflow_y": null,
            "overflow_x": null,
            "grid_auto_flow": null,
            "grid_area": null,
            "grid_template_columns": null,
            "flex": null,
            "_model_name": "LayoutModel",
            "justify_items": null,
            "grid_row": null,
            "max_height": null,
            "align_content": null,
            "visibility": null,
            "align_self": null,
            "height": null,
            "min_height": null,
            "padding": null,
            "grid_auto_rows": null,
            "grid_gap": null,
            "max_width": null,
            "order": null,
            "_view_module_version": "1.2.0",
            "grid_template_areas": null,
            "object_position": null,
            "object_fit": null,
            "grid_auto_columns": null,
            "margin": null,
            "display": null,
            "left": null
          }
        },
        "d9c6eb4985cf40cbb8196ea9fe5b54a9": {
          "model_module": "@jupyter-widgets/controls",
          "model_name": "FloatProgressModel",
          "state": {
            "_view_name": "ProgressView",
            "style": "IPY_MODEL_1f3802afc8574834bcc9c2fe07aee980",
            "_dom_classes": [],
            "description": "100%",
            "_model_name": "FloatProgressModel",
            "bar_style": "success",
            "max": 9704,
            "_view_module": "@jupyter-widgets/controls",
            "_model_module_version": "1.5.0",
            "value": 9704,
            "_view_count": null,
            "_view_module_version": "1.5.0",
            "orientation": "horizontal",
            "min": 0,
            "description_tooltip": null,
            "_model_module": "@jupyter-widgets/controls",
            "layout": "IPY_MODEL_549da9d2e895416a8572d05bc920c9bb"
          }
        },
        "ec74f9949b1a41699707dd6ca89e2ce8": {
          "model_module": "@jupyter-widgets/controls",
          "model_name": "HTMLModel",
          "state": {
            "_view_name": "HTMLView",
            "style": "IPY_MODEL_00c84ab1967c433ebab586ca87e3243a",
            "_dom_classes": [],
            "description": "",
            "_model_name": "HTMLModel",
            "placeholder": "​",
            "_view_module": "@jupyter-widgets/controls",
            "_model_module_version": "1.5.0",
            "value": " 9704/9704 [1:26:38&lt;00:00,  1.87it/s]",
            "_view_count": null,
            "_view_module_version": "1.5.0",
            "description_tooltip": null,
            "_model_module": "@jupyter-widgets/controls",
            "layout": "IPY_MODEL_edd45e72004e42fea99948ccf172661b"
          }
        },
        "1f3802afc8574834bcc9c2fe07aee980": {
          "model_module": "@jupyter-widgets/controls",
          "model_name": "ProgressStyleModel",
          "state": {
            "_view_name": "StyleView",
            "_model_name": "ProgressStyleModel",
            "description_width": "initial",
            "_view_module": "@jupyter-widgets/base",
            "_model_module_version": "1.5.0",
            "_view_count": null,
            "_view_module_version": "1.2.0",
            "bar_color": null,
            "_model_module": "@jupyter-widgets/controls"
          }
        },
        "549da9d2e895416a8572d05bc920c9bb": {
          "model_module": "@jupyter-widgets/base",
          "model_name": "LayoutModel",
          "state": {
            "_view_name": "LayoutView",
            "grid_template_rows": null,
            "right": null,
            "justify_content": null,
            "_view_module": "@jupyter-widgets/base",
            "overflow": null,
            "_model_module_version": "1.2.0",
            "_view_count": null,
            "flex_flow": null,
            "width": null,
            "min_width": null,
            "border": null,
            "align_items": null,
            "bottom": null,
            "_model_module": "@jupyter-widgets/base",
            "top": null,
            "grid_column": null,
            "overflow_y": null,
            "overflow_x": null,
            "grid_auto_flow": null,
            "grid_area": null,
            "grid_template_columns": null,
            "flex": null,
            "_model_name": "LayoutModel",
            "justify_items": null,
            "grid_row": null,
            "max_height": null,
            "align_content": null,
            "visibility": null,
            "align_self": null,
            "height": null,
            "min_height": null,
            "padding": null,
            "grid_auto_rows": null,
            "grid_gap": null,
            "max_width": null,
            "order": null,
            "_view_module_version": "1.2.0",
            "grid_template_areas": null,
            "object_position": null,
            "object_fit": null,
            "grid_auto_columns": null,
            "margin": null,
            "display": null,
            "left": null
          }
        },
        "00c84ab1967c433ebab586ca87e3243a": {
          "model_module": "@jupyter-widgets/controls",
          "model_name": "DescriptionStyleModel",
          "state": {
            "_view_name": "StyleView",
            "_model_name": "DescriptionStyleModel",
            "description_width": "",
            "_view_module": "@jupyter-widgets/base",
            "_model_module_version": "1.5.0",
            "_view_count": null,
            "_view_module_version": "1.2.0",
            "_model_module": "@jupyter-widgets/controls"
          }
        },
        "edd45e72004e42fea99948ccf172661b": {
          "model_module": "@jupyter-widgets/base",
          "model_name": "LayoutModel",
          "state": {
            "_view_name": "LayoutView",
            "grid_template_rows": null,
            "right": null,
            "justify_content": null,
            "_view_module": "@jupyter-widgets/base",
            "overflow": null,
            "_model_module_version": "1.2.0",
            "_view_count": null,
            "flex_flow": null,
            "width": null,
            "min_width": null,
            "border": null,
            "align_items": null,
            "bottom": null,
            "_model_module": "@jupyter-widgets/base",
            "top": null,
            "grid_column": null,
            "overflow_y": null,
            "overflow_x": null,
            "grid_auto_flow": null,
            "grid_area": null,
            "grid_template_columns": null,
            "flex": null,
            "_model_name": "LayoutModel",
            "justify_items": null,
            "grid_row": null,
            "max_height": null,
            "align_content": null,
            "visibility": null,
            "align_self": null,
            "height": null,
            "min_height": null,
            "padding": null,
            "grid_auto_rows": null,
            "grid_gap": null,
            "max_width": null,
            "order": null,
            "_view_module_version": "1.2.0",
            "grid_template_areas": null,
            "object_position": null,
            "object_fit": null,
            "grid_auto_columns": null,
            "margin": null,
            "display": null,
            "left": null
          }
        }
      }
    },
    "accelerator": "GPU"
  },
  "cells": [
    {
      "cell_type": "markdown",
      "metadata": {
        "id": "KwsmQ-yHSCiE"
      },
      "source": [
        "# Basic experiment section\n",
        "\n",
        "This section focuses on performing basic experiment with BERT. Here we use BERT on SCOP2 dataset to generate features and give it to some trivial NN.  \n",
        "\n",
        "Experiment performed here is supposed to proof that there is at least some sense in using BERT (there shall be)."
      ]
    },
    {
      "cell_type": "markdown",
      "metadata": {
        "id": "y7PQmzo5SCiO"
      },
      "source": [
        "## Data preparation\n",
        "\n",
        "Here we just use data preparation module to get sample and target."
      ]
    },
    {
      "cell_type": "code",
      "metadata": {
        "ExecuteTime": {
          "end_time": "2021-03-18T08:04:02.023211Z",
          "start_time": "2021-03-18T08:03:58.232132Z"
        },
        "id": "keWV7Dk0SCiP",
        "colab": {
          "base_uri": "https://localhost:8080/"
        },
        "outputId": "063a094c-d481-4ab6-bee9-6ac885da1cea"
      },
      "source": [
        "import numpy as np\n",
        "import pandas as pd\n",
        "import matplotlib.pyplot as plt\n",
        "from torch import nn\n",
        "! pip3 install torchinfo\n",
        "from torchinfo import summary\n",
        "import torchvision\n",
        "import torch \n",
        "from IPython.display import clear_output\n",
        "from torch.utils.data import Dataset, random_split\n",
        "import torch.nn.functional as F\n",
        "from sklearn.model_selection import train_test_split\n",
        "\n",
        "from collections import defaultdict\n",
        "import time\n"
      ],
      "execution_count": null,
      "outputs": [
        {
          "output_type": "stream",
          "text": [
            "Requirement already satisfied: torchinfo in /usr/local/lib/python3.7/dist-packages (0.0.8)\n"
          ],
          "name": "stdout"
        }
      ]
    },
    {
      "cell_type": "code",
      "metadata": {
        "id": "oj8kSSRX2Xlg"
      },
      "source": [
        "import os\n",
        "import shutil\n",
        "\n",
        "import glob\n",
        "import requests"
      ],
      "execution_count": null,
      "outputs": []
    },
    {
      "cell_type": "code",
      "metadata": {
        "colab": {
          "base_uri": "https://localhost:8080/"
        },
        "id": "IlwgfJO42zsA",
        "outputId": "ce0434af-6335-4316-f3a0-84568c4867cf"
      },
      "source": [
        "from google.colab import drive\n",
        "drive.mount('/content/drive')"
      ],
      "execution_count": null,
      "outputs": [
        {
          "output_type": "stream",
          "text": [
            "Drive already mounted at /content/drive; to attempt to forcibly remount, call drive.mount(\"/content/drive\", force_remount=True).\n"
          ],
          "name": "stdout"
        }
      ]
    },
    {
      "cell_type": "code",
      "metadata": {
        "id": "jTdxMQ6kalAw"
      },
      "source": [
        "!mkdir /content/drive/MyDrive/m1p"
      ],
      "execution_count": null,
      "outputs": []
    },
    {
      "cell_type": "code",
      "metadata": {
        "id": "ZkgnFHcmcafC"
      },
      "source": [
        "!mkdir /content/drive/MyDrive/m1p/albert_data"
      ],
      "execution_count": null,
      "outputs": []
    },
    {
      "cell_type": "code",
      "metadata": {
        "colab": {
          "base_uri": "https://localhost:8080/"
        },
        "id": "RlScrDaUSOzH",
        "outputId": "a1a85af9-2cd7-46a6-8153-d78e7987eb74"
      },
      "source": [
        "!pip install transformers"
      ],
      "execution_count": null,
      "outputs": [
        {
          "output_type": "stream",
          "text": [
            "Collecting transformers\n",
            "\u001b[?25l  Downloading https://files.pythonhosted.org/packages/ed/d5/f4157a376b8a79489a76ce6cfe147f4f3be1e029b7144fa7b8432e8acb26/transformers-4.4.2-py3-none-any.whl (2.0MB)\n",
            "\u001b[K     |████████████████████████████████| 2.0MB 17.2MB/s \n",
            "\u001b[?25hRequirement already satisfied: packaging in /usr/local/lib/python3.7/dist-packages (from transformers) (20.9)\n",
            "Requirement already satisfied: numpy>=1.17 in /usr/local/lib/python3.7/dist-packages (from transformers) (1.19.5)\n",
            "Requirement already satisfied: regex!=2019.12.17 in /usr/local/lib/python3.7/dist-packages (from transformers) (2019.12.20)\n",
            "Requirement already satisfied: requests in /usr/local/lib/python3.7/dist-packages (from transformers) (2.23.0)\n",
            "Collecting sacremoses\n",
            "\u001b[?25l  Downloading https://files.pythonhosted.org/packages/7d/34/09d19aff26edcc8eb2a01bed8e98f13a1537005d31e95233fd48216eed10/sacremoses-0.0.43.tar.gz (883kB)\n",
            "\u001b[K     |████████████████████████████████| 890kB 54.0MB/s \n",
            "\u001b[?25hCollecting tokenizers<0.11,>=0.10.1\n",
            "\u001b[?25l  Downloading https://files.pythonhosted.org/packages/71/23/2ddc317b2121117bf34dd00f5b0de194158f2a44ee2bf5e47c7166878a97/tokenizers-0.10.1-cp37-cp37m-manylinux2010_x86_64.whl (3.2MB)\n",
            "\u001b[K     |████████████████████████████████| 3.2MB 54.6MB/s \n",
            "\u001b[?25hRequirement already satisfied: tqdm>=4.27 in /usr/local/lib/python3.7/dist-packages (from transformers) (4.41.1)\n",
            "Requirement already satisfied: importlib-metadata; python_version < \"3.8\" in /usr/local/lib/python3.7/dist-packages (from transformers) (3.8.1)\n",
            "Requirement already satisfied: filelock in /usr/local/lib/python3.7/dist-packages (from transformers) (3.0.12)\n",
            "Requirement already satisfied: pyparsing>=2.0.2 in /usr/local/lib/python3.7/dist-packages (from packaging->transformers) (2.4.7)\n",
            "Requirement already satisfied: certifi>=2017.4.17 in /usr/local/lib/python3.7/dist-packages (from requests->transformers) (2020.12.5)\n",
            "Requirement already satisfied: urllib3!=1.25.0,!=1.25.1,<1.26,>=1.21.1 in /usr/local/lib/python3.7/dist-packages (from requests->transformers) (1.24.3)\n",
            "Requirement already satisfied: idna<3,>=2.5 in /usr/local/lib/python3.7/dist-packages (from requests->transformers) (2.10)\n",
            "Requirement already satisfied: chardet<4,>=3.0.2 in /usr/local/lib/python3.7/dist-packages (from requests->transformers) (3.0.4)\n",
            "Requirement already satisfied: six in /usr/local/lib/python3.7/dist-packages (from sacremoses->transformers) (1.15.0)\n",
            "Requirement already satisfied: click in /usr/local/lib/python3.7/dist-packages (from sacremoses->transformers) (7.1.2)\n",
            "Requirement already satisfied: joblib in /usr/local/lib/python3.7/dist-packages (from sacremoses->transformers) (1.0.1)\n",
            "Requirement already satisfied: typing-extensions>=3.6.4; python_version < \"3.8\" in /usr/local/lib/python3.7/dist-packages (from importlib-metadata; python_version < \"3.8\"->transformers) (3.7.4.3)\n",
            "Requirement already satisfied: zipp>=0.5 in /usr/local/lib/python3.7/dist-packages (from importlib-metadata; python_version < \"3.8\"->transformers) (3.4.1)\n",
            "Building wheels for collected packages: sacremoses\n",
            "  Building wheel for sacremoses (setup.py) ... \u001b[?25l\u001b[?25hdone\n",
            "  Created wheel for sacremoses: filename=sacremoses-0.0.43-cp37-none-any.whl size=893262 sha256=b4d1a33e0a4be5ef2734b7f4ce3937f0874310eb306d9c54c4c6d508d628e87a\n",
            "  Stored in directory: /root/.cache/pip/wheels/29/3c/fd/7ce5c3f0666dab31a50123635e6fb5e19ceb42ce38d4e58f45\n",
            "Successfully built sacremoses\n",
            "Installing collected packages: sacremoses, tokenizers, transformers\n",
            "Successfully installed sacremoses-0.0.43 tokenizers-0.10.1 transformers-4.4.2\n"
          ],
          "name": "stdout"
        }
      ]
    },
    {
      "cell_type": "code",
      "metadata": {
        "colab": {
          "base_uri": "https://localhost:8080/"
        },
        "id": "LehW2AUtSdIE",
        "outputId": "f29b8b16-aa08-4a0b-dcab-e8cb5306f6da"
      },
      "source": [
        "!pip install sentencepiece"
      ],
      "execution_count": null,
      "outputs": [
        {
          "output_type": "stream",
          "text": [
            "Collecting sentencepiece\n",
            "\u001b[?25l  Downloading https://files.pythonhosted.org/packages/f5/99/e0808cb947ba10f575839c43e8fafc9cc44e4a7a2c8f79c60db48220a577/sentencepiece-0.1.95-cp37-cp37m-manylinux2014_x86_64.whl (1.2MB)\n",
            "\r\u001b[K     |▎                               | 10kB 21.4MB/s eta 0:00:01\r\u001b[K     |▌                               | 20kB 23.4MB/s eta 0:00:01\r\u001b[K     |▉                               | 30kB 24.9MB/s eta 0:00:01\r\u001b[K     |█                               | 40kB 26.3MB/s eta 0:00:01\r\u001b[K     |█▍                              | 51kB 28.7MB/s eta 0:00:01\r\u001b[K     |█▋                              | 61kB 29.5MB/s eta 0:00:01\r\u001b[K     |██                              | 71kB 25.5MB/s eta 0:00:01\r\u001b[K     |██▏                             | 81kB 22.9MB/s eta 0:00:01\r\u001b[K     |██▌                             | 92kB 22.5MB/s eta 0:00:01\r\u001b[K     |██▊                             | 102kB 23.3MB/s eta 0:00:01\r\u001b[K     |███                             | 112kB 23.3MB/s eta 0:00:01\r\u001b[K     |███▎                            | 122kB 23.3MB/s eta 0:00:01\r\u001b[K     |███▌                            | 133kB 23.3MB/s eta 0:00:01\r\u001b[K     |███▉                            | 143kB 23.3MB/s eta 0:00:01\r\u001b[K     |████                            | 153kB 23.3MB/s eta 0:00:01\r\u001b[K     |████▍                           | 163kB 23.3MB/s eta 0:00:01\r\u001b[K     |████▋                           | 174kB 23.3MB/s eta 0:00:01\r\u001b[K     |█████                           | 184kB 23.3MB/s eta 0:00:01\r\u001b[K     |█████▏                          | 194kB 23.3MB/s eta 0:00:01\r\u001b[K     |█████▌                          | 204kB 23.3MB/s eta 0:00:01\r\u001b[K     |█████▊                          | 215kB 23.3MB/s eta 0:00:01\r\u001b[K     |██████                          | 225kB 23.3MB/s eta 0:00:01\r\u001b[K     |██████▎                         | 235kB 23.3MB/s eta 0:00:01\r\u001b[K     |██████▌                         | 245kB 23.3MB/s eta 0:00:01\r\u001b[K     |██████▉                         | 256kB 23.3MB/s eta 0:00:01\r\u001b[K     |███████                         | 266kB 23.3MB/s eta 0:00:01\r\u001b[K     |███████▍                        | 276kB 23.3MB/s eta 0:00:01\r\u001b[K     |███████▋                        | 286kB 23.3MB/s eta 0:00:01\r\u001b[K     |████████                        | 296kB 23.3MB/s eta 0:00:01\r\u001b[K     |████████▏                       | 307kB 23.3MB/s eta 0:00:01\r\u001b[K     |████████▍                       | 317kB 23.3MB/s eta 0:00:01\r\u001b[K     |████████▊                       | 327kB 23.3MB/s eta 0:00:01\r\u001b[K     |█████████                       | 337kB 23.3MB/s eta 0:00:01\r\u001b[K     |█████████▎                      | 348kB 23.3MB/s eta 0:00:01\r\u001b[K     |█████████▌                      | 358kB 23.3MB/s eta 0:00:01\r\u001b[K     |█████████▉                      | 368kB 23.3MB/s eta 0:00:01\r\u001b[K     |██████████                      | 378kB 23.3MB/s eta 0:00:01\r\u001b[K     |██████████▍                     | 389kB 23.3MB/s eta 0:00:01\r\u001b[K     |██████████▋                     | 399kB 23.3MB/s eta 0:00:01\r\u001b[K     |███████████                     | 409kB 23.3MB/s eta 0:00:01\r\u001b[K     |███████████▏                    | 419kB 23.3MB/s eta 0:00:01\r\u001b[K     |███████████▍                    | 430kB 23.3MB/s eta 0:00:01\r\u001b[K     |███████████▊                    | 440kB 23.3MB/s eta 0:00:01\r\u001b[K     |████████████                    | 450kB 23.3MB/s eta 0:00:01\r\u001b[K     |████████████▎                   | 460kB 23.3MB/s eta 0:00:01\r\u001b[K     |████████████▌                   | 471kB 23.3MB/s eta 0:00:01\r\u001b[K     |████████████▉                   | 481kB 23.3MB/s eta 0:00:01\r\u001b[K     |█████████████                   | 491kB 23.3MB/s eta 0:00:01\r\u001b[K     |█████████████▍                  | 501kB 23.3MB/s eta 0:00:01\r\u001b[K     |█████████████▋                  | 512kB 23.3MB/s eta 0:00:01\r\u001b[K     |█████████████▉                  | 522kB 23.3MB/s eta 0:00:01\r\u001b[K     |██████████████▏                 | 532kB 23.3MB/s eta 0:00:01\r\u001b[K     |██████████████▍                 | 542kB 23.3MB/s eta 0:00:01\r\u001b[K     |██████████████▊                 | 552kB 23.3MB/s eta 0:00:01\r\u001b[K     |███████████████                 | 563kB 23.3MB/s eta 0:00:01\r\u001b[K     |███████████████▎                | 573kB 23.3MB/s eta 0:00:01\r\u001b[K     |███████████████▌                | 583kB 23.3MB/s eta 0:00:01\r\u001b[K     |███████████████▉                | 593kB 23.3MB/s eta 0:00:01\r\u001b[K     |████████████████                | 604kB 23.3MB/s eta 0:00:01\r\u001b[K     |████████████████▍               | 614kB 23.3MB/s eta 0:00:01\r\u001b[K     |████████████████▋               | 624kB 23.3MB/s eta 0:00:01\r\u001b[K     |████████████████▉               | 634kB 23.3MB/s eta 0:00:01\r\u001b[K     |█████████████████▏              | 645kB 23.3MB/s eta 0:00:01\r\u001b[K     |█████████████████▍              | 655kB 23.3MB/s eta 0:00:01\r\u001b[K     |█████████████████▊              | 665kB 23.3MB/s eta 0:00:01\r\u001b[K     |██████████████████              | 675kB 23.3MB/s eta 0:00:01\r\u001b[K     |██████████████████▎             | 686kB 23.3MB/s eta 0:00:01\r\u001b[K     |██████████████████▌             | 696kB 23.3MB/s eta 0:00:01\r\u001b[K     |██████████████████▉             | 706kB 23.3MB/s eta 0:00:01\r\u001b[K     |███████████████████             | 716kB 23.3MB/s eta 0:00:01\r\u001b[K     |███████████████████▎            | 727kB 23.3MB/s eta 0:00:01\r\u001b[K     |███████████████████▋            | 737kB 23.3MB/s eta 0:00:01\r\u001b[K     |███████████████████▉            | 747kB 23.3MB/s eta 0:00:01\r\u001b[K     |████████████████████▏           | 757kB 23.3MB/s eta 0:00:01\r\u001b[K     |████████████████████▍           | 768kB 23.3MB/s eta 0:00:01\r\u001b[K     |████████████████████▊           | 778kB 23.3MB/s eta 0:00:01\r\u001b[K     |█████████████████████           | 788kB 23.3MB/s eta 0:00:01\r\u001b[K     |█████████████████████▎          | 798kB 23.3MB/s eta 0:00:01\r\u001b[K     |█████████████████████▌          | 808kB 23.3MB/s eta 0:00:01\r\u001b[K     |█████████████████████▉          | 819kB 23.3MB/s eta 0:00:01\r\u001b[K     |██████████████████████          | 829kB 23.3MB/s eta 0:00:01\r\u001b[K     |██████████████████████▎         | 839kB 23.3MB/s eta 0:00:01\r\u001b[K     |██████████████████████▋         | 849kB 23.3MB/s eta 0:00:01\r\u001b[K     |██████████████████████▉         | 860kB 23.3MB/s eta 0:00:01\r\u001b[K     |███████████████████████▏        | 870kB 23.3MB/s eta 0:00:01\r\u001b[K     |███████████████████████▍        | 880kB 23.3MB/s eta 0:00:01\r\u001b[K     |███████████████████████▊        | 890kB 23.3MB/s eta 0:00:01\r\u001b[K     |████████████████████████        | 901kB 23.3MB/s eta 0:00:01\r\u001b[K     |████████████████████████▎       | 911kB 23.3MB/s eta 0:00:01\r\u001b[K     |████████████████████████▌       | 921kB 23.3MB/s eta 0:00:01\r\u001b[K     |████████████████████████▊       | 931kB 23.3MB/s eta 0:00:01\r\u001b[K     |█████████████████████████       | 942kB 23.3MB/s eta 0:00:01\r\u001b[K     |█████████████████████████▎      | 952kB 23.3MB/s eta 0:00:01\r\u001b[K     |█████████████████████████▋      | 962kB 23.3MB/s eta 0:00:01\r\u001b[K     |█████████████████████████▉      | 972kB 23.3MB/s eta 0:00:01\r\u001b[K     |██████████████████████████▏     | 983kB 23.3MB/s eta 0:00:01\r\u001b[K     |██████████████████████████▍     | 993kB 23.3MB/s eta 0:00:01\r\u001b[K     |██████████████████████████▊     | 1.0MB 23.3MB/s eta 0:00:01\r\u001b[K     |███████████████████████████     | 1.0MB 23.3MB/s eta 0:00:01\r\u001b[K     |███████████████████████████▎    | 1.0MB 23.3MB/s eta 0:00:01\r\u001b[K     |███████████████████████████▌    | 1.0MB 23.3MB/s eta 0:00:01\r\u001b[K     |███████████████████████████▊    | 1.0MB 23.3MB/s eta 0:00:01\r\u001b[K     |████████████████████████████    | 1.1MB 23.3MB/s eta 0:00:01\r\u001b[K     |████████████████████████████▎   | 1.1MB 23.3MB/s eta 0:00:01\r\u001b[K     |████████████████████████████▋   | 1.1MB 23.3MB/s eta 0:00:01\r\u001b[K     |████████████████████████████▉   | 1.1MB 23.3MB/s eta 0:00:01\r\u001b[K     |█████████████████████████████▏  | 1.1MB 23.3MB/s eta 0:00:01\r\u001b[K     |█████████████████████████████▍  | 1.1MB 23.3MB/s eta 0:00:01\r\u001b[K     |█████████████████████████████▊  | 1.1MB 23.3MB/s eta 0:00:01\r\u001b[K     |██████████████████████████████  | 1.1MB 23.3MB/s eta 0:00:01\r\u001b[K     |██████████████████████████████▏ | 1.1MB 23.3MB/s eta 0:00:01\r\u001b[K     |██████████████████████████████▌ | 1.1MB 23.3MB/s eta 0:00:01\r\u001b[K     |██████████████████████████████▊ | 1.2MB 23.3MB/s eta 0:00:01\r\u001b[K     |███████████████████████████████ | 1.2MB 23.3MB/s eta 0:00:01\r\u001b[K     |███████████████████████████████▎| 1.2MB 23.3MB/s eta 0:00:01\r\u001b[K     |███████████████████████████████▋| 1.2MB 23.3MB/s eta 0:00:01\r\u001b[K     |███████████████████████████████▉| 1.2MB 23.3MB/s eta 0:00:01\r\u001b[K     |████████████████████████████████| 1.2MB 23.3MB/s \n",
            "\u001b[?25hInstalling collected packages: sentencepiece\n",
            "Successfully installed sentencepiece-0.1.95\n"
          ],
          "name": "stdout"
        }
      ]
    },
    {
      "cell_type": "code",
      "metadata": {
        "ExecuteTime": {
          "end_time": "2021-03-18T08:04:12.801139Z",
          "start_time": "2021-03-18T08:04:07.031324Z"
        },
        "id": "mHOn9NqVSCiS"
      },
      "source": [
        "from transformers import AlbertTokenizer, XLNetTokenizer, AutoModel, pipeline\n",
        "import re\n",
        "import os\n",
        "import requests\n",
        "from tqdm.auto import tqdm"
      ],
      "execution_count": null,
      "outputs": []
    },
    {
      "cell_type": "code",
      "metadata": {
        "ExecuteTime": {
          "end_time": "2021-03-18T08:08:29.656566Z",
          "start_time": "2021-03-18T08:08:24.881311Z"
        },
        "id": "uGTgObqDSCiV",
        "colab": {
          "base_uri": "https://localhost:8080/",
          "height": 67,
          "referenced_widgets": [
            "4a83b29de56f42699dc329bc9716877e",
            "41e09e8e789a4507811ce38a6a756d32",
            "0675708383574487bdfc9104b1a9fd3a",
            "82ae04d2e23e41ddb60e894602e9bc25",
            "a4797c6cff384a7da982be71f7d356e4",
            "cdaaa2b77c494849b09543a084c2ce07",
            "5b7e766cf34b48fca4801e83c7e81b64",
            "c1c3e89370e44cb2bbafe0fc0ea4d9a7"
          ]
        },
        "outputId": "672ee094-ce8e-4a3b-d6a7-2c00f4481c77"
      },
      "source": [
        "tokenizer = AlbertTokenizer.from_pretrained(\"Rostlab/prot_albert\", do_lower_case=False )\n",
        "#tokenizer = XLNetTokenizer.from_pretrained(\"Rostlab/prot_xlnet\", do_lower_case=False)\n",
        "\n"
      ],
      "execution_count": null,
      "outputs": [
        {
          "output_type": "display_data",
          "data": {
            "application/vnd.jupyter.widget-view+json": {
              "model_id": "4a83b29de56f42699dc329bc9716877e",
              "version_minor": 0,
              "version_major": 2
            },
            "text/plain": [
              "HBox(children=(FloatProgress(value=0.0, description='Downloading', max=238187.0, style=ProgressStyle(descripti…"
            ]
          },
          "metadata": {
            "tags": []
          }
        },
        {
          "output_type": "stream",
          "text": [
            "\n"
          ],
          "name": "stdout"
        }
      ]
    },
    {
      "cell_type": "code",
      "metadata": {
        "ExecuteTime": {
          "end_time": "2021-03-18T08:08:38.853307Z",
          "start_time": "2021-03-18T08:08:29.658397Z"
        },
        "id": "imutu--HSCiV",
        "colab": {
          "base_uri": "https://localhost:8080/",
          "height": 118,
          "referenced_widgets": [
            "9123aa4d22e04da2b8bf3752f70a1f47",
            "cdb4e55aecd842dab9d7a90dbee2939a",
            "7b27bbee64d249b5896d40eeb9f90120",
            "752cc49443564af0adf4233bee05b670",
            "08bf9ef969ef43b1a1287d44e004bd4a",
            "6d6e222555dc4db8a1c2351bc98feb1d",
            "88b6c689103a4f67be3328ac63e5f09d",
            "6b434ba2fe974883ac7a9efbdbc4774e",
            "ebe00c8c9a374e2a81b96793e523b58d",
            "301123d2799844d6adb64cec719b7ee6",
            "6baf65435baf4e39b09a48b8c2188c00",
            "c267ce440ddb4493b4dcfa8013f31b42",
            "933e4deab6d84bbb8ac85ae3ba6f5bfe",
            "917e8c1ec5174d6d8341b8c193c84a10",
            "df78e4dc6a034f2c96812f10b07727a6",
            "af95d923e66d4445be793dee98074102"
          ]
        },
        "outputId": "b2e01e4e-9341-41d2-d3e2-fc5d2e0b78cd"
      },
      "source": [
        "model = AutoModel.from_pretrained(\"Rostlab/prot_albert\")\n",
        "#model = AutoModel.from_pretrained(\"Rostlab/prot_xlnet\")"
      ],
      "execution_count": null,
      "outputs": [
        {
          "output_type": "display_data",
          "data": {
            "application/vnd.jupyter.widget-view+json": {
              "model_id": "9123aa4d22e04da2b8bf3752f70a1f47",
              "version_minor": 0,
              "version_major": 2
            },
            "text/plain": [
              "HBox(children=(FloatProgress(value=0.0, description='Downloading', max=505.0, style=ProgressStyle(description_…"
            ]
          },
          "metadata": {
            "tags": []
          }
        },
        {
          "output_type": "stream",
          "text": [
            "\n"
          ],
          "name": "stdout"
        },
        {
          "output_type": "display_data",
          "data": {
            "application/vnd.jupyter.widget-view+json": {
              "model_id": "ebe00c8c9a374e2a81b96793e523b58d",
              "version_minor": 0,
              "version_major": 2
            },
            "text/plain": [
              "HBox(children=(FloatProgress(value=0.0, description='Downloading', max=897396780.0, style=ProgressStyle(descri…"
            ]
          },
          "metadata": {
            "tags": []
          }
        },
        {
          "output_type": "stream",
          "text": [
            "\n"
          ],
          "name": "stdout"
        }
      ]
    },
    {
      "cell_type": "code",
      "metadata": {
        "ExecuteTime": {
          "end_time": "2021-03-18T08:08:48.340349Z",
          "start_time": "2021-03-18T08:08:48.326321Z"
        },
        "id": "RdN7QGIbSCiW"
      },
      "source": [
        "fe = pipeline('feature-extraction', model=model, tokenizer=tokenizer,device=0)"
      ],
      "execution_count": null,
      "outputs": []
    },
    {
      "cell_type": "code",
      "metadata": {
        "ExecuteTime": {
          "end_time": "2021-03-18T08:21:33.109844Z",
          "start_time": "2021-03-18T08:21:33.093378Z"
        },
        "id": "_Y-39_n8SCiW"
      },
      "source": [
        "def scop_seq_to_bert_seq(scop_seq):\n",
        "    \"\"\"\n",
        "    Converts sequences from scop format to prot bert format\n",
        "    \"\"\"\n",
        "    def expand(sequence):\n",
        "        \"\"\"\n",
        "        Expands one sequnce\n",
        "        \"\"\"\n",
        "        return \" \".join(sequence.rstrip())\n",
        "    \n",
        "    return scop_seq.apply(expand)"
      ],
      "execution_count": null,
      "outputs": []
    },
    {
      "cell_type": "code",
      "metadata": {
        "ExecuteTime": {
          "end_time": "2021-03-18T08:21:37.053366Z",
          "start_time": "2021-03-18T08:21:36.351077Z"
        },
        "colab": {
          "base_uri": "https://localhost:8080/",
          "height": 206
        },
        "id": "y-1N_7gTSCiY",
        "outputId": "3bd4db42-ae34-4c5c-ccc6-e562cfda1e2f"
      },
      "source": [
        "# data = prepare_scop_data()\n",
        "seq_data = pd.read_csv(\"/content/drive/MyDrive/m1p/seq_to_fold.csv\")\n",
        "seq_data = seq_data[[\"FOLD\", \"sequence\"]]\n",
        "seq_data.head()"
      ],
      "execution_count": null,
      "outputs": [
        {
          "output_type": "execute_result",
          "data": {
            "text/html": [
              "<div>\n",
              "<style scoped>\n",
              "    .dataframe tbody tr th:only-of-type {\n",
              "        vertical-align: middle;\n",
              "    }\n",
              "\n",
              "    .dataframe tbody tr th {\n",
              "        vertical-align: top;\n",
              "    }\n",
              "\n",
              "    .dataframe thead th {\n",
              "        text-align: right;\n",
              "    }\n",
              "</style>\n",
              "<table border=\"1\" class=\"dataframe\">\n",
              "  <thead>\n",
              "    <tr style=\"text-align: right;\">\n",
              "      <th></th>\n",
              "      <th>FOLD</th>\n",
              "      <th>sequence</th>\n",
              "    </tr>\n",
              "  </thead>\n",
              "  <tbody>\n",
              "    <tr>\n",
              "      <th>0</th>\n",
              "      <td>1400</td>\n",
              "      <td>DMKRQQRFFRIPFIRPADQYKDPQNKKKGWWYAHFDGPWIARQMEL...</td>\n",
              "    </tr>\n",
              "    <tr>\n",
              "      <th>1</th>\n",
              "      <td>1400</td>\n",
              "      <td>RQREIEMNRQQRFFRIPFIRPADQYKDPQSKKKGWWYAHFDGPWIA...</td>\n",
              "    </tr>\n",
              "    <tr>\n",
              "      <th>2</th>\n",
              "      <td>11</td>\n",
              "      <td>MKIKVALLDKDKEYLDRLTGVFNTKYADKLEVYSFTDEKNAIESVK...</td>\n",
              "    </tr>\n",
              "    <tr>\n",
              "      <th>3</th>\n",
              "      <td>11</td>\n",
              "      <td>QTPHILIVEDELVTRNTLKSIFEAEGYDVFEATDGAEMHQILSEYD...</td>\n",
              "    </tr>\n",
              "    <tr>\n",
              "      <th>4</th>\n",
              "      <td>11</td>\n",
              "      <td>SFERVFGKRVIILGGGALVSQVAIGAISEADRHNLRGERISVDTMP...</td>\n",
              "    </tr>\n",
              "  </tbody>\n",
              "</table>\n",
              "</div>"
            ],
            "text/plain": [
              "   FOLD                                           sequence\n",
              "0  1400  DMKRQQRFFRIPFIRPADQYKDPQNKKKGWWYAHFDGPWIARQMEL...\n",
              "1  1400  RQREIEMNRQQRFFRIPFIRPADQYKDPQSKKKGWWYAHFDGPWIA...\n",
              "2    11  MKIKVALLDKDKEYLDRLTGVFNTKYADKLEVYSFTDEKNAIESVK...\n",
              "3    11  QTPHILIVEDELVTRNTLKSIFEAEGYDVFEATDGAEMHQILSEYD...\n",
              "4    11  SFERVFGKRVIILGGGALVSQVAIGAISEADRHNLRGERISVDTMP..."
            ]
          },
          "metadata": {
            "tags": []
          },
          "execution_count": 5
        }
      ]
    },
    {
      "cell_type": "code",
      "metadata": {
        "ExecuteTime": {
          "end_time": "2021-03-18T08:21:59.728721Z",
          "start_time": "2021-03-18T08:21:59.516047Z"
        },
        "id": "s_5xOvR1SCiZ"
      },
      "source": [
        "sequences = seq_data['sequence']\n",
        "sequences = scop_seq_to_bert_seq(sequences).to_numpy()\n",
        "target = seq_data['FOLD'].to_numpy()"
      ],
      "execution_count": null,
      "outputs": []
    },
    {
      "cell_type": "code",
      "metadata": {
        "ExecuteTime": {
          "end_time": "2021-03-18T08:24:48.164669Z",
          "start_time": "2021-03-18T08:24:48.150196Z"
        },
        "colab": {
          "base_uri": "https://localhost:8080/"
        },
        "id": "QFfxL4UuSCia",
        "outputId": "a741ff26-f4cf-4343-ca9e-33882c460125"
      },
      "source": [
        "sequences[:5]"
      ],
      "execution_count": null,
      "outputs": [
        {
          "output_type": "execute_result",
          "data": {
            "text/plain": [
              "array(['D M K R Q Q R F F R I P F I R P A D Q Y K D P Q N K K K G W W Y A H F D G P W I A R Q M E L H P D K P P I L L V A G K D D M E M C E L N L E E T G L T R K R G A E I L P R Q F E E I W E R C G G I Q Y L Q S A I E S R Q A R P T Y A T A M L Q N L L',\n",
              "       'R Q R E I E M N R Q Q R F F R I P F I R P A D Q Y K D P Q S K K K G W W Y A H F D G P W I A R Q M E L H P D K P P I L L V A G K D D M E M C E L N L E E T G L T R K R G A E I L P R Q F E E I W E R C G G I Q Y L Q N A I E S R Q A R P T Y A T A M L Q S',\n",
              "       'M K I K V A L L D K D K E Y L D R L T G V F N T K Y A D K L E V Y S F T D E K N A I E S V K E Y R I D V L I A E E D F N I D K S E F K R N C G L A Y F T G T P G I E L I K D E I A I C K Y Q R V D V I F K Q I L G V Y S D M A A N V A T',\n",
              "       'Q T P H I L I V E D E L V T R N T L K S I F E A E G Y D V F E A T D G A E M H Q I L S E Y D I N L V I M D I N L P G K N G L L L A R E L R E Q A N V A L M F L T G R D N E V D K I L G L E I G A D D Y I T K P F N P R E L T I R A R N L L S R T M',\n",
              "       'S F E R V F G K R V I I L G G G A L V S Q V A I G A I S E A D R H N L R G E R I S V D T M P V V G E E E I A E A V K A V S R L H R A E V L V L A G G I M G G K I T E E V K K L R K S G I R V I S L S M F G S V P D V A D V V I S D P V M A G T L A V M H I S E K A K F D L D R V K'],\n",
              "      dtype=object)"
            ]
          },
          "metadata": {
            "tags": []
          },
          "execution_count": 15
        }
      ]
    },
    {
      "cell_type": "code",
      "metadata": {
        "colab": {
          "base_uri": "https://localhost:8080/"
        },
        "id": "RBWKQ2M98d9Q",
        "outputId": "f235c88a-ceba-4ca4-de74-bcd8f7218ee4"
      },
      "source": [
        "target[:5]"
      ],
      "execution_count": null,
      "outputs": [
        {
          "output_type": "execute_result",
          "data": {
            "text/plain": [
              "array([1400, 1400,   11,   11,   11])"
            ]
          },
          "metadata": {
            "tags": []
          },
          "execution_count": 109
        }
      ]
    },
    {
      "cell_type": "code",
      "metadata": {
        "id": "f8oHJM_VVquJ",
        "colab": {
          "base_uri": "https://localhost:8080/"
        },
        "outputId": "a2a7f0c4-cf13-4c66-fda4-d8adcf1c7f2d"
      },
      "source": [
        "torch.tensor(fe(sequences[129])).shape"
      ],
      "execution_count": null,
      "outputs": [
        {
          "output_type": "execute_result",
          "data": {
            "text/plain": [
              "torch.Size([1, 123, 4096])"
            ]
          },
          "metadata": {
            "tags": []
          },
          "execution_count": 20
        }
      ]
    },
    {
      "cell_type": "code",
      "metadata": {
        "colab": {
          "base_uri": "https://localhost:8080/",
          "height": 67,
          "referenced_widgets": [
            "cb244a1e68ac4def857ce152bf9e47f3",
            "c65ff749abaf4dac81e15525adc2c752",
            "d9c6eb4985cf40cbb8196ea9fe5b54a9",
            "ec74f9949b1a41699707dd6ca89e2ce8",
            "1f3802afc8574834bcc9c2fe07aee980",
            "549da9d2e895416a8572d05bc920c9bb",
            "00c84ab1967c433ebab586ca87e3243a",
            "edd45e72004e42fea99948ccf172661b"
          ]
        },
        "id": "F_WDIN47VDRs",
        "outputId": "28794ded-005c-4400-809f-3e2e66699842"
      },
      "source": [
        "for i in tqdm(range(len(sequences))):\n",
        "  torch.save(torch.tensor(fe(sequences[i])), \"/content/drive/MyDrive/m1p/albert_data/\" + str(i) + \".torch\")\n"
      ],
      "execution_count": null,
      "outputs": [
        {
          "output_type": "display_data",
          "data": {
            "application/vnd.jupyter.widget-view+json": {
              "model_id": "cb244a1e68ac4def857ce152bf9e47f3",
              "version_minor": 0,
              "version_major": 2
            },
            "text/plain": [
              "HBox(children=(FloatProgress(value=0.0, max=9704.0), HTML(value='')))"
            ]
          },
          "metadata": {
            "tags": []
          }
        },
        {
          "output_type": "stream",
          "text": [
            "\n"
          ],
          "name": "stdout"
        }
      ]
    },
    {
      "cell_type": "code",
      "metadata": {
        "colab": {
          "base_uri": "https://localhost:8080/"
        },
        "id": "kJTxkueXnRSt",
        "outputId": "dd2592a9-0350-461d-d8e6-7e1e1fa7380e"
      },
      "source": [
        "embedding = fe(list(sequences[10000:10005]))\n",
        "e_arr = np.array(embedding)\n",
        "e_arr.shape"
      ],
      "execution_count": null,
      "outputs": [
        {
          "output_type": "execute_result",
          "data": {
            "text/plain": [
              "(5, 98, 4096)"
            ]
          },
          "metadata": {
            "tags": []
          },
          "execution_count": 21
        }
      ]
    },
    {
      "cell_type": "code",
      "metadata": {
        "colab": {
          "base_uri": "https://localhost:8080/"
        },
        "id": "hg50HX5ZqIno",
        "outputId": "aa417c7c-26e4-4067-e344-f39334c948d8"
      },
      "source": [
        "sequences_Example = [\"A E T C Z A O\",\"S K T Z P\"]\n",
        "embedding = fe(sequences_Example)\n",
        "arr = np.array(embedding)\n",
        "arr.shape"
      ],
      "execution_count": null,
      "outputs": [
        {
          "output_type": "execute_result",
          "data": {
            "text/plain": [
              "(2, 9, 4096)"
            ]
          },
          "metadata": {
            "tags": []
          },
          "execution_count": 19
        }
      ]
    },
    {
      "cell_type": "code",
      "metadata": {
        "colab": {
          "base_uri": "https://localhost:8080/"
        },
        "id": "Gb9S-nlkt_1m",
        "outputId": "d3deeabf-12d7-4a8a-fad6-5fed946320fa"
      },
      "source": [
        "embedding = fe(list(sequences[:5]))\n",
        "arr = np.array(embedding)\n",
        "arr.shape\n"
      ],
      "execution_count": null,
      "outputs": [
        {
          "output_type": "execute_result",
          "data": {
            "text/plain": [
              "(5, 136, 4096)"
            ]
          },
          "metadata": {
            "tags": []
          },
          "execution_count": 14
        }
      ]
    },
    {
      "cell_type": "markdown",
      "metadata": {
        "id": "twhOjXzekHgi"
      },
      "source": [
        "**Using CNN**:"
      ]
    },
    {
      "cell_type": "code",
      "metadata": {
        "id": "uDrKXMWkFD7M"
      },
      "source": [
        ""
      ],
      "execution_count": null,
      "outputs": []
    },
    {
      "cell_type": "code",
      "metadata": {
        "id": "xv_aUH5ckK2M"
      },
      "source": [
        "class K_max_pooling_1d(nn.Module):\n",
        "    def __init__(self, k):\n",
        "        super(K_max_pooling_1d, self).__init__()\n",
        "        self.k = k\n",
        "\n",
        "    def forward(self, x):\n",
        "        if x.shape[2] < self.k:\n",
        "          return F.pad(input=x, pad=(0, self.k - x.shape[2], 0, 0), \n",
        "                         mode='constant', value=0)\n",
        "        top = torch.topk(x, k = self.k)\n",
        "        return top.values"
      ],
      "execution_count": null,
      "outputs": []
    },
    {
      "cell_type": "code",
      "metadata": {
        "id": "g90bWF2RFWUh"
      },
      "source": [
        " def plot_learning_curves(history):\n",
        "    '''\n",
        "    Функция для вывода лосса и метрики во время обучения.\n",
        "\n",
        "    :param history: (dict)\n",
        "        accuracy и loss на обучении и валидации\n",
        "    '''\n",
        "    # sns.set_style(style='whitegrid')\n",
        "    fig = plt.figure(figsize=(20, 7))\n",
        "\n",
        "    plt.subplot(1,2,1)\n",
        "    plt.title('Лосс', fontsize=15)\n",
        "    plt.plot(history['loss']['train'], label='train')\n",
        "    plt.plot(history['loss']['val'], label='val')\n",
        "    plt.ylabel('лосс', fontsize=15)\n",
        "    plt.xlabel('эпоха', fontsize=15)\n",
        "    plt.legend()\n",
        "\n",
        "    plt.subplot(1,2,2)\n",
        "    plt.title('Точность', fontsize=15)\n",
        "    plt.plot(history['acc']['train'], label='train')\n",
        "    plt.plot(history['acc']['val'], label='val')\n",
        "    plt.ylabel('лосс', fontsize=15)\n",
        "    plt.xlabel('эпоха', fontsize=15)\n",
        "    plt.legend()\n",
        "    plt.show()"
      ],
      "execution_count": null,
      "outputs": []
    },
    {
      "cell_type": "code",
      "metadata": {
        "id": "HGTV8J4gFW_V"
      },
      "source": [
        "def train(\n",
        "    model, \n",
        "    criterion,\n",
        "    optimizer, \n",
        "    train_batch_gen,\n",
        "    val_batch_gen,\n",
        "    label,\n",
        "    num_epochs=50\n",
        "):\n",
        "\n",
        "    history = defaultdict(lambda: defaultdict(list))\n",
        "\n",
        "    for epoch in range(num_epochs):\n",
        "        train_loss = 0\n",
        "        train_acc = 0\n",
        "        val_loss = 0\n",
        "        val_acc = 0\n",
        "        \n",
        "        start_time = time.time()\n",
        "\n",
        "        # Устанавливаем поведение dropout / batch_norm  в обучение\n",
        "        model.train(True) \n",
        "\n",
        "        # На каждой \"эпохе\" делаем полный проход по данным\n",
        "        for X_batch, y_batch in train_batch_gen:\n",
        "            # Обучаемся на батче (одна \"итерация\" обучения нейросети)\n",
        "            \n",
        "            #X_batch = torch.transpose(torch.tensor(fe(train_X[i])), 1, 2).to(device)\n",
        "            #y_batch = torch.tensor(train_Y[i]).unsqueeze(0).to(device)\n",
        "                        \n",
        "            X_batch = torch.transpose(X_batch.squeeze(0), 1, 2).to(device)\n",
        "            y_batch = y_batch.to(device)\n",
        "\n",
        "            # Логиты на выходе модели\n",
        "            logits = model(X_batch)\n",
        "\n",
        "            # Подсчитываем лосс\n",
        "            loss = criterion(logits, y_batch.long().to(device))\n",
        "\n",
        "            # Обратный проход\n",
        "            loss.backward()\n",
        "            # Шаг градиента\n",
        "            optimizer.step()\n",
        "            # Зануляем градиенты\n",
        "            optimizer.zero_grad()\n",
        "            \n",
        "            # Сохраяняем лоссы и точность на трейне\n",
        "            train_loss += loss.detach().cpu().numpy()\n",
        "            y_pred = logits.max(1)[1].detach().cpu().numpy()\n",
        "            train_acc += np.mean(y_batch.cpu().numpy() == y_pred)\n",
        "\n",
        "        # Подсчитываем лоссы и сохраням в \"историю\"\n",
        "        train_loss /= len(train_batch_gen)\n",
        "        train_acc /= len(train_batch_gen) \n",
        "        history['loss']['train'].append(train_loss)\n",
        "        history['acc']['train'].append(train_acc)\n",
        "    \n",
        "        # Устанавливаем поведение dropout / batch_norm в режим тестирования\n",
        "        model.train(False) \n",
        "\n",
        "        # Полный проход по валидации    \n",
        "        for X_batch, y_batch in val_batch_gen:\n",
        "            X_batch = torch.transpose(X_batch.squeeze(0), 1, 2).to(device)\n",
        "            y_batch = y_batch.to(device)\n",
        "            \n",
        "            #X_batch = torch.transpose(torch.tensor(fe(val_X[i])), 1, 2).to(device)\n",
        "            #y_batch = torch.tensor(val_Y[i]).unsqueeze(0).to(device)\n",
        "            \n",
        "            # Логиты, полученные моделью\n",
        "            logits = model(X_batch)\n",
        "            # Лосс на валидации\n",
        "            loss = criterion(logits, y_batch.long().to(device))\n",
        "\n",
        "            # Сохраяняем лоссы и точность на валидации\n",
        "            val_loss += loss.detach().cpu().numpy()\n",
        "            y_pred = logits.max(1)[1].detach().cpu().numpy()\n",
        "            val_acc += np.mean(y_batch.cpu().numpy() == y_pred)\n",
        "\n",
        "        # Подсчитываем лоссы и сохраням в \"историю\"\n",
        "        val_loss /= len(val_batch_gen)\n",
        "        val_acc /= len(val_batch_gen) \n",
        "        history['loss']['val'].append(val_loss)\n",
        "        history['acc']['val'].append(val_acc)\n",
        "        \n",
        "        clear_output()\n",
        "\n",
        "        # Печатаем результаты после каждой эпохи\n",
        "        print(\"Epoch {} of {} took {:.3f}s\".format(\n",
        "            epoch + 1, num_epochs, time.time() - start_time))\n",
        "        print(\"  training loss (in-iteration): \\t{:.6f}\".format(train_loss))\n",
        "        print(\"  validation loss (in-iteration): \\t{:.6f}\".format(val_loss))\n",
        "        print(\"  training accuracy: \\t\\t\\t{:.2f} %\".format(train_acc * 100))\n",
        "        print(\"  validation accuracy: \\t\\t\\t{:.2f} %\".format(val_acc * 100))\n",
        "        \n",
        "        plot_learning_curves(history)\n",
        "        if epoch % 5 == 1:\n",
        "            torch.save(model.state_dict(), \n",
        "                   \"/content/drive/MyDrive/m1p/model_state_\" + label + \"_\" + str(epoch))\n",
        "    return model, history"
      ],
      "execution_count": null,
      "outputs": []
    },
    {
      "cell_type": "code",
      "metadata": {
        "id": "XEbbBI8suNew",
        "colab": {
          "base_uri": "https://localhost:8080/"
        },
        "outputId": "7a824903-37dd-4f53-d191-9af978b2f6c3"
      },
      "source": [
        "model = nn.Sequential()\n",
        "\n",
        "model.add_module('conv1', nn.Conv1d(in_channels=4096, out_channels=10, \n",
        "                                    kernel_size=7, stride=1, padding=3))\n",
        "model.add_module('relu1', nn.ReLU())\n",
        "for i in range(2, 11):\n",
        "  \n",
        "  model.add_module('conv' + str(i), nn.Conv1d(in_channels=10, out_channels=10, \n",
        "                                      kernel_size=7, stride=1, padding=3))\n",
        "  model.add_module('relu2' + str(i), nn.ReLU())\n",
        "model.add_module('K_max_pooling', K_max_pooling_1d(30))\n",
        "model.add_module('flatteing', nn.Flatten())\n",
        "model.add_module('FC-layer', nn.Linear(300, 250))\n",
        "model.add_module('last_relu', nn.ReLU())\n",
        "model.add_module('FC-layer-2', nn.Linear(250, 1517))\n",
        "\n",
        "summary(model, (120, 4096, 146))"
      ],
      "execution_count": null,
      "outputs": [
        {
          "output_type": "execute_result",
          "data": {
            "text/plain": [
              "==========================================================================================\n",
              "Layer (type:depth-idx)                   Output Shape              Param #\n",
              "==========================================================================================\n",
              "├─Conv1d: 1-1                            [120, 10, 146]            286,730\n",
              "├─ReLU: 1-2                              [120, 10, 146]            --\n",
              "├─Conv1d: 1-3                            [120, 10, 146]            710\n",
              "├─ReLU: 1-4                              [120, 10, 146]            --\n",
              "├─Conv1d: 1-5                            [120, 10, 146]            710\n",
              "├─ReLU: 1-6                              [120, 10, 146]            --\n",
              "├─Conv1d: 1-7                            [120, 10, 146]            710\n",
              "├─ReLU: 1-8                              [120, 10, 146]            --\n",
              "├─Conv1d: 1-9                            [120, 10, 146]            710\n",
              "├─ReLU: 1-10                             [120, 10, 146]            --\n",
              "├─Conv1d: 1-11                           [120, 10, 146]            710\n",
              "├─ReLU: 1-12                             [120, 10, 146]            --\n",
              "├─Conv1d: 1-13                           [120, 10, 146]            710\n",
              "├─ReLU: 1-14                             [120, 10, 146]            --\n",
              "├─Conv1d: 1-15                           [120, 10, 146]            710\n",
              "├─ReLU: 1-16                             [120, 10, 146]            --\n",
              "├─Conv1d: 1-17                           [120, 10, 146]            710\n",
              "├─ReLU: 1-18                             [120, 10, 146]            --\n",
              "├─Conv1d: 1-19                           [120, 10, 146]            710\n",
              "├─ReLU: 1-20                             [120, 10, 146]            --\n",
              "├─K_max_pooling_1d: 1-21                 [120, 10, 30]             --\n",
              "├─Flatten: 1-22                          [120, 300]                --\n",
              "├─Linear: 1-23                           [120, 250]                75,250\n",
              "├─ReLU: 1-24                             [120, 250]                --\n",
              "├─Linear: 1-25                           [120, 1517]               380,767\n",
              "==========================================================================================\n",
              "Total params: 749,137\n",
              "Trainable params: 749,137\n",
              "Non-trainable params: 0\n",
              "Total mult-adds (M): 43.24\n",
              "==========================================================================================\n",
              "Input size (MB): 287.05\n",
              "Forward/backward pass size (MB): 15.71\n",
              "Params size (MB): 3.00\n",
              "Estimated Total Size (MB): 305.76\n",
              "=========================================================================================="
            ]
          },
          "metadata": {
            "tags": []
          },
          "execution_count": 10
        }
      ]
    },
    {
      "cell_type": "code",
      "metadata": {
        "id": "a4wQSeOX2ED-",
        "colab": {
          "base_uri": "https://localhost:8080/",
          "height": 36
        },
        "outputId": "73f41a9c-b512-4813-83a6-59425c29cadc"
      },
      "source": [
        "device = \"cuda\" if torch.cuda.is_available() else \"cpu\"\n",
        "device"
      ],
      "execution_count": null,
      "outputs": [
        {
          "output_type": "execute_result",
          "data": {
            "application/vnd.google.colaboratory.intrinsic+json": {
              "type": "string"
            },
            "text/plain": [
              "'cuda'"
            ]
          },
          "metadata": {
            "tags": []
          },
          "execution_count": 11
        }
      ]
    },
    {
      "cell_type": "code",
      "metadata": {
        "id": "C44ksHshE7D_"
      },
      "source": [
        ""
      ],
      "execution_count": null,
      "outputs": []
    },
    {
      "cell_type": "code",
      "metadata": {
        "id": "mO6uwGPb03A8"
      },
      "source": [
        "#X = sequences\n",
        "#y = np.array(data.iloc[:, 0])\n",
        "#X.shape, y.shape"
      ],
      "execution_count": null,
      "outputs": []
    },
    {
      "cell_type": "markdown",
      "metadata": {
        "id": "nY2YZ_VH2Bbs"
      },
      "source": [
        ""
      ]
    },
    {
      "cell_type": "code",
      "metadata": {
        "id": "-uzUSaxiHoKa"
      },
      "source": [
        "class FoldDataset(Dataset):\n",
        "  'Characterizes a dataset for PyTorch'\n",
        "  def __init__(self, length, labels):\n",
        "        'Initialization'\n",
        "        super(Dataset, self).__init__()\n",
        "        self.length = length\n",
        "        self.labels = labels\n",
        "  def __len__(self):\n",
        "        'Denotes the total number of samples'\n",
        "        return self.length\n",
        "\n",
        "  def __getitem__(self, index):\n",
        "        'Generates one sample of data'\n",
        "        # Select sample\n",
        "\n",
        "        # Load data and get label\n",
        "        data = torch.load(\"/content/drive/MyDrive/m1p/albert_data/\" + str(index) + \".torch\")\n",
        "        \n",
        "        return data, self.labels[index]"
      ],
      "execution_count": null,
      "outputs": []
    },
    {
      "cell_type": "code",
      "metadata": {
        "id": "HHfKYs0nQtIJ"
      },
      "source": [
        "def collate_fn(batch):\n",
        "  \"\"\"\n",
        "  batch: list of individual elements\n",
        "  \"\"\"\n",
        "  max_sz = 0\n",
        "  for elem in batch:\n",
        "    max_sz = max(max_sz, elem[0].shape[1])\n",
        "  target = torch.tensor([elem[1] for elem in batch])\n",
        "  return torch.cat([F.pad(input=elem[0], pad=(0, 0, 0, max_sz - elem[0].shape[1]), \n",
        "                          mode='constant', value=0) for elem in batch]), target"
      ],
      "execution_count": null,
      "outputs": []
    },
    {
      "cell_type": "code",
      "metadata": {
        "id": "xs1YGs1eXkcn"
      },
      "source": [
        ""
      ],
      "execution_count": null,
      "outputs": []
    },
    {
      "cell_type": "code",
      "metadata": {
        "id": "malCVEnj63wO"
      },
      "source": [
        "dataset = FoldDataset(34592, target)\n",
        "#first_generator = torch.Generator().manual_seed(17)\n",
        "#dataset, other = random_split(\n",
        "#    dataset, lengths=(500, 34592 - 500), generator=first_generator)"
      ],
      "execution_count": null,
      "outputs": []
    },
    {
      "cell_type": "code",
      "metadata": {
        "colab": {
          "base_uri": "https://localhost:8080/"
        },
        "id": "b2COzn0P8oMu",
        "outputId": "b0e6fe02-5c9d-44bd-b12a-240cb08516a5"
      },
      "source": [
        "val_ratio = 0.2\n",
        "test_ratio = 0.2\n",
        "data_len = len(dataset)\n",
        "test_len = int(data_len * test_ratio)\n",
        "val_len = int(data_len * val_ratio)\n",
        "train_len = data_len - val_len - test_len\n",
        "generator = torch.Generator().manual_seed(42)\n",
        "train_dataset, val_dataset, test_dataset = random_split(\n",
        "    dataset, lengths=(train_len, val_len, test_len), generator=generator)\n",
        "len(train_dataset), len(val_dataset), len(test_dataset)"
      ],
      "execution_count": null,
      "outputs": [
        {
          "output_type": "execute_result",
          "data": {
            "text/plain": [
              "(20756, 6918, 6918)"
            ]
          },
          "metadata": {
            "tags": []
          },
          "execution_count": 16
        }
      ]
    },
    {
      "cell_type": "code",
      "metadata": {
        "id": "VXvLEUjd_kUQ"
      },
      "source": [
        "batch_size = 32\n",
        "\n",
        "train_batch_gen = torch.utils.data.DataLoader(train_dataset, batch_size=batch_size, shuffle=True, collate_fn=collate_fn)\n",
        "val_batch_gen = torch.utils.data.DataLoader(val_dataset, batch_size=batch_size, shuffle=True, collate_fn=collate_fn)\n",
        "test_batch_gen = torch.utils.data.DataLoader(test_dataset, batch_size=batch_size, shuffle=False, collate_fn=collate_fn)"
      ],
      "execution_count": null,
      "outputs": []
    },
    {
      "cell_type": "code",
      "metadata": {
        "id": "qtxSsNeaBOfs"
      },
      "source": [
        "model = model.to(device)\n",
        "criterion = nn.CrossEntropyLoss()\n",
        "optimizer = torch.optim.Adam(model.parameters(), lr=0.01)"
      ],
      "execution_count": null,
      "outputs": []
    },
    {
      "cell_type": "code",
      "metadata": {
        "id": "9vv3U7X2ZPSV"
      },
      "source": [
        ""
      ],
      "execution_count": null,
      "outputs": []
    },
    {
      "cell_type": "markdown",
      "metadata": {
        "id": "96UwziqwBOBM"
      },
      "source": [
        ""
      ]
    },
    {
      "cell_type": "code",
      "metadata": {
        "id": "n5eipqRfzoCR",
        "colab": {
          "base_uri": "https://localhost:8080/",
          "height": 557
        },
        "outputId": "513abf7d-fabf-4924-8b59-a288e0f9a67b"
      },
      "source": [
        "model, history = train(\n",
        "    model, criterion, optimizer, train_batch_gen, val_batch_gen,\n",
        "    \"first_exp\", num_epochs=50)"
      ],
      "execution_count": null,
      "outputs": [
        {
          "output_type": "stream",
          "text": [
            "Epoch 3 of 50 took 11348.138s\n",
            "  training loss (in-iteration): \t5.882082\n",
            "  validation loss (in-iteration): \t5.960130\n",
            "  training accuracy: \t\t\t3.70 %\n",
            "  validation accuracy: \t\t\t3.82 %\n"
          ],
          "name": "stdout"
        },
        {
          "output_type": "display_data",
          "data": {
            "image/png": "[encoded data removed]",
            "text/plain": [
              "<Figure size 1440x504 with 2 Axes>"
            ]
          },
          "metadata": {
            "tags": [],
            "needs_background": "light"
          }
        }
      ]
    },
    {
      "cell_type": "code",
      "metadata": {
        "id": "noHSweZX3wRI",
        "colab": {
          "base_uri": "https://localhost:8080/"
        },
        "outputId": "31a1ea0b-4d30-452c-93a7-5f5406de38bf"
      },
      "source": [
        "source = torch.rand((1, 10, 25))\n",
        "# now we expand to size (7, 11) by appending a row of 0s at pos 0 and pos 6, \n",
        "# and a column of 0s at pos 10\n",
        "result = F.pad(input=source, pad=(0, 0, 0, 10), mode='constant', value=0)\n",
        "source.shape, result.shape\n"
      ],
      "execution_count": null,
      "outputs": [
        {
          "output_type": "execute_result",
          "data": {
            "text/plain": [
              "(torch.Size([1, 10, 25]), torch.Size([1, 20, 25]))"
            ]
          },
          "metadata": {
            "tags": []
          },
          "execution_count": 37
        }
      ]
    },
    {
      "cell_type": "code",
      "metadata": {
        "colab": {
          "base_uri": "https://localhost:8080/"
        },
        "id": "Vc-OQgMQF5PA",
        "outputId": "a21a0f85-357e-4171-b942-8e0a41b346d6"
      },
      "source": [
        "x = torch.rand(2, 3)\n",
        "torch.cat([x, x, x])"
      ],
      "execution_count": null,
      "outputs": [
        {
          "output_type": "execute_result",
          "data": {
            "text/plain": [
              "tensor([[0.4858, 0.0038, 0.1553],\n",
              "        [0.5837, 0.1532, 0.2017],\n",
              "        [0.4858, 0.0038, 0.1553],\n",
              "        [0.5837, 0.1532, 0.2017],\n",
              "        [0.4858, 0.0038, 0.1553],\n",
              "        [0.5837, 0.1532, 0.2017]])"
            ]
          },
          "metadata": {
            "tags": []
          },
          "execution_count": 40
        }
      ]
    },
    {
      "cell_type": "markdown",
      "metadata": {
        "id": "adlpjM2c4KV0"
      },
      "source": [
        "**Conclusion:** whatever the results are, we do not have appropriate resources at the moment to train nerual networks on GBs of data. "
      ]
    },
    {
      "cell_type": "code",
      "metadata": {
        "id": "M2MeJv5OF7MK"
      },
      "source": [
        ""
      ],
      "execution_count": null,
      "outputs": []
    }
  ]
}