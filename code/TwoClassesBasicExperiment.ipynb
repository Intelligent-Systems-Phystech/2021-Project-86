{
  "nbformat": 4,
  "nbformat_minor": 0,
  "metadata": {
    "kernelspec": {
      "display_name": "Python 3",
      "language": "python",
      "name": "python3"
    },
    "language_info": {
      "codemirror_mode": {
        "name": "ipython",
        "version": 3
      },
      "file_extension": ".py",
      "mimetype": "text/x-python",
      "name": "python",
      "nbconvert_exporter": "python",
      "pygments_lexer": "ipython3",
      "version": "3.6.13"
    },
    "colab": {
      "name": "TwoClassesBasicExperiment.ipynb",
      "provenance": [],
      "collapsed_sections": []
    },
    "widgets": {
      "application/vnd.jupyter.widget-state+json": {
        "779da7d856e9400fa9ae448b3811e64b": {
          "model_module": "@jupyter-widgets/controls",
          "model_name": "HBoxModel",
          "state": {
            "_view_name": "HBoxView",
            "_dom_classes": [],
            "_model_name": "HBoxModel",
            "_view_module": "@jupyter-widgets/controls",
            "_model_module_version": "1.5.0",
            "_view_count": null,
            "_view_module_version": "1.5.0",
            "box_style": "",
            "layout": "IPY_MODEL_3753f015a62842169047f042fc4995a1",
            "_model_module": "@jupyter-widgets/controls",
            "children": [
              "IPY_MODEL_73d1763df147486b8fe1656d4020028e",
              "IPY_MODEL_ebdf933a97864e68bf0740978116263b"
            ]
          }
        },
        "3753f015a62842169047f042fc4995a1": {
          "model_module": "@jupyter-widgets/base",
          "model_name": "LayoutModel",
          "state": {
            "_view_name": "LayoutView",
            "grid_template_rows": null,
            "right": null,
            "justify_content": null,
            "_view_module": "@jupyter-widgets/base",
            "overflow": null,
            "_model_module_version": "1.2.0",
            "_view_count": null,
            "flex_flow": null,
            "width": null,
            "min_width": null,
            "border": null,
            "align_items": null,
            "bottom": null,
            "_model_module": "@jupyter-widgets/base",
            "top": null,
            "grid_column": null,
            "overflow_y": null,
            "overflow_x": null,
            "grid_auto_flow": null,
            "grid_area": null,
            "grid_template_columns": null,
            "flex": null,
            "_model_name": "LayoutModel",
            "justify_items": null,
            "grid_row": null,
            "max_height": null,
            "align_content": null,
            "visibility": null,
            "align_self": null,
            "height": null,
            "min_height": null,
            "padding": null,
            "grid_auto_rows": null,
            "grid_gap": null,
            "max_width": null,
            "order": null,
            "_view_module_version": "1.2.0",
            "grid_template_areas": null,
            "object_position": null,
            "object_fit": null,
            "grid_auto_columns": null,
            "margin": null,
            "display": null,
            "left": null
          }
        },
        "73d1763df147486b8fe1656d4020028e": {
          "model_module": "@jupyter-widgets/controls",
          "model_name": "FloatProgressModel",
          "state": {
            "_view_name": "ProgressView",
            "style": "IPY_MODEL_c6a0b6acb4a54242af0c90e7c755d855",
            "_dom_classes": [],
            "description": "Downloading: 100%",
            "_model_name": "FloatProgressModel",
            "bar_style": "success",
            "max": 238187,
            "_view_module": "@jupyter-widgets/controls",
            "_model_module_version": "1.5.0",
            "value": 238187,
            "_view_count": null,
            "_view_module_version": "1.5.0",
            "orientation": "horizontal",
            "min": 0,
            "description_tooltip": null,
            "_model_module": "@jupyter-widgets/controls",
            "layout": "IPY_MODEL_5915a8978c3d481a9b95ee9a0a4ea868"
          }
        },
        "ebdf933a97864e68bf0740978116263b": {
          "model_module": "@jupyter-widgets/controls",
          "model_name": "HTMLModel",
          "state": {
            "_view_name": "HTMLView",
            "style": "IPY_MODEL_def562937ad5475aadc3121b71df3338",
            "_dom_classes": [],
            "description": "",
            "_model_name": "HTMLModel",
            "placeholder": "​",
            "_view_module": "@jupyter-widgets/controls",
            "_model_module_version": "1.5.0",
            "value": " 238k/238k [00:35&lt;00:00, 6.69kB/s]",
            "_view_count": null,
            "_view_module_version": "1.5.0",
            "description_tooltip": null,
            "_model_module": "@jupyter-widgets/controls",
            "layout": "IPY_MODEL_43d304a4a2c5494a9a62e0817d5558b2"
          }
        },
        "c6a0b6acb4a54242af0c90e7c755d855": {
          "model_module": "@jupyter-widgets/controls",
          "model_name": "ProgressStyleModel",
          "state": {
            "_view_name": "StyleView",
            "_model_name": "ProgressStyleModel",
            "description_width": "initial",
            "_view_module": "@jupyter-widgets/base",
            "_model_module_version": "1.5.0",
            "_view_count": null,
            "_view_module_version": "1.2.0",
            "bar_color": null,
            "_model_module": "@jupyter-widgets/controls"
          }
        },
        "5915a8978c3d481a9b95ee9a0a4ea868": {
          "model_module": "@jupyter-widgets/base",
          "model_name": "LayoutModel",
          "state": {
            "_view_name": "LayoutView",
            "grid_template_rows": null,
            "right": null,
            "justify_content": null,
            "_view_module": "@jupyter-widgets/base",
            "overflow": null,
            "_model_module_version": "1.2.0",
            "_view_count": null,
            "flex_flow": null,
            "width": null,
            "min_width": null,
            "border": null,
            "align_items": null,
            "bottom": null,
            "_model_module": "@jupyter-widgets/base",
            "top": null,
            "grid_column": null,
            "overflow_y": null,
            "overflow_x": null,
            "grid_auto_flow": null,
            "grid_area": null,
            "grid_template_columns": null,
            "flex": null,
            "_model_name": "LayoutModel",
            "justify_items": null,
            "grid_row": null,
            "max_height": null,
            "align_content": null,
            "visibility": null,
            "align_self": null,
            "height": null,
            "min_height": null,
            "padding": null,
            "grid_auto_rows": null,
            "grid_gap": null,
            "max_width": null,
            "order": null,
            "_view_module_version": "1.2.0",
            "grid_template_areas": null,
            "object_position": null,
            "object_fit": null,
            "grid_auto_columns": null,
            "margin": null,
            "display": null,
            "left": null
          }
        },
        "def562937ad5475aadc3121b71df3338": {
          "model_module": "@jupyter-widgets/controls",
          "model_name": "DescriptionStyleModel",
          "state": {
            "_view_name": "StyleView",
            "_model_name": "DescriptionStyleModel",
            "description_width": "",
            "_view_module": "@jupyter-widgets/base",
            "_model_module_version": "1.5.0",
            "_view_count": null,
            "_view_module_version": "1.2.0",
            "_model_module": "@jupyter-widgets/controls"
          }
        },
        "43d304a4a2c5494a9a62e0817d5558b2": {
          "model_module": "@jupyter-widgets/base",
          "model_name": "LayoutModel",
          "state": {
            "_view_name": "LayoutView",
            "grid_template_rows": null,
            "right": null,
            "justify_content": null,
            "_view_module": "@jupyter-widgets/base",
            "overflow": null,
            "_model_module_version": "1.2.0",
            "_view_count": null,
            "flex_flow": null,
            "width": null,
            "min_width": null,
            "border": null,
            "align_items": null,
            "bottom": null,
            "_model_module": "@jupyter-widgets/base",
            "top": null,
            "grid_column": null,
            "overflow_y": null,
            "overflow_x": null,
            "grid_auto_flow": null,
            "grid_area": null,
            "grid_template_columns": null,
            "flex": null,
            "_model_name": "LayoutModel",
            "justify_items": null,
            "grid_row": null,
            "max_height": null,
            "align_content": null,
            "visibility": null,
            "align_self": null,
            "height": null,
            "min_height": null,
            "padding": null,
            "grid_auto_rows": null,
            "grid_gap": null,
            "max_width": null,
            "order": null,
            "_view_module_version": "1.2.0",
            "grid_template_areas": null,
            "object_position": null,
            "object_fit": null,
            "grid_auto_columns": null,
            "margin": null,
            "display": null,
            "left": null
          }
        },
        "ece9aedb72ee4c5da0009dc8b8c4d3da": {
          "model_module": "@jupyter-widgets/controls",
          "model_name": "HBoxModel",
          "state": {
            "_view_name": "HBoxView",
            "_dom_classes": [],
            "_model_name": "HBoxModel",
            "_view_module": "@jupyter-widgets/controls",
            "_model_module_version": "1.5.0",
            "_view_count": null,
            "_view_module_version": "1.5.0",
            "box_style": "",
            "layout": "IPY_MODEL_17a8d10ed0aa4e12b8471573a015611e",
            "_model_module": "@jupyter-widgets/controls",
            "children": [
              "IPY_MODEL_7aadcf5e3b3a424c85becc4fca98a660",
              "IPY_MODEL_f042d2e42e764806a1f26fdd8cf8a1ce"
            ]
          }
        },
        "17a8d10ed0aa4e12b8471573a015611e": {
          "model_module": "@jupyter-widgets/base",
          "model_name": "LayoutModel",
          "state": {
            "_view_name": "LayoutView",
            "grid_template_rows": null,
            "right": null,
            "justify_content": null,
            "_view_module": "@jupyter-widgets/base",
            "overflow": null,
            "_model_module_version": "1.2.0",
            "_view_count": null,
            "flex_flow": null,
            "width": null,
            "min_width": null,
            "border": null,
            "align_items": null,
            "bottom": null,
            "_model_module": "@jupyter-widgets/base",
            "top": null,
            "grid_column": null,
            "overflow_y": null,
            "overflow_x": null,
            "grid_auto_flow": null,
            "grid_area": null,
            "grid_template_columns": null,
            "flex": null,
            "_model_name": "LayoutModel",
            "justify_items": null,
            "grid_row": null,
            "max_height": null,
            "align_content": null,
            "visibility": null,
            "align_self": null,
            "height": null,
            "min_height": null,
            "padding": null,
            "grid_auto_rows": null,
            "grid_gap": null,
            "max_width": null,
            "order": null,
            "_view_module_version": "1.2.0",
            "grid_template_areas": null,
            "object_position": null,
            "object_fit": null,
            "grid_auto_columns": null,
            "margin": null,
            "display": null,
            "left": null
          }
        },
        "7aadcf5e3b3a424c85becc4fca98a660": {
          "model_module": "@jupyter-widgets/controls",
          "model_name": "FloatProgressModel",
          "state": {
            "_view_name": "ProgressView",
            "style": "IPY_MODEL_0f37b9eaca6f4214a5cc384a089e5661",
            "_dom_classes": [],
            "description": "Downloading: 100%",
            "_model_name": "FloatProgressModel",
            "bar_style": "success",
            "max": 505,
            "_view_module": "@jupyter-widgets/controls",
            "_model_module_version": "1.5.0",
            "value": 505,
            "_view_count": null,
            "_view_module_version": "1.5.0",
            "orientation": "horizontal",
            "min": 0,
            "description_tooltip": null,
            "_model_module": "@jupyter-widgets/controls",
            "layout": "IPY_MODEL_fd6815d4b900439789bc86fda6d49c71"
          }
        },
        "f042d2e42e764806a1f26fdd8cf8a1ce": {
          "model_module": "@jupyter-widgets/controls",
          "model_name": "HTMLModel",
          "state": {
            "_view_name": "HTMLView",
            "style": "IPY_MODEL_18ce67aca94c4a38bb1d5ef5435748c2",
            "_dom_classes": [],
            "description": "",
            "_model_name": "HTMLModel",
            "placeholder": "​",
            "_view_module": "@jupyter-widgets/controls",
            "_model_module_version": "1.5.0",
            "value": " 505/505 [00:34&lt;00:00, 14.8B/s]",
            "_view_count": null,
            "_view_module_version": "1.5.0",
            "description_tooltip": null,
            "_model_module": "@jupyter-widgets/controls",
            "layout": "IPY_MODEL_2804956c77854884a6d90a6f2632710e"
          }
        },
        "0f37b9eaca6f4214a5cc384a089e5661": {
          "model_module": "@jupyter-widgets/controls",
          "model_name": "ProgressStyleModel",
          "state": {
            "_view_name": "StyleView",
            "_model_name": "ProgressStyleModel",
            "description_width": "initial",
            "_view_module": "@jupyter-widgets/base",
            "_model_module_version": "1.5.0",
            "_view_count": null,
            "_view_module_version": "1.2.0",
            "bar_color": null,
            "_model_module": "@jupyter-widgets/controls"
          }
        },
        "fd6815d4b900439789bc86fda6d49c71": {
          "model_module": "@jupyter-widgets/base",
          "model_name": "LayoutModel",
          "state": {
            "_view_name": "LayoutView",
            "grid_template_rows": null,
            "right": null,
            "justify_content": null,
            "_view_module": "@jupyter-widgets/base",
            "overflow": null,
            "_model_module_version": "1.2.0",
            "_view_count": null,
            "flex_flow": null,
            "width": null,
            "min_width": null,
            "border": null,
            "align_items": null,
            "bottom": null,
            "_model_module": "@jupyter-widgets/base",
            "top": null,
            "grid_column": null,
            "overflow_y": null,
            "overflow_x": null,
            "grid_auto_flow": null,
            "grid_area": null,
            "grid_template_columns": null,
            "flex": null,
            "_model_name": "LayoutModel",
            "justify_items": null,
            "grid_row": null,
            "max_height": null,
            "align_content": null,
            "visibility": null,
            "align_self": null,
            "height": null,
            "min_height": null,
            "padding": null,
            "grid_auto_rows": null,
            "grid_gap": null,
            "max_width": null,
            "order": null,
            "_view_module_version": "1.2.0",
            "grid_template_areas": null,
            "object_position": null,
            "object_fit": null,
            "grid_auto_columns": null,
            "margin": null,
            "display": null,
            "left": null
          }
        },
        "18ce67aca94c4a38bb1d5ef5435748c2": {
          "model_module": "@jupyter-widgets/controls",
          "model_name": "DescriptionStyleModel",
          "state": {
            "_view_name": "StyleView",
            "_model_name": "DescriptionStyleModel",
            "description_width": "",
            "_view_module": "@jupyter-widgets/base",
            "_model_module_version": "1.5.0",
            "_view_count": null,
            "_view_module_version": "1.2.0",
            "_model_module": "@jupyter-widgets/controls"
          }
        },
        "2804956c77854884a6d90a6f2632710e": {
          "model_module": "@jupyter-widgets/base",
          "model_name": "LayoutModel",
          "state": {
            "_view_name": "LayoutView",
            "grid_template_rows": null,
            "right": null,
            "justify_content": null,
            "_view_module": "@jupyter-widgets/base",
            "overflow": null,
            "_model_module_version": "1.2.0",
            "_view_count": null,
            "flex_flow": null,
            "width": null,
            "min_width": null,
            "border": null,
            "align_items": null,
            "bottom": null,
            "_model_module": "@jupyter-widgets/base",
            "top": null,
            "grid_column": null,
            "overflow_y": null,
            "overflow_x": null,
            "grid_auto_flow": null,
            "grid_area": null,
            "grid_template_columns": null,
            "flex": null,
            "_model_name": "LayoutModel",
            "justify_items": null,
            "grid_row": null,
            "max_height": null,
            "align_content": null,
            "visibility": null,
            "align_self": null,
            "height": null,
            "min_height": null,
            "padding": null,
            "grid_auto_rows": null,
            "grid_gap": null,
            "max_width": null,
            "order": null,
            "_view_module_version": "1.2.0",
            "grid_template_areas": null,
            "object_position": null,
            "object_fit": null,
            "grid_auto_columns": null,
            "margin": null,
            "display": null,
            "left": null
          }
        },
        "a21e9a5063854b7d9f67c786d79f11c5": {
          "model_module": "@jupyter-widgets/controls",
          "model_name": "HBoxModel",
          "state": {
            "_view_name": "HBoxView",
            "_dom_classes": [],
            "_model_name": "HBoxModel",
            "_view_module": "@jupyter-widgets/controls",
            "_model_module_version": "1.5.0",
            "_view_count": null,
            "_view_module_version": "1.5.0",
            "box_style": "",
            "layout": "IPY_MODEL_a7e03d27ce1c4e5d9a822412a4add037",
            "_model_module": "@jupyter-widgets/controls",
            "children": [
              "IPY_MODEL_612953f01e4e4eb4bf1f11d0499cce50",
              "IPY_MODEL_ea46b77835eb4b89b0ab52c705f7d59e"
            ]
          }
        },
        "a7e03d27ce1c4e5d9a822412a4add037": {
          "model_module": "@jupyter-widgets/base",
          "model_name": "LayoutModel",
          "state": {
            "_view_name": "LayoutView",
            "grid_template_rows": null,
            "right": null,
            "justify_content": null,
            "_view_module": "@jupyter-widgets/base",
            "overflow": null,
            "_model_module_version": "1.2.0",
            "_view_count": null,
            "flex_flow": null,
            "width": null,
            "min_width": null,
            "border": null,
            "align_items": null,
            "bottom": null,
            "_model_module": "@jupyter-widgets/base",
            "top": null,
            "grid_column": null,
            "overflow_y": null,
            "overflow_x": null,
            "grid_auto_flow": null,
            "grid_area": null,
            "grid_template_columns": null,
            "flex": null,
            "_model_name": "LayoutModel",
            "justify_items": null,
            "grid_row": null,
            "max_height": null,
            "align_content": null,
            "visibility": null,
            "align_self": null,
            "height": null,
            "min_height": null,
            "padding": null,
            "grid_auto_rows": null,
            "grid_gap": null,
            "max_width": null,
            "order": null,
            "_view_module_version": "1.2.0",
            "grid_template_areas": null,
            "object_position": null,
            "object_fit": null,
            "grid_auto_columns": null,
            "margin": null,
            "display": null,
            "left": null
          }
        },
        "612953f01e4e4eb4bf1f11d0499cce50": {
          "model_module": "@jupyter-widgets/controls",
          "model_name": "FloatProgressModel",
          "state": {
            "_view_name": "ProgressView",
            "style": "IPY_MODEL_b300d57d06dc46a89bb123ec93b48a90",
            "_dom_classes": [],
            "description": "Downloading: 100%",
            "_model_name": "FloatProgressModel",
            "bar_style": "success",
            "max": 897396780,
            "_view_module": "@jupyter-widgets/controls",
            "_model_module_version": "1.5.0",
            "value": 897396780,
            "_view_count": null,
            "_view_module_version": "1.5.0",
            "orientation": "horizontal",
            "min": 0,
            "description_tooltip": null,
            "_model_module": "@jupyter-widgets/controls",
            "layout": "IPY_MODEL_88fb2904b4f340369b117e1f8cfda52b"
          }
        },
        "ea46b77835eb4b89b0ab52c705f7d59e": {
          "model_module": "@jupyter-widgets/controls",
          "model_name": "HTMLModel",
          "state": {
            "_view_name": "HTMLView",
            "style": "IPY_MODEL_282bc303627f4df89458b855e6e19ec4",
            "_dom_classes": [],
            "description": "",
            "_model_name": "HTMLModel",
            "placeholder": "​",
            "_view_module": "@jupyter-widgets/controls",
            "_model_module_version": "1.5.0",
            "value": " 897M/897M [00:16&lt;00:00, 54.5MB/s]",
            "_view_count": null,
            "_view_module_version": "1.5.0",
            "description_tooltip": null,
            "_model_module": "@jupyter-widgets/controls",
            "layout": "IPY_MODEL_b8bee38892cb46ef99c085321cda454c"
          }
        },
        "b300d57d06dc46a89bb123ec93b48a90": {
          "model_module": "@jupyter-widgets/controls",
          "model_name": "ProgressStyleModel",
          "state": {
            "_view_name": "StyleView",
            "_model_name": "ProgressStyleModel",
            "description_width": "initial",
            "_view_module": "@jupyter-widgets/base",
            "_model_module_version": "1.5.0",
            "_view_count": null,
            "_view_module_version": "1.2.0",
            "bar_color": null,
            "_model_module": "@jupyter-widgets/controls"
          }
        },
        "88fb2904b4f340369b117e1f8cfda52b": {
          "model_module": "@jupyter-widgets/base",
          "model_name": "LayoutModel",
          "state": {
            "_view_name": "LayoutView",
            "grid_template_rows": null,
            "right": null,
            "justify_content": null,
            "_view_module": "@jupyter-widgets/base",
            "overflow": null,
            "_model_module_version": "1.2.0",
            "_view_count": null,
            "flex_flow": null,
            "width": null,
            "min_width": null,
            "border": null,
            "align_items": null,
            "bottom": null,
            "_model_module": "@jupyter-widgets/base",
            "top": null,
            "grid_column": null,
            "overflow_y": null,
            "overflow_x": null,
            "grid_auto_flow": null,
            "grid_area": null,
            "grid_template_columns": null,
            "flex": null,
            "_model_name": "LayoutModel",
            "justify_items": null,
            "grid_row": null,
            "max_height": null,
            "align_content": null,
            "visibility": null,
            "align_self": null,
            "height": null,
            "min_height": null,
            "padding": null,
            "grid_auto_rows": null,
            "grid_gap": null,
            "max_width": null,
            "order": null,
            "_view_module_version": "1.2.0",
            "grid_template_areas": null,
            "object_position": null,
            "object_fit": null,
            "grid_auto_columns": null,
            "margin": null,
            "display": null,
            "left": null
          }
        },
        "282bc303627f4df89458b855e6e19ec4": {
          "model_module": "@jupyter-widgets/controls",
          "model_name": "DescriptionStyleModel",
          "state": {
            "_view_name": "StyleView",
            "_model_name": "DescriptionStyleModel",
            "description_width": "",
            "_view_module": "@jupyter-widgets/base",
            "_model_module_version": "1.5.0",
            "_view_count": null,
            "_view_module_version": "1.2.0",
            "_model_module": "@jupyter-widgets/controls"
          }
        },
        "b8bee38892cb46ef99c085321cda454c": {
          "model_module": "@jupyter-widgets/base",
          "model_name": "LayoutModel",
          "state": {
            "_view_name": "LayoutView",
            "grid_template_rows": null,
            "right": null,
            "justify_content": null,
            "_view_module": "@jupyter-widgets/base",
            "overflow": null,
            "_model_module_version": "1.2.0",
            "_view_count": null,
            "flex_flow": null,
            "width": null,
            "min_width": null,
            "border": null,
            "align_items": null,
            "bottom": null,
            "_model_module": "@jupyter-widgets/base",
            "top": null,
            "grid_column": null,
            "overflow_y": null,
            "overflow_x": null,
            "grid_auto_flow": null,
            "grid_area": null,
            "grid_template_columns": null,
            "flex": null,
            "_model_name": "LayoutModel",
            "justify_items": null,
            "grid_row": null,
            "max_height": null,
            "align_content": null,
            "visibility": null,
            "align_self": null,
            "height": null,
            "min_height": null,
            "padding": null,
            "grid_auto_rows": null,
            "grid_gap": null,
            "max_width": null,
            "order": null,
            "_view_module_version": "1.2.0",
            "grid_template_areas": null,
            "object_position": null,
            "object_fit": null,
            "grid_auto_columns": null,
            "margin": null,
            "display": null,
            "left": null
          }
        },
        "fc2a04e7ae5d4089b7753d5d62f0a261": {
          "model_module": "@jupyter-widgets/controls",
          "model_name": "HBoxModel",
          "state": {
            "_view_name": "HBoxView",
            "_dom_classes": [],
            "_model_name": "HBoxModel",
            "_view_module": "@jupyter-widgets/controls",
            "_model_module_version": "1.5.0",
            "_view_count": null,
            "_view_module_version": "1.5.0",
            "box_style": "",
            "layout": "IPY_MODEL_2b857ff58112427b9c7f08e2ebd215ba",
            "_model_module": "@jupyter-widgets/controls",
            "children": [
              "IPY_MODEL_efe2240cf44148afb6cc7998e095f677",
              "IPY_MODEL_78682d9c83f6495fab07703c97105b13"
            ]
          }
        },
        "2b857ff58112427b9c7f08e2ebd215ba": {
          "model_module": "@jupyter-widgets/base",
          "model_name": "LayoutModel",
          "state": {
            "_view_name": "LayoutView",
            "grid_template_rows": null,
            "right": null,
            "justify_content": null,
            "_view_module": "@jupyter-widgets/base",
            "overflow": null,
            "_model_module_version": "1.2.0",
            "_view_count": null,
            "flex_flow": null,
            "width": null,
            "min_width": null,
            "border": null,
            "align_items": null,
            "bottom": null,
            "_model_module": "@jupyter-widgets/base",
            "top": null,
            "grid_column": null,
            "overflow_y": null,
            "overflow_x": null,
            "grid_auto_flow": null,
            "grid_area": null,
            "grid_template_columns": null,
            "flex": null,
            "_model_name": "LayoutModel",
            "justify_items": null,
            "grid_row": null,
            "max_height": null,
            "align_content": null,
            "visibility": null,
            "align_self": null,
            "height": null,
            "min_height": null,
            "padding": null,
            "grid_auto_rows": null,
            "grid_gap": null,
            "max_width": null,
            "order": null,
            "_view_module_version": "1.2.0",
            "grid_template_areas": null,
            "object_position": null,
            "object_fit": null,
            "grid_auto_columns": null,
            "margin": null,
            "display": null,
            "left": null
          }
        },
        "efe2240cf44148afb6cc7998e095f677": {
          "model_module": "@jupyter-widgets/controls",
          "model_name": "FloatProgressModel",
          "state": {
            "_view_name": "ProgressView",
            "style": "IPY_MODEL_bd74f74477f74287ae1d0685f280f08d",
            "_dom_classes": [],
            "description": "100%",
            "_model_name": "FloatProgressModel",
            "bar_style": "success",
            "max": 134,
            "_view_module": "@jupyter-widgets/controls",
            "_model_module_version": "1.5.0",
            "value": 134,
            "_view_count": null,
            "_view_module_version": "1.5.0",
            "orientation": "horizontal",
            "min": 0,
            "description_tooltip": null,
            "_model_module": "@jupyter-widgets/controls",
            "layout": "IPY_MODEL_d1ead2459a944151a08ad533b5a03df2"
          }
        },
        "78682d9c83f6495fab07703c97105b13": {
          "model_module": "@jupyter-widgets/controls",
          "model_name": "HTMLModel",
          "state": {
            "_view_name": "HTMLView",
            "style": "IPY_MODEL_49dea8a2cbe048b3b96e9dbf874edc06",
            "_dom_classes": [],
            "description": "",
            "_model_name": "HTMLModel",
            "placeholder": "​",
            "_view_module": "@jupyter-widgets/controls",
            "_model_module_version": "1.5.0",
            "value": " 134/134 [08:12&lt;00:00,  3.68s/it]",
            "_view_count": null,
            "_view_module_version": "1.5.0",
            "description_tooltip": null,
            "_model_module": "@jupyter-widgets/controls",
            "layout": "IPY_MODEL_7a85c6ca7d8e4cd38c5427900af75e4c"
          }
        },
        "bd74f74477f74287ae1d0685f280f08d": {
          "model_module": "@jupyter-widgets/controls",
          "model_name": "ProgressStyleModel",
          "state": {
            "_view_name": "StyleView",
            "_model_name": "ProgressStyleModel",
            "description_width": "initial",
            "_view_module": "@jupyter-widgets/base",
            "_model_module_version": "1.5.0",
            "_view_count": null,
            "_view_module_version": "1.2.0",
            "bar_color": null,
            "_model_module": "@jupyter-widgets/controls"
          }
        },
        "d1ead2459a944151a08ad533b5a03df2": {
          "model_module": "@jupyter-widgets/base",
          "model_name": "LayoutModel",
          "state": {
            "_view_name": "LayoutView",
            "grid_template_rows": null,
            "right": null,
            "justify_content": null,
            "_view_module": "@jupyter-widgets/base",
            "overflow": null,
            "_model_module_version": "1.2.0",
            "_view_count": null,
            "flex_flow": null,
            "width": null,
            "min_width": null,
            "border": null,
            "align_items": null,
            "bottom": null,
            "_model_module": "@jupyter-widgets/base",
            "top": null,
            "grid_column": null,
            "overflow_y": null,
            "overflow_x": null,
            "grid_auto_flow": null,
            "grid_area": null,
            "grid_template_columns": null,
            "flex": null,
            "_model_name": "LayoutModel",
            "justify_items": null,
            "grid_row": null,
            "max_height": null,
            "align_content": null,
            "visibility": null,
            "align_self": null,
            "height": null,
            "min_height": null,
            "padding": null,
            "grid_auto_rows": null,
            "grid_gap": null,
            "max_width": null,
            "order": null,
            "_view_module_version": "1.2.0",
            "grid_template_areas": null,
            "object_position": null,
            "object_fit": null,
            "grid_auto_columns": null,
            "margin": null,
            "display": null,
            "left": null
          }
        },
        "49dea8a2cbe048b3b96e9dbf874edc06": {
          "model_module": "@jupyter-widgets/controls",
          "model_name": "DescriptionStyleModel",
          "state": {
            "_view_name": "StyleView",
            "_model_name": "DescriptionStyleModel",
            "description_width": "",
            "_view_module": "@jupyter-widgets/base",
            "_model_module_version": "1.5.0",
            "_view_count": null,
            "_view_module_version": "1.2.0",
            "_model_module": "@jupyter-widgets/controls"
          }
        },
        "7a85c6ca7d8e4cd38c5427900af75e4c": {
          "model_module": "@jupyter-widgets/base",
          "model_name": "LayoutModel",
          "state": {
            "_view_name": "LayoutView",
            "grid_template_rows": null,
            "right": null,
            "justify_content": null,
            "_view_module": "@jupyter-widgets/base",
            "overflow": null,
            "_model_module_version": "1.2.0",
            "_view_count": null,
            "flex_flow": null,
            "width": null,
            "min_width": null,
            "border": null,
            "align_items": null,
            "bottom": null,
            "_model_module": "@jupyter-widgets/base",
            "top": null,
            "grid_column": null,
            "overflow_y": null,
            "overflow_x": null,
            "grid_auto_flow": null,
            "grid_area": null,
            "grid_template_columns": null,
            "flex": null,
            "_model_name": "LayoutModel",
            "justify_items": null,
            "grid_row": null,
            "max_height": null,
            "align_content": null,
            "visibility": null,
            "align_self": null,
            "height": null,
            "min_height": null,
            "padding": null,
            "grid_auto_rows": null,
            "grid_gap": null,
            "max_width": null,
            "order": null,
            "_view_module_version": "1.2.0",
            "grid_template_areas": null,
            "object_position": null,
            "object_fit": null,
            "grid_auto_columns": null,
            "margin": null,
            "display": null,
            "left": null
          }
        }
      }
    },
    "accelerator": "GPU"
  },
  "cells": [
    {
      "cell_type": "markdown",
      "metadata": {
        "id": "KwsmQ-yHSCiE"
      },
      "source": [
        "# Basic experiment section\n",
        "\n",
        "Previous experiments showed that working with all 1517 is complicated. For the sake of simplicity, here we will choose just 2 relativel balanced classes and solve classification problem for them. "
      ]
    },
    {
      "cell_type": "markdown",
      "metadata": {
        "id": "y7PQmzo5SCiO"
      },
      "source": [
        "## Data preparation\n",
        "\n",
        "Here we just use data preparation module to get sample and target and extract 2 desired classes from them. "
      ]
    },
    {
      "cell_type": "code",
      "metadata": {
        "ExecuteTime": {
          "end_time": "2021-03-18T08:04:02.023211Z",
          "start_time": "2021-03-18T08:03:58.232132Z"
        },
        "id": "keWV7Dk0SCiP",
        "colab": {
          "base_uri": "https://localhost:8080/"
        },
        "outputId": "d4234580-a9eb-4dcb-dc2d-5dffe3e348c4"
      },
      "source": [
        "import numpy as np\n",
        "import pandas as pd\n",
        "import matplotlib.pyplot as plt\n",
        "from torch import nn\n",
        "! pip3 install torchinfo\n",
        "from torchinfo import summary\n",
        "import torchvision\n",
        "import torch \n",
        "from IPython.display import clear_output\n",
        "from torch.utils.data import Dataset, random_split\n",
        "import torch.nn.functional as F\n",
        "from sklearn.model_selection import train_test_split\n",
        "\n",
        "from collections import defaultdict\n",
        "import time\n"
      ],
      "execution_count": 1,
      "outputs": [
        {
          "output_type": "stream",
          "text": [
            "Collecting torchinfo\n",
            "  Downloading https://files.pythonhosted.org/packages/58/de/c2bb79cd6bb57e63feed501943cf55a197f25ae25f883ec19901843e466b/torchinfo-0.0.9-py3-none-any.whl\n",
            "Installing collected packages: torchinfo\n",
            "Successfully installed torchinfo-0.0.9\n"
          ],
          "name": "stdout"
        }
      ]
    },
    {
      "cell_type": "code",
      "metadata": {
        "id": "oj8kSSRX2Xlg"
      },
      "source": [
        "import os\n",
        "import shutil\n",
        "\n",
        "import glob\n",
        "import requests"
      ],
      "execution_count": 2,
      "outputs": []
    },
    {
      "cell_type": "code",
      "metadata": {
        "colab": {
          "base_uri": "https://localhost:8080/"
        },
        "id": "IlwgfJO42zsA",
        "outputId": "62123706-4fcd-4c50-bb0a-a178ea097b04"
      },
      "source": [
        "from google.colab import drive\n",
        "drive.mount('/content/drive')"
      ],
      "execution_count": 3,
      "outputs": [
        {
          "output_type": "stream",
          "text": [
            "Mounted at /content/drive\n"
          ],
          "name": "stdout"
        }
      ]
    },
    {
      "cell_type": "code",
      "metadata": {
        "id": "RlScrDaUSOzH"
      },
      "source": [
        "!pip install transformers"
      ],
      "execution_count": null,
      "outputs": []
    },
    {
      "cell_type": "code",
      "metadata": {
        "colab": {
          "base_uri": "https://localhost:8080/"
        },
        "id": "LehW2AUtSdIE",
        "outputId": "c0d5a47c-8e13-4046-ba76-688b9b283e0a"
      },
      "source": [
        "!pip install sentencepiece"
      ],
      "execution_count": null,
      "outputs": [
        {
          "output_type": "stream",
          "text": [
            "Collecting sentencepiece\n",
            "\u001b[?25l  Downloading https://files.pythonhosted.org/packages/f5/99/e0808cb947ba10f575839c43e8fafc9cc44e4a7a2c8f79c60db48220a577/sentencepiece-0.1.95-cp37-cp37m-manylinux2014_x86_64.whl (1.2MB)\n",
            "\u001b[K     |████████████████████████████████| 1.2MB 5.1MB/s \n",
            "\u001b[?25hInstalling collected packages: sentencepiece\n",
            "Successfully installed sentencepiece-0.1.95\n"
          ],
          "name": "stdout"
        }
      ]
    },
    {
      "cell_type": "code",
      "metadata": {
        "ExecuteTime": {
          "end_time": "2021-03-18T08:04:12.801139Z",
          "start_time": "2021-03-18T08:04:07.031324Z"
        },
        "id": "mHOn9NqVSCiS"
      },
      "source": [
        "from transformers import AlbertTokenizer, XLNetTokenizer, AutoModel, pipeline\n",
        "import re\n",
        "import os\n",
        "import requests\n",
        "from tqdm.auto import tqdm"
      ],
      "execution_count": null,
      "outputs": []
    },
    {
      "cell_type": "code",
      "metadata": {
        "ExecuteTime": {
          "end_time": "2021-03-18T08:08:29.656566Z",
          "start_time": "2021-03-18T08:08:24.881311Z"
        },
        "id": "uGTgObqDSCiV",
        "colab": {
          "base_uri": "https://localhost:8080/",
          "height": 68,
          "referenced_widgets": [
            "779da7d856e9400fa9ae448b3811e64b",
            "3753f015a62842169047f042fc4995a1",
            "73d1763df147486b8fe1656d4020028e",
            "ebdf933a97864e68bf0740978116263b",
            "c6a0b6acb4a54242af0c90e7c755d855",
            "5915a8978c3d481a9b95ee9a0a4ea868",
            "def562937ad5475aadc3121b71df3338",
            "43d304a4a2c5494a9a62e0817d5558b2"
          ]
        },
        "outputId": "6c9399cf-e001-4461-8aac-f202df6cf08f"
      },
      "source": [
        "tokenizer = AlbertTokenizer.from_pretrained(\"Rostlab/prot_albert\", do_lower_case=False )\n",
        "#tokenizer = XLNetTokenizer.from_pretrained(\"Rostlab/prot_xlnet\", do_lower_case=False)\n",
        "\n"
      ],
      "execution_count": null,
      "outputs": [
        {
          "output_type": "display_data",
          "data": {
            "application/vnd.jupyter.widget-view+json": {
              "model_id": "779da7d856e9400fa9ae448b3811e64b",
              "version_minor": 0,
              "version_major": 2
            },
            "text/plain": [
              "HBox(children=(FloatProgress(value=0.0, description='Downloading', max=238187.0, style=ProgressStyle(descripti…"
            ]
          },
          "metadata": {
            "tags": []
          }
        },
        {
          "output_type": "stream",
          "text": [
            "\n"
          ],
          "name": "stdout"
        }
      ]
    },
    {
      "cell_type": "code",
      "metadata": {
        "ExecuteTime": {
          "end_time": "2021-03-18T08:08:38.853307Z",
          "start_time": "2021-03-18T08:08:29.658397Z"
        },
        "id": "imutu--HSCiV",
        "colab": {
          "base_uri": "https://localhost:8080/",
          "height": 118,
          "referenced_widgets": [
            "ece9aedb72ee4c5da0009dc8b8c4d3da",
            "17a8d10ed0aa4e12b8471573a015611e",
            "7aadcf5e3b3a424c85becc4fca98a660",
            "f042d2e42e764806a1f26fdd8cf8a1ce",
            "0f37b9eaca6f4214a5cc384a089e5661",
            "fd6815d4b900439789bc86fda6d49c71",
            "18ce67aca94c4a38bb1d5ef5435748c2",
            "2804956c77854884a6d90a6f2632710e",
            "a21e9a5063854b7d9f67c786d79f11c5",
            "a7e03d27ce1c4e5d9a822412a4add037",
            "612953f01e4e4eb4bf1f11d0499cce50",
            "ea46b77835eb4b89b0ab52c705f7d59e",
            "b300d57d06dc46a89bb123ec93b48a90",
            "88fb2904b4f340369b117e1f8cfda52b",
            "282bc303627f4df89458b855e6e19ec4",
            "b8bee38892cb46ef99c085321cda454c"
          ]
        },
        "outputId": "f6df6a8b-5d08-41a2-9e75-8d96d8a6244a"
      },
      "source": [
        "model = AutoModel.from_pretrained(\"Rostlab/prot_albert\")\n",
        "#model = AutoModel.from_pretrained(\"Rostlab/prot_xlnet\")"
      ],
      "execution_count": null,
      "outputs": [
        {
          "output_type": "display_data",
          "data": {
            "application/vnd.jupyter.widget-view+json": {
              "model_id": "ece9aedb72ee4c5da0009dc8b8c4d3da",
              "version_minor": 0,
              "version_major": 2
            },
            "text/plain": [
              "HBox(children=(FloatProgress(value=0.0, description='Downloading', max=505.0, style=ProgressStyle(description_…"
            ]
          },
          "metadata": {
            "tags": []
          }
        },
        {
          "output_type": "stream",
          "text": [
            "\n"
          ],
          "name": "stdout"
        },
        {
          "output_type": "display_data",
          "data": {
            "application/vnd.jupyter.widget-view+json": {
              "model_id": "a21e9a5063854b7d9f67c786d79f11c5",
              "version_minor": 0,
              "version_major": 2
            },
            "text/plain": [
              "HBox(children=(FloatProgress(value=0.0, description='Downloading', max=897396780.0, style=ProgressStyle(descri…"
            ]
          },
          "metadata": {
            "tags": []
          }
        },
        {
          "output_type": "stream",
          "text": [
            "\n"
          ],
          "name": "stdout"
        }
      ]
    },
    {
      "cell_type": "code",
      "metadata": {
        "ExecuteTime": {
          "end_time": "2021-03-18T08:08:48.340349Z",
          "start_time": "2021-03-18T08:08:48.326321Z"
        },
        "id": "RdN7QGIbSCiW"
      },
      "source": [
        "fe = pipeline('feature-extraction', model=model, tokenizer=tokenizer,device=0)"
      ],
      "execution_count": null,
      "outputs": []
    },
    {
      "cell_type": "code",
      "metadata": {
        "colab": {
          "base_uri": "https://localhost:8080/",
          "height": 206
        },
        "id": "pwGoTyYvKqIg",
        "outputId": "d608d5be-15a9-458f-ca87-6895ba63d60e"
      },
      "source": [
        "seq_data = pd.read_csv(\"/content/drive/MyDrive/m1p/seq_to_fold.csv\")\n",
        "seq_data = seq_data[[\"FOLD\", \"sequence\"]]\n",
        "seq_data.head()"
      ],
      "execution_count": null,
      "outputs": [
        {
          "output_type": "execute_result",
          "data": {
            "text/html": [
              "<div>\n",
              "<style scoped>\n",
              "    .dataframe tbody tr th:only-of-type {\n",
              "        vertical-align: middle;\n",
              "    }\n",
              "\n",
              "    .dataframe tbody tr th {\n",
              "        vertical-align: top;\n",
              "    }\n",
              "\n",
              "    .dataframe thead th {\n",
              "        text-align: right;\n",
              "    }\n",
              "</style>\n",
              "<table border=\"1\" class=\"dataframe\">\n",
              "  <thead>\n",
              "    <tr style=\"text-align: right;\">\n",
              "      <th></th>\n",
              "      <th>FOLD</th>\n",
              "      <th>sequence</th>\n",
              "    </tr>\n",
              "  </thead>\n",
              "  <tbody>\n",
              "    <tr>\n",
              "      <th>0</th>\n",
              "      <td>1400</td>\n",
              "      <td>DMKRQQRFFRIPFIRPADQYKDPQNKKKGWWYAHFDGPWIARQMEL...</td>\n",
              "    </tr>\n",
              "    <tr>\n",
              "      <th>1</th>\n",
              "      <td>1400</td>\n",
              "      <td>RQREIEMNRQQRFFRIPFIRPADQYKDPQSKKKGWWYAHFDGPWIA...</td>\n",
              "    </tr>\n",
              "    <tr>\n",
              "      <th>2</th>\n",
              "      <td>11</td>\n",
              "      <td>MKIKVALLDKDKEYLDRLTGVFNTKYADKLEVYSFTDEKNAIESVK...</td>\n",
              "    </tr>\n",
              "    <tr>\n",
              "      <th>3</th>\n",
              "      <td>11</td>\n",
              "      <td>QTPHILIVEDELVTRNTLKSIFEAEGYDVFEATDGAEMHQILSEYD...</td>\n",
              "    </tr>\n",
              "    <tr>\n",
              "      <th>4</th>\n",
              "      <td>11</td>\n",
              "      <td>SFERVFGKRVIILGGGALVSQVAIGAISEADRHNLRGERISVDTMP...</td>\n",
              "    </tr>\n",
              "  </tbody>\n",
              "</table>\n",
              "</div>"
            ],
            "text/plain": [
              "   FOLD                                           sequence\n",
              "0  1400  DMKRQQRFFRIPFIRPADQYKDPQNKKKGWWYAHFDGPWIARQMEL...\n",
              "1  1400  RQREIEMNRQQRFFRIPFIRPADQYKDPQSKKKGWWYAHFDGPWIA...\n",
              "2    11  MKIKVALLDKDKEYLDRLTGVFNTKYADKLEVYSFTDEKNAIESVK...\n",
              "3    11  QTPHILIVEDELVTRNTLKSIFEAEGYDVFEATDGAEMHQILSEYD...\n",
              "4    11  SFERVFGKRVIILGGGALVSQVAIGAISEADRHNLRGERISVDTMP..."
            ]
          },
          "metadata": {
            "tags": []
          },
          "execution_count": 86
        }
      ]
    },
    {
      "cell_type": "markdown",
      "metadata": {
        "id": "lAIpf5FW8TdA"
      },
      "source": [
        "## Choosing two balanced classes.\n",
        "\n",
        "This section is devoted to narrowing the dataset to just two classes. "
      ]
    },
    {
      "cell_type": "code",
      "metadata": {
        "id": "Tz_flZRK8czZ"
      },
      "source": [
        "def print_fold_info(fold_id, data):\n",
        "  \"\"\"\n",
        "  Plots distribution of sequence lengths in fold as well as number of sequences.\n",
        "  \"\"\"\n",
        "  fold_data = data[data['FOLD'] == fold_id]\n",
        "  sequences = fold_data.loc[:, \"sequence\"]\n",
        "  lengths = sequences.apply(lambda x:  len(x))\n",
        "  plt.figure(figsize = (9, 6))\n",
        "  plt.hist(lengths, bins = 15, density=False, facecolor='purple', alpha=0.55)\n",
        "  plt.xlabel('Length')\n",
        "  plt.ylabel('Number of elements')\n",
        "  plt.title(f'Histogram of sequence lengths for fold {fold_id}')\n",
        "  plt.grid(True)\n",
        "  plt.show()\n",
        "  print(f\"Number of elements in fold = {len(sequences)}\")\n",
        "\n",
        "def compare_folds(fold_id, fold_other, data):\n",
        "  \"\"\"\n",
        "  Plots distribution of sequence lengths in fold as well as number of sequences\n",
        "  for two given folds.\n",
        "  \"\"\"\n",
        "  fold_data1 = data[data['FOLD'] == fold_id]\n",
        "  sequences1 = fold_data1.loc[:, \"sequence\"]\n",
        "  lengths1 = sequences1.apply(lambda x:  len(x))\n",
        "  fold_data2 = data[data['FOLD'] == fold_other]\n",
        "  sequences2 = fold_data2.loc[:, \"sequence\"]\n",
        "  lengths2 = sequences2.apply(lambda x:  len(x))\n",
        "  plt.figure(figsize = (9, 6))\n",
        "  plt.hist(lengths1, bins = 15, density=True, facecolor='purple', alpha=0.5, \n",
        "           label = f\"fold_id = {fold_id}\")\n",
        "  plt.hist(lengths2, bins = 15, density=True, facecolor='green', alpha=0.5, \n",
        "           label = f\"fold_id = {fold_other}\")\n",
        "  plt.xlabel('Length')\n",
        "  plt.ylabel('Density')\n",
        "  plt.title(f'Comparison of two given folds')\n",
        "  plt.grid(True)\n",
        "  plt.legend()\n",
        "  plt.show()\n",
        "  print(f\"Number of elements in fold {fold_id} = {len(sequences1)}, in\" \n",
        "  f\" fold {fold_other} = {len(sequences2)}\")\n"
      ],
      "execution_count": null,
      "outputs": []
    },
    {
      "cell_type": "markdown",
      "metadata": {
        "id": "Yo2--jbj-pui"
      },
      "source": [
        "First, we fix relatively balanced fold (finding it manually). "
      ]
    },
    {
      "cell_type": "code",
      "metadata": {
        "colab": {
          "base_uri": "https://localhost:8080/",
          "height": 423
        },
        "id": "Sk61ZmjM-neg",
        "outputId": "9cd1a51e-9aff-4b40-d678-4c32c9dee0e6"
      },
      "source": [
        "print_fold_info(3, seq_data)"
      ],
      "execution_count": null,
      "outputs": [
        {
          "output_type": "display_data",
          "data": {
            "image/png": "[encoded data removed]",
            "text/plain": [
              "<Figure size 648x432 with 1 Axes>"
            ]
          },
          "metadata": {
            "tags": [],
            "needs_background": "light"
          }
        },
        {
          "output_type": "stream",
          "text": [
            "Number of elements in fold = 66\n"
          ],
          "name": "stdout"
        }
      ]
    },
    {
      "cell_type": "markdown",
      "metadata": {
        "id": "88IPXk9D_H0U"
      },
      "source": [
        "After finding that fold 3 is relatively balanced, we shall find a pair for it. "
      ]
    },
    {
      "cell_type": "code",
      "metadata": {
        "colab": {
          "base_uri": "https://localhost:8080/",
          "height": 1000
        },
        "id": "pRCAoXvT9j5h",
        "outputId": "92d28adb-a1be-4529-a56e-2c468fac66d3"
      },
      "source": [
        "for i in (19, 29, 51, 64, 73):\n",
        "  compare_folds(3, i, seq_data)"
      ],
      "execution_count": null,
      "outputs": [
        {
          "output_type": "display_data",
          "data": {
            "image/png": "[encoded data removed]",
            "text/plain": [
              "<Figure size 648x432 with 1 Axes>"
            ]
          },
          "metadata": {
            "tags": [],
            "needs_background": "light"
          }
        },
        {
          "output_type": "stream",
          "text": [
            "Number of elements in fold 3 = 66, in fold 19 = 187\n"
          ],
          "name": "stdout"
        },
        {
          "output_type": "display_data",
          "data": {
            "image/png": "[encoded data removed]",
            "text/plain": [
              "<Figure size 648x432 with 1 Axes>"
            ]
          },
          "metadata": {
            "tags": [],
            "needs_background": "light"
          }
        },
        {
          "output_type": "stream",
          "text": [
            "Number of elements in fold 3 = 66, in fold 29 = 52\n"
          ],
          "name": "stdout"
        },
        {
          "output_type": "display_data",
          "data": {
            "image/png": "[encoded data removed]",
            "text/plain": [
              "<Figure size 648x432 with 1 Axes>"
            ]
          },
          "metadata": {
            "tags": [],
            "needs_background": "light"
          }
        },
        {
          "output_type": "stream",
          "text": [
            "Number of elements in fold 3 = 66, in fold 51 = 80\n"
          ],
          "name": "stdout"
        },
        {
          "output_type": "display_data",
          "data": {
            "image/png": "[encoded data removed]",
            "text/plain": [
              "<Figure size 648x432 with 1 Axes>"
            ]
          },
          "metadata": {
            "tags": [],
            "needs_background": "light"
          }
        },
        {
          "output_type": "stream",
          "text": [
            "Number of elements in fold 3 = 66, in fold 64 = 62\n"
          ],
          "name": "stdout"
        },
        {
          "output_type": "display_data",
          "data": {
            "image/png": "[encoded data removed]",
            "text/plain": [
              "<Figure size 648x432 with 1 Axes>"
            ]
          },
          "metadata": {
            "tags": [],
            "needs_background": "light"
          }
        },
        {
          "output_type": "stream",
          "text": [
            "Number of elements in fold 3 = 66, in fold 73 = 328\n"
          ],
          "name": "stdout"
        }
      ]
    },
    {
      "cell_type": "markdown",
      "metadata": {
        "id": "zqxw0DvlDGsN"
      },
      "source": [
        "**Conclusion:** classes 3 and 51 have quite similar distribution of lengths and the number of sequences in each fold is close (66 and 80). We've decided to choose these two classes. "
      ]
    },
    {
      "cell_type": "code",
      "metadata": {
        "colab": {
          "base_uri": "https://localhost:8080/",
          "height": 423
        },
        "id": "KeRnlAITKvly",
        "outputId": "343ef0a5-8d1a-4f78-a26c-93e61070f6c1"
      },
      "source": [
        "compare_folds(3, 51, seq_data)"
      ],
      "execution_count": null,
      "outputs": [
        {
          "output_type": "display_data",
          "data": {
            "image/png": "[encoded data removed]",
            "text/plain": [
              "<Figure size 648x432 with 1 Axes>"
            ]
          },
          "metadata": {
            "tags": [],
            "needs_background": "light"
          }
        },
        {
          "output_type": "stream",
          "text": [
            "Number of elements in fold 3 = 66, in fold 51 = 80\n"
          ],
          "name": "stdout"
        }
      ]
    },
    {
      "cell_type": "code",
      "metadata": {
        "id": "0Wy2ef2rJc_4"
      },
      "source": [
        "def scop_seq_to_bert_seq(scop_seq):\n",
        "    \"\"\"\n",
        "    Converts sequences from scop format to prot bert format\n",
        "    \"\"\"\n",
        "    def expand(sequence):\n",
        "        \"\"\"\n",
        "        Expands one sequnce\n",
        "        \"\"\"\n",
        "        return \" \".join(sequence.rstrip())\n",
        "    \n",
        "    return scop_seq.apply(expand)"
      ],
      "execution_count": 4,
      "outputs": []
    },
    {
      "cell_type": "code",
      "metadata": {
        "id": "RLkQLtABDVa4"
      },
      "source": [
        "seq_data = pd.read_csv(\"/content/drive/MyDrive/m1p/seq_to_fold.csv\")\n",
        "seq_data = seq_data[[\"FOLD\", \"sequence\"]]\n",
        "seq_data.head()\n",
        "binary_data = seq_data[(seq_data['FOLD'] == 3) |  (seq_data['FOLD'] == 51)]"
      ],
      "execution_count": 5,
      "outputs": []
    },
    {
      "cell_type": "code",
      "metadata": {
        "colab": {
          "base_uri": "https://localhost:8080/",
          "height": 424
        },
        "id": "_xzgjTMCDtWA",
        "outputId": "f2558ddc-f3aa-4e1c-8e49-fa9f008b3aae"
      },
      "source": [
        "binary_data"
      ],
      "execution_count": 6,
      "outputs": [
        {
          "output_type": "execute_result",
          "data": {
            "text/html": [
              "<div>\n",
              "<style scoped>\n",
              "    .dataframe tbody tr th:only-of-type {\n",
              "        vertical-align: middle;\n",
              "    }\n",
              "\n",
              "    .dataframe tbody tr th {\n",
              "        vertical-align: top;\n",
              "    }\n",
              "\n",
              "    .dataframe thead th {\n",
              "        text-align: right;\n",
              "    }\n",
              "</style>\n",
              "<table border=\"1\" class=\"dataframe\">\n",
              "  <thead>\n",
              "    <tr style=\"text-align: right;\">\n",
              "      <th></th>\n",
              "      <th>FOLD</th>\n",
              "      <th>sequence</th>\n",
              "    </tr>\n",
              "  </thead>\n",
              "  <tbody>\n",
              "    <tr>\n",
              "      <th>779</th>\n",
              "      <td>51</td>\n",
              "      <td>KPKEEIKIVEPNGAEKTKLNLNFGVGKLNISGNEEKLMKGKFIYSE...</td>\n",
              "    </tr>\n",
              "    <tr>\n",
              "      <th>780</th>\n",
              "      <td>51</td>\n",
              "      <td>DHVKGDGKLTSKKISVADYNEIKVDGVIDFNYEQSDDPSTVEVTVD...</td>\n",
              "    </tr>\n",
              "    <tr>\n",
              "      <th>781</th>\n",
              "      <td>51</td>\n",
              "      <td>GDGNITTENIPVSEYDCLELEGGGMVVNYTQSDAPEGLEIKTDRNI...</td>\n",
              "    </tr>\n",
              "    <tr>\n",
              "      <th>782</th>\n",
              "      <td>51</td>\n",
              "      <td>ADHVKGNGKLSTKKITIDDFNAIKFDGVIDFNYEQSESTPHIEITV...</td>\n",
              "    </tr>\n",
              "    <tr>\n",
              "      <th>783</th>\n",
              "      <td>51</td>\n",
              "      <td>DKRIDGNGNPETREIKISDYDEITFVGSADFEYEQSDKAPYLSVTI...</td>\n",
              "    </tr>\n",
              "    <tr>\n",
              "      <th>...</th>\n",
              "      <td>...</td>\n",
              "      <td>...</td>\n",
              "    </tr>\n",
              "    <tr>\n",
              "      <th>29672</th>\n",
              "      <td>51</td>\n",
              "      <td>MNVGEILRHYAAGKRNFQHINLQEIELTNASLTGADLSYADLRQTR...</td>\n",
              "    </tr>\n",
              "    <tr>\n",
              "      <th>29867</th>\n",
              "      <td>51</td>\n",
              "      <td>AAYDNQTIGRGETSKSMHLSAGDTAKNTTINSGGKQYVSSGGSATS...</td>\n",
              "    </tr>\n",
              "    <tr>\n",
              "      <th>29868</th>\n",
              "      <td>51</td>\n",
              "      <td>ADIVVHPGETVNGGTLVNHDNQFVSGTANGVTVSTGLELGPDSDEN...</td>\n",
              "    </tr>\n",
              "    <tr>\n",
              "      <th>30695</th>\n",
              "      <td>3</td>\n",
              "      <td>QKDLADYPVKLKAYEDEQTSIKAALAELEKHKNEDGNLTEPSAQNL...</td>\n",
              "    </tr>\n",
              "    <tr>\n",
              "      <th>30696</th>\n",
              "      <td>3</td>\n",
              "      <td>AYTAALAEAESKKKQDGYLSEPRSQSLNFKSEPNAIRTIDSSVHQY...</td>\n",
              "    </tr>\n",
              "  </tbody>\n",
              "</table>\n",
              "<p>146 rows × 2 columns</p>\n",
              "</div>"
            ],
            "text/plain": [
              "       FOLD                                           sequence\n",
              "779      51  KPKEEIKIVEPNGAEKTKLNLNFGVGKLNISGNEEKLMKGKFIYSE...\n",
              "780      51  DHVKGDGKLTSKKISVADYNEIKVDGVIDFNYEQSDDPSTVEVTVD...\n",
              "781      51  GDGNITTENIPVSEYDCLELEGGGMVVNYTQSDAPEGLEIKTDRNI...\n",
              "782      51  ADHVKGNGKLSTKKITIDDFNAIKFDGVIDFNYEQSESTPHIEITV...\n",
              "783      51  DKRIDGNGNPETREIKISDYDEITFVGSADFEYEQSDKAPYLSVTI...\n",
              "...     ...                                                ...\n",
              "29672    51  MNVGEILRHYAAGKRNFQHINLQEIELTNASLTGADLSYADLRQTR...\n",
              "29867    51  AAYDNQTIGRGETSKSMHLSAGDTAKNTTINSGGKQYVSSGGSATS...\n",
              "29868    51  ADIVVHPGETVNGGTLVNHDNQFVSGTANGVTVSTGLELGPDSDEN...\n",
              "30695     3  QKDLADYPVKLKAYEDEQTSIKAALAELEKHKNEDGNLTEPSAQNL...\n",
              "30696     3  AYTAALAEAESKKKQDGYLSEPRSQSLNFKSEPNAIRTIDSSVHQY...\n",
              "\n",
              "[146 rows x 2 columns]"
            ]
          },
          "metadata": {
            "tags": []
          },
          "execution_count": 6
        }
      ]
    },
    {
      "cell_type": "markdown",
      "metadata": {
        "id": "Ual3vKCULW9K"
      },
      "source": [
        "Now we will drop sequences with length >= 450 and < 100, reducing the size of BERT features later. "
      ]
    },
    {
      "cell_type": "code",
      "metadata": {
        "id": "uS97AT4VLJSv"
      },
      "source": [
        "sequences = binary_data.loc[:, \"sequence\"]\n",
        "lengths = sequences.apply(lambda x:  len(x))"
      ],
      "execution_count": 7,
      "outputs": []
    },
    {
      "cell_type": "code",
      "metadata": {
        "colab": {
          "base_uri": "https://localhost:8080/"
        },
        "id": "IpDiQ9ppLlzj",
        "outputId": "9ece6641-3bcd-4f22-a23c-eabb2a08865a"
      },
      "source": [
        "lengths.describe()"
      ],
      "execution_count": 8,
      "outputs": [
        {
          "output_type": "execute_result",
          "data": {
            "text/plain": [
              "count    146.000000\n",
              "mean     291.767123\n",
              "std      104.093595\n",
              "min       83.000000\n",
              "25%      222.500000\n",
              "50%      275.000000\n",
              "75%      342.250000\n",
              "max      721.000000\n",
              "Name: sequence, dtype: float64"
            ]
          },
          "metadata": {
            "tags": []
          },
          "execution_count": 8
        }
      ]
    },
    {
      "cell_type": "code",
      "metadata": {
        "colab": {
          "base_uri": "https://localhost:8080/"
        },
        "id": "dqA1TdzjLwOf",
        "outputId": "a7cfd829-9dcd-4c3d-b74c-f6487e4e87e5"
      },
      "source": [
        "mask = ((lengths >= 100) & (lengths <= 450)).to_numpy()\n",
        "mask.sum()"
      ],
      "execution_count": 9,
      "outputs": [
        {
          "output_type": "execute_result",
          "data": {
            "text/plain": [
              "134"
            ]
          },
          "metadata": {
            "tags": []
          },
          "execution_count": 9
        }
      ]
    },
    {
      "cell_type": "code",
      "metadata": {
        "id": "Fj4MjY3oMFf4"
      },
      "source": [
        "preprocessed_data = binary_data[mask]"
      ],
      "execution_count": 10,
      "outputs": []
    },
    {
      "cell_type": "code",
      "metadata": {
        "colab": {
          "base_uri": "https://localhost:8080/",
          "height": 423
        },
        "id": "t-r8hDRjMNKa",
        "outputId": "618f9e6d-016f-44f0-b92e-9d9058a60821"
      },
      "source": [
        "compare_folds(3, 51, preprocessed_data)"
      ],
      "execution_count": null,
      "outputs": [
        {
          "output_type": "display_data",
          "data": {
            "image/png": "[encoded data removed]",
            "text/plain": [
              "<Figure size 648x432 with 1 Axes>"
            ]
          },
          "metadata": {
            "tags": [],
            "needs_background": "light"
          }
        },
        {
          "output_type": "stream",
          "text": [
            "Number of elements in fold 3 = 63, in fold 51 = 71\n"
          ],
          "name": "stdout"
        }
      ]
    },
    {
      "cell_type": "markdown",
      "metadata": {
        "id": "q-w3vayPMZwp"
      },
      "source": [
        "## Applying BERT to the reduced dataset."
      ]
    },
    {
      "cell_type": "code",
      "metadata": {
        "id": "9uhsMWoAXrSh"
      },
      "source": [
        ""
      ],
      "execution_count": null,
      "outputs": []
    },
    {
      "cell_type": "code",
      "metadata": {
        "ExecuteTime": {
          "end_time": "2021-03-18T08:21:59.728721Z",
          "start_time": "2021-03-18T08:21:59.516047Z"
        },
        "id": "s_5xOvR1SCiZ"
      },
      "source": [
        "sequences = preprocessed_data['sequence']\n",
        "sequences = scop_seq_to_bert_seq(sequences).to_numpy()\n",
        "target = preprocessed_data['FOLD'].to_numpy()\n",
        "target = (target == 3).astype(int)"
      ],
      "execution_count": 11,
      "outputs": []
    },
    {
      "cell_type": "code",
      "metadata": {
        "ExecuteTime": {
          "end_time": "2021-03-18T08:24:48.164669Z",
          "start_time": "2021-03-18T08:24:48.150196Z"
        },
        "colab": {
          "base_uri": "https://localhost:8080/"
        },
        "id": "QFfxL4UuSCia",
        "outputId": "73b4e08b-4e56-4b7b-b083-2034efec9ef4"
      },
      "source": [
        "sequences[:5]"
      ],
      "execution_count": null,
      "outputs": [
        {
          "output_type": "execute_result",
          "data": {
            "text/plain": [
              "array(['K P K E E I K I V E P N G A E K T K L N L N F G V G K L N I S G N E E K L M K G K F I Y S E N E W K P E I K Y E V K D K D G E L E I S Q P G L K S G N V S L N N K R N E W N I N L N E K I P T E I K L S L G T G E F K A D L S K I N L K E L N V G M G V G K V D L D I S G N Y K N N V K V N I E G G V G E A T V Y L P K S I G V K I K A E K G V G A V N A N G F I V E G E N I Y K N S Q Y G K S K N S I E V N I E A G V G A I N I K Q K',\n",
              "       'D H V K G D G K L T S K K I S V A D Y N E I K V D G V I D F N Y E Q S D D P S T V E V T V D Q N L H P Y V N I E V K D R V L T I A F K G A K V D H F T K F I V K T N S K W L A A A K V S G N A N F M V N S P L T G D E T V I K A N A N S L V Q L K E T V T V G K L D L N V S G S A N M V V N H L E A D K I E C D I D G S G S I T I K K G N A K E G D Y S I V S S G D I H A F G L A V P Q L S C K V T G N G L A E V H A T D N L K A N V V G K G N I R Y K G P T A V Q Q R I I G K G T V E E V',\n",
              "       'G D G N I T T E N I P V S E Y D C L E L E G G G M V V N Y T Q S D A P E G L E I K T D R N I F E K Y E F N V E N H K L K I R P K K E F R K H T N F R P T E F M V T A N S R N L K K L A A A G S T H V N I N S P L Q A E E F E A G L A G S G I I Q F H D T A S F T N L K I E I A G S G D F V G H K V Y C E E L N G D M A G S N T I V L G G T V G I A E F S I A G S G T V R A F D C T M D E L E C K I A G S G D I E A F V V N K I K A E I A G S G S V K Y K G D P Q D I Q K K V M G S G K I E K V E',\n",
              "       'A D H V K G N G K L S T K K I T I D D F N A I K F D G V I D F N Y E Q S E S T P H I E I T V D E N L H P Y V N I D I Q D R V L T V G F K G A K V D H F T K F I V K T N S K W L K E V K A S G N A N F I A N S P L K G D E L K I N A N S N C L V Q L K Q K V E V G K L D L N V S G S A N M V V N E L K T D K L E C S I N G S G T I N L K A G N A E E A D Y S I T T D G E I M A F G V A V P E V N C K I T G K G S A Q I H P T D N L K A T I V G K G N I R Y K G P T A V Q Q K V I G K G T V E E V K',\n",
              "       'D K R I D G N G N P E T R E I K I S D Y D E I T F V G S A D F E Y E Q S D K A P Y L S V T I D E N L F D Y L V T E V E G G T L K I Y P K S I K K G F N N N S Y D L R P T V Y K I K S N S K E L K E L N T V G S G S F I I S K P T K V N R M E I N M A G S G N V E L R G P V K G Y K L E C N M A G S G N I I A K D I Q L D N L S C S L A S S G E I E V I G T V D R A S F N V A G S G E I K A F D C Q A R K A E C N I A S S G E I S V Y A T Q I L D A N I V G S G E I H Y K G D P E I S K S I M G S G S I N K V K'],\n",
              "      dtype=object)"
            ]
          },
          "metadata": {
            "tags": []
          },
          "execution_count": 20
        }
      ]
    },
    {
      "cell_type": "code",
      "metadata": {
        "id": "5lPCwe-zMm0g"
      },
      "source": [
        "# !mkdir /content/drive/MyDrive/m1p/two_classes_albert/"
      ],
      "execution_count": null,
      "outputs": []
    },
    {
      "cell_type": "code",
      "metadata": {
        "colab": {
          "base_uri": "https://localhost:8080/",
          "height": 68,
          "referenced_widgets": [
            "fc2a04e7ae5d4089b7753d5d62f0a261",
            "2b857ff58112427b9c7f08e2ebd215ba",
            "efe2240cf44148afb6cc7998e095f677",
            "78682d9c83f6495fab07703c97105b13",
            "bd74f74477f74287ae1d0685f280f08d",
            "d1ead2459a944151a08ad533b5a03df2",
            "49dea8a2cbe048b3b96e9dbf874edc06",
            "7a85c6ca7d8e4cd38c5427900af75e4c"
          ]
        },
        "id": "S4efYXZMP1AH",
        "outputId": "a5eb9e52-316d-437f-9221-e0d1fb7cd63e"
      },
      "source": [
        "for i in tqdm(range(len(sequences))):\n",
        "  torch.save(torch.tensor(fe(sequences[i])), \"/content/drive/MyDrive/m1p/two_classes_albert/\" + str(i) + \".torch\")\n"
      ],
      "execution_count": null,
      "outputs": [
        {
          "output_type": "display_data",
          "data": {
            "application/vnd.jupyter.widget-view+json": {
              "model_id": "fc2a04e7ae5d4089b7753d5d62f0a261",
              "version_minor": 0,
              "version_major": 2
            },
            "text/plain": [
              "HBox(children=(FloatProgress(value=0.0, max=134.0), HTML(value='')))"
            ]
          },
          "metadata": {
            "tags": []
          }
        },
        {
          "output_type": "stream",
          "text": [
            "\n"
          ],
          "name": "stdout"
        }
      ]
    },
    {
      "cell_type": "markdown",
      "metadata": {
        "id": "twhOjXzekHgi"
      },
      "source": [
        "**Using CNN**:"
      ]
    },
    {
      "cell_type": "markdown",
      "metadata": {
        "id": "brXldWnARaqa"
      },
      "source": [
        "This section is devoted to applying CNN to the two-class data."
      ]
    },
    {
      "cell_type": "code",
      "metadata": {
        "id": "xv_aUH5ckK2M"
      },
      "source": [
        "class K_max_pooling_1d(nn.Module):\n",
        "    def __init__(self, k):\n",
        "        super(K_max_pooling_1d, self).__init__()\n",
        "        self.k = k\n",
        "\n",
        "    def forward(self, x):\n",
        "        #if x.shape[2] < self.k:\n",
        "        #  return F.pad(input=x, pad=(0, self.k - x.shape[2], 0, 0), \n",
        "        #                 mode='constant', value=0)\n",
        "        top = torch.topk(x, k = self.k)\n",
        "        return top.values"
      ],
      "execution_count": 12,
      "outputs": []
    },
    {
      "cell_type": "code",
      "metadata": {
        "id": "g90bWF2RFWUh"
      },
      "source": [
        " def plot_learning_curves(history):\n",
        "    '''\n",
        "\n",
        "    :param history: (dict)\n",
        "        accuracy and loss for traning and validation\n",
        "    '''\n",
        "    # sns.set_style(style='whitegrid')\n",
        "    fig = plt.figure(figsize=(20, 7))\n",
        "\n",
        "    plt.subplot(1,2,1)\n",
        "    plt.title('Loss', fontsize=15)\n",
        "    plt.plot(history['loss']['train'], label='train')\n",
        "    plt.plot(history['loss']['val'], label='val')\n",
        "    plt.ylabel('lostt', fontsize=15)\n",
        "    plt.xlabel('epoch', fontsize=15)\n",
        "    plt.legend()\n",
        "\n",
        "    plt.subplot(1,2,2)\n",
        "    plt.title('Accuracy', fontsize=15)\n",
        "    plt.plot(history['acc']['train'], label='train')\n",
        "    plt.plot(history['acc']['val'], label='val')\n",
        "    plt.ylabel('loss', fontsize=15)\n",
        "    plt.xlabel('epoch', fontsize=15)\n",
        "    plt.legend()\n",
        "    plt.show()"
      ],
      "execution_count": 13,
      "outputs": []
    },
    {
      "cell_type": "code",
      "metadata": {
        "id": "HGTV8J4gFW_V"
      },
      "source": [
        "def train(\n",
        "    model, \n",
        "    criterion,\n",
        "    optimizer, \n",
        "    train_batch_gen,\n",
        "    val_batch_gen,\n",
        "    label,\n",
        "    num_epochs=50\n",
        "):\n",
        "\n",
        "    history = defaultdict(lambda: defaultdict(list))\n",
        "\n",
        "    for epoch in range(num_epochs):\n",
        "        train_loss = 0\n",
        "        train_acc = 0\n",
        "        val_loss = 0\n",
        "        val_acc = 0\n",
        "        \n",
        "        start_time = time.time()\n",
        "\n",
        "        # Устанавливаем поведение dropout / batch_norm  в обучение\n",
        "        model.train(True) \n",
        "\n",
        "        # На каждой \"эпохе\" делаем полный проход по данным\n",
        "        for X_batch, y_batch in train_batch_gen:\n",
        "            # Обучаемся на батче (одна \"итерация\" обучения нейросети)\n",
        "            \n",
        "            #X_batch = torch.transpose(torch.tensor(fe(train_X[i])), 1, 2).to(device)\n",
        "            #y_batch = torch.tensor(train_Y[i]).unsqueeze(0).to(device)\n",
        "                        \n",
        "            X_batch = torch.transpose(X_batch.squeeze(0), 1, 2).to(device)\n",
        "            y_batch = y_batch.to(device)\n",
        "\n",
        "            # Логиты на выходе модели\n",
        "            logits = model(X_batch)\n",
        "\n",
        "            # Подсчитываем лосс\n",
        "            loss = criterion(logits, y_batch.long().to(device))\n",
        "\n",
        "            # Обратный проход\n",
        "            loss.backward()\n",
        "            # Шаг градиента\n",
        "            optimizer.step()\n",
        "            # Зануляем градиенты\n",
        "            optimizer.zero_grad()\n",
        "            \n",
        "            # Сохраяняем лоссы и точность на трейне\n",
        "            train_loss += loss.detach().cpu().numpy()\n",
        "            y_pred = logits.max(1)[1].detach().cpu().numpy()\n",
        "            train_acc += np.mean(y_batch.cpu().numpy() == y_pred)\n",
        "\n",
        "        # Подсчитываем лоссы и сохраням в \"историю\"\n",
        "        train_loss /= len(train_batch_gen)\n",
        "        train_acc /= len(train_batch_gen) \n",
        "        history['loss']['train'].append(train_loss)\n",
        "        history['acc']['train'].append(train_acc)\n",
        "    \n",
        "        # Устанавливаем поведение dropout / batch_norm в режим тестирования\n",
        "        model.train(False) \n",
        "\n",
        "        # Полный проход по валидации    \n",
        "        for X_batch, y_batch in val_batch_gen:\n",
        "            X_batch = torch.transpose(X_batch.squeeze(0), 1, 2).to(device)\n",
        "            y_batch = y_batch.to(device)\n",
        "            \n",
        "            #X_batch = torch.transpose(torch.tensor(fe(val_X[i])), 1, 2).to(device)\n",
        "            #y_batch = torch.tensor(val_Y[i]).unsqueeze(0).to(device)\n",
        "            \n",
        "            # Логиты, полученные моделью\n",
        "            logits = model(X_batch)\n",
        "            # Лосс на валидации\n",
        "            loss = criterion(logits, y_batch.long().to(device))\n",
        "\n",
        "            # Сохраяняем лоссы и точность на валидации\n",
        "            val_loss += loss.detach().cpu().numpy()\n",
        "            y_pred = logits.max(1)[1].detach().cpu().numpy()\n",
        "            val_acc += np.mean(y_batch.cpu().numpy() == y_pred)\n",
        "\n",
        "        # Подсчитываем лоссы и сохраням в \"историю\"\n",
        "        val_loss /= len(val_batch_gen)\n",
        "        val_acc /= len(val_batch_gen) \n",
        "        history['loss']['val'].append(val_loss)\n",
        "        history['acc']['val'].append(val_acc)\n",
        "        \n",
        "        clear_output()\n",
        "\n",
        "        # Печатаем результаты после каждой эпохи\n",
        "        print(\"Epoch {} of {} took {:.3f}s\".format(\n",
        "            epoch + 1, num_epochs, time.time() - start_time))\n",
        "        print(\"  training loss (in-iteration): \\t{:.6f}\".format(train_loss))\n",
        "        print(\"  validation loss (in-iteration): \\t{:.6f}\".format(val_loss))\n",
        "        print(\"  training accuracy: \\t\\t\\t{:.2f} %\".format(train_acc * 100))\n",
        "        print(\"  validation accuracy: \\t\\t\\t{:.2f} %\".format(val_acc * 100))\n",
        "        \n",
        "        plot_learning_curves(history)\n",
        "        if epoch % 5 == 1:\n",
        "            torch.save(model.state_dict(), \n",
        "                   \"/content/drive/MyDrive/m1p/two_classes_albert/states/model_state_\" + label + \"_\" + str(epoch))\n",
        "    return model, history"
      ],
      "execution_count": 14,
      "outputs": []
    },
    {
      "cell_type": "code",
      "metadata": {
        "id": "UPzCPiFkU1v5"
      },
      "source": [
        "# !mkdir /content/drive/MyDrive/m1p/two_classes_albert/states/"
      ],
      "execution_count": null,
      "outputs": []
    },
    {
      "cell_type": "markdown",
      "metadata": {
        "id": "XtuBZKWHSNSY"
      },
      "source": [
        "### MODEL 1"
      ]
    },
    {
      "cell_type": "code",
      "metadata": {
        "id": "XEbbBI8suNew",
        "colab": {
          "base_uri": "https://localhost:8080/"
        },
        "outputId": "c989c5e5-fb2c-47e3-97a3-4778060e0078"
      },
      "source": [
        "model = nn.Sequential()\n",
        "\n",
        "model.add_module('conv1', nn.Conv1d(in_channels=4096, out_channels=256, \n",
        "                                    kernel_size=7, stride=1, padding=3))\n",
        "model.add_module('relu1', nn.ReLU())\n",
        "#model.add_module(\"pool1\", nn.MaxPool1d(2))\n",
        "\n",
        "for i in range(2, 4):\n",
        "  \n",
        "  model.add_module('conv' + str(i), nn.Conv1d(in_channels=256, out_channels=256, \n",
        "                                    kernel_size=7, stride=1, padding=3))\n",
        "  model.add_module('relu' + str(i), nn.ReLU())\n",
        "model.add_module('conv4', nn.Conv1d(in_channels=256, out_channels=128, \n",
        "                                  kernel_size=7, stride=1, padding=3))\n",
        "model.add_module('relu4', nn.ReLU())\n",
        "for i in range(5, 7):\n",
        "  \n",
        "  model.add_module('conv' + str(i), nn.Conv1d(in_channels=128, out_channels=128, \n",
        "                                    kernel_size=7, stride=1, padding=3))\n",
        "  model.add_module('relu' + str(i), nn.ReLU())\n",
        "model.add_module('conv7', nn.Conv1d(in_channels=128, out_channels=64, \n",
        "                                  kernel_size=7, stride=1, padding=3))\n",
        "model.add_module('relu7', nn.ReLU())\n",
        "for i in range(8, 10):\n",
        "  \n",
        "  model.add_module('conv' + str(i), nn.Conv1d(in_channels=64, out_channels=64, \n",
        "                                    kernel_size=7, stride=1, padding=3))\n",
        "  model.add_module('relu' + str(i), nn.ReLU())\n",
        "model.add_module('conv10', nn.Conv1d(in_channels=64, out_channels=32, \n",
        "                                  kernel_size=7, stride=1, padding=3))\n",
        "model.add_module('relu10', nn.ReLU())\n",
        "# model.add_module('conv11', nn.Conv1d(in_channels=32, out_channels=16, \n",
        "#                                   kernel_size=7, stride=1, padding=3))\n",
        "# model.add_module('relu11', nn.ReLU())\n",
        "model.add_module('K_max_pooling', K_max_pooling_1d(30))\n",
        "model.add_module('flatteing', nn.Flatten())\n",
        "model.add_module('FC-layer', nn.Linear(960, 2))\n",
        "\n",
        "\n",
        "summary(model, (32, 4096, 300))"
      ],
      "execution_count": null,
      "outputs": [
        {
          "output_type": "execute_result",
          "data": {
            "text/plain": [
              "==========================================================================================\n",
              "Layer (type:depth-idx)                   Output Shape              Param #\n",
              "==========================================================================================\n",
              "├─Conv1d: 1-1                            [32, 256, 300]            7,340,288\n",
              "├─ReLU: 1-2                              [32, 256, 300]            --\n",
              "├─Conv1d: 1-3                            [32, 256, 300]            459,008\n",
              "├─ReLU: 1-4                              [32, 256, 300]            --\n",
              "├─Conv1d: 1-5                            [32, 256, 300]            459,008\n",
              "├─ReLU: 1-6                              [32, 256, 300]            --\n",
              "├─Conv1d: 1-7                            [32, 128, 300]            229,504\n",
              "├─ReLU: 1-8                              [32, 128, 300]            --\n",
              "├─Conv1d: 1-9                            [32, 128, 300]            114,816\n",
              "├─ReLU: 1-10                             [32, 128, 300]            --\n",
              "├─Conv1d: 1-11                           [32, 128, 300]            114,816\n",
              "├─ReLU: 1-12                             [32, 128, 300]            --\n",
              "├─Conv1d: 1-13                           [32, 64, 300]             57,408\n",
              "├─ReLU: 1-14                             [32, 64, 300]             --\n",
              "├─Conv1d: 1-15                           [32, 64, 300]             28,736\n",
              "├─ReLU: 1-16                             [32, 64, 300]             --\n",
              "├─Conv1d: 1-17                           [32, 64, 300]             28,736\n",
              "├─ReLU: 1-18                             [32, 64, 300]             --\n",
              "├─Conv1d: 1-19                           [32, 32, 300]             14,368\n",
              "├─ReLU: 1-20                             [32, 32, 300]             --\n",
              "├─K_max_pooling_1d: 1-21                 [32, 32, 30]              --\n",
              "├─Flatten: 1-22                          [32, 960]                 --\n",
              "├─Linear: 1-23                           [32, 2]                   1,922\n",
              "==========================================================================================\n",
              "Total params: 8,848,610\n",
              "Trainable params: 8,848,610\n",
              "Non-trainable params: 0\n",
              "Total mult-adds (G): 84.92\n",
              "==========================================================================================\n",
              "Input size (MB): 157.29\n",
              "Forward/backward pass size (MB): 105.68\n",
              "Params size (MB): 35.39\n",
              "Estimated Total Size (MB): 298.36\n",
              "=========================================================================================="
            ]
          },
          "metadata": {
            "tags": []
          },
          "execution_count": 25
        }
      ]
    },
    {
      "cell_type": "code",
      "metadata": {
        "id": "a4wQSeOX2ED-",
        "colab": {
          "base_uri": "https://localhost:8080/",
          "height": 36
        },
        "outputId": "6d03ad16-dda5-483d-b5bf-52af5f599534"
      },
      "source": [
        "device = \"cuda\" if torch.cuda.is_available() else \"cpu\"\n",
        "device"
      ],
      "execution_count": null,
      "outputs": [
        {
          "output_type": "execute_result",
          "data": {
            "application/vnd.google.colaboratory.intrinsic+json": {
              "type": "string"
            },
            "text/plain": [
              "'cuda'"
            ]
          },
          "metadata": {
            "tags": []
          },
          "execution_count": 16
        }
      ]
    },
    {
      "cell_type": "code",
      "metadata": {
        "id": "C44ksHshE7D_"
      },
      "source": [
        ""
      ],
      "execution_count": null,
      "outputs": []
    },
    {
      "cell_type": "markdown",
      "metadata": {
        "id": "nY2YZ_VH2Bbs"
      },
      "source": [
        ""
      ]
    },
    {
      "cell_type": "code",
      "metadata": {
        "id": "-uzUSaxiHoKa"
      },
      "source": [
        "class FoldDataset(Dataset):\n",
        "  'Characterizes a dataset for PyTorch'\n",
        "  def __init__(self, length, labels):\n",
        "        'Initialization'\n",
        "        super(Dataset, self).__init__()\n",
        "        self.length = length\n",
        "        self.labels = labels\n",
        "  def __len__(self):\n",
        "        'Denotes the total number of samples'\n",
        "        return self.length\n",
        "\n",
        "  def __getitem__(self, index):\n",
        "        'Generates one sample of data'\n",
        "        # Select sample\n",
        "\n",
        "        # Load data and get label\n",
        "        data = torch.load(\"/content/drive/MyDrive/m1p/two_classes_albert/\" + str(index) + \".torch\")\n",
        "        \n",
        "        return data, self.labels[index]"
      ],
      "execution_count": 23,
      "outputs": []
    },
    {
      "cell_type": "code",
      "metadata": {
        "id": "HHfKYs0nQtIJ"
      },
      "source": [
        "def collate_fn(batch):\n",
        "  \"\"\"\n",
        "  batch: list of individual elements\n",
        "  \"\"\"\n",
        "  max_sz = 0\n",
        "  for elem in batch:\n",
        "    max_sz = max(max_sz, elem[0].shape[1])\n",
        "  target = torch.tensor([elem[1] for elem in batch])\n",
        "  return torch.cat([F.pad(input=elem[0], pad=(0, 0, 0, max_sz - elem[0].shape[1]), \n",
        "                          mode='constant', value=0) for elem in batch]), target"
      ],
      "execution_count": 24,
      "outputs": []
    },
    {
      "cell_type": "code",
      "metadata": {
        "id": "pdpZfo_mWG2I"
      },
      "source": [
        ""
      ],
      "execution_count": 24,
      "outputs": []
    },
    {
      "cell_type": "code",
      "metadata": {
        "colab": {
          "base_uri": "https://localhost:8080/"
        },
        "id": "q2zIZGVfWNiu",
        "outputId": "a4608318-bcc6-468d-cac1-6f7f2b8e82cd"
      },
      "source": [
        "target"
      ],
      "execution_count": 25,
      "outputs": [
        {
          "output_type": "execute_result",
          "data": {
            "text/plain": [
              "array([0, 0, 0, 0, 0, 0, 0, 0, 0, 1, 1, 1, 1, 1, 1, 1, 1, 1, 1, 1, 1, 1,\n",
              "       1, 1, 1, 1, 1, 1, 1, 1, 1, 1, 1, 1, 1, 1, 1, 1, 1, 1, 1, 1, 1, 1,\n",
              "       1, 1, 1, 1, 1, 1, 1, 1, 1, 1, 1, 1, 1, 1, 1, 1, 1, 1, 1, 1, 1, 1,\n",
              "       0, 0, 0, 0, 0, 0, 0, 1, 1, 1, 1, 0, 0, 0, 0, 0, 0, 0, 0, 0, 0, 0,\n",
              "       0, 0, 0, 0, 0, 0, 0, 0, 0, 0, 0, 0, 0, 0, 0, 0, 0, 0, 0, 0, 0, 0,\n",
              "       0, 0, 0, 0, 0, 0, 0, 0, 0, 0, 0, 0, 0, 0, 0, 0, 0, 0, 0, 0, 0, 0,\n",
              "       1, 1])"
            ]
          },
          "metadata": {
            "tags": []
          },
          "execution_count": 25
        }
      ]
    },
    {
      "cell_type": "code",
      "metadata": {
        "id": "malCVEnj63wO"
      },
      "source": [
        "dataset = FoldDataset(len(target), target)\n",
        "#first_generator = torch.Generator().manual_seed(17)\n",
        "#dataset, other = random_split(\n",
        "#    dataset, lengths=(500, 34592 - 500), generator=first_generator)"
      ],
      "execution_count": 26,
      "outputs": []
    },
    {
      "cell_type": "code",
      "metadata": {
        "colab": {
          "base_uri": "https://localhost:8080/"
        },
        "id": "b2COzn0P8oMu",
        "outputId": "1479e941-0193-4bee-aca1-38a2aaa60ce8"
      },
      "source": [
        "val_ratio = 0.35\n",
        "test_ratio = 0\n",
        "data_len = len(dataset)\n",
        "test_len = int(data_len * test_ratio)\n",
        "val_len = int(data_len * val_ratio)\n",
        "train_len = data_len - val_len - test_len\n",
        "generator = torch.Generator().manual_seed(42)\n",
        "train_dataset, val_dataset, test_dataset = random_split(\n",
        "    dataset, lengths=(train_len, val_len, test_len), generator=generator)\n",
        "len(train_dataset), len(val_dataset), len(test_dataset)"
      ],
      "execution_count": 27,
      "outputs": [
        {
          "output_type": "execute_result",
          "data": {
            "text/plain": [
              "(88, 46, 0)"
            ]
          },
          "metadata": {
            "tags": []
          },
          "execution_count": 27
        }
      ]
    },
    {
      "cell_type": "code",
      "metadata": {
        "id": "VXvLEUjd_kUQ"
      },
      "source": [
        "batch_size = 16\n",
        "\n",
        "train_batch_gen = torch.utils.data.DataLoader(train_dataset, batch_size=batch_size, shuffle=True,collate_fn=collate_fn)\n",
        "val_batch_gen = torch.utils.data.DataLoader(val_dataset, batch_size=batch_size, shuffle=True,collate_fn=collate_fn)\n",
        "test_batch_gen = torch.utils.data.DataLoader(test_dataset, batch_size=batch_size, shuffle=False, collate_fn=collate_fn)"
      ],
      "execution_count": 29,
      "outputs": []
    },
    {
      "cell_type": "code",
      "metadata": {
        "id": "qtxSsNeaBOfs"
      },
      "source": [
        "device = \"cuda\" if torch.cuda.is_available() else \"cpu\"\n",
        "model = model.to(device)\n",
        "criterion = nn.CrossEntropyLoss()\n",
        "optimizer = torch.optim.Adam(model.parameters(), lr=0.01)"
      ],
      "execution_count": null,
      "outputs": []
    },
    {
      "cell_type": "code",
      "metadata": {
        "colab": {
          "base_uri": "https://localhost:8080/",
          "height": 36
        },
        "id": "TifS_eYwXNxX",
        "outputId": "fc81c926-bee6-4768-e3cc-656bd84645c1"
      },
      "source": [
        "device"
      ],
      "execution_count": null,
      "outputs": [
        {
          "output_type": "execute_result",
          "data": {
            "application/vnd.google.colaboratory.intrinsic+json": {
              "type": "string"
            },
            "text/plain": [
              "'cuda'"
            ]
          },
          "metadata": {
            "tags": []
          },
          "execution_count": 30
        }
      ]
    },
    {
      "cell_type": "markdown",
      "metadata": {
        "id": "96UwziqwBOBM"
      },
      "source": [
        ""
      ]
    },
    {
      "cell_type": "code",
      "metadata": {
        "id": "n5eipqRfzoCR",
        "colab": {
          "base_uri": "https://localhost:8080/",
          "height": 558
        },
        "outputId": "316dc1c2-7b22-4871-ab5a-45f329964bde"
      },
      "source": [
        "model, history = train(\n",
        "    model, criterion, optimizer, train_batch_gen, val_batch_gen,\n",
        "    \"second_exp\", num_epochs=100)"
      ],
      "execution_count": null,
      "outputs": [
        {
          "output_type": "stream",
          "text": [
            "Epoch 100 of 100 took 2.996s\n",
            "  training loss (in-iteration): \t0.673608\n",
            "  validation loss (in-iteration): \t0.724689\n",
            "  training accuracy: \t\t\t58.33 %\n",
            "  validation accuracy: \t\t\t43.15 %\n"
          ],
          "name": "stdout"
        },
        {
          "output_type": "display_data",
          "data": {
            "image/png": "[encoded data removed]",
            "text/plain": [
              "<Figure size 1440x504 with 2 Axes>"
            ]
          },
          "metadata": {
            "tags": [],
            "needs_background": "light"
          }
        }
      ]
    },
    {
      "cell_type": "markdown",
      "metadata": {
        "id": "adlpjM2c4KV0"
      },
      "source": [
        "**Conclusion:** well, first designed architercture seem to be awful. Reaching <50% accuracy with only 2 classes is an incredibly bad result. Moreover, for some reasons the NN didn't overtrain despite the fact that there were only around 130 objects in the sample and 8m parameters. "
      ]
    },
    {
      "cell_type": "markdown",
      "metadata": {
        "id": "UJnZOnI2Pi-6"
      },
      "source": [
        "### Model 2"
      ]
    },
    {
      "cell_type": "markdown",
      "metadata": {
        "id": "c-fRngZOTT-P"
      },
      "source": [
        "The idea here is that we usel dilation to increase the field of perception."
      ]
    },
    {
      "cell_type": "code",
      "metadata": {
        "colab": {
          "base_uri": "https://localhost:8080/"
        },
        "id": "BPZzXRYkPggb",
        "outputId": "5b080894-950e-47dc-cae0-70da52b34dce"
      },
      "source": [
        "model = nn.Sequential()\n",
        "\n",
        "model.add_module('conv1', nn.Conv1d(in_channels=4096, out_channels=256, \n",
        "                                    kernel_size=7, stride=1, padding=3,\n",
        "                                    dilation = 2))\n",
        "model.add_module('relu1', nn.ReLU())\n",
        "\n",
        "for i in range(2, 4):\n",
        "  \n",
        "  model.add_module('conv' + str(i), nn.Conv1d(in_channels=256, out_channels=256, \n",
        "                                    kernel_size=7, stride=1, padding=3,\n",
        "                                    dilation = 2))\n",
        "  model.add_module('relu' + str(i), nn.ReLU())\n",
        "model.add_module('conv4', nn.Conv1d(in_channels=256, out_channels=128, \n",
        "                                  kernel_size=7, stride=1, padding=3,\n",
        "                                    dilation = 2))\n",
        "model.add_module('relu4', nn.ReLU())\n",
        "for i in range(5, 7):\n",
        "  \n",
        "  model.add_module('conv' + str(i), nn.Conv1d(in_channels=128, out_channels=128, \n",
        "                                    kernel_size=7, stride=1, padding=3,\n",
        "                                    dilation = 2))\n",
        "  model.add_module('relu' + str(i), nn.ReLU())\n",
        "model.add_module('conv7', nn.Conv1d(in_channels=128, out_channels=64, \n",
        "                                  kernel_size=7, stride=1, padding=3,\n",
        "                                    dilation = 2))\n",
        "model.add_module('relu7', nn.ReLU())\n",
        "for i in range(8, 10):\n",
        "  \n",
        "  model.add_module('conv' + str(i), nn.Conv1d(in_channels=64, out_channels=64, \n",
        "                                    kernel_size=7, stride=1, padding=3,\n",
        "                                    dilation = 2))\n",
        "  model.add_module('relu' + str(i), nn.ReLU())\n",
        "model.add_module('conv10', nn.Conv1d(in_channels=64, out_channels=32, \n",
        "                                  kernel_size=7, stride=1, padding=3,\n",
        "                                    dilation = 2))\n",
        "model.add_module('relu10', nn.ReLU())\n",
        "model.add_module('K_max_pooling', K_max_pooling_1d(30))\n",
        "model.add_module('flatteing', nn.Flatten())\n",
        "model.add_module('FC-layer', nn.Linear(960, 2))\n",
        "\n",
        "\n",
        "summary(model, (32, 4096, 300))"
      ],
      "execution_count": null,
      "outputs": [
        {
          "output_type": "execute_result",
          "data": {
            "text/plain": [
              "==========================================================================================\n",
              "Layer (type:depth-idx)                   Output Shape              Param #\n",
              "==========================================================================================\n",
              "├─Conv1d: 1-1                            [32, 256, 294]            7,340,288\n",
              "├─ReLU: 1-2                              [32, 256, 294]            --\n",
              "├─Conv1d: 1-3                            [32, 256, 288]            459,008\n",
              "├─ReLU: 1-4                              [32, 256, 288]            --\n",
              "├─Conv1d: 1-5                            [32, 256, 282]            459,008\n",
              "├─ReLU: 1-6                              [32, 256, 282]            --\n",
              "├─Conv1d: 1-7                            [32, 128, 276]            229,504\n",
              "├─ReLU: 1-8                              [32, 128, 276]            --\n",
              "├─Conv1d: 1-9                            [32, 128, 270]            114,816\n",
              "├─ReLU: 1-10                             [32, 128, 270]            --\n",
              "├─Conv1d: 1-11                           [32, 128, 264]            114,816\n",
              "├─ReLU: 1-12                             [32, 128, 264]            --\n",
              "├─Conv1d: 1-13                           [32, 64, 258]             57,408\n",
              "├─ReLU: 1-14                             [32, 64, 258]             --\n",
              "├─Conv1d: 1-15                           [32, 64, 252]             28,736\n",
              "├─ReLU: 1-16                             [32, 64, 252]             --\n",
              "├─Conv1d: 1-17                           [32, 64, 246]             28,736\n",
              "├─ReLU: 1-18                             [32, 64, 246]             --\n",
              "├─Conv1d: 1-19                           [32, 32, 240]             14,368\n",
              "├─ReLU: 1-20                             [32, 32, 240]             --\n",
              "├─K_max_pooling_1d: 1-21                 [32, 32, 30]              --\n",
              "├─Flatten: 1-22                          [32, 960]                 --\n",
              "├─Linear: 1-23                           [32, 2]                   1,922\n",
              "==========================================================================================\n",
              "Total params: 8,848,610\n",
              "Trainable params: 8,848,610\n",
              "Non-trainable params: 0\n",
              "Total mult-adds (G): 82.45\n",
              "==========================================================================================\n",
              "Input size (MB): 157.29\n",
              "Forward/backward pass size (MB): 97.52\n",
              "Params size (MB): 35.39\n",
              "Estimated Total Size (MB): 290.20\n",
              "=========================================================================================="
            ]
          },
          "metadata": {
            "tags": []
          },
          "execution_count": 37
        }
      ]
    },
    {
      "cell_type": "code",
      "metadata": {
        "id": "Nyc7dfwgVIBf"
      },
      "source": [
        "device = \"cuda\" if torch.cuda.is_available() else \"cpu\"\n",
        "model = model.to(device)\n",
        "criterion = nn.CrossEntropyLoss()\n",
        "optimizer = torch.optim.Adam(model.parameters(), lr=0.01)"
      ],
      "execution_count": null,
      "outputs": []
    },
    {
      "cell_type": "code",
      "metadata": {
        "colab": {
          "base_uri": "https://localhost:8080/",
          "height": 558
        },
        "id": "h3zSvNuyVN3m",
        "outputId": "7a62170b-f051-4fb9-d740-d2ee826a159a"
      },
      "source": [
        "model, history = train(\n",
        "    model, criterion, optimizer, train_batch_gen, val_batch_gen,\n",
        "    \"second_exp\", num_epochs=50)"
      ],
      "execution_count": null,
      "outputs": [
        {
          "output_type": "stream",
          "text": [
            "Epoch 50 of 50 took 3.997s\n",
            "  training loss (in-iteration): \t0.675217\n",
            "  validation loss (in-iteration): \t0.719856\n",
            "  training accuracy: \t\t\t60.42 %\n",
            "  validation accuracy: \t\t\t44.05 %\n"
          ],
          "name": "stdout"
        },
        {
          "output_type": "display_data",
          "data": {
            "image/png": "[encoded data removed]",
            "text/plain": [
              "<Figure size 1440x504 with 2 Axes>"
            ]
          },
          "metadata": {
            "tags": [],
            "needs_background": "light"
          }
        }
      ]
    },
    {
      "cell_type": "markdown",
      "metadata": {
        "id": "uZNjE8FcWuq9"
      },
      "source": [
        "### Model 3"
      ]
    },
    {
      "cell_type": "code",
      "metadata": {
        "colab": {
          "base_uri": "https://localhost:8080/"
        },
        "id": "y2OVihs1VPQn",
        "outputId": "0e364111-4db7-4e50-e493-e6bb92b47950"
      },
      "source": [
        "model = nn.Sequential()\n",
        "\n",
        "model.add_module('conv1', nn.Conv1d(in_channels=4096, out_channels=256, \n",
        "                                    kernel_size=7, stride=1, padding=3,\n",
        "                                    dilation = 5))\n",
        "model.add_module('relu1', nn.ReLU())\n",
        "\n",
        "for i in range(2, 4):\n",
        "  \n",
        "  model.add_module('conv' + str(i), nn.Conv1d(in_channels=256, out_channels=256, \n",
        "                                    kernel_size=7, stride=1, padding=3,\n",
        "                                    dilation = 5))\n",
        "  model.add_module('relu' + str(i), nn.ReLU())\n",
        "model.add_module('conv4', nn.Conv1d(in_channels=256, out_channels=128, \n",
        "                                  kernel_size=7, stride=1, padding=3,\n",
        "                                    dilation = 5))\n",
        "model.add_module('relu4', nn.ReLU())\n",
        "for i in range(5, 7):\n",
        "  \n",
        "  model.add_module('conv' + str(i), nn.Conv1d(in_channels=128, out_channels=128, \n",
        "                                    kernel_size=7, stride=1, padding=3,\n",
        "                                    dilation = 5))\n",
        "  model.add_module('relu' + str(i), nn.ReLU())\n",
        "model.add_module('conv7', nn.Conv1d(in_channels=128, out_channels=64, \n",
        "                                  kernel_size=7, stride=1, padding=3,\n",
        "                                    dilation = 5))\n",
        "model.add_module('relu7', nn.ReLU())\n",
        "for i in range(8, 10):\n",
        "  \n",
        "  model.add_module('conv' + str(i), nn.Conv1d(in_channels=64, out_channels=64, \n",
        "                                    kernel_size=7, stride=1, padding=3,\n",
        "                                    dilation = 5))\n",
        "  model.add_module('relu' + str(i), nn.ReLU())\n",
        "model.add_module('conv10', nn.Conv1d(in_channels=64, out_channels=32, \n",
        "                                  kernel_size=7, stride=1, padding=3,\n",
        "                                    dilation = 5))\n",
        "model.add_module('relu10', nn.ReLU())\n",
        "model.add_module('K_max_pooling', K_max_pooling_1d(30))\n",
        "model.add_module('flatteing', nn.Flatten())\n",
        "model.add_module('FC-layer', nn.Linear(960, 2))\n",
        "\n",
        "\n",
        "summary(model, (32, 4096, 300))"
      ],
      "execution_count": null,
      "outputs": [
        {
          "output_type": "execute_result",
          "data": {
            "text/plain": [
              "==========================================================================================\n",
              "Layer (type:depth-idx)                   Output Shape              Param #\n",
              "==========================================================================================\n",
              "├─Conv1d: 1-1                            [32, 256, 276]            7,340,288\n",
              "├─ReLU: 1-2                              [32, 256, 276]            --\n",
              "├─Conv1d: 1-3                            [32, 256, 252]            459,008\n",
              "├─ReLU: 1-4                              [32, 256, 252]            --\n",
              "├─Conv1d: 1-5                            [32, 256, 228]            459,008\n",
              "├─ReLU: 1-6                              [32, 256, 228]            --\n",
              "├─Conv1d: 1-7                            [32, 128, 204]            229,504\n",
              "├─ReLU: 1-8                              [32, 128, 204]            --\n",
              "├─Conv1d: 1-9                            [32, 128, 180]            114,816\n",
              "├─ReLU: 1-10                             [32, 128, 180]            --\n",
              "├─Conv1d: 1-11                           [32, 128, 156]            114,816\n",
              "├─ReLU: 1-12                             [32, 128, 156]            --\n",
              "├─Conv1d: 1-13                           [32, 64, 132]             57,408\n",
              "├─ReLU: 1-14                             [32, 64, 132]             --\n",
              "├─Conv1d: 1-15                           [32, 64, 108]             28,736\n",
              "├─ReLU: 1-16                             [32, 64, 108]             --\n",
              "├─Conv1d: 1-17                           [32, 64, 84]              28,736\n",
              "├─ReLU: 1-18                             [32, 64, 84]              --\n",
              "├─Conv1d: 1-19                           [32, 32, 60]              14,368\n",
              "├─ReLU: 1-20                             [32, 32, 60]              --\n",
              "├─K_max_pooling_1d: 1-21                 [32, 32, 30]              --\n",
              "├─Flatten: 1-22                          [32, 960]                 --\n",
              "├─Linear: 1-23                           [32, 2]                   1,922\n",
              "==========================================================================================\n",
              "Total params: 8,848,610\n",
              "Trainable params: 8,848,610\n",
              "Non-trainable params: 0\n",
              "Total mult-adds (G): 75.05\n",
              "==========================================================================================\n",
              "Input size (MB): 157.29\n",
              "Forward/backward pass size (MB): 73.04\n",
              "Params size (MB): 35.39\n",
              "Estimated Total Size (MB): 265.72\n",
              "=========================================================================================="
            ]
          },
          "metadata": {
            "tags": []
          },
          "execution_count": 44
        }
      ]
    },
    {
      "cell_type": "code",
      "metadata": {
        "colab": {
          "base_uri": "https://localhost:8080/",
          "height": 558
        },
        "id": "wB2or_hjW2zY",
        "outputId": "264c69ca-adfa-43c1-a142-aa784f5d556c"
      },
      "source": [
        "device = \"cuda\" if torch.cuda.is_available() else \"cpu\"\n",
        "model = model.to(device)\n",
        "criterion = nn.CrossEntropyLoss()\n",
        "optimizer = torch.optim.Adam(model.parameters(), lr=0.01)\n",
        "\n",
        "model, history = train(\n",
        "    model, criterion, optimizer, train_batch_gen, val_batch_gen,\n",
        "    \"second_exp\", num_epochs=50)"
      ],
      "execution_count": null,
      "outputs": [
        {
          "output_type": "stream",
          "text": [
            "Epoch 50 of 50 took 3.936s\n",
            "  training loss (in-iteration): \t0.686103\n",
            "  validation loss (in-iteration): \t0.731796\n",
            "  training accuracy: \t\t\t56.25 %\n",
            "  validation accuracy: \t\t\t42.26 %\n"
          ],
          "name": "stdout"
        },
        {
          "output_type": "display_data",
          "data": {
            "image/png": "[encoded data removed]",
            "text/plain": [
              "<Figure size 1440x504 with 2 Axes>"
            ]
          },
          "metadata": {
            "tags": [],
            "needs_background": "light"
          }
        }
      ]
    },
    {
      "cell_type": "markdown",
      "metadata": {
        "id": "fiwP0wR_OvmY"
      },
      "source": [
        "### Model 4\n"
      ]
    },
    {
      "cell_type": "code",
      "metadata": {
        "id": "-VEBm9KDW4aM",
        "colab": {
          "base_uri": "https://localhost:8080/"
        },
        "outputId": "2d98fe14-c768-4780-ae09-75da7f6fa268"
      },
      "source": [
        "model = nn.Sequential()\n",
        "model.add_module('K_max_pooling', K_max_pooling_1d(30))\n",
        "# model.add_module('conv1', nn.Conv1d(in_channels=4096, out_channels=256, \n",
        "#                                     kernel_size=7, stride=1, padding=3))\n",
        "model.add_module('relu1', nn.ReLU())\n",
        "model.add_module('flatteing', nn.Flatten())\n",
        "model.add_module('FC-layer', nn.Linear(122880, 2))\n",
        "\n",
        "\n",
        "summary(model, (32, 4096, 300))"
      ],
      "execution_count": 21,
      "outputs": [
        {
          "output_type": "execute_result",
          "data": {
            "text/plain": [
              "==========================================================================================\n",
              "Layer (type:depth-idx)                   Output Shape              Param #\n",
              "==========================================================================================\n",
              "├─K_max_pooling_1d: 1-1                  [32, 4096, 30]            --\n",
              "├─ReLU: 1-2                              [32, 4096, 30]            --\n",
              "├─Flatten: 1-3                           [32, 122880]              --\n",
              "├─Linear: 1-4                            [32, 2]                   245,762\n",
              "==========================================================================================\n",
              "Total params: 245,762\n",
              "Trainable params: 245,762\n",
              "Non-trainable params: 0\n",
              "Total mult-adds (M): 7.86\n",
              "==========================================================================================\n",
              "Input size (MB): 157.29\n",
              "Forward/backward pass size (MB): 0.00\n",
              "Params size (MB): 0.98\n",
              "Estimated Total Size (MB): 158.27\n",
              "=========================================================================================="
            ]
          },
          "metadata": {
            "tags": []
          },
          "execution_count": 21
        }
      ]
    },
    {
      "cell_type": "code",
      "metadata": {
        "colab": {
          "base_uri": "https://localhost:8080/",
          "height": 558
        },
        "id": "vpujAIl9O007",
        "outputId": "b8918c63-9af3-453b-9b4a-eac5a759a2bc"
      },
      "source": [
        "device = \"cuda\" if torch.cuda.is_available() else \"cpu\"\n",
        "model = model.to(device)\n",
        "criterion = nn.CrossEntropyLoss()\n",
        "optimizer = torch.optim.Adam(model.parameters(), lr=0.01)\n",
        "\n",
        "model, history = train(\n",
        "    model, criterion, optimizer, train_batch_gen, val_batch_gen,\n",
        "    \"second_exp\", num_epochs=50)"
      ],
      "execution_count": 31,
      "outputs": [
        {
          "output_type": "stream",
          "text": [
            "Epoch 50 of 50 took 2.601s\n",
            "  training loss (in-iteration): \t0.000000\n",
            "  validation loss (in-iteration): \t0.886699\n",
            "  training accuracy: \t\t\t100.00 %\n",
            "  validation accuracy: \t\t\t93.45 %\n"
          ],
          "name": "stdout"
        },
        {
          "output_type": "display_data",
          "data": {
            "image/png": "[encoded data removed]",
            "text/plain": [
              "<Figure size 1440x504 with 2 Axes>"
            ]
          },
          "metadata": {
            "tags": [],
            "needs_background": "light"
          }
        }
      ]
    },
    {
      "cell_type": "code",
      "metadata": {
        "id": "-30wpgtMVihQ"
      },
      "source": [
        ""
      ],
      "execution_count": null,
      "outputs": []
    },
    {
      "cell_type": "markdown",
      "metadata": {
        "id": "DKx8q5lLVcEg"
      },
      "source": [
        "**Conclusion:** after several attemnts we've reduced the model to the mininal architecture of two layers and finally the NN trained successfully (apparently overtrained in the process, however)"
      ]
    },
    {
      "cell_type": "code",
      "metadata": {
        "id": "M1Q27IcZPa9H"
      },
      "source": [
        ""
      ],
      "execution_count": null,
      "outputs": []
    }
  ]
}