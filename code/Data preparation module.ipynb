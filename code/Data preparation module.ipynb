{
 "cells": [
  {
   "cell_type": "markdown",
   "metadata": {},
   "source": [
    "##  SCOP2 data extraction modules\n",
    "\n",
    "\n",
    "As demonstrated in EDA section, SCOP2 data is separated into multiple files. SCOP2 also contains lots of variables irrelevant for fold classification. \n",
    "\n",
    "This sections contains modules for automatical tranforming SCOP2 data into \"sequence - fold\" data suitable for fold classification problem."
   ]
  },
  {
   "cell_type": "code",
   "execution_count": 33,
   "metadata": {
    "ExecuteTime": {
     "end_time": "2021-03-17T08:55:47.249227Z",
     "start_time": "2021-03-17T08:55:46.506822Z"
    }
   },
   "outputs": [],
   "source": [
    "import typing as tp\n",
    "import os.path\n",
    "import requests\n",
    "\n",
    "import pandas as pd\n",
    "from sklearn import preprocessing"
   ]
  },
  {
   "cell_type": "markdown",
   "metadata": {},
   "source": [
    "Section with modules devoted to downloading data and transforming it into format readable by pandas."
   ]
  },
  {
   "cell_type": "code",
   "execution_count": 37,
   "metadata": {
    "ExecuteTime": {
     "end_time": "2021-03-17T08:58:33.265320Z",
     "start_time": "2021-03-17T08:58:33.248316Z"
    }
   },
   "outputs": [],
   "source": [
    "def delete_header_of_classification_file(filename: str) -> None:\n",
    "    \"\"\"\n",
    "    Deletes header of classification file.\n",
    "\n",
    "    Input: \n",
    "        `filename (str)` -- classification file name\n",
    "    \"\"\"\n",
    "    scop_classes_raw = open(filename, 'r')\n",
    "    lines = scop_classes_raw.readlines()\n",
    "    scop_classes_raw.close()\n",
    "    scop_classes_transformed = open(filename, 'w')\n",
    "    scop_classes_transformed.write(lines[5][2:])\n",
    "    for i in range(6, len(lines)):\n",
    "        scop_classes_transformed.write(lines[i])\n",
    "    scop_classes_transformed.close()\n",
    "\n",
    "    \n",
    "def load_datafiles(urls: tp.List[str], filenames: tp.List['str'], \n",
    "                  cla_id: tp.Optional[int] = None) -> None:\n",
    "    \"\"\"\n",
    "    Downloads data from urls and stores them in /data/ folder with\n",
    "    names given in filenames.\n",
    "\n",
    "    Input: \n",
    "        `urls (list[str])` -- urls of data files\n",
    "        `filenames (list[str])` -- names of files\n",
    "        `cla_id (int or None)` -- id of classification file in filenames\n",
    "\n",
    "    \"\"\"\n",
    "    for i in range(4):\n",
    "        if os.path.isfile('./../data/' + filenames[i]):\n",
    "            continue\n",
    "        r = requests.get(urls[i], allow_redirects=True)\n",
    "        file= open('./../data/' + filenames[i], 'wb')\n",
    "        file.write(r.content)\n",
    "        file.close()\n",
    "        if i is cla_id:\n",
    "            delete_header_of_classification_file('./../data/' + filenames[i])\n",
    "        "
   ]
  },
  {
   "cell_type": "markdown",
   "metadata": {},
   "source": [
    "Section with modules that transform data into pandas dataframe."
   ]
  },
  {
   "cell_type": "code",
   "execution_count": 34,
   "metadata": {
    "ExecuteTime": {
     "end_time": "2021-03-17T08:55:50.536911Z",
     "start_time": "2021-03-17T08:55:50.521951Z"
    }
   },
   "outputs": [],
   "source": [
    "def get_classes_table(cla_filename: str = 'scop-classes.txt', \n",
    "                      id_name: str = 'FA-DOMID') -> pd.DataFrame:\n",
    "    \"\"\"\n",
    "    Converts .txt classification file into dataframe.\n",
    "\n",
    "    Input: \n",
    "        `clas_filename (str)` -- file name of classification file\n",
    "        `id_name (str)` -- name of id column in cla_filename\n",
    "    \"\"\"\n",
    "    classes_df = pd.read_csv('./../data/' + cla_filename, delimiter = \" \")\n",
    "    classes_df = classes_df.loc[:, [id_name, \"SCOPCLA\"]]\n",
    "    classes_df['FOLD-RAW']=classes_df['SCOPCLA'].str.extract(r'.*CF=(\\d+).*')\n",
    "    classes_df = classes_df.drop(\"SCOPCLA\", axis = 1)\n",
    "    le = preprocessing.LabelEncoder()\n",
    "    folds = le.fit_transform(classes_df[\"FOLD-RAW\"])\n",
    "    classes_df[\"FOLD\"] = folds\n",
    "    del classes_df[\"FOLD-RAW\"]\n",
    "    return classes_df"
   ]
  },
  {
   "cell_type": "code",
   "execution_count": 129,
   "metadata": {
    "ExecuteTime": {
     "end_time": "2021-03-17T09:34:59.719352Z",
     "start_time": "2021-03-17T09:34:59.676633Z"
    }
   },
   "outputs": [],
   "source": [
    "def get_sequence_table(filename: str) -> pd.DataFrame:\n",
    "    '''\n",
    "    Returns data extracted from .fa representation file.\n",
    "\n",
    "    Input: \n",
    "            'filename (str)': Name of the file\n",
    "\n",
    "    Returns:\n",
    "            'df (pd.DataFrame)': Extracted data\n",
    "    '''\n",
    "    scop_fa_rep_raw = open(filename, 'r')\n",
    "    fa_lines = scop_fa_rep_raw.readlines()\n",
    "    scop_fa_rep_raw.close()\n",
    "    assert(len(fa_lines) % 2 == 0), \"WRONG FILE REPRESENTATION\"\n",
    "    info = fa_lines[::2]\n",
    "    sequences = fa_lines[1::2]\n",
    "\n",
    "    data = {'info': info,\n",
    "            'sequence': sequences\n",
    "            }\n",
    "    df = pd.DataFrame(data, columns = ['info', 'sequence'])\n",
    "    df['id']=df['info'].str.extract(r'>(\\d+).*').astype(int)\n",
    "    return df.drop(\"info\", axis = 1)\n"
   ]
  },
  {
   "cell_type": "code",
   "execution_count": 170,
   "metadata": {
    "ExecuteTime": {
     "end_time": "2021-03-17T09:42:32.544855Z",
     "start_time": "2021-03-17T09:42:32.529431Z"
    }
   },
   "outputs": [],
   "source": [
    "def get_sequence_to_class_table(class_table: pd.DataFrame,\n",
    "                               sequence_table: pd.DataFrame) -> pd.DataFrame:\n",
    "    '''\n",
    "    Takes class and sequence tables and concatenates them. \n",
    "\n",
    "    Input: \n",
    "            'class_table (pd.DataFrame)': class table with [id, fold] columns\n",
    "            'sequence_table (pd.DataFrame)': seq table with [seq, id] columns \n",
    "\n",
    "    Returns:\n",
    "            'sequence_to_class_table (pd.DataFrame)': sequence to class table \n",
    "             with [seq, fold] columns\n",
    "    '''\n",
    "    cla_id = class_table.columns[0]\n",
    "    seq_id = sequence_table.columns[1]\n",
    "    joined_table = pd.merge(class_table, sequence_table, left_on = cla_id,\n",
    "                           right_on = seq_id)\n",
    "    del joined_table[seq_id]\n",
    "    del joined_table[cla_id]\n",
    "    return joined_table"
   ]
  },
  {
   "cell_type": "code",
   "execution_count": 178,
   "metadata": {
    "ExecuteTime": {
     "end_time": "2021-03-17T09:51:30.987319Z",
     "start_time": "2021-03-17T09:51:30.978132Z"
    }
   },
   "outputs": [],
   "source": [
    "def prepare_scop_data(\n",
    "    scop_fa_filename: str = 'scop_fa_represeq_lib20210227.fa', \n",
    "    scop_sf_filename: str = 'scop_sf_represeq_lib20210227.fa'\n",
    ") -> pd.DataFrame:\n",
    "    \"\"\"\n",
    "    Performs default preparation of SCOP2 data.\n",
    "    Input:\n",
    "        'scop_fa_filename(str)': name of scop family representative domain \n",
    "            sequences file\n",
    "        'scop_sf_filename(str)': name of scop superfamily representative \n",
    "            domain sequences file\n",
    "    Returns:\n",
    "            'sequence_to_class_table (pd.DataFrame)': sequence to class table \n",
    "             with [seq, fold] columns\n",
    "    \"\"\"\n",
    "    urls = ['https://scop2.mrc-lmb.cam.ac.uk/files/scop-cla-latest.txt',\n",
    "           'https://scop2.mrc-lmb.cam.ac.uk/files/scop-des-latest.txt',\n",
    "           'https://scop2.mrc-lmb.cam.ac.uk/files/' + scop_fa_filename,\n",
    "           'https://scop2.mrc-lmb.cam.ac.uk/files/' + scop_sf_filename]\n",
    "    filenames = ['scop-classes.txt', 'scop-des-latest.txt', \n",
    "                'scop_fa_represeq.fa', 'scop_sf_represeq']\n",
    "    load_datafiles(urls, filenames, cla_id = 0)\n",
    "    class_table = get_classes_table()\n",
    "    seq_table = get_sequence_table('./../data/' + filenames[2])\n",
    "    return get_sequence_to_class_table(class_table, seq_table)"
   ]
  },
  {
   "cell_type": "code",
   "execution_count": 179,
   "metadata": {
    "ExecuteTime": {
     "end_time": "2021-03-17T09:54:04.432523Z",
     "start_time": "2021-03-17T09:51:31.694524Z"
    }
   },
   "outputs": [
    {
     "data": {
      "text/html": [
       "<div>\n",
       "<style scoped>\n",
       "    .dataframe tbody tr th:only-of-type {\n",
       "        vertical-align: middle;\n",
       "    }\n",
       "\n",
       "    .dataframe tbody tr th {\n",
       "        vertical-align: top;\n",
       "    }\n",
       "\n",
       "    .dataframe thead th {\n",
       "        text-align: right;\n",
       "    }\n",
       "</style>\n",
       "<table border=\"1\" class=\"dataframe\">\n",
       "  <thead>\n",
       "    <tr style=\"text-align: right;\">\n",
       "      <th></th>\n",
       "      <th>FOLD</th>\n",
       "      <th>sequence</th>\n",
       "    </tr>\n",
       "  </thead>\n",
       "  <tbody>\n",
       "    <tr>\n",
       "      <th>0</th>\n",
       "      <td>1400</td>\n",
       "      <td>DMKRQQRFFRIPFIRPADQYKDPQNKKKGWWYAHFDGPWIARQMEL...</td>\n",
       "    </tr>\n",
       "    <tr>\n",
       "      <th>1</th>\n",
       "      <td>1400</td>\n",
       "      <td>RQREIEMNRQQRFFRIPFIRPADQYKDPQSKKKGWWYAHFDGPWIA...</td>\n",
       "    </tr>\n",
       "    <tr>\n",
       "      <th>2</th>\n",
       "      <td>11</td>\n",
       "      <td>MKIKVALLDKDKEYLDRLTGVFNTKYADKLEVYSFTDEKNAIESVK...</td>\n",
       "    </tr>\n",
       "    <tr>\n",
       "      <th>3</th>\n",
       "      <td>11</td>\n",
       "      <td>QTPHILIVEDELVTRNTLKSIFEAEGYDVFEATDGAEMHQILSEYD...</td>\n",
       "    </tr>\n",
       "    <tr>\n",
       "      <th>4</th>\n",
       "      <td>11</td>\n",
       "      <td>SFERVFGKRVIILGGGALVSQVAIGAISEADRHNLRGERISVDTMP...</td>\n",
       "    </tr>\n",
       "    <tr>\n",
       "      <th>...</th>\n",
       "      <td>...</td>\n",
       "      <td>...</td>\n",
       "    </tr>\n",
       "    <tr>\n",
       "      <th>34587</th>\n",
       "      <td>9</td>\n",
       "      <td>EKKYIVGFKQTMSAMSSAKKKDVISEKGGKVQKQFKYVNAAAATLD...</td>\n",
       "    </tr>\n",
       "    <tr>\n",
       "      <th>34588</th>\n",
       "      <td>9</td>\n",
       "      <td>EKREVLAGHARRQAPQAVDKGPVTGDQRISVTVVLRRQRGDELEAH...</td>\n",
       "    </tr>\n",
       "    <tr>\n",
       "      <th>34589</th>\n",
       "      <td>9</td>\n",
       "      <td>HEIYDGHAVYQVDVASMDQVKLVHDFENDLMLDVWSDAVPGRPGKV...</td>\n",
       "    </tr>\n",
       "    <tr>\n",
       "      <th>34590</th>\n",
       "      <td>9</td>\n",
       "      <td>FVNEWAAEIPGGQEAASAIAEELGYDLLGQIGSLENHYLFKHKSHP...</td>\n",
       "    </tr>\n",
       "    <tr>\n",
       "      <th>34591</th>\n",
       "      <td>9</td>\n",
       "      <td>HHGGEHFEGEKVFRVNVEDENHINIIRELASTTQIDFWKPDSVTQI...</td>\n",
       "    </tr>\n",
       "  </tbody>\n",
       "</table>\n",
       "<p>34592 rows × 2 columns</p>\n",
       "</div>"
      ],
      "text/plain": [
       "       FOLD                                           sequence\n",
       "0      1400  DMKRQQRFFRIPFIRPADQYKDPQNKKKGWWYAHFDGPWIARQMEL...\n",
       "1      1400  RQREIEMNRQQRFFRIPFIRPADQYKDPQSKKKGWWYAHFDGPWIA...\n",
       "2        11  MKIKVALLDKDKEYLDRLTGVFNTKYADKLEVYSFTDEKNAIESVK...\n",
       "3        11  QTPHILIVEDELVTRNTLKSIFEAEGYDVFEATDGAEMHQILSEYD...\n",
       "4        11  SFERVFGKRVIILGGGALVSQVAIGAISEADRHNLRGERISVDTMP...\n",
       "...     ...                                                ...\n",
       "34587     9  EKKYIVGFKQTMSAMSSAKKKDVISEKGGKVQKQFKYVNAAAATLD...\n",
       "34588     9  EKREVLAGHARRQAPQAVDKGPVTGDQRISVTVVLRRQRGDELEAH...\n",
       "34589     9  HEIYDGHAVYQVDVASMDQVKLVHDFENDLMLDVWSDAVPGRPGKV...\n",
       "34590     9  FVNEWAAEIPGGQEAASAIAEELGYDLLGQIGSLENHYLFKHKSHP...\n",
       "34591     9  HHGGEHFEGEKVFRVNVEDENHINIIRELASTTQIDFWKPDSVTQI...\n",
       "\n",
       "[34592 rows x 2 columns]"
      ]
     },
     "execution_count": 179,
     "metadata": {},
     "output_type": "execute_result"
    }
   ],
   "source": [
    "#  prepare_scop_data()"
   ]
  },
  {
   "cell_type": "code",
   "execution_count": null,
   "metadata": {},
   "outputs": [],
   "source": []
  }
 ],
 "metadata": {
  "kernelspec": {
   "display_name": "Python 3",
   "language": "python",
   "name": "python3"
  },
  "language_info": {
   "codemirror_mode": {
    "name": "ipython",
    "version": 3
   },
   "file_extension": ".py",
   "mimetype": "text/x-python",
   "name": "python",
   "nbconvert_exporter": "python",
   "pygments_lexer": "ipython3",
   "version": "3.6.13"
  }
 },
 "nbformat": 4,
 "nbformat_minor": 2
}
